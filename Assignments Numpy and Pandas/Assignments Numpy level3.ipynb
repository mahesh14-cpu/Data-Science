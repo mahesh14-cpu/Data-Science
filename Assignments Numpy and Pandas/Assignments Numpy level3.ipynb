{
 "cells": [
  {
   "cell_type": "code",
   "execution_count": 1,
   "id": "7485a3e9-f721-4891-a4da-b295371c282c",
   "metadata": {},
   "outputs": [],
   "source": [
    "# 1. Fnd all the indices of peaks in a 1D numpy array. peaks are points surrounded by smaller values on both sides."
   ]
  },
  {
   "cell_type": "code",
   "execution_count": 2,
   "id": "066bdd17-8f19-4a21-92ea-e8134ccaff9e",
   "metadata": {},
   "outputs": [
    {
     "name": "stdout",
     "output_type": "stream",
     "text": [
      "[1, 4, 7, 11]\n"
     ]
    }
   ],
   "source": [
    "import numpy as np\n",
    "\n",
    "n = np.array([2, 7, 1, 3, 7, 1, 2, 6, 0, 1, 3, 7, 6])\n",
    "def generate():\n",
    "    \n",
    "    # your code here\n",
    "    \n",
    "    arr = []\n",
    "    i = 1\n",
    "    while i < len(n)-1:\n",
    "        if n[i] > n[i-1] and n[i] > n[i+1]:\n",
    "            arr.append(i)\n",
    "        \n",
    "        i += 1\n",
    "    print (arr)\n",
    "    \n",
    "    return None\n",
    "generate()"
   ]
  },
  {
   "cell_type": "code",
   "execution_count": 3,
   "id": "8523a7d7-5d55-417c-9032-d4150057baa2",
   "metadata": {},
   "outputs": [],
   "source": [
    "# 2. Create a 8*8 matrix and fill it with a chessboard pattern as show in the below figure."
   ]
  },
  {
   "cell_type": "code",
   "execution_count": 4,
   "id": "0f324bd7-96db-4ca8-a21b-ab83a5a9b3e0",
   "metadata": {},
   "outputs": [
    {
     "name": "stdout",
     "output_type": "stream",
     "text": [
      "[[0 1 0 1 0 1 0 1]\n",
      " [1 0 1 0 1 0 1 0]\n",
      " [0 1 0 1 0 1 0 1]\n",
      " [1 0 1 0 1 0 1 0]\n",
      " [0 1 0 1 0 1 0 1]\n",
      " [1 0 1 0 1 0 1 0]\n",
      " [0 1 0 1 0 1 0 1]\n",
      " [1 0 1 0 1 0 1 0]]\n"
     ]
    }
   ],
   "source": [
    "import numpy as np\n",
    "def generate():\n",
    "    \n",
    "    # your code\n",
    "    \n",
    "    s1 = np.array([0,1]*4)\n",
    "    s2 = np.array([1,0]*4)\n",
    "    s = np.vstack((s1,s2))\n",
    "   \n",
    "    print (np.array(s.tolist()*4))\n",
    "    \n",
    "    return None\n",
    "generate()"
   ]
  },
  {
   "cell_type": "code",
   "execution_count": 7,
   "id": "de648f7c-7e5c-4ad1-a89f-1c223b593e46",
   "metadata": {},
   "outputs": [],
   "source": [
    "# 3. Generate one hot encoding for a given array."
   ]
  },
  {
   "cell_type": "code",
   "execution_count": 25,
   "id": "ff898202-c995-45b9-bfcb-f57635f5b7c7",
   "metadata": {},
   "outputs": [
    {
     "name": "stdout",
     "output_type": "stream",
     "text": [
      "[2 3 2 2 2 1]\n",
      "[[0. 0. 1. 0.]\n",
      " [0. 0. 0. 1.]\n",
      " [0. 0. 1. 0.]\n",
      " [0. 0. 1. 0.]\n",
      " [0. 0. 1. 0.]\n",
      " [0. 1. 0. 0.]]\n",
      "[[0 0 1 0]\n",
      " [0 0 0 1]\n",
      " [0 0 1 0]\n",
      " [0 0 1 0]\n",
      " [0 0 1 0]\n",
      " [0 1 0 0]]\n"
     ]
    }
   ],
   "source": [
    "import numpy as np\n",
    "import sklearn.preprocessing\n",
    "np.random.seed(101) \n",
    "arr = np.random.randint(1,4, size=6)\n",
    "def generate(arr):\n",
    "    # your code here\n",
    "    print (arr)\n",
    "    n_values = np.max(arr) + 1\n",
    "    print (np.eye(n_values)[arr])\n",
    "    label_binarizer = sklearn.preprocessing.LabelBinarizer()\n",
    "    label_binarizer.fit(range(max(arr)+1))\n",
    "    b = label_binarizer.transform(arr)\n",
    "    print('{0}'.format(b))\n",
    "    \n",
    "    return None\n",
    "generate(arr)"
   ]
  },
  {
   "cell_type": "code",
   "execution_count": 9,
   "id": "9d67109b-6324-4eda-b616-692210a15bb0",
   "metadata": {},
   "outputs": [],
   "source": [
    "# 4. Write python pogram display all the dates foe the month april,1994. also print number of weekdays in april 1994. also check 7th april was a weekdays or not."
   ]
  },
  {
   "cell_type": "code",
   "execution_count": 10,
   "id": "dafb03b1-ee48-41fc-95da-dcf6a46158bb",
   "metadata": {},
   "outputs": [
    {
     "name": "stdout",
     "output_type": "stream",
     "text": [
      "['2004-04-01' '2004-04-02' '2004-04-03' '2004-04-04' '2004-04-05'\n",
      " '2004-04-06' '2004-04-07' '2004-04-08' '2004-04-09' '2004-04-10'\n",
      " '2004-04-11' '2004-04-12' '2004-04-13' '2004-04-14' '2004-04-15'\n",
      " '2004-04-16' '2004-04-17' '2004-04-18' '2004-04-19' '2004-04-20'\n",
      " '2004-04-21' '2004-04-22' '2004-04-23' '2004-04-24' '2004-04-25'\n",
      " '2004-04-26' '2004-04-27' '2004-04-28' '2004-04-29' '2004-04-30']\n",
      "21\n"
     ]
    },
    {
     "data": {
      "text/plain": [
       "True"
      ]
     },
     "execution_count": 10,
     "metadata": {},
     "output_type": "execute_result"
    }
   ],
   "source": [
    "import numpy as np\n",
    "def generate():\n",
    "    # your code\n",
    "    a = np.arange('2004-04', '2004-05', dtype='datetime64[D]')\n",
    "    print (a)\n",
    "    print (np.busday_count(np.datetime64('2004-04-01'), np.datetime64('2004-04-30')))\n",
    "    \n",
    "    return np.is_busday(np.datetime64('2004-04-07'))# True if 7th april 1994 was a weekday.\n",
    "generate()"
   ]
  },
  {
   "cell_type": "code",
   "execution_count": 11,
   "id": "6ca46c5c-86aa-4157-ba00-970e108cbe93",
   "metadata": {},
   "outputs": [],
   "source": [
    "# 5. Create a 5*5 array with 1 on the order and 2 inside. now pad this array with a two layer border to get an array named 'nyp'."
   ]
  },
  {
   "cell_type": "code",
   "execution_count": 12,
   "id": "67863fef-e482-46dc-a836-81aa9c4ecd73",
   "metadata": {},
   "outputs": [
    {
     "name": "stdout",
     "output_type": "stream",
     "text": [
      "[[1 1 1 1 1]\n",
      " [2 2 2 2 2]\n",
      " [2 2 2 2 2]\n",
      " [2 2 2 2 2]\n",
      " [1 1 1 1 1]]\n",
      "[[7 7 7 7 7]\n",
      " [1 1 1 1 1]\n",
      " [2 2 2 2 2]\n",
      " [2 2 2 2 2]\n",
      " [2 2 2 2 2]\n",
      " [1 1 1 1 1]\n",
      " [7 7 7 7 7]]\n"
     ]
    },
    {
     "data": {
      "text/plain": [
       "array([[245,  35,  70,  70,  70,  35, 245],\n",
       "       [ 35,   5,  10,  10,  10,   5,  35],\n",
       "       [ 70,  10,  20,  20,  20,  10,  70],\n",
       "       [ 70,  10,  20,  20,  20,  10,  70],\n",
       "       [ 70,  10,  20,  20,  20,  10,  70],\n",
       "       [ 35,   5,  10,  10,  10,   5,  35],\n",
       "       [245,  35,  70,  70,  70,  35, 245]])"
      ]
     },
     "execution_count": 12,
     "metadata": {},
     "output_type": "execute_result"
    }
   ],
   "source": [
    "import numpy as np\n",
    "def generate():\n",
    "    # your code here\n",
    "    a = [1]*5\n",
    "    b = [2]*5\n",
    "    arr = np.vstack((a,b,b,b,a))\n",
    "    print (arr)\n",
    "    c = [7]*5\n",
    "    nyp = np.vstack((c,arr,c))\n",
    "    print (nyp)\n",
    "    \n",
    "    return np.inner(nyp, nyp)#he inner product of \"nyp\" with itself.\n",
    "generate()"
   ]
  },
  {
   "cell_type": "code",
   "execution_count": 13,
   "id": "99b4a44e-f6af-42e6-bba7-740d630c1e8c",
   "metadata": {},
   "outputs": [],
   "source": [
    "# 6. Given dataframe df vwith an integer column 'int' for each value, count the diff back the previous. make this new column 'A'"
   ]
  },
  {
   "cell_type": "code",
   "execution_count": 14,
   "id": "73247687-b78e-4283-a6cb-0534741aa5ce",
   "metadata": {},
   "outputs": [
    {
     "name": "stdout",
     "output_type": "stream",
     "text": [
      "   int  shift\n",
      "0    7    7.0\n",
      "1    2    7.0\n",
      "2    0    7.0\n",
      "3    7    7.0\n",
      "4    4    7.0\n",
      "5    2    7.0\n",
      "6    5    7.0\n",
      "7    7    7.0\n",
      "8    3    2.0\n",
      "9    5    0.0\n"
     ]
    },
    {
     "data": {
      "text/plain": [
       "0    0.0\n",
       "1   -5.0\n",
       "2   -7.0\n",
       "3    0.0\n",
       "4   -3.0\n",
       "5   -5.0\n",
       "6   -2.0\n",
       "7    0.0\n",
       "8    1.0\n",
       "9    5.0\n",
       "Name: A, dtype: float64"
      ]
     },
     "execution_count": 14,
     "metadata": {},
     "output_type": "execute_result"
    }
   ],
   "source": [
    "import pandas as pd\n",
    "df = pd.DataFrame({'int': [7, 2, 0, 7, 4, 2, 5, 7, 3, 5]})\n",
    "def generate():\n",
    "    # your code here\n",
    "    df1 = df\n",
    "    #print (df1)\n",
    "    df1['shift'] = df1['int'].shift(7)\n",
    "    #print (df1)\n",
    "    startVal = df1['int'][0]\n",
    "    df1 = df1.fillna(startVal)\n",
    "    print (df1)\n",
    "    df1['A'] = df1['int'] - df1['shift']\n",
    "    return df1['A']# the new coloumn 'A'\n",
    "generate()"
   ]
  },
  {
   "cell_type": "code",
   "execution_count": 15,
   "id": "1e6951e1-d13c-4263-81a8-7163f894064e",
   "metadata": {},
   "outputs": [],
   "source": [
    "# 7. Create the three dataframes based on the given raw data. join data1 and data2 alomg rows to from data_all_rows. merge data_all_row and data3 along the subject_id value to from merge1"
   ]
  },
  {
   "cell_type": "code",
   "execution_count": 16,
   "id": "34e5a1ec-9d16-414d-9be0-0794cd929943",
   "metadata": {},
   "outputs": [
    {
     "name": "stdout",
     "output_type": "stream",
     "text": [
      "  subject_id first_name last_name\n",
      "0          1       Alex  Anderson\n",
      "1          2        Amy  Ackerman\n",
      "2          3      Allen       Ali\n",
      "3          4      Alice      Aoni\n",
      "4          5     Ayoung   Atiches\n",
      "  subject_id first_name last_name\n",
      "0          4      Billy    Bonder\n",
      "1          5      Brian     Black\n",
      "2          6       Bran   Balwner\n",
      "3          7      Bryce     Brice\n",
      "4          8      Betty    Btisan\n",
      "  subject_id  test_id\n",
      "0          1       51\n",
      "1          2       15\n",
      "2          3       15\n",
      "3          4       61\n",
      "4          5       16\n",
      "5          7       14\n",
      "6          8       15\n",
      "7          9        1\n",
      "8         10       61\n",
      "9         11       16\n",
      "  subject_id first_name last_name\n",
      "0          1       Alex  Anderson\n",
      "1          2        Amy  Ackerman\n",
      "2          3      Allen       Ali\n",
      "3          4      Alice      Aoni\n",
      "4          5     Ayoung   Atiches\n",
      "0          4      Billy    Bonder\n",
      "1          5      Brian     Black\n",
      "2          6       Bran   Balwner\n",
      "3          7      Bryce     Brice\n",
      "4          8      Betty    Btisan\n",
      "  subject_id first_name last_name  test_id\n",
      "0          1       Alex  Anderson       51\n",
      "1          2        Amy  Ackerman       15\n",
      "2          3      Allen       Ali       15\n",
      "3          4      Alice      Aoni       61\n",
      "4          4      Billy    Bonder       61\n",
      "5          5     Ayoung   Atiches       16\n",
      "6          5      Brian     Black       16\n",
      "7          7      Bryce     Brice       14\n",
      "8          8      Betty    Btisan       15\n",
      "Empty DataFrame\n",
      "Columns: [subject_id, first_name, last_name]\n",
      "Index: []\n"
     ]
    }
   ],
   "source": [
    "import pandas as pd\n",
    "raw_data_1 = {\n",
    "        'subject_id': ['1', '2', '3', '4', '5'],\n",
    "        'first_name': ['Alex', 'Amy', 'Allen', 'Alice', 'Ayoung'], \n",
    "        'last_name': ['Anderson', 'Ackerman', 'Ali', 'Aoni', 'Atiches']}\n",
    "\n",
    "raw_data_2 = {\n",
    "        'subject_id': ['4', '5', '6', '7', '8'],\n",
    "        'first_name': ['Billy', 'Brian', 'Bran', 'Bryce', 'Betty'], \n",
    "        'last_name': ['Bonder', 'Black', 'Balwner', 'Brice', 'Btisan']}\n",
    "\n",
    "raw_data_3 = {\n",
    "        'subject_id': ['1', '2', '3', '4', '5', '7', '8', '9', '10', '11'],\n",
    "        'test_id': [51, 15, 15, 61, 16, 14, 15, 1, 61, 16]}\n",
    "def generate():\n",
    "    # your code\n",
    "    data1 = pd.DataFrame(raw_data_1)\n",
    "    data2 = pd.DataFrame(raw_data_2)\n",
    "    data3 = pd.DataFrame(raw_data_3)\n",
    "    print (data1)\n",
    "    print (data2)\n",
    "    print (data3)\n",
    "    data_all_row = pd.concat([data1, data2], axis = 0)\n",
    "    print (data_all_row)\n",
    "    merge1 = pd.merge(data_all_row, data3, on='subject_id')\n",
    "    merge2 = pd.merge(data1, data2)\n",
    "    # print out merge1\n",
    "    print (merge1)\n",
    "    # print outmerge2\n",
    "    print (merge2)\n",
    "    return None\n",
    "generate()"
   ]
  },
  {
   "cell_type": "code",
   "execution_count": 17,
   "id": "31bccd3d-d025-4e59-9686-dbb3154ab0fc",
   "metadata": {},
   "outputs": [],
   "source": [
    "# 8. Create a dataframe named army from the given data. set the 'origin' colum as the index of the dataframe. find how many total veterans are there."
   ]
  },
  {
   "cell_type": "code",
   "execution_count": 18,
   "id": "6245f7a3-d98e-45ba-af32-3d33c0bb53e7",
   "metadata": {},
   "outputs": [
    {
     "name": "stdout",
     "output_type": "stream",
     "text": [
      "================================================================================================\n",
      "      regiment company  deaths  battles  size  veterans  readiness  armored  \\\n",
      "0   Nighthawks     1st     523        5  1045         1          1        1   \n",
      "1   Nighthawks     1st      52       42   957         5          2        0   \n",
      "2   Nighthawks     2nd      25        2  1099        62          3        1   \n",
      "3   Nighthawks     2nd     616        2  1400        26          3        1   \n",
      "4     Dragoons     1st      43        4  1592        73          2        0   \n",
      "5     Dragoons     1st     234        7  1006        37          1        1   \n",
      "6     Dragoons     2nd     523        8   987       949          2        0   \n",
      "7     Dragoons     2nd      62        3   849        48          3        1   \n",
      "8       Scouts     1st      62        4   973        48          2        0   \n",
      "9       Scouts     1st      73        7  1005       435          1        0   \n",
      "10      Scouts     2nd      37        8  1099        63          2        1   \n",
      "11      Scouts     2nd      35        9  1523       345          3        1   \n",
      "\n",
      "    deserters      origin  \n",
      "0           4     Arizona  \n",
      "1          24  California  \n",
      "2          31       Texas  \n",
      "3           2     Florida  \n",
      "4           3       Maine  \n",
      "5           4        Iowa  \n",
      "6          24      Alaska  \n",
      "7          31  Washington  \n",
      "8           2      Oregon  \n",
      "9           3     Wyoming  \n",
      "10          2    Louisana  \n",
      "11          3     Georgia  \n",
      "================================================================================================\n",
      "              regiment company  deaths  battles  size  veterans  readiness  \\\n",
      "origin                                                                       \n",
      "Arizona     Nighthawks     1st     523        5  1045         1          1   \n",
      "California  Nighthawks     1st      52       42   957         5          2   \n",
      "Texas       Nighthawks     2nd      25        2  1099        62          3   \n",
      "Florida     Nighthawks     2nd     616        2  1400        26          3   \n",
      "Maine         Dragoons     1st      43        4  1592        73          2   \n",
      "Iowa          Dragoons     1st     234        7  1006        37          1   \n",
      "Alaska        Dragoons     2nd     523        8   987       949          2   \n",
      "Washington    Dragoons     2nd      62        3   849        48          3   \n",
      "Oregon          Scouts     1st      62        4   973        48          2   \n",
      "Wyoming         Scouts     1st      73        7  1005       435          1   \n",
      "Louisana        Scouts     2nd      37        8  1099        63          2   \n",
      "Georgia         Scouts     2nd      35        9  1523       345          3   \n",
      "\n",
      "            armored  deserters  \n",
      "origin                          \n",
      "Arizona           1          4  \n",
      "California        0         24  \n",
      "Texas             1         31  \n",
      "Florida           1          2  \n",
      "Maine             0          3  \n",
      "Iowa              1          4  \n",
      "Alaska            0         24  \n",
      "Washington        1         31  \n",
      "Oregon            0          2  \n",
      "Wyoming           0          3  \n",
      "Louisana          1          2  \n",
      "Georgia           1          3  \n",
      "================================================================================================\n",
      "2092\n",
      "================================================================================================\n",
      "            regiment company  deaths  battles  size  veterans  readiness  \\\n",
      "origin                                                                     \n",
      "Arizona   Nighthawks     1st     523        5  1045         1          1   \n",
      "Texas     Nighthawks     2nd      25        2  1099        62          3   \n",
      "Florida   Nighthawks     2nd     616        2  1400        26          3   \n",
      "Maine       Dragoons     1st      43        4  1592        73          2   \n",
      "Alaska      Dragoons     2nd     523        8   987       949          2   \n",
      "Louisana      Scouts     2nd      37        8  1099        63          2   \n",
      "Georgia       Scouts     2nd      35        9  1523       345          3   \n",
      "\n",
      "          armored  deserters  \n",
      "origin                        \n",
      "Arizona         1          4  \n",
      "Texas           1         31  \n",
      "Florida         1          2  \n",
      "Maine           0          3  \n",
      "Alaska          0         24  \n",
      "Louisana        1          2  \n",
      "Georgia         1          3  \n",
      "================================================================================================\n",
      "              regiment company  deaths  battles  size  veterans  readiness  \\\n",
      "origin                                                                       \n",
      "Arizona     Nighthawks     1st     523        5  1045         1          1   \n",
      "California  Nighthawks     1st      52       42   957         5          2   \n",
      "Texas       Nighthawks     2nd      25        2  1099        62          3   \n",
      "Florida     Nighthawks     2nd     616        2  1400        26          3   \n",
      "Oregon          Scouts     1st      62        4   973        48          2   \n",
      "Wyoming         Scouts     1st      73        7  1005       435          1   \n",
      "Louisana        Scouts     2nd      37        8  1099        63          2   \n",
      "Georgia         Scouts     2nd      35        9  1523       345          3   \n",
      "\n",
      "            armored  deserters  \n",
      "origin                          \n",
      "Arizona           1          4  \n",
      "California        0         24  \n",
      "Texas             1         31  \n",
      "Florida           1          2  \n",
      "Oregon            0          2  \n",
      "Wyoming           0          3  \n",
      "Louisana          1          2  \n",
      "Georgia           1          3  \n",
      "================================================================================================\n",
      "           regiment company  deaths  battles  size  veterans  readiness  \\\n",
      "origin                                                                    \n",
      "Texas    Nighthawks     2nd      25        2  1099        62          3   \n",
      "Arizona  Nighthawks     1st     523        5  1045         1          1   \n",
      "\n",
      "         armored  deserters  \n",
      "origin                       \n",
      "Texas          1         31  \n",
      "Arizona        1          4  \n",
      "================================================================================================\n",
      "origin\n",
      "Texas    1099\n",
      "Name: size, dtype: int64\n"
     ]
    }
   ],
   "source": [
    "import pandas as pd\n",
    "raw_data = {'regiment': ['Nighthawks', 'Nighthawks', 'Nighthawks', 'Nighthawks', 'Dragoons', 'Dragoons', 'Dragoons', 'Dragoons', 'Scouts', 'Scouts', 'Scouts', 'Scouts'],\n",
    "            'company': ['1st', '1st', '2nd', '2nd', '1st', '1st', '2nd', '2nd','1st', '1st', '2nd', '2nd'],\n",
    "            'deaths': [523, 52, 25, 616, 43, 234, 523, 62, 62, 73, 37, 35],\n",
    "            'battles': [5, 42, 2, 2, 4, 7, 8, 3, 4, 7, 8, 9],\n",
    "            'size': [1045, 957, 1099, 1400, 1592, 1006, 987, 849, 973, 1005, 1099, 1523],\n",
    "            'veterans': [1, 5, 62, 26, 73, 37, 949, 48, 48, 435, 63, 345],\n",
    "            'readiness': [1, 2, 3, 3, 2, 1, 2, 3, 2, 1, 2, 3],\n",
    "            'armored': [1, 0, 1, 1, 0, 1, 0, 1, 0, 0, 1, 1],\n",
    "            'deserters': [4, 24, 31, 2, 3, 4, 24, 31, 2, 3, 2, 3],\n",
    "            'origin': ['Arizona', 'California', 'Texas', 'Florida', 'Maine', 'Iowa', 'Alaska', 'Washington', 'Oregon', 'Wyoming', 'Louisana', 'Georgia']}\n",
    "def generate():\n",
    "    # your code\n",
    "    df = pd.DataFrame(raw_data)\n",
    "    print (\"================================================================================================\")\n",
    "    print (df)\n",
    "    print (\"================================================================================================\")\n",
    "    df = df.set_index(['origin'])\n",
    "    print (df)\n",
    "    print (\"================================================================================================\")\n",
    "    print (df['veterans'].sum())\n",
    "    print (\"================================================================================================\")\n",
    "    print (df[(df['deaths'] > 450) | (df['deaths'] < 45)])\n",
    "    print (\"================================================================================================\")\n",
    "    print (df[df[\"regiment\"] != 'Dragoons'])\n",
    "    print (\"================================================================================================\")\n",
    "    print (df.loc[['Texas', 'Arizona']])\n",
    "    print (\"================================================================================================\")\n",
    "    print ((df.loc[['Texas']]).iloc[:,4])\n",
    "\n",
    "    return # the fifth cell in the row named Texas.¶\n",
    "generate()"
   ]
  },
  {
   "cell_type": "code",
   "execution_count": 20,
   "id": "339cf911-32ac-4af7-8b68-d6fd7af04153",
   "metadata": {},
   "outputs": [],
   "source": [
    "# 9. Filter out and capiltalise all letters of words that contain atleast 2 vowels from a series?"
   ]
  },
  {
   "cell_type": "code",
   "execution_count": 21,
   "id": "5adaac13-839a-4f04-8fbf-017a25a6691c",
   "metadata": {},
   "outputs": [
    {
     "name": "stdout",
     "output_type": "stream",
     "text": [
      "0      Insaid\n",
      "1     strives\n",
      "2         for\n",
      "3    bringing\n",
      "4         out\n",
      "5         the\n",
      "6        best\n",
      "7          in\n",
      "8         you\n",
      "dtype: object\n",
      "============================\n",
      "0      INSAID\n",
      "1     STRIVES\n",
      "3    BRINGING\n",
      "4         OUT\n",
      "8         YOU\n",
      "dtype: object\n"
     ]
    }
   ],
   "source": [
    "import pandas as pd\n",
    "series = pd.Series(['Insaid', 'strives', 'for', 'bringing','out','the', 'best','in','you' ])\n",
    "def generate():\n",
    "    # your code here\n",
    "    print (series)\n",
    "    print (\"============================\")\n",
    "    print (series[series.str.lower().str.count(r'[aeiou]') >= 2].str.upper())\n",
    "    return None\n",
    "generate()"
   ]
  },
  {
   "cell_type": "code",
   "execution_count": 22,
   "id": "c4eaa67f-4608-4d79-b9ee-b04daff561f4",
   "metadata": {},
   "outputs": [],
   "source": [
    "# 10. Create a dataframe from a 4*4 array contaning element from 0 to 15 in a squential order. swap rows third and fourth by creating a generic function two rows."
   ]
  },
  {
   "cell_type": "code",
   "execution_count": 23,
   "id": "7b1a832d-e9e3-498c-9ad4-a07a10ce759c",
   "metadata": {},
   "outputs": [
    {
     "name": "stdout",
     "output_type": "stream",
     "text": [
      "[[ 0  1  2  3]\n",
      " [ 4  5  6  7]\n",
      " [ 8  9 10 11]\n",
      " [12 13 14 15]]\n",
      "    0   1   2   3\n",
      "0   0   1   2   3\n",
      "1   4   5   6   7\n",
      "2   8   9  10  11\n",
      "3  12  13  14  15\n",
      "===========================\n",
      "    0   1   2   3\n",
      "0   0   1   2   3\n",
      "1   4   5   6   7\n",
      "2  12  13  14  15\n",
      "3   8   9  10  11\n",
      "===========================\n",
      "    0   1   2   3\n",
      "3   8   9  10  11\n",
      "2  12  13  14  15\n",
      "1   4   5   6   7\n",
      "0   0   1   2   3\n"
     ]
    }
   ],
   "source": [
    "import numpy as np\n",
    "import pandas as pd\n",
    "def swapRows(df, rIndex1, rIndex2):\n",
    "    temp = df.iloc[rIndex1].copy()\n",
    "    #print (temp)\n",
    "    df.iloc[rIndex1] = df.iloc[rIndex2]\n",
    "    #print (temp)\n",
    "    df.iloc[rIndex2] = temp\n",
    "    return df\n",
    "\n",
    "def generate():\n",
    "    # Your code here\n",
    "    a = np.arange(16).reshape(4,4)\n",
    "    print (a)\n",
    "    num = pd.DataFrame(a)\n",
    "    print (num)\n",
    "    print (\"===========================\")\n",
    "    num = swapRows(num, 2,3)\n",
    "    print (num)\n",
    "    print (\"===========================\")\n",
    "    print (num[::-1])\n",
    "    # print the modified dataframe\n",
    "    return None\n",
    "generate()"
   ]
  },
  {
   "cell_type": "code",
   "execution_count": null,
   "id": "23db2c6b-192e-4e6d-b0e9-727642910755",
   "metadata": {},
   "outputs": [],
   "source": []
  }
 ],
 "metadata": {
  "kernelspec": {
   "display_name": "Python 3",
   "language": "python",
   "name": "python3"
  },
  "language_info": {
   "codemirror_mode": {
    "name": "ipython",
    "version": 3
   },
   "file_extension": ".py",
   "mimetype": "text/x-python",
   "name": "python",
   "nbconvert_exporter": "python",
   "pygments_lexer": "ipython3",
   "version": "3.8.8"
  }
 },
 "nbformat": 4,
 "nbformat_minor": 5
}
