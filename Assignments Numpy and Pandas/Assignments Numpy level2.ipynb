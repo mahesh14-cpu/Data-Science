{
 "cells": [
  {
   "cell_type": "code",
   "execution_count": 1,
   "id": "6402260d-d6cb-4d07-b5cf-7ea207d76007",
   "metadata": {},
   "outputs": [],
   "source": [
    "# 1. From a 1D array containing elements from -2 to 10 in arithmatic progression with common diff 1.5, negate all elements are betwn 2 and 7 in place."
   ]
  },
  {
   "cell_type": "code",
   "execution_count": 2,
   "id": "07911c29-262b-4518-ba10-bd3023ba630c",
   "metadata": {},
   "outputs": [
    {
     "data": {
      "text/plain": [
       "array([-2. , -0.5,  1. , -2.5, -4. , -5.5,  7. ,  8.5])"
      ]
     },
     "execution_count": 2,
     "metadata": {},
     "output_type": "execute_result"
    }
   ],
   "source": [
    "import numpy as np\n",
    "def f(x):\n",
    "    \n",
    "    if x > 2 and x < 7:\n",
    "        return -x\n",
    "    else:\n",
    "        return x\n",
    "\n",
    "def generate():\n",
    "    \n",
    "    # your code here\n",
    "    a = np.arange(-2, 10, 1.5)\n",
    "    a = np.array([f(item) for item in a])\n",
    "    \n",
    "    return a# return modified array\n",
    "generate()"
   ]
  },
  {
   "cell_type": "code",
   "execution_count": 3,
   "id": "9c124d97-3cb3-445e-b68e-adc42ddfa0e7",
   "metadata": {},
   "outputs": [],
   "source": [
    "# 2. Create random vector of size 7 and replace the maximum value by 2 and minimum by 7. sort this array in reverse order. return the modified vector."
   ]
  },
  {
   "cell_type": "code",
   "execution_count": 4,
   "id": "228041f0-7913-48c1-bc07-1bb8355a7336",
   "metadata": {},
   "outputs": [
    {
     "data": {
      "text/plain": [
       "array([7.        , 2.        , 0.94044617, 0.89941521, 0.72692307,\n",
       "       0.55326349, 0.51713113])"
      ]
     },
     "execution_count": 4,
     "metadata": {},
     "output_type": "execute_result"
    }
   ],
   "source": [
    "import numpy as np\n",
    "def generate():\n",
    "   \n",
    "    # your code\n",
    "   \n",
    "    a = np.random.rand(7)\n",
    "    a = np.sort(a)\n",
    "    a [0] = 7\n",
    "    a [-1] = 2\n",
    "    a = np.sort(a)\n",
    "    \n",
    "    # print (a[::-1])\n",
    "    \n",
    "    return a [::-1]    # your array\n",
    "generate()"
   ]
  },
  {
   "cell_type": "code",
   "execution_count": 5,
   "id": "67e94b11-25b2-4c3b-92ad-93e8b90bfdd5",
   "metadata": {},
   "outputs": [],
   "source": [
    "# 3. Convert a random 7*2 matrix representing cartesian coordinates to polar coordinates. print out both."
   ]
  },
  {
   "cell_type": "code",
   "execution_count": 6,
   "id": "11169a89-b7e9-4db5-9213-efdcb9736f96",
   "metadata": {},
   "outputs": [
    {
     "name": "stdout",
     "output_type": "stream",
     "text": [
      "[[0.47150321 0.43601675]\n",
      " [0.0360635  0.1077545 ]\n",
      " [0.51393461 0.96211055]\n",
      " [0.07094153 0.53692625]\n",
      " [0.83792207 0.78712341]\n",
      " [0.19761005 0.66483745]\n",
      " [0.28792349 0.07406939]]\n",
      "[[0.64220393 0.7463154 ]\n",
      " [0.11362926 1.24783237]\n",
      " [1.09077289 1.0801846 ]\n",
      " [0.54159255 1.43943193]\n",
      " [1.14964197 0.7541485 ]\n",
      " [0.69358386 1.28188218]\n",
      " [0.29729819 0.25179395]]\n"
     ]
    }
   ],
   "source": [
    "import numpy as np\n",
    "import math\n",
    "def cart2pol(x, y):\n",
    "    \n",
    "    rho = np.sqrt(x**2 + y**2)\n",
    "    phi = np.arctan2(y, x)\n",
    "    return(rho, phi)\n",
    "\n",
    "def generate():\n",
    "    \n",
    "    # your code here\n",
    "    \n",
    "    car_crd = np.random.rand(7,2)\n",
    "   \n",
    "    print (car_crd)\n",
    "    pol_crd = np.array([cart2pol(pt[0], pt[1]) for pt in car_crd])\n",
    "    print (pol_crd)\n",
    "   \n",
    "    # print out both matrices\n",
    "    \n",
    "    return None\n",
    "generate()"
   ]
  },
  {
   "cell_type": "code",
   "execution_count": 7,
   "id": "2f0ee5cb-a204-4677-95be-608ef3aae82f",
   "metadata": {},
   "outputs": [],
   "source": [
    "# 4. create an numpy array sequence named num_seq when only the starting point, step size and length of sequence i given."
   ]
  },
  {
   "cell_type": "code",
   "execution_count": 8,
   "id": "02da0cc1-4a76-4a9f-9415-8c7849fb1be2",
   "metadata": {},
   "outputs": [
    {
     "data": {
      "text/plain": [
       "array([ 5,  7,  9, 11, 13, 15, 17, 19, 21, 23, 25, 27, 29, 31, 33])"
      ]
     },
     "execution_count": 8,
     "metadata": {},
     "output_type": "execute_result"
    }
   ],
   "source": [
    "import numpy as np\n",
    "\n",
    "length = 15\n",
    "start = 5\n",
    "step = 2\n",
    "\n",
    "def generate(start, length, step):\n",
    "    \n",
    "    # your code here\n",
    "    \n",
    "    num_seq = np.arange(start, start + length*step, step)\n",
    "    \n",
    "    return num_seq                  # array created by you, i.e. num_seq\n",
    "generate(start, length, step)"
   ]
  },
  {
   "cell_type": "code",
   "execution_count": 9,
   "id": "661e0c2c-0b5d-40dc-97bc-7739dbf4357d",
   "metadata": {},
   "outputs": [],
   "source": [
    "# 5. make a 3*3 array using a 1d array of evenly spaced numbers ranging from 0 to 9, name it arr1."
   ]
  },
  {
   "cell_type": "code",
   "execution_count": 10,
   "id": "d2fb8f1b-5d64-40fe-865a-a65b86baed0c",
   "metadata": {},
   "outputs": [
    {
     "data": {
      "text/plain": [
       "array([[-1.,  2.,  5.],\n",
       "       [ 0.,  3.,  6.],\n",
       "       [ 1.,  4.,  7.]])"
      ]
     },
     "execution_count": 10,
     "metadata": {},
     "output_type": "execute_result"
    }
   ],
   "source": [
    "import numpy as np\n",
    "def generate():\n",
    "    \n",
    "    # your code here\n",
    "    arr1 = np.arange(0,9).reshape(3,3)\n",
    "    \n",
    "    # print (arr1)\n",
    "    arr2 = np.transpose(arr1)\n",
    "    \n",
    "    # print (arr2)\n",
    "    arr3 = np.ones((1,3))\n",
    "    \n",
    "    # print (arr3)\n",
    "    arr4 = arr2 - arr3\n",
    "    \n",
    "    # print (arr4)\n",
    "    return arr4          # finally created array i.e arr4\n",
    "generate()"
   ]
  },
  {
   "cell_type": "code",
   "execution_count": 11,
   "id": "dd38e68d-e138-42f5-b220-0e22f25ee12d",
   "metadata": {},
   "outputs": [],
   "source": [
    "# 6. Create a datatimeindex that contains each business day of 2016 and use it. index a series of random numbers."
   ]
  },
  {
   "cell_type": "code",
   "execution_count": 12,
   "id": "66dc3fc9-0daf-42dc-931f-6d872743fbcf",
   "metadata": {},
   "outputs": [
    {
     "name": "stdout",
     "output_type": "stream",
     "text": [
      "2016-01-01    0.275264\n",
      "2016-01-04    0.787803\n",
      "2016-01-05    0.084885\n",
      "2016-01-06    0.253925\n",
      "2016-01-07    0.975540\n",
      "                ...   \n",
      "2016-12-26    0.142792\n",
      "2016-12-27    0.665147\n",
      "2016-12-28    0.032554\n",
      "2016-12-29    0.095045\n",
      "2016-12-30    0.842743\n",
      "Freq: B, Length: 261, dtype: float64\n"
     ]
    }
   ],
   "source": [
    "import pandas as pd\n",
    "import numpy as np\n",
    "def generate():\n",
    "    \n",
    "    # Your code here\n",
    "    \n",
    "    DatetimeIndex = pd.date_range(start='2016-01-01', end='2016-12-31',freq='B')\n",
    "    bus_2k16 = pd.Series(index =DatetimeIndex, data =np.random.rand(len(DatetimeIndex)))\n",
    "    \n",
    "    # print out bus_2k16\n",
    "    \n",
    "    print (bus_2k16)\n",
    "    return None\n",
    "generate()"
   ]
  },
  {
   "cell_type": "code",
   "execution_count": 13,
   "id": "cf33e1a4-ad80-44be-a316-ff56fc859837",
   "metadata": {},
   "outputs": [],
   "source": [
    "# 7. Foe each calender month in dataframe bus_2k16, from previous problem. print out mean of values also find the sum of the values in bus."
   ]
  },
  {
   "cell_type": "code",
   "execution_count": 14,
   "id": "5179e31a-3275-47e1-8820-eabaa00b37a2",
   "metadata": {},
   "outputs": [
    {
     "name": "stdout",
     "output_type": "stream",
     "text": [
      "[0.36323022120614695, 0.543753229416871, 0.5668992028614918, 0.32050981581025356, 0.18873533687430866, 0.4026930673823534, 0.6082008430319239, 0.6038982014063969, 0.5483547966806475, 0.3330408374151126, 0.5802098647529512, 0.38077259004506997]\n",
      "0\n"
     ]
    }
   ],
   "source": [
    "import pandas as pd\n",
    "def generate():\n",
    "    \n",
    "    # Your code here\n",
    "    \n",
    "    DatetimeIndex = pd.date_range(start='2016-01-01', end='2016-12-31',freq='B')\n",
    "    bus_2k16 = pd.Series(index =DatetimeIndex, data =np.random.rand(len(DatetimeIndex)))\n",
    "    \n",
    "    # print (bus_2k16)\n",
    "    # print out mean\n",
    "    \n",
    "    sundaySum =0\n",
    "    meanSum = []\n",
    "    meanAvg = []\n",
    "    for i in bus_2k16.items():\n",
    "        \n",
    "        # print (i)\n",
    "        \n",
    "        if i[0].is_month_start:\n",
    "            \n",
    "            #print ('Month Start')\n",
    "            meanSum.append(i[1])\n",
    "       \n",
    "        elif i[0].is_month_end:\n",
    "            \n",
    "            #print ('Month End')\n",
    "            meanSum.append(i[1])\n",
    "            meanAvg.append(sum(meanSum)/len(meanSum))\n",
    "            meanSum=[]\n",
    "        \n",
    "        if i[0].weekday == 6:\n",
    "            sundaySum += i[1]\n",
    "    \n",
    "    print (meanAvg)\n",
    "    \n",
    "    print (sundaySum)\n",
    "    \n",
    "    # print out sum of the values in bus_2k16 for every Sunday.\n",
    "    return None\n",
    "generate()"
   ]
  },
  {
   "cell_type": "code",
   "execution_count": 15,
   "id": "287c4bfd-4b33-4723-b116-1a4298797b31",
   "metadata": {},
   "outputs": [],
   "source": [
    "# 8. Given the dataframe df, in the fromto column split each string the underscore delimiter to give a new temp dataframe coeerct values."
   ]
  },
  {
   "cell_type": "code",
   "execution_count": 16,
   "id": "4a70bb12-5cb2-4c6a-a9a9-65a6218930bb",
   "metadata": {},
   "outputs": [
    {
     "name": "stdout",
     "output_type": "stream",
     "text": [
      "            From_To  FlightNumber  RecentDelays              Airline\n",
      "0      LoNDon_paris       10045.0      [23, 47]               KLM(!)\n",
      "1      MAdrid_miLAN           NaN            []    <Air France> (12)\n",
      "2  londON_StockhOlm       10065.0  [24, 43, 87]  (British Airways. )\n",
      "3    Budapest_PaRis           NaN          [13]       12. Air France\n",
      "4   Brussels_londOn       10085.0      [67, 32]          \"Swiss Air\"\n"
     ]
    },
    {
     "data": {
      "text/html": [
       "<div>\n",
       "<style scoped>\n",
       "    .dataframe tbody tr th:only-of-type {\n",
       "        vertical-align: middle;\n",
       "    }\n",
       "\n",
       "    .dataframe tbody tr th {\n",
       "        vertical-align: top;\n",
       "    }\n",
       "\n",
       "    .dataframe thead th {\n",
       "        text-align: right;\n",
       "    }\n",
       "</style>\n",
       "<table border=\"1\" class=\"dataframe\">\n",
       "  <thead>\n",
       "    <tr style=\"text-align: right;\">\n",
       "      <th></th>\n",
       "      <th>FlightNumber</th>\n",
       "      <th>RecentDelays</th>\n",
       "      <th>Airline</th>\n",
       "      <th>From</th>\n",
       "      <th>To</th>\n",
       "    </tr>\n",
       "  </thead>\n",
       "  <tbody>\n",
       "    <tr>\n",
       "      <th>0</th>\n",
       "      <td>10045.0</td>\n",
       "      <td>[23, 47]</td>\n",
       "      <td>KLM(!)</td>\n",
       "      <td>London</td>\n",
       "      <td>Paris</td>\n",
       "    </tr>\n",
       "    <tr>\n",
       "      <th>1</th>\n",
       "      <td>NaN</td>\n",
       "      <td>[]</td>\n",
       "      <td>&lt;Air France&gt; (12)</td>\n",
       "      <td>Madrid</td>\n",
       "      <td>Milan</td>\n",
       "    </tr>\n",
       "    <tr>\n",
       "      <th>2</th>\n",
       "      <td>10065.0</td>\n",
       "      <td>[24, 43, 87]</td>\n",
       "      <td>(British Airways. )</td>\n",
       "      <td>London</td>\n",
       "      <td>Stockholm</td>\n",
       "    </tr>\n",
       "    <tr>\n",
       "      <th>3</th>\n",
       "      <td>NaN</td>\n",
       "      <td>[13]</td>\n",
       "      <td>12. Air France</td>\n",
       "      <td>Budapest</td>\n",
       "      <td>Paris</td>\n",
       "    </tr>\n",
       "    <tr>\n",
       "      <th>4</th>\n",
       "      <td>10085.0</td>\n",
       "      <td>[67, 32]</td>\n",
       "      <td>\"Swiss Air\"</td>\n",
       "      <td>Brussels</td>\n",
       "      <td>London</td>\n",
       "    </tr>\n",
       "  </tbody>\n",
       "</table>\n",
       "</div>"
      ],
      "text/plain": [
       "   FlightNumber  RecentDelays              Airline      From         To\n",
       "0       10045.0      [23, 47]               KLM(!)    London      Paris\n",
       "1           NaN            []    <Air France> (12)    Madrid      Milan\n",
       "2       10065.0  [24, 43, 87]  (British Airways. )    London  Stockholm\n",
       "3           NaN          [13]       12. Air France  Budapest      Paris\n",
       "4       10085.0      [67, 32]          \"Swiss Air\"  Brussels     London"
      ]
     },
     "execution_count": 16,
     "metadata": {},
     "output_type": "execute_result"
    }
   ],
   "source": [
    "import numpy as np\n",
    "df = pd.DataFrame({'From_To': ['LoNDon_paris', 'MAdrid_miLAN', 'londON_StockhOlm', \n",
    "                               'Budapest_PaRis', 'Brussels_londOn'],\n",
    "              'FlightNumber': [10045, np.nan, 10065, np.nan, 10085],\n",
    "              'RecentDelays': [[23, 47], [], [24, 43, 87], [13], [67, 32]],\n",
    "                   'Airline': ['KLM(!)', '<Air France> (12)', '(British Airways. )', \n",
    "                               '12. Air France', '\"Swiss Air\"']})\n",
    "import pandas as pd\n",
    "def generate():\n",
    "    \n",
    "    # write your code here\n",
    "    \n",
    "    print (df)\n",
    "    temp = df\n",
    "    temp['From'] = temp.apply(lambda x: x['From_To'].split('_')[0].capitalize(), 1)\n",
    "    temp['To'] = temp.apply(lambda x: x['From_To'].split('_')[1].capitalize(), 1)\n",
    "    temp.drop(columns =['From_To'], inplace = True)\n",
    "    \n",
    "    return temp# your temporary variable i.e temp.\n",
    "generate()"
   ]
  },
  {
   "cell_type": "code",
   "execution_count": 17,
   "id": "3b14e97d-5094-4428-9cdd-5c140d87acfb",
   "metadata": {},
   "outputs": [],
   "source": [
    "# 9. Given a dataframe with 10 columns of real numbers. find that columns label which has the smallest sum? also count the number of unique rows the dataframe has."
   ]
  },
  {
   "cell_type": "code",
   "execution_count": 18,
   "id": "874a69b5-fe94-4e7b-9d8f-d6c0f484c6b3",
   "metadata": {},
   "outputs": [
    {
     "name": "stdout",
     "output_type": "stream",
     "text": [
      "          q         r         s         t         u         v         w  \\\n",
      "0  0.499196  0.908661  0.514070  0.401187  0.050167  0.999217  0.800621   \n",
      "1  0.138121  0.901661  0.046135  0.997239  0.312960  0.038385  0.135246   \n",
      "2  0.544466  0.762077  0.458610  0.525641  0.150835  0.182899  0.227953   \n",
      "3  0.502265  0.129648  0.218449  0.211499  0.721581  0.996324  0.831497   \n",
      "\n",
      "          x         y         z  \n",
      "0  0.608009  0.423405  0.986772  \n",
      "1  0.967952  0.161074  0.268174  \n",
      "2  0.661249  0.475009  0.240077  \n",
      "3  0.298656  0.973430  0.060838  \n",
      "{'q': 1.6840485734380415, 'r': 2.7020455777391015, 's': 1.237263684922505, 't': 2.1355665403251107, 'u': 1.2355432763615481, 'v': 2.216825658403563, 'w': 1.9953170799747988, 'x': 2.535866729687605, 'y': 2.032918704211504, 'z': 1.5558612940637948}\n",
      "u\n",
      "q    4\n",
      "r    4\n",
      "s    4\n",
      "t    4\n",
      "u    4\n",
      "v    4\n",
      "w    4\n",
      "x    4\n",
      "y    4\n",
      "z    4\n",
      "dtype: int64\n"
     ]
    }
   ],
   "source": [
    "import numpy as np\n",
    "import pandas as pd\n",
    "df = pd.DataFrame(np.random.random(size=(4, 10)), columns=list('qrstuvwxyz'))\n",
    "\n",
    "print(df)\n",
    "def generate():\n",
    "    \n",
    "    # your code here\n",
    "    # print(df.columns)\n",
    "    \n",
    "    sumDict = {}\n",
    "    minSumVal = 0\n",
    "    minSumCol = ''\n",
    "    \n",
    "    for col in df.columns:\n",
    "        sumDict[col]= sum(df[col])\n",
    "        \n",
    "        if minSumVal == 0:\n",
    "            minSumCol = col\n",
    "            minSumVal = sum(df[col])\n",
    "        \n",
    "        elif minSumVal > sum(df[col]):\n",
    "            minSumCol = col\n",
    "            minSumVal = sum(df[col])\n",
    "    \n",
    "    print (sumDict)\n",
    "    print (minSumCol)\n",
    "    \n",
    "    # print out that column's label which has the smallest sum\n",
    "    # Also count the number of unique rows the dataframe has.\n",
    "    \n",
    "    print (df.drop_duplicates().count())\n",
    "    \n",
    "    return None\n",
    "generate()"
   ]
  },
  {
   "cell_type": "code",
   "execution_count": 19,
   "id": "d2d2b585-f64c-45be-8bb0-778f1436dc59",
   "metadata": {},
   "outputs": [],
   "source": [
    "# 10. Given a dataframe df with a column 'int' of integers.print out the dataframe with filtered out rows which contain the same integer as the low above."
   ]
  },
  {
   "cell_type": "code",
   "execution_count": 21,
   "id": "0f585db3-208e-42b1-a77a-12ffd8f6f2aa",
   "metadata": {},
   "outputs": [
    {
     "name": "stdout",
     "output_type": "stream",
     "text": [
      "    int\n",
      "0     1\n",
      "1     2\n",
      "2     2\n",
      "3     3\n",
      "4     4\n",
      "5     5\n",
      "6     5\n",
      "7     5\n",
      "8     6\n",
      "9     7\n",
      "10    7\n",
      "    int\n",
      "2     2\n",
      "6     5\n",
      "7     5\n",
      "10    7\n",
      "0    -3.272727\n",
      "1    -2.272727\n",
      "2    -2.272727\n",
      "3    -1.272727\n",
      "4    -0.272727\n",
      "5     0.727273\n",
      "6     0.727273\n",
      "7     0.727273\n",
      "8     1.727273\n",
      "9     2.727273\n",
      "10    2.727273\n",
      "Name: int, dtype: float64\n"
     ]
    }
   ],
   "source": [
    "import pandas as pd\n",
    "df = pd.DataFrame({'int': [1, 2, 2, 3, 4, 5, 5, 5, 6, 7, 7]})\n",
    "def generate():\n",
    "    \n",
    "    # your code here\n",
    "    print (df)\n",
    "    \n",
    "    # Print out the dataframe with filtered out rows which contain the same integer as the row immediately above\n",
    "    print (df[df['int'] == df['int'].shift()])\n",
    "    \n",
    "    # Print out the dataframe after subtracting the mean of all integers from each element\n",
    "    print (df['int'] - df['int'].mean())\n",
    "    \n",
    "    return None\n",
    "generate()"
   ]
  },
  {
   "cell_type": "code",
   "execution_count": null,
   "id": "f64992aa-2e64-4d8a-97ac-5d22584084d1",
   "metadata": {},
   "outputs": [],
   "source": []
  }
 ],
 "metadata": {
  "kernelspec": {
   "display_name": "Python 3",
   "language": "python",
   "name": "python3"
  },
  "language_info": {
   "codemirror_mode": {
    "name": "ipython",
    "version": 3
   },
   "file_extension": ".py",
   "mimetype": "text/x-python",
   "name": "python",
   "nbconvert_exporter": "python",
   "pygments_lexer": "ipython3",
   "version": "3.8.8"
  }
 },
 "nbformat": 4,
 "nbformat_minor": 5
}
