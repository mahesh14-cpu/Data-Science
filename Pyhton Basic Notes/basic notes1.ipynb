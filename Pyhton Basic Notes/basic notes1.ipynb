{
 "cells": [
  {
   "cell_type": "markdown",
   "id": "8dba3e9a-9abc-4041-b387-50b9db8e4a71",
   "metadata": {},
   "source": [
    "# 1. Python Keywords"
   ]
  },
  {
   "cell_type": "code",
   "execution_count": 1,
   "id": "da615aa4-4dbc-4f35-a808-da26ae7d4fbb",
   "metadata": {},
   "outputs": [
    {
     "name": "stdout",
     "output_type": "stream",
     "text": [
      "['False', 'None', 'True', 'and', 'as', 'assert', 'async', 'await', 'break', 'class', 'continue', 'def', 'del', 'elif', 'else', 'except', 'finally', 'for', 'from', 'global', 'if', 'import', 'in', 'is', 'lambda', 'nonlocal', 'not', 'or', 'pass', 'raise', 'return', 'try', 'while', 'with', 'yield']\n"
     ]
    }
   ],
   "source": [
    "#To extract all keywords in python 3.6 use the below code\n",
    "\n",
    "import keyword\n",
    "\n",
    "print(keyword.kwlist)"
   ]
  },
  {
   "cell_type": "code",
   "execution_count": 11,
   "id": "459b9786-a8b8-4742-a2be-412a90b5df77",
   "metadata": {},
   "outputs": [
    {
     "name": "stdout",
     "output_type": "stream",
     "text": [
      "35\n"
     ]
    }
   ],
   "source": [
    "# number of keyword are\n",
    "\n",
    "print(len(keyword.kwlist))"
   ]
  },
  {
   "cell_type": "markdown",
   "id": "83bbd267-5b9b-4c41-8d5b-78c6090272c7",
   "metadata": {},
   "source": [
    "# 2. Identifiers"
   ]
  },
  {
   "cell_type": "code",
   "execution_count": 10,
   "id": "25eba72b-0b12-4c92-bfc6-9377fb98def1",
   "metadata": {},
   "outputs": [],
   "source": [
    "somename99 = 500"
   ]
  },
  {
   "cell_type": "code",
   "execution_count": 2,
   "id": "6d187a2d-71f2-4f0e-aa65-e5b1ae7d0b7c",
   "metadata": {},
   "outputs": [
    {
     "name": "stdout",
     "output_type": "stream",
     "text": [
      "500\n"
     ]
    }
   ],
   "source": [
    "somename99 = 500\n",
    "\n",
    "print(somename99)"
   ]
  },
  {
   "cell_type": "markdown",
   "id": "78845eb0-226d-4ec3-ad29-eedf74db6bc0",
   "metadata": {},
   "source": [
    "# Few more correct identifiers"
   ]
  },
  {
   "cell_type": "code",
   "execution_count": 17,
   "id": "2cf76b10-f2b4-4524-98ac-47141ea3bff1",
   "metadata": {},
   "outputs": [
    {
     "name": "stdout",
     "output_type": "stream",
     "text": [
      "hello: 1\n",
      "hello123: 1\n",
      "hello_1: 1\n"
     ]
    }
   ],
   "source": [
    "hello  = 1\n",
    "print('hello:',hello)\n",
    "\n",
    "hello123 = 1\n",
    "print('hello123:',hello123)\n",
    "\n",
    "hello_1 = 1\n",
    "print('hello_1:',hello_1)"
   ]
  },
  {
   "cell_type": "markdown",
   "id": "b55ca57e-0cdc-4bf7-bfe5-e3decc285673",
   "metadata": {},
   "source": [
    "# 3. Comments in Python"
   ]
  },
  {
   "cell_type": "markdown",
   "id": "2fcddd92-0a3d-40cb-8a3f-fa003413756f",
   "metadata": {},
   "source": [
    "### Docstring"
   ]
  },
  {
   "cell_type": "markdown",
   "id": "4ab854e8-03ae-4df3-96e1-e1ca0b79b428",
   "metadata": {},
   "source": [
    "Docstring is short for documentation string.<p/>\n",
    "\n",
    "String that occurs as the first statement in a module, function, class, <br/>\n",
    "or method definition. Used to define what a function/class does."
   ]
  },
  {
   "cell_type": "code",
   "execution_count": 3,
   "id": "89e36753-588c-47a2-9893-62d5d1357a21",
   "metadata": {},
   "outputs": [
    {
     "name": "stdout",
     "output_type": "stream",
     "text": [
      "400\n"
     ]
    }
   ],
   "source": [
    "def square(num):\n",
    "    return num*num\n",
    "print(square(20))"
   ]
  },
  {
   "cell_type": "markdown",
   "id": "e7410268-7219-4bb9-ac7f-59be77fa5a86",
   "metadata": {},
   "source": [
    "# 4. Python Indentation"
   ]
  },
  {
   "cell_type": "code",
   "execution_count": 5,
   "id": "94ea632d-b324-4aad-9dba-414735cea664",
   "metadata": {},
   "outputs": [],
   "source": [
    "variable1 = 10\n",
    "\n",
    "variable2 = 20"
   ]
  },
  {
   "cell_type": "code",
   "execution_count": 7,
   "id": "8bd3d8db-4d76-4ef7-84c5-41e8bd4d1121",
   "metadata": {},
   "outputs": [
    {
     "name": "stdout",
     "output_type": "stream",
     "text": [
      "2\n",
      "3\n",
      "4\n",
      "5\n",
      "6\n",
      "7\n",
      "8\n"
     ]
    }
   ],
   "source": [
    "for i in range (2,9):\n",
    "    print(i)                         # Logical continuation maintained"
   ]
  },
  {
   "cell_type": "code",
   "execution_count": 10,
   "id": "08038807-85d5-4fe8-a74f-dcaaea7d9ac1",
   "metadata": {},
   "outputs": [
    {
     "name": "stdout",
     "output_type": "stream",
     "text": [
      "150\n"
     ]
    }
   ],
   "source": [
    "Number = 10 + 20 + \\\n",
    "         30 + 40 + \\\n",
    "         50\n",
    "\n",
    "print(Number)"
   ]
  },
  {
   "cell_type": "markdown",
   "id": "09450801-ffc8-4e58-804b-e96ac70ec973",
   "metadata": {},
   "source": [
    "# Indentation is a good way to keep the code readable"
   ]
  },
  {
   "cell_type": "code",
   "execution_count": 9,
   "id": "02c4f829-62da-4261-9ea8-ebb696063305",
   "metadata": {},
   "outputs": [
    {
     "name": "stdout",
     "output_type": "stream",
     "text": [
      "1\n",
      "2\n",
      "3\n"
     ]
    }
   ],
   "source": [
    "variable1=50;variable2=60                   # Everything could be in one line but less readable. Multiple statement\n",
    "\n",
    "for i in range (1,4): print(i)              # Everything could be in one line but less readable"
   ]
  },
  {
   "cell_type": "markdown",
   "id": "b6f77829-4260-46e7-aedb-eff8d0401e55",
   "metadata": {},
   "source": [
    "# 5. Python Statement"
   ]
  },
  {
   "cell_type": "markdown",
   "id": "27755c49-fa63-46cf-a468-e08266358e63",
   "metadata": {},
   "source": [
    "Instructions that a Python interpreter can execute are called statements. For example, a = 1 is an assignment statement. if statement, for statement, while statement etc. are other kinds of statements which will be discussed later."
   ]
  },
  {
   "cell_type": "markdown",
   "id": "b7ab2ac0-3274-45c7-91bd-9a668fa51b44",
   "metadata": {},
   "source": [
    "# Single-line statement"
   ]
  },
  {
   "cell_type": "code",
   "execution_count": 12,
   "id": "db32f46e-4220-45d2-b1e2-5da1f1f1ff96",
   "metadata": {},
   "outputs": [],
   "source": [
    "number = 10"
   ]
  },
  {
   "cell_type": "markdown",
   "id": "1fc84df0-c723-4d20-8902-3a8a56a8260c",
   "metadata": {},
   "source": [
    "# Multi-line statement \n",
    "(Use a continuation character '\\')"
   ]
  },
  {
   "cell_type": "code",
   "execution_count": 13,
   "id": "4d98087b-4b36-4d88-9aad-027078c073ab",
   "metadata": {},
   "outputs": [
    {
     "name": "stdout",
     "output_type": "stream",
     "text": [
      "150\n"
     ]
    }
   ],
   "source": [
    "number = 10 + 20 + \\\n",
    "         30 + 40 + \\\n",
    "         50\n",
    "    \n",
    "print(number)"
   ]
  },
  {
   "cell_type": "code",
   "execution_count": 50,
   "id": "72da4917-3909-4fa5-b72e-37c17bd414e6",
   "metadata": {},
   "outputs": [
    {
     "name": "stdout",
     "output_type": "stream",
     "text": [
      "150\n"
     ]
    }
   ],
   "source": [
    "number = (10 + 20 + \n",
    "         30 + 40 + \n",
    "         50)\n",
    "    \n",
    "print(number)"
   ]
  }
 ],
 "metadata": {
  "kernelspec": {
   "display_name": "Python 3",
   "language": "python",
   "name": "python3"
  },
  "language_info": {
   "codemirror_mode": {
    "name": "ipython",
    "version": 3
   },
   "file_extension": ".py",
   "mimetype": "text/x-python",
   "name": "python",
   "nbconvert_exporter": "python",
   "pygments_lexer": "ipython3",
   "version": "3.8.8"
  }
 },
 "nbformat": 4,
 "nbformat_minor": 5
}
