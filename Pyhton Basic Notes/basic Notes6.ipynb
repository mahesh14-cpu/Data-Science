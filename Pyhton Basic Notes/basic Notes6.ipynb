{
 "cells": [
  {
   "cell_type": "markdown",
   "id": "63766763-bbb9-4ecf-ab67-f2e0e24acca6",
   "metadata": {},
   "source": [
    "# 22. Recursive functions"
   ]
  },
  {
   "cell_type": "code",
   "execution_count": 2,
   "id": "94b65b65-882d-4d36-b15b-2fcefc7d31f1",
   "metadata": {},
   "outputs": [
    {
     "name": "stdout",
     "output_type": "stream",
     "text": [
      "Factorial of 10 is 3628800 \n"
     ]
    }
   ],
   "source": [
    "def factorial(num):                                   # Program to print factorial of a number using recursion\n",
    "    \"\"\"\n",
    "    This is a recursive function to find the factorial of a given number\n",
    "    \"\"\"\n",
    "    return 1 if num == 1 else (num * factorial(num-1))\n",
    "\n",
    "number = 10\n",
    "\n",
    "print(\"Factorial of {0} is {1} \".format(number, factorial(number)))\n"
   ]
  },
  {
   "cell_type": "code",
   "execution_count": 5,
   "id": "88b269a2-fd37-48cb-a4f8-b4b40da71517",
   "metadata": {},
   "outputs": [
    {
     "name": "stdout",
     "output_type": "stream",
     "text": [
      "The Fibonacci series is as below\n",
      "0\n",
      "1\n",
      "1\n",
      "2\n",
      "3\n",
      "5\n",
      "8\n",
      "13\n",
      "21\n",
      "34\n"
     ]
    }
   ],
   "source": [
    "def fibonacci(num):\n",
    "    \"\"\"\n",
    "    Recursive function to print fibonacci sequence\n",
    "    \"\"\"\n",
    "    return num if num <= 1 else fibonacci(num-1) + fibonacci(num-2)\n",
    "\n",
    "nterms = 10\n",
    "\n",
    "print(\"The Fibonacci series is as below\")\n",
    "\n",
    "for num in range(nterms):\n",
    "    \n",
    "    print(fibonacci(num))"
   ]
  },
  {
   "cell_type": "markdown",
   "id": "85ba0efd-da1e-4d22-8545-3191d153e747",
   "metadata": {},
   "source": [
    "# 23. Lambda or Anonymous Functions"
   ]
  },
  {
   "cell_type": "markdown",
   "id": "cc98d3bc-acb1-4564-a38f-cab59978889b",
   "metadata": {},
   "source": [
    "In Python, <b>anonymous function</b> is a function that is defined without a name.\n",
    "\n",
    "While <b>normal functions</b> are defined using <b>def keyword</b>, <br/>in Python <b>anonymous functions</b> are defined using the <b>lambda keyword</b>.\n",
    "\n",
    "Lambda functions are used extensively along with built-in functions like filter(), map()"
   ]
  },
  {
   "cell_type": "code",
   "execution_count": 8,
   "id": "572c4793-f4f3-43f8-bfe2-d5db429213d0",
   "metadata": {},
   "outputs": [
    {
     "name": "stdout",
     "output_type": "stream",
     "text": [
      "24300000\n"
     ]
    }
   ],
   "source": [
    "def square(x):                                         # In regular way we write the squaring function as beside\n",
    "    return x ** 5\n",
    "\n",
    "print(square(30))"
   ]
  },
  {
   "cell_type": "code",
   "execution_count": 10,
   "id": "fd3070f6-f07b-4388-8854-b6096974c00e",
   "metadata": {},
   "outputs": [
    {
     "name": "stdout",
     "output_type": "stream",
     "text": [
      "24300000\n"
     ]
    }
   ],
   "source": [
    "square = lambda x: x**5                                # Using lambe we write the squaring function as beside\n",
    "\n",
    "print(square(30))"
   ]
  },
  {
   "cell_type": "markdown",
   "id": "069b7379-10b9-4728-aea0-a06c3f06d053",
   "metadata": {},
   "source": [
    "# 1.Use lambda with filter()"
   ]
  },
  {
   "cell_type": "code",
   "execution_count": 11,
   "id": "aa69188a-a6cf-4d76-9b75-94b0e747958d",
   "metadata": {},
   "outputs": [
    {
     "name": "stdout",
     "output_type": "stream",
     "text": [
      "[5, 7, 9]\n"
     ]
    }
   ],
   "source": [
    "myList = [5, 6, 7, 8, 9]   \n",
    "\n",
    "oddList = list(filter(lambda x: (x%2 != 0), myList))\n",
    "\n",
    "print(oddList)\n"
   ]
  },
  {
   "cell_type": "markdown",
   "id": "ef860cef-d801-4dcf-a149-e95cd4cee96d",
   "metadata": {},
   "source": [
    "# 2.Use lambda with map()"
   ]
  },
  {
   "cell_type": "code",
   "execution_count": 13,
   "id": "f9196eeb-0caa-4a46-b47f-9d0657ba12cd",
   "metadata": {},
   "outputs": [
    {
     "name": "stdout",
     "output_type": "stream",
     "text": [
      "[25, 36, 49, 64, 81]\n"
     ]
    }
   ],
   "source": [
    "myList = [5, 6, 7, 8, 9]\n",
    "\n",
    "sqList = list(map(lambda x: x ** 2, myList))\n",
    "\n",
    "print(sqList)\n"
   ]
  },
  {
   "cell_type": "markdown",
   "id": "58e613aa-daed-4e21-9849-6293faa3c1aa",
   "metadata": {},
   "source": [
    "# 3.Use lambda with reduce()"
   ]
  },
  {
   "cell_type": "code",
   "execution_count": 16,
   "id": "d04efe0b-92a2-4455-9491-165d4324d086",
   "metadata": {},
   "outputs": [
    {
     "name": "stdout",
     "output_type": "stream",
     "text": [
      "35\n"
     ]
    }
   ],
   "source": [
    "from functools import reduce\n",
    "\n",
    "myList = [5, 6, 7, 8, 9]\n",
    "\n",
    "sumList = reduce(lambda x, y: x+y, myList)\n",
    "\n",
    "print(sumList)\n"
   ]
  },
  {
   "cell_type": "markdown",
   "id": "16a68e1f-ac23-4354-ae4d-63b63158b5f0",
   "metadata": {},
   "source": [
    "# 24. Modules"
   ]
  },
  {
   "cell_type": "markdown",
   "id": "fa2ebab8-96d9-455f-9596-f88ecdc9663b",
   "metadata": {},
   "source": [
    "Consider a module to be the same as a code library.\n",
    "A file containing a set of functions you want to include in your application.\n"
   ]
  },
  {
   "cell_type": "markdown",
   "id": "16b8d8cc-adf0-4ea1-92f5-9704c824d7b8",
   "metadata": {},
   "source": [
    "# How to import a module?"
   ]
  },
  {
   "cell_type": "code",
   "execution_count": 20,
   "id": "ce0b4689-11b1-47f2-a7b4-c20d9bc50797",
   "metadata": {},
   "outputs": [
    {
     "data": {
      "text/plain": [
       "6"
      ]
     },
     "execution_count": 20,
     "metadata": {},
     "output_type": "execute_result"
    }
   ],
   "source": [
    "import math\n",
    "\n",
    "math.factorial(3)"
   ]
  },
  {
   "cell_type": "code",
   "execution_count": 29,
   "id": "00f567ac-def7-4d04-8ac7-d1ee3a40dc48",
   "metadata": {},
   "outputs": [
    {
     "data": {
      "text/plain": [
       "0.8794291985137349"
      ]
     },
     "execution_count": 29,
     "metadata": {},
     "output_type": "execute_result"
    }
   ],
   "source": [
    "import random\n",
    "\n",
    "random.random()"
   ]
  },
  {
   "cell_type": "markdown",
   "id": "14f3a395-9927-42b5-a2bd-6134faeca36e",
   "metadata": {},
   "source": [
    "# 1.import with alias"
   ]
  },
  {
   "cell_type": "code",
   "execution_count": 22,
   "id": "61292a0e-98a2-439f-aa3a-8537172c6326",
   "metadata": {},
   "outputs": [
    {
     "name": "stdout",
     "output_type": "stream",
     "text": [
      "0.7687791081760009\n"
     ]
    }
   ],
   "source": [
    "import random as rd\n",
    "\n",
    "print(rd.random())"
   ]
  },
  {
   "cell_type": "markdown",
   "id": "7ec01779-ff13-4566-b378-4d67d6f9420b",
   "metadata": {},
   "source": [
    "# 2.from...import statement"
   ]
  },
  {
   "cell_type": "code",
   "execution_count": 23,
   "id": "d9dd7e94-e0bf-42ac-b27f-eaf8c458cb50",
   "metadata": {},
   "outputs": [
    {
     "name": "stdout",
     "output_type": "stream",
     "text": [
      "2021-07-19\n"
     ]
    }
   ],
   "source": [
    "from datetime import date\n",
    "\n",
    "print(date.today())"
   ]
  },
  {
   "cell_type": "markdown",
   "id": "c37fa83d-ec9d-447c-b616-95d12adb9013",
   "metadata": {},
   "source": [
    "# 3. import all names"
   ]
  },
  {
   "cell_type": "code",
   "execution_count": 24,
   "id": "b32a4d99-7e71-41dd-817b-a65c88cd985d",
   "metadata": {},
   "outputs": [
    {
     "name": "stdout",
     "output_type": "stream",
     "text": [
      "Factorial of 4 is: 24\n"
     ]
    }
   ],
   "source": [
    "from math import *\n",
    "\n",
    "print(\"Factorial of 4 is:\",factorial(4))"
   ]
  },
  {
   "cell_type": "markdown",
   "id": "720267eb-a37e-42c8-be50-ec61ecc5b096",
   "metadata": {},
   "source": [
    "# 25. Package"
   ]
  },
  {
   "cell_type": "markdown",
   "id": "8cdfc7f4-92bc-488d-9611-41902166583b",
   "metadata": {},
   "source": [
    "Packages are a way of structuring Python’s module namespace by using “dotted module names”.\n",
    "\n",
    "A <b>directory</b> must contain a file named <b>__init__.py</b> in order for Python to consider it as a <b>package</b>. This file can be <b>left empty</b> but we generally place the <b>initialization code</b> for that package in this file."
   ]
  },
  {
   "cell_type": "code",
   "execution_count": 26,
   "id": "6be52633-580c-46a9-bd2b-b4420a97f50d",
   "metadata": {
    "collapsed": true,
    "jupyter": {
     "outputs_hidden": true
    },
    "tags": []
   },
   "outputs": [
    {
     "ename": "ModuleNotFoundError",
     "evalue": "No module named 'Animal'",
     "output_type": "error",
     "traceback": [
      "\u001b[1;31m---------------------------------------------------------------------------\u001b[0m",
      "\u001b[1;31mModuleNotFoundError\u001b[0m                       Traceback (most recent call last)",
      "\u001b[1;32m<ipython-input-26-879ff3a224a3>\u001b[0m in \u001b[0;36m<module>\u001b[1;34m\u001b[0m\n\u001b[1;32m----> 1\u001b[1;33m \u001b[1;32mimport\u001b[0m \u001b[0mAnimal\u001b[0m\u001b[1;33m.\u001b[0m\u001b[0mLion\u001b[0m\u001b[1;33m.\u001b[0m\u001b[0mroar\u001b[0m \u001b[1;32mas\u001b[0m \u001b[0mrr\u001b[0m\u001b[1;33m\u001b[0m\u001b[1;33m\u001b[0m\u001b[0m\n\u001b[0m",
      "\u001b[1;31mModuleNotFoundError\u001b[0m: No module named 'Animal'"
     ]
    }
   ],
   "source": [
    "import Animal.Lion.roar as rr\n"
   ]
  },
  {
   "cell_type": "code",
   "execution_count": 28,
   "id": "d1548dd6-2ae9-418c-98d1-b0424e45299a",
   "metadata": {
    "collapsed": true,
    "jupyter": {
     "outputs_hidden": true
    },
    "tags": []
   },
   "outputs": [
    {
     "ename": "NameError",
     "evalue": "name 'rr' is not defined",
     "output_type": "error",
     "traceback": [
      "\u001b[1;31m---------------------------------------------------------------------------\u001b[0m",
      "\u001b[1;31mNameError\u001b[0m                                 Traceback (most recent call last)",
      "\u001b[1;32m<ipython-input-28-b052c3c60523>\u001b[0m in \u001b[0;36m<module>\u001b[1;34m\u001b[0m\n\u001b[1;32m----> 1\u001b[1;33m \u001b[0mrr\u001b[0m\u001b[1;33m.\u001b[0m\u001b[0mlionRoars\u001b[0m\u001b[1;33m(\u001b[0m\u001b[1;33m)\u001b[0m\u001b[1;33m\u001b[0m\u001b[1;33m\u001b[0m\u001b[0m\n\u001b[0m\u001b[0;32m      2\u001b[0m \u001b[0mprint\u001b[0m\u001b[1;33m(\u001b[0m\u001b[0mrr\u001b[0m\u001b[1;33m.\u001b[0m\u001b[0mlionRoars\u001b[0m\u001b[1;33m.\u001b[0m\u001b[0m__doc__\u001b[0m\u001b[1;33m)\u001b[0m\u001b[1;33m\u001b[0m\u001b[1;33m\u001b[0m\u001b[0m\n",
      "\u001b[1;31mNameError\u001b[0m: name 'rr' is not defined"
     ]
    }
   ],
   "source": [
    "rr.lionRoars()\n",
    "\n",
    "print(rr.lionRoars.__doc__)"
   ]
  },
  {
   "cell_type": "code",
   "execution_count": null,
   "id": "d058b13c-1204-418f-a3cb-50de866b62a2",
   "metadata": {},
   "outputs": [],
   "source": []
  }
 ],
 "metadata": {
  "kernelspec": {
   "display_name": "Python 3",
   "language": "python",
   "name": "python3"
  },
  "language_info": {
   "codemirror_mode": {
    "name": "ipython",
    "version": 3
   },
   "file_extension": ".py",
   "mimetype": "text/x-python",
   "name": "python",
   "nbconvert_exporter": "python",
   "pygments_lexer": "ipython3",
   "version": "3.8.8"
  }
 },
 "nbformat": 4,
 "nbformat_minor": 5
}
