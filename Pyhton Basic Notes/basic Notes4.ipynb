{
 "cells": [
  {
   "cell_type": "markdown",
   "id": "558ace2b-d20b-4077-b295-9456c4c9883d",
   "metadata": {},
   "source": [
    "# 14. Lists"
   ]
  },
  {
   "cell_type": "markdown",
   "id": "ae702451-4c4a-47a6-b816-3ff54b551ab8",
   "metadata": {},
   "source": [
    "# 14.1 How to create a List"
   ]
  },
  {
   "cell_type": "code",
   "execution_count": 1,
   "id": "c9ac5094-5455-4d8a-9afc-20f8d55f4f3d",
   "metadata": {},
   "outputs": [
    {
     "name": "stdout",
     "output_type": "stream",
     "text": [
      "[[14, 3.2], [13, 4.2]]\n"
     ]
    }
   ],
   "source": [
    "blankList = []                                           # Declare an empty List\n",
    "\n",
    "listofstring = ['mango','orange']                        # List of strings\n",
    "\n",
    "listofNumbers = [11,2.5,40,54]                           # List of integers\n",
    "\n",
    "listofList = [[14,3.2],[13,4.2]]                         # List of list\n",
    "\n",
    "listofMixedDatatypes = [44.4, 'Bill', 123, 33.2]         # List of diff datatype\n",
    "\n",
    "print(listofList)"
   ]
  },
  {
   "cell_type": "markdown",
   "id": "b5d4efaa-8947-4b0e-8519-c450997a6501",
   "metadata": {},
   "source": [
    "# 14.2 Finding the Length of the List"
   ]
  },
  {
   "cell_type": "code",
   "execution_count": 49,
   "id": "50fad05c-959c-4c49-9970-984b8323f47f",
   "metadata": {},
   "outputs": [
    {
     "name": "stdout",
     "output_type": "stream",
     "text": [
      "5\n"
     ]
    }
   ],
   "source": [
    "lstofMixedDataTypes = [44.4, 'Bill', 123, 33.2]  \n",
    "\n",
    "print(len(listofMixedDatatypes))                         # Use the len function"
   ]
  },
  {
   "cell_type": "markdown",
   "id": "6f262905-813d-4c3f-8a46-8d34007eae8d",
   "metadata": {},
   "source": [
    "## 14.3 Add an element to the end of the List - Append"
   ]
  },
  {
   "cell_type": "code",
   "execution_count": 19,
   "id": "31033ca1-d127-47f8-8e18-5b71cbf7fd0b",
   "metadata": {},
   "outputs": [
    {
     "name": "stdout",
     "output_type": "stream",
     "text": [
      "[11, 2.5, 40, 54, 'Appended Element']\n"
     ]
    }
   ],
   "source": [
    "listofNumbers = [11,2.5,40,54]                    \n",
    "\n",
    "listofNumbers.append('Appended Element')                # Append function will add the item ath the end\n",
    "\n",
    "print(listofNumbers)\n"
   ]
  },
  {
   "cell_type": "markdown",
   "id": "2385dd4f-7a97-4d93-8534-4826c3124503",
   "metadata": {},
   "source": [
    "# 14.4  Insert an element at a particular position in the List"
   ]
  },
  {
   "cell_type": "code",
   "execution_count": 52,
   "id": "872d007a-6b60-4e08-9d61-8d11e5716725",
   "metadata": {},
   "outputs": [
    {
     "name": "stdout",
     "output_type": "stream",
     "text": [
      "[44.4, 'Bill', 123, 33.2, [11, 2.5, 40, 54], 'Sale', 'Sale', 'Sale']\n"
     ]
    }
   ],
   "source": [
    "lstofMixedDatatypes = [44.4, 'Bill', 123, 33.2]  \n",
    "\n",
    "listofMixedDatatypes.insert(7,'Sale')                     # Will add 'Sale' at location 2\n",
    "\n",
    "print(listofMixedDatatypes)                               # Use the insert() method"
   ]
  },
  {
   "cell_type": "markdown",
   "id": "a9479ce6-f5f2-4679-9e58-9a25c8afb916",
   "metadata": {},
   "source": [
    "# 14.5 Remove an item from the List"
   ]
  },
  {
   "cell_type": "code",
   "execution_count": 55,
   "id": "05907cca-7091-4f8f-9df2-cdd7aae71bb2",
   "metadata": {},
   "outputs": [
    {
     "name": "stdout",
     "output_type": "stream",
     "text": [
      "[44.4, 'Bill', 123, 33.2, [11, 2.5, 40, 54], 'Sale', 'Sale', 'Sale']\n"
     ]
    }
   ],
   "source": [
    "lstofMixedDataTypes = [44.4, 'Bill', 123, 33.2, 123]  \n",
    "\n",
    "lstofMixedDataTypes.remove(123)                          # remove()- removes the first occurence of 123 on the list\n",
    "\n",
    "print(listofMixedDatatypes)                      "
   ]
  },
  {
   "cell_type": "markdown",
   "id": "7c5e2ba3-7f07-4494-baa0-a22e61c79951",
   "metadata": {},
   "source": [
    "# 14.10 Sorting a list"
   ]
  },
  {
   "cell_type": "code",
   "execution_count": 2,
   "id": "193acb02-4e77-475e-9fb1-6178b2fb1c39",
   "metadata": {},
   "outputs": [
    {
     "name": "stdout",
     "output_type": "stream",
     "text": [
      "[4, 7, 12, 12, 29]\n",
      "[29, 12, 4, 7, 12]\n"
     ]
    }
   ],
   "source": [
    "myList = [29, 12, 4, 7, 12]\n",
    "\n",
    "sorted_list = sorted(myList)\n",
    "\n",
    "#lstofMixedDataTypes = [44.4, 'Bill', 123, 33.2]  # sort only compatible types\n",
    "\n",
    "#sorted_lst = sorted(lstofMixedDataTypes)\n",
    "\n",
    "print(sorted_list)\n",
    "\n",
    "print(myList)                                     # Original list is unchanged"
   ]
  },
  {
   "cell_type": "code",
   "execution_count": 105,
   "id": "fb694acb-ca2c-4ee2-8e52-0d5a55b4aedc",
   "metadata": {},
   "outputs": [
    {
     "name": "stdout",
     "output_type": "stream",
     "text": [
      "Reverse sorted list : [29, 12, 12, 7, 4]\n",
      "[29, 12, 4, 7, 12]\n"
     ]
    }
   ],
   "source": [
    "print(\"Reverse sorted list :\", sorted(myList,reverse=True))   # Reverse sort a list\n",
    "\n",
    "print(myList)                                                 # the original list remains  "
   ]
  },
  {
   "cell_type": "code",
   "execution_count": 107,
   "id": "203af857-0b2c-49f8-90dd-15f1d6046ed0",
   "metadata": {},
   "outputs": [
    {
     "name": "stdout",
     "output_type": "stream",
     "text": [
      "[4, 7, 12, 12, 29]\n"
     ]
    }
   ],
   "source": [
    "myList = [29, 12, 4, 7, 12]                  # Reverse and change the original list\n",
    "\n",
    "myList.sort()\n",
    "\n",
    "print(myList)"
   ]
  },
  {
   "cell_type": "markdown",
   "id": "78232fc2-e08e-420d-95cd-abf1a7633e4c",
   "metadata": {},
   "source": [
    "# 14.11 Multiple References to a List"
   ]
  },
  {
   "cell_type": "code",
   "execution_count": 111,
   "id": "39f08b26-b529-4a32-81ac-40a8a015e516",
   "metadata": {},
   "outputs": [
    {
     "name": "stdout",
     "output_type": "stream",
     "text": [
      "original list: [5, 6, 7, 8, 9, 10]\n"
     ]
    }
   ],
   "source": [
    "myList = [5,6,7,8,9]\n",
    "\n",
    "newRef = myList\n",
    "\n",
    "newRef.append(10)\n",
    "\n",
    "print('original list:', myList)"
   ]
  },
  {
   "cell_type": "markdown",
   "id": "afb000eb-7550-444d-8c0e-c2b042ac9ae6",
   "metadata": {},
   "source": [
    "# 14.12 Split a String to create a list"
   ]
  },
  {
   "cell_type": "code",
   "execution_count": 117,
   "id": "dd8a7690-bc94-4622-b091-7c0e8b3bc5ed",
   "metadata": {},
   "outputs": [
    {
     "name": "stdout",
     "output_type": "stream",
     "text": [
      "['mango', 'orange', 'apple']\n"
     ]
    }
   ],
   "source": [
    "myString = \"mango,orange,apple\"\n",
    "\n",
    "splitList = myString.split(',')\n",
    "\n",
    "print(splitList)"
   ]
  },
  {
   "cell_type": "code",
   "execution_count": 120,
   "id": "d1c31497-9e5a-4234-9a2c-eb17bdb36811",
   "metadata": {},
   "outputs": [
    {
     "name": "stdout",
     "output_type": "stream",
     "text": [
      "['Let', 'us', 'split', 'this', 'string']\n"
     ]
    }
   ],
   "source": [
    "myString = \"Let us split this string\"\n",
    "\n",
    "splitList = myString.split()                  # By default split is on - space or tab\n",
    "\n",
    "print(splitList)"
   ]
  },
  {
   "cell_type": "markdown",
   "id": "2984ad7a-abf3-4a15-82fb-4448cef8cef3",
   "metadata": {},
   "source": [
    "# 14.13 Indexing in a List"
   ]
  },
  {
   "cell_type": "code",
   "execution_count": 122,
   "id": "b2e17598-c141-4adb-8276-8575c51ace56",
   "metadata": {},
   "outputs": [
    {
     "name": "stdout",
     "output_type": "stream",
     "text": [
      "10\n",
      "85\n"
     ]
    }
   ],
   "source": [
    "myList = [10, 25, 8, 9, 85]\n",
    "\n",
    "print(myList[0])                            # Access the first element fromstart\n",
    "\n",
    "print(myList[-1])                           # Access the element from the last"
   ]
  },
  {
   "cell_type": "markdown",
   "id": "acb5468b-6580-41ab-9cc9-b03287053bc7",
   "metadata": {},
   "source": [
    "# 14.14 List Slicing"
   ]
  },
  {
   "cell_type": "markdown",
   "id": "69c18fcb-b9eb-41e9-9f62-f952994a6ed8",
   "metadata": {},
   "source": [
    "Accessing parts of segments is called slicing. \n",
    "\n",
    "Slicing is done using colon (**:**) symbol\n",
    "\n",
    "Start index:End Index\n",
    "\n",
    "Value at start index is included but not the value at end index."
   ]
  },
  {
   "cell_type": "code",
   "execution_count": 124,
   "id": "e44a0ed6-ab07-474d-90a7-05fa552ef433",
   "metadata": {},
   "outputs": [
    {
     "name": "stdout",
     "output_type": "stream",
     "text": [
      "[12, 3, 'Fifty', 21, 'Five', 45, 200]\n",
      "[12, 3, 'Fifty']\n"
     ]
    }
   ],
   "source": [
    "listofItems = [12, 3, 'Fifty', 21, 'Five', 45, 200]\n",
    "\n",
    "print(listofItems[:])                      # Empty indicatesfrom start : to end\n",
    " \n",
    "print(listofItems[0:3])                   # Elemenets from index 0 to one index less than index 3"
   ]
  },
  {
   "cell_type": "code",
   "execution_count": 237,
   "id": "4da2ec89-1fa7-435b-9d39-6a73b9b7735e",
   "metadata": {},
   "outputs": [
    {
     "name": "stdout",
     "output_type": "stream",
     "text": [
      "[43, 2, 'Hundred', 13, 'Four', 12, 100]\n",
      "[43, 'Hundred', 'Four', 100]\n",
      "['Hundred', 'Four', 100]\n"
     ]
    }
   ],
   "source": [
    "print (listOfItems)\n",
    "\n",
    "print(listOfItems[::2])                                  # Stride for skipping elements\n",
    "\n",
    "print(listOfItems[2::2])                                 # print elemnts start from 0 through rest of the list\n"
   ]
  },
  {
   "cell_type": "markdown",
   "id": "00621bff-e118-4ce9-87bd-f9a84d4557e3",
   "metadata": {},
   "source": [
    "# 14.15 Extend a List using \"+\""
   ]
  },
  {
   "cell_type": "code",
   "execution_count": 129,
   "id": "9e719f29-04a0-4b5b-bba4-1a076c4b13c6",
   "metadata": {},
   "outputs": [
    {
     "name": "stdout",
     "output_type": "stream",
     "text": [
      "[12, 3, 'Fifty', 21, 'Five', 45, 200, 'Mahesh', 14, 'one', 95]\n"
     ]
    }
   ],
   "source": [
    "listofItems1 = [12, 3, 'Fifty', 21, 'Five', 45, 200]\n",
    "\n",
    "listofItems2 = [ 'Mahesh', 14, 'one', 95]\n",
    "\n",
    "joinedList = listofItems1 + listofItems2\n",
    "\n",
    "print(joinedList)"
   ]
  },
  {
   "cell_type": "markdown",
   "id": "cd54dd2d-7af2-48f3-bf86-21dcad482ca1",
   "metadata": {},
   "source": [
    "# 14.16 Count an item in a List"
   ]
  },
  {
   "cell_type": "code",
   "execution_count": 132,
   "id": "d4e877d5-f1d1-49a8-be9c-1dfc3e83eb63",
   "metadata": {},
   "outputs": [
    {
     "name": "stdout",
     "output_type": "stream",
     "text": [
      "1\n",
      "1\n"
     ]
    }
   ],
   "source": [
    "listofItems3 = [12, 3, 'Fifty', 21, 'Five', 45, 200]\n",
    "\n",
    "print(listofItems3.count(12))              # Count number of 12 in yhe list\n",
    "\n",
    "print(listofItems3.count('Fifty'))         # count number of 'Fifty' in a list"
   ]
  },
  {
   "cell_type": "markdown",
   "id": "84960b65-bf7c-4afc-9ef0-b07156f4ee42",
   "metadata": {},
   "source": [
    "# 14.17 Looping in List "
   ]
  },
  {
   "cell_type": "code",
   "execution_count": 137,
   "id": "8d5ba194-b75f-483c-9303-8fd1ac19ea22",
   "metadata": {},
   "outputs": [
    {
     "name": "stdout",
     "output_type": "stream",
     "text": [
      "12\n",
      "3\n",
      "Fifty\n",
      "21\n",
      "Five\n",
      "45\n",
      "200\n"
     ]
    }
   ],
   "source": [
    "listofItems3 = [12, 3, 'Fifty', 21, 'Five', 45, 200]\n",
    "\n",
    "for element in listofItems3:\n",
    "    print(element)"
   ]
  },
  {
   "cell_type": "markdown",
   "id": "c10360d1-bf67-4dd7-a1a5-7f0e39c92d0c",
   "metadata": {},
   "source": [
    "# 14.18 List Comprehensions"
   ]
  },
  {
   "cell_type": "code",
   "execution_count": 5,
   "id": "730a50b9-20e6-4454-9501-c79279d89eea",
   "metadata": {},
   "outputs": [
    {
     "name": "stdout",
     "output_type": "stream",
     "text": [
      "[0, 1]\n"
     ]
    }
   ],
   "source": [
    "myList = []                                # Normal way to create an empty List\n",
    "\n",
    "for i in range(2):                         # Append the squared element to the list\n",
    "    myList.append(i**4)\n",
    "\n",
    "    print(myList)"
   ]
  },
  {
   "cell_type": "code",
   "execution_count": 11,
   "id": "1c0ed2be-b84e-4eac-85b7-70ab030e1e1d",
   "metadata": {},
   "outputs": [
    {
     "name": "stdout",
     "output_type": "stream",
     "text": [
      "[0, 1, 16, 81, 256, 625]\n"
     ]
    }
   ],
   "source": [
    "# Simlify using list comprehension\n",
    "\n",
    "myList = [i**4 for i in range(6)]\n",
    "\n",
    "print(myList)"
   ]
  },
  {
   "cell_type": "markdown",
   "id": "f460ebf5-4a2b-48c5-bcb9-a9303d619282",
   "metadata": {},
   "source": [
    "# 14.19 Nested List Comprehensions"
   ]
  },
  {
   "cell_type": "code",
   "execution_count": 18,
   "id": "2f2f703e-3017-4ad1-9dd9-a4394219f788",
   "metadata": {},
   "outputs": [
    {
     "name": "stdout",
     "output_type": "stream",
     "text": [
      "[[0, 1, 2], [0, 1, 2], [0, 1, 2], [0, 1, 2]]\n"
     ]
    }
   ],
   "source": [
    "matrix = [[1, 2, 3],\n",
    "          [1, 2, 3],\n",
    "          [1, 2, 3],\n",
    "          [1, 2, 3]]\n",
    "\n",
    "sameList = []                              # Recreate the above matrix in the normal way\n",
    "for i in range(4):\n",
    "    rowList = []\n",
    "    for j in range(3):\n",
    "        rowList.append(j)\n",
    "    sameList.append(rowList)\n",
    "\n",
    "print(sameList)"
   ]
  },
  {
   "cell_type": "code",
   "execution_count": 15,
   "id": "2d98016a-2959-43ac-957d-fea34465c963",
   "metadata": {},
   "outputs": [
    {
     "name": "stdout",
     "output_type": "stream",
     "text": [
      "[[0, 1, 2], [0, 1, 2], [0, 1, 2], [0, 1, 2]]\n"
     ]
    }
   ],
   "source": [
    "myMatrix = []\n",
    "\n",
    "[myMatrix.append([j for j in range(3)]) for i in range(4)]       # Reconstruct the matrix using list comprehension\n",
    "\n",
    "print(myMatrix)"
   ]
  },
  {
   "cell_type": "markdown",
   "id": "8f493ea8-2e89-4583-9460-283668a276c6",
   "metadata": {},
   "source": [
    "# Excercise: Perform the below list operations"
   ]
  },
  {
   "cell_type": "code",
   "execution_count": 17,
   "id": "5a9beff7-e55a-491d-b34e-f8ce2643dfee",
   "metadata": {},
   "outputs": [
    {
     "name": "stdout",
     "output_type": "stream",
     "text": [
      "[4, 16, 36, 64, 100, 121, 169]\n",
      "[(2, 2), (4, 4), (6, 6), (8, 8), (10, 10), (11, 11), (13, 13)]\n",
      "[4, 6, 8, 10]\n",
      "[[0.5, 1.0, 1.5], [2.0, 2.5, 3.0], [3.5, 4.0, 4.5]]\n"
     ]
    }
   ],
   "source": [
    "myList = [2, 4, 6, 8, 10, 11, 13]\n",
    "\n",
    "newList = [i**2 for i in myList]                                    # Square the values of myList and store in a new list\n",
    "print(newList)\n",
    "\n",
    "newList = [(i,i) for i in myList]                                   # Make a combination of x and x values e.g. (x,x)\n",
    "print(newList)\n",
    "\n",
    "newList = [even for even in myList if even%2 == 0 and even != 2]     # Store only the even numbers greater than 2\n",
    "print(newList)\n",
    "\n",
    "newList = []\n",
    "[newList.append([(i+j)/2 for j in range(0,3)]) for i in range(1,10,3)]    # Create a 3*3 matrix that stores half of number from 1 to 9\n",
    "\n",
    "print(newList)"
   ]
  },
  {
   "cell_type": "markdown",
   "id": "b7bd7252-39b6-49cc-afd8-ed89ca6b2260",
   "metadata": {},
   "source": [
    "# 15. Tuples"
   ]
  },
  {
   "cell_type": "markdown",
   "id": "f42a8cc9-6e08-4a54-8a2a-10d8a50a1153",
   "metadata": {},
   "source": [
    "A tuple is very similar to a list\n",
    "\n",
    "But tuples are immutable i.e. we can't change the elements of tuple once it is assigned <br/>\n",
    "whereas in a list, elements can be changed"
   ]
  },
  {
   "cell_type": "markdown",
   "id": "efd46b85-e323-4b4e-bd5e-1233cf5e6c41",
   "metadata": {},
   "source": [
    "# 15.1 Creating a Tuple"
   ]
  },
  {
   "cell_type": "code",
   "execution_count": 1,
   "id": "e1fc0dba-f705-4fee-a40e-15c37389269a",
   "metadata": {
    "collapsed": true,
    "jupyter": {
     "outputs_hidden": true
    },
    "tags": []
   },
   "outputs": [
    {
     "ename": "NameError",
     "evalue": "name 'myNumberTuple' is not defined",
     "output_type": "error",
     "traceback": [
      "\u001b[1;31m---------------------------------------------------------------------------\u001b[0m",
      "\u001b[1;31mNameError\u001b[0m                                 Traceback (most recent call last)",
      "\u001b[1;32m<ipython-input-1-7b8ca5f009d2>\u001b[0m in \u001b[0;36m<module>\u001b[1;34m\u001b[0m\n\u001b[0;32m      2\u001b[0m \u001b[1;33m\u001b[0m\u001b[0m\n\u001b[0;32m      3\u001b[0m \u001b[0mmyNmberTuple\u001b[0m \u001b[1;33m=\u001b[0m \u001b[1;33m(\u001b[0m\u001b[1;36m12.2\u001b[0m\u001b[1;33m,\u001b[0m \u001b[1;36m100\u001b[0m\u001b[1;33m,\u001b[0m \u001b[1;36m12\u001b[0m\u001b[1;33m)\u001b[0m      \u001b[1;31m# Create a tuple having numbers\u001b[0m\u001b[1;33m\u001b[0m\u001b[1;33m\u001b[0m\u001b[0m\n\u001b[1;32m----> 4\u001b[1;33m \u001b[0mprint\u001b[0m\u001b[1;33m(\u001b[0m\u001b[0mmyNumberTuple\u001b[0m\u001b[1;33m)\u001b[0m\u001b[1;33m\u001b[0m\u001b[1;33m\u001b[0m\u001b[0m\n\u001b[0m\u001b[0;32m      5\u001b[0m \u001b[1;33m\u001b[0m\u001b[0m\n\u001b[0;32m      6\u001b[0m \u001b[0mmyMixedTuple\u001b[0m \u001b[1;33m=\u001b[0m \u001b[1;33m(\u001b[0m\u001b[1;34m'x'\u001b[0m\u001b[1;33m,\u001b[0m \u001b[1;34m'y'\u001b[0m\u001b[1;33m,\u001b[0m \u001b[1;36m100\u001b[0m\u001b[1;33m,\u001b[0m \u001b[1;34m'h'\u001b[0m\u001b[1;33m)\u001b[0m  \u001b[1;31m# Create a mixed data types tuple\u001b[0m\u001b[1;33m\u001b[0m\u001b[1;33m\u001b[0m\u001b[0m\n",
      "\u001b[1;31mNameError\u001b[0m: name 'myNumberTuple' is not defined"
     ]
    }
   ],
   "source": [
    "emptyTuple = ()                                         # Create an empty tuple\n",
    "\n",
    "myNmberTuple = (12.2, 100, 12)                          # Create a tuple having numbers\n",
    "print(myNumberTuple)\n",
    "\n",
    "myMixedTuple = ('x', 'y', 100, 'h')                     # Create a mixed data types tuple\n",
    "print(myMixedTuple)\n",
    "\n",
    "myNestedTuple = ('Hello', 100, ('Welcome', 12, 11), [90,'same',26,'array'])     # Create a nested tuple\n",
    "print(myNestedTuple)"
   ]
  },
  {
   "cell_type": "code",
   "execution_count": 25,
   "id": "b2713143-5202-42cd-a570-e14fa15ca264",
   "metadata": {},
   "outputs": [
    {
     "name": "stdout",
     "output_type": "stream",
     "text": [
      "<class 'str'>\n"
     ]
    }
   ],
   "source": [
    "isItTuple = ('Mahesh')                                 # Only parenthesis is not enough\n",
    "\n",
    "print(type(isItTuple))"
   ]
  },
  {
   "cell_type": "code",
   "execution_count": 26,
   "id": "e52f2721-5da1-46ca-9ebd-e97f0b96dd69",
   "metadata": {},
   "outputs": [
    {
     "name": "stdout",
     "output_type": "stream",
     "text": [
      "<class 'tuple'>\n"
     ]
    }
   ],
   "source": [
    "isItTuple = ('Mahesh',)                               # Put a comma at the end to denote Tuple\n",
    "\n",
    "print(type(isItTuple))"
   ]
  },
  {
   "cell_type": "code",
   "execution_count": 28,
   "id": "5c6f3c27-5e12-4cfc-ad8a-c9cbeb1931ae",
   "metadata": {},
   "outputs": [
    {
     "name": "stdout",
     "output_type": "stream",
     "text": [
      "<class 'tuple'>\n",
      "('Mahesh',)\n"
     ]
    }
   ],
   "source": [
    "isItTuple = 'Mahesh',                                # Parenthesis is optional\n",
    "\n",
    "print(type(isItTuple))\n",
    "\n",
    "print(isItTuple)"
   ]
  },
  {
   "cell_type": "markdown",
   "id": "89a67737-3494-458a-a39e-bcf6f3427a9a",
   "metadata": {},
   "source": [
    "# Accessing Elements in Tuple"
   ]
  },
  {
   "cell_type": "code",
   "execution_count": 29,
   "id": "40db9c3c-ff82-4ade-be73-96b293184ecc",
   "metadata": {},
   "outputs": [
    {
     "name": "stdout",
     "output_type": "stream",
     "text": [
      "Mahesh\n"
     ]
    }
   ],
   "source": [
    "myTuple = ('Amol', 'Ganesh', 'Rakesk', 'Mahesh')\n",
    "\n",
    "print(myTuple[3])"
   ]
  },
  {
   "cell_type": "code",
   "execution_count": 30,
   "id": "d089acbb-9abd-400f-a5c5-4bb88155051b",
   "metadata": {},
   "outputs": [
    {
     "name": "stdout",
     "output_type": "stream",
     "text": [
      "Mahesh\n"
     ]
    }
   ],
   "source": [
    "print(myTuple[-1])                                     # Printing the last element in a tuple - Negative index"
   ]
  },
  {
   "cell_type": "code",
   "execution_count": 32,
   "id": "1f04c302-d3ea-4afa-a2ce-e429a52bca95",
   "metadata": {},
   "outputs": [
    {
     "name": "stdout",
     "output_type": "stream",
     "text": [
      "('Ganesh', 'Rakesh', 'Mahesh')\n"
     ]
    }
   ],
   "source": [
    "myTuple = ('Amol', ('Ganesh', 'Rakesh', 'Mahesh'))     # Nested tuple\n",
    "\n",
    "print(myTuple[1])"
   ]
  },
  {
   "cell_type": "code",
   "execution_count": 33,
   "id": "fbb51c9f-852a-4e4f-b342-e4fe3d85078b",
   "metadata": {},
   "outputs": [
    {
     "name": "stdout",
     "output_type": "stream",
     "text": [
      "Mahesh\n"
     ]
    }
   ],
   "source": [
    "print(myTuple[1][2])"
   ]
  },
  {
   "cell_type": "code",
   "execution_count": 34,
   "id": "1aa9ef06-0fb4-40a9-92de-f72bcee09f68",
   "metadata": {},
   "outputs": [
    {
     "name": "stdout",
     "output_type": "stream",
     "text": [
      "(22, 23, 24)\n",
      "(23, 24, 25)\n",
      "(20, 21, 22, 23, 24, 25)\n"
     ]
    }
   ],
   "source": [
    "myTuple = (20, 21, 22, 23, 24, 25)\n",
    "\n",
    "print(myTuple[2:5])                                     # Slicing elements\n",
    "\n",
    "print(myTuple[-3:])                                     # Print elements from starting to 3rd last elements\n",
    "\n",
    "print(myTuple[:])                                       # Print all elements"
   ]
  },
  {
   "cell_type": "markdown",
   "id": "d323b639-c5b1-44e0-bc2c-73e320c10764",
   "metadata": {},
   "source": [
    "# Altering the values in a Tuple"
   ]
  },
  {
   "cell_type": "markdown",
   "id": "d0cfc8ef-a061-4af9-893b-0599a2022d92",
   "metadata": {},
   "source": [
    "Tuples are immutable i.e. once set their values cannot be changed\n",
    "But, if the element is itself a mutable datatype like list, its nested items can be changed."
   ]
  },
  {
   "cell_type": "markdown",
   "id": "87983d18-3250-486d-8766-807a4e0e2cdd",
   "metadata": {},
   "source": [
    "# Deleting from a tuple "
   ]
  },
  {
   "cell_type": "code",
   "execution_count": 37,
   "id": "ab3b9e3a-ac94-4ed0-a7b7-e1d7b366ea53",
   "metadata": {},
   "outputs": [],
   "source": [
    "# Since tuple is immutable hence the entire tuple needs to be deleted using del keyword\n",
    "\n",
    "myTuple = (3, 'Suchit', 45, 11, 'tree', 34)\n",
    "\n",
    "del myTuple                                            # Delete the entire tuple"
   ]
  },
  {
   "cell_type": "markdown",
   "id": "b363f88d-4bea-4595-b86c-61d484cdd096",
   "metadata": {},
   "source": [
    "# Count occurance of an item in Tuple"
   ]
  },
  {
   "cell_type": "code",
   "execution_count": 43,
   "id": "a601c9cf-d15e-4c5a-b1e3-3329c6cd91d5",
   "metadata": {},
   "outputs": [
    {
     "data": {
      "text/plain": [
       "3"
      ]
     },
     "execution_count": 43,
     "metadata": {},
     "output_type": "execute_result"
    }
   ],
   "source": [
    "myTuple = ('Mahesh', 144, 'Mahesh', 42, 'Mahesh', 8, 31, 2)\n",
    "\n",
    "myTuple.count('Mahesh')                                # Frequency of particular element in a tuple"
   ]
  },
  {
   "cell_type": "markdown",
   "id": "cc04b80b-8c0f-4e13-b83b-5c4a80ae718f",
   "metadata": {},
   "source": [
    "# Tuple Index - Get the index position of an item"
   ]
  },
  {
   "cell_type": "code",
   "execution_count": 46,
   "id": "9ff30be8-ef9a-47c8-89a3-4ef534ce5f71",
   "metadata": {},
   "outputs": [
    {
     "name": "stdout",
     "output_type": "stream",
     "text": [
      "6\n",
      "31\n"
     ]
    }
   ],
   "source": [
    "myTuple = ('Mahesh', 144, 'Mahesh', 42, 'Mahesh', 8, 31, 2)\n",
    "\n",
    "print(myTuple.index(31))                              # Returns index of the first element equal to 11\n",
    " \n",
    "print(myTuple[6])                                     # Print element at index 6"
   ]
  },
  {
   "cell_type": "markdown",
   "id": "5dc55c8f-ac6a-416f-a209-56a71164cc76",
   "metadata": {},
   "source": [
    "# Memebership in Tuple"
   ]
  },
  {
   "cell_type": "code",
   "execution_count": 49,
   "id": "2199c590-8334-488f-8f98-d3c2db5f5613",
   "metadata": {},
   "outputs": [
    {
     "name": "stdout",
     "output_type": "stream",
     "text": [
      "True\n"
     ]
    }
   ],
   "source": [
    "myTuple = ('Mahesh', 144, 'Mahesh', 42, 'Mahesh', 8, 31, 2)\n",
    "\n",
    "print(144 in myTuple)                                  # Check if an item exists in a tuple"
   ]
  },
  {
   "cell_type": "code",
   "execution_count": 50,
   "id": "0d17a140-eaa1-4fc4-ab75-ba06ce4ed513",
   "metadata": {},
   "outputs": [
    {
     "name": "stdout",
     "output_type": "stream",
     "text": [
      "False\n"
     ]
    }
   ],
   "source": [
    "print('Sam' in myTuple)"
   ]
  },
  {
   "cell_type": "markdown",
   "id": "86e31980-d3e5-4486-bbe4-be8c4e9eeaf4",
   "metadata": {},
   "source": [
    "Apply common built-in Functions on Tuple"
   ]
  },
  {
   "cell_type": "markdown",
   "id": "68bfa2a9-1e04-4f27-860f-bb8fb4a7157f",
   "metadata": {},
   "source": [
    "# Lenght of a Tuple"
   ]
  },
  {
   "cell_type": "code",
   "execution_count": 52,
   "id": "34ab644e-077a-472f-9a38-d3386413d40f",
   "metadata": {},
   "outputs": [
    {
     "name": "stdout",
     "output_type": "stream",
     "text": [
      "8\n"
     ]
    }
   ],
   "source": [
    "myTuple = ('Mahesh', 144, 'Mahesh', 42, 'Mahesh', 8, 31, 2)\n",
    "\n",
    "print(len(myTuple))"
   ]
  },
  {
   "cell_type": "markdown",
   "id": "56dd523b-c4dd-4c6b-b51b-66bfe76ddc56",
   "metadata": {},
   "source": [
    "# Sorting in Tuple"
   ]
  },
  {
   "cell_type": "code",
   "execution_count": 56,
   "id": "c7371227-4ab5-44df-ab1f-c94101fa96b6",
   "metadata": {},
   "outputs": [
    {
     "name": "stdout",
     "output_type": "stream",
     "text": [
      "(22, 3, 74, 145, 0.2, 13)\n",
      "[0.2, 3, 13, 22, 74, 145]\n"
     ]
    }
   ],
   "source": [
    "#myTuple = ('Mahesh', 144, 'Mahesh', 42, 'Mahesh', 8, 31, 2)\n",
    "\n",
    "myTuple = (22,3,74,145,0.2,13)\n",
    "\n",
    "print(myTuple)\n",
    "\n",
    "sortedTuple = sorted(myTuple)                       # Returns a new sorted list. Does not change original tuple\n",
    "\n",
    "print(sortedTuple)"
   ]
  },
  {
   "cell_type": "code",
   "execution_count": 57,
   "id": "5f04d352-3143-454b-98e9-8bec53a3bb3b",
   "metadata": {},
   "outputs": [
    {
     "name": "stdout",
     "output_type": "stream",
     "text": [
      "145\n",
      "0.2\n"
     ]
    }
   ],
   "source": [
    "myNumberTuple = (22,3,74,145,0.2,13)\n",
    "\n",
    "print(max(myNumberTuple))                           # Largest element in a tuple\n",
    "\n",
    "print(min(myNumberTuple))                           # Smallest element in a tuple"
   ]
  },
  {
   "cell_type": "code",
   "execution_count": 58,
   "id": "dce5ed3f-bd14-4adb-865f-1b2b280257f3",
   "metadata": {},
   "outputs": [
    {
     "name": "stdout",
     "output_type": "stream",
     "text": [
      "257.2\n"
     ]
    }
   ],
   "source": [
    "print(sum(myNumberTuple))                           # Sum of elments in the tuple"
   ]
  },
  {
   "cell_type": "markdown",
   "id": "54945076-06c9-4980-a783-f9928406e849",
   "metadata": {},
   "source": [
    "# 16. Sets"
   ]
  },
  {
   "cell_type": "markdown",
   "id": "855e20a0-1651-4634-927b-f84b8b178a8a",
   "metadata": {},
   "source": [
    "<ul><li>A set is an <b>unordered</b> collection of items. Every element is <b>unique</b> (no duplicates).</li>\n",
    "<li>Set is <b>mutable</b>. We can add or remove items to a Set.</li>\n",
    "<li>Sets can be used to perform mathematical <b>set operations</b> <i>like union, intersection, symmetric difference etc</i>.</li></ul>"
   ]
  },
  {
   "cell_type": "markdown",
   "id": "a8b609d7-a722-4c2a-94ec-889cc364ac04",
   "metadata": {},
   "source": [
    "# Creating a Set\n"
   ]
  },
  {
   "cell_type": "code",
   "execution_count": 59,
   "id": "ed01a546-1ebb-4ba6-ae6a-036633e23766",
   "metadata": {},
   "outputs": [
    {
     "name": "stdout",
     "output_type": "stream",
     "text": [
      "{4, 5, 6}\n",
      "<class 'set'>\n"
     ]
    }
   ],
   "source": [
    "mySet = {4,5,6}                                   # Curly braces and comma seperated values \n",
    "\n",
    "print(mySet)\n",
    " \n",
    "print(type(mySet))                               # type of mySet"
   ]
  },
  {
   "cell_type": "code",
   "execution_count": 61,
   "id": "78291393-e58e-4b86-a715-775b4d627814",
   "metadata": {},
   "outputs": [
    {
     "name": "stdout",
     "output_type": "stream",
     "text": [
      "{4, 5, 6}\n"
     ]
    }
   ],
   "source": [
    "mySet = {4,5,6,4,5}                              # Duplicates not allowed.\n",
    "        \n",
    "print(mySet)"
   ]
  },
  {
   "cell_type": "code",
   "execution_count": 79,
   "id": "491496a7-8406-49ad-aebf-6921e96f82c6",
   "metadata": {},
   "outputs": [
    {
     "name": "stdout",
     "output_type": "stream",
     "text": [
      "{1, 4, 5, 6, 7}\n"
     ]
    }
   ],
   "source": [
    "mySet = set([4, 5, 6 ,7, 1])                    # We can make set from a list using set() method\n",
    "\n",
    "print(mySet)"
   ]
  },
  {
   "cell_type": "code",
   "execution_count": 80,
   "id": "f878a2df-4de9-4d5f-a1bb-88b31ae922c4",
   "metadata": {},
   "outputs": [
    {
     "name": "stdout",
     "output_type": "stream",
     "text": [
      "<class 'set'>\n"
     ]
    }
   ],
   "source": [
    "mySet = set()                                   # Initialize a set  with set() method\n",
    "\n",
    "print(type(mySet))"
   ]
  },
  {
   "cell_type": "markdown",
   "id": "199d644d-023f-402f-8d5d-ba6372792366",
   "metadata": {},
   "source": [
    "### Adding element to Set"
   ]
  },
  {
   "cell_type": "code",
   "execution_count": 68,
   "id": "22333fab-14c6-4917-a9f3-e498eaa00569",
   "metadata": {},
   "outputs": [
    {
     "name": "stdout",
     "output_type": "stream",
     "text": [
      "{25, 5, 'a'}\n",
      "{2, 5, 'r', 'a', 22, 25}\n"
     ]
    }
   ],
   "source": [
    "mySet = {'a', 25}\n",
    "\n",
    "mySet.add(5)                                    # Add single element using add() method\n",
    "\n",
    "print(mySet)\n",
    "\n",
    "mySet.update([2,'r',22])                       # Add multiple elements using update() method\n",
    "\n",
    "print(mySet)\n",
    "\n",
    "                       "
   ]
  },
  {
   "cell_type": "code",
   "execution_count": 72,
   "id": "fa9da50c-ae9a-4bdd-a88a-7405a25adc90",
   "metadata": {},
   "outputs": [
    {
     "name": "stdout",
     "output_type": "stream",
     "text": [
      "{1, 2, 4, 5, 'One', 11, 12, 'r', 'a', 22, 24, 25}\n"
     ]
    }
   ],
   "source": [
    "mySet.update([2,'One'],{24,11,5})             # Adding a list and a set to the original set\n",
    "\n",
    "print(mySet)"
   ]
  },
  {
   "cell_type": "markdown",
   "id": "04b01e98-a7bb-4d20-b680-7c0475558366",
   "metadata": {},
   "source": [
    "### Removing elements from a Set\n",
    "\n",
    "Methods\n",
    "\n",
    "- remove()    &nbsp;                     -Raises KeyError if  elem is not contained in the set.\n",
    "- discard()     &nbsp;                     -Doesn't raises KeyError\n",
    "<br/><br/>\n",
    "- pop()        &nbsp;&nbsp;&nbsp;&nbsp;&nbsp;&nbsp;&nbsp;                     -Removes a random item\n",
    "- clear()      &nbsp;&nbsp;&nbsp;&nbsp;&nbsp;                     -Delete the entire Set"
   ]
  },
  {
   "cell_type": "code",
   "execution_count": 75,
   "id": "7c034031-b1db-4a96-a44e-e70ccadf4123",
   "metadata": {},
   "outputs": [
    {
     "name": "stdout",
     "output_type": "stream",
     "text": [
      "{32, 33, 34, 35, 31}\n",
      "{32, 34, 35, 31}\n",
      "{32, 35, 31}\n"
     ]
    }
   ],
   "source": [
    "mySet = {31, 32, 33, 34, 35}\n",
    "print(mySet)\n",
    "\n",
    "mySet.remove(33)                            # 33 is removed from set mySet\n",
    "print(mySet)\n",
    "\n",
    "\n",
    "mySet.discard(34)                           # 34 is removed from set mySet\n",
    "print(mySet)"
   ]
  },
  {
   "cell_type": "code",
   "execution_count": 76,
   "id": "b46b216a-7432-4b27-9fd0-4cc0040cb093",
   "metadata": {},
   "outputs": [
    {
     "name": "stdout",
     "output_type": "stream",
     "text": [
      "{32, 35, 31}\n"
     ]
    }
   ],
   "source": [
    "mySet.discard(34)                          # KeyError NOT thrown\n",
    "  \n",
    "print(mySet)"
   ]
  },
  {
   "cell_type": "code",
   "execution_count": 78,
   "id": "2cf7c833-631a-4568-af35-e3c1b001e4bd",
   "metadata": {},
   "outputs": [
    {
     "name": "stdout",
     "output_type": "stream",
     "text": [
      "{71, 42, 'Mahesh', 'Mango'}\n"
     ]
    }
   ],
   "source": [
    "mySet = {'Mahesh', 42, 'Mango', 1, 71}\n",
    "\n",
    "mySet.pop()                               # Removes a random element\n",
    " \n",
    "print(mySet)"
   ]
  },
  {
   "cell_type": "code",
   "execution_count": 87,
   "id": "c6d6d142-cf27-4576-be49-04f4e5a5e514",
   "metadata": {},
   "outputs": [
    {
     "name": "stdout",
     "output_type": "stream",
     "text": [
      "set()\n"
     ]
    }
   ],
   "source": [
    "mySet = {'Mahesh', 42, 'Mango', 1, 71}\n",
    "\n",
    "mySet.clear()                            # Empty all items in\n",
    "\n",
    "print(mySet)"
   ]
  },
  {
   "cell_type": "markdown",
   "id": "cccb3400-ca79-44b1-80d0-69e82d9effbb",
   "metadata": {},
   "source": [
    "### Python Set Operations\n",
    "\n",
    "Operations:\n",
    "\n",
    "- union\n",
    "\n",
    "- intersection\n",
    "\n",
    "- symmetric difference\n",
    "\n",
    "- subset\n",
    "\n",
    "\n",
    "<img height=\"240\" width=\"360\" src='https://github.com/suchitmajumdar/LearnPython/blob/master/images/set.png?raw=true'></img>"
   ]
  },
  {
   "cell_type": "code",
   "execution_count": 89,
   "id": "becf6289-1e37-469a-85e1-83797d9aad14",
   "metadata": {},
   "outputs": [
    {
     "name": "stdout",
     "output_type": "stream",
     "text": [
      "{5, 6, 7, 8, 9, 21, 22, 23, 24, 25}\n",
      "{5, 6, 7, 8, 9, 21, 22, 23, 24, 25}\n"
     ]
    }
   ],
   "source": [
    "mySet1 = {5, 6, 7, 8, 9}\n",
    "\n",
    "mySet2 = {21, 22, 23, 24, 25}\n",
    "\n",
    "print(mySet1 | mySet2)                 # union of 2 sets using | operator\n",
    "\n",
    "print(mySet1.union(mySet2))            # Alternately use union() method"
   ]
  },
  {
   "cell_type": "code",
   "execution_count": 91,
   "id": "1af6d721-ab5d-4c6b-9eb4-3fec3b52ff05",
   "metadata": {},
   "outputs": [
    {
     "name": "stdout",
     "output_type": "stream",
     "text": [
      "set()\n",
      "set()\n"
     ]
    }
   ],
   "source": [
    "print(mySet1 & mySet2)                # Intersection of 2 sets using & operator\n",
    "\n",
    "print(mySet1.intersection(mySet2))    # Alternately use intersection() method "
   ]
  },
  {
   "cell_type": "code",
   "execution_count": 94,
   "id": "2c33fcec-a2c1-4c42-8fdb-b6827b6e4284",
   "metadata": {},
   "outputs": [
    {
     "name": "stdout",
     "output_type": "stream",
     "text": [
      "{5, 6, 7, 8, 9}\n",
      "{5, 6, 7, 8, 9}\n"
     ]
    }
   ],
   "source": [
    "print(mySet1 - mySet2)               # set Difference: set of elements that are only in mySet1 but not in mySet2\n",
    "\n",
    "print(mySet1.difference(mySet2))     # use differnce() function method "
   ]
  },
  {
   "cell_type": "code",
   "execution_count": 95,
   "id": "0802c3de-b08e-45d4-b35b-845a2c20a0ea",
   "metadata": {},
   "outputs": [
    {
     "name": "stdout",
     "output_type": "stream",
     "text": [
      "{5, 6, 7, 8, 9, 21, 22, 23, 24, 25}\n",
      "{5, 6, 7, 8, 9, 21, 22, 23, 24, 25}\n"
     ]
    }
   ],
   "source": [
    "# symmetric difference: set of elements in both mySet1 and mySet2\n",
    "# except those that are common in both.\"\"\"\n",
    "\n",
    "print(mySet1^mySet2)                                             # For symmetric difference use ^ operator\n",
    " \n",
    "print(mySet1.symmetric_difference(mySet2))                       # Alternately use symmetric_difference function"
   ]
  },
  {
   "cell_type": "code",
   "execution_count": null,
   "id": "65f1a5d9-bbd7-4fa9-a25a-a5e37d886bf7",
   "metadata": {},
   "outputs": [],
   "source": []
  },
  {
   "cell_type": "code",
   "execution_count": 98,
   "id": "ab6dfd2d-be90-4b0c-9053-0f4381ab3ee3",
   "metadata": {},
   "outputs": [
    {
     "name": "stdout",
     "output_type": "stream",
     "text": [
      "Is set 'a' a subset of set 'b' ?  False\n",
      "Is set 'b' a subset of set 'a' ?  True\n"
     ]
    }
   ],
   "source": [
    "a = {11,12,13,14,15,16}\n",
    "\n",
    "b = {12,14}\n",
    "\n",
    "print(\"Is set 'a' a subset of set 'b' ? \", a.issubset(b))         # Check a is subset of b\n",
    "\n",
    "print(\"Is set 'b' a subset of set 'a' ? \", b.issubset(a))         # Check b is subset of a"
   ]
  },
  {
   "cell_type": "markdown",
   "id": "85907866-bbb0-4523-9ade-f7155e9707ec",
   "metadata": {},
   "source": [
    "### Frozen Sets\n"
   ]
  },
  {
   "cell_type": "markdown",
   "id": "043812b4-c0b8-44f5-b0d4-a028bfabad6c",
   "metadata": {},
   "source": [
    "Like tuples are immutable lists, <b>frozen sets</b> are <b>immutable sets</b>"
   ]
  },
  {
   "cell_type": "markdown",
   "id": "2009f535-0ebc-448e-9e90-5bdf3709bd29",
   "metadata": {},
   "source": [
    "Frozensets can be created using - <b>frozenset()</b>"
   ]
  },
  {
   "cell_type": "code",
   "execution_count": 101,
   "id": "c65cdf92-2936-4712-9c25-97a9cac5af25",
   "metadata": {},
   "outputs": [
    {
     "name": "stdout",
     "output_type": "stream",
     "text": [
      "frozenset({1, 2, 3, 4, 5, 6, 7, 8})\n"
     ]
    }
   ],
   "source": [
    "print(mySet1 | mySet2)                       # union of 2 sets"
   ]
  },
  {
   "cell_type": "code",
   "execution_count": 102,
   "id": "004026de-fb61-41c1-acf2-40466b18b46c",
   "metadata": {},
   "outputs": [
    {
     "name": "stdout",
     "output_type": "stream",
     "text": [
      "frozenset({4, 5})\n",
      "frozenset({4, 5})\n"
     ]
    }
   ],
   "source": [
    "print(mySet1 & mySet2)                       # intersection of two sets\n",
    "\n",
    "print(mySet1.intersection(mySet2))           # Alernative is to use intersection() method "
   ]
  },
  {
   "cell_type": "code",
   "execution_count": 138,
   "id": "b1364741-5d9e-478b-a80d-44b56713430a",
   "metadata": {},
   "outputs": [
    {
     "name": "stdout",
     "output_type": "stream",
     "text": [
      "frozenset({1, 2, 3, 6, 7, 8})\n",
      "frozenset({1, 2, 3, 6, 7, 8})\n"
     ]
    }
   ],
   "source": [
    "print(mySet1 ^ mySet2)                        # symmetric difference\n",
    "\n",
    "print(mySet1.symmetric_difference(mySet2))    # Alternative is symmetric_difference() method"
   ]
  },
  {
   "cell_type": "markdown",
   "id": "15b538d5-f412-40e3-97d5-009edb58306a",
   "metadata": {},
   "source": [
    "# 17. Dictionary"
   ]
  },
  {
   "cell_type": "markdown",
   "id": "01819e3b-e724-4bbe-9a89-1307f190f058",
   "metadata": {},
   "source": [
    "Python dictionary is an unordered collection of items.<br/>\n",
    "While other compound data types have <b>only value</b> as an element, a <u>dictionary</u> has a <b>key: value</b> pair."
   ]
  },
  {
   "cell_type": "markdown",
   "id": "cfe6de68-c997-4963-a361-948a84d54f52",
   "metadata": {},
   "source": [
    "# Create a Dictionary"
   ]
  },
  {
   "cell_type": "code",
   "execution_count": 109,
   "id": "10a361c9-c1f3-4b39-ac8c-54f579399f10",
   "metadata": {
    "scrolled": true
   },
   "outputs": [
    {
     "name": "stdout",
     "output_type": "stream",
     "text": [
      "{200: 'excellent', 50: 'fair'}\n",
      "{'name': 'Mahesh', 50: ['sun', 'Moon']}\n",
      "{5: 'abcd', 8: 'ab'}\n"
     ]
    }
   ],
   "source": [
    "myDict = {}                                                  # Create an empty dictionary\n",
    "\n",
    "myIntegerKeyDict = {200:'excellent',50:'fair'}\n",
    "\n",
    "print(myIntegerKeyDict)\n",
    " \n",
    "myMixedKeysDict = {'name':'Mahesh', 50:['sun','Moon']}       # Create a dictionary with mixed keys\n",
    "\n",
    "print(myMixedKeysDict)\n",
    "\n",
    "\n",
    "myDict = dict()                                              # Create an empty dictionary using dict() method\n",
    "\n",
    "myDict = dict([(5,'abcd'),(8,'ab')])                         # Create a dict with list of tuples\n",
    "\n",
    "print(myDict)"
   ]
  },
  {
   "cell_type": "markdown",
   "id": "ac8f6444-7a86-44c4-9b8f-49d0a0db0aa5",
   "metadata": {},
   "source": [
    "# Dict Access"
   ]
  },
  {
   "cell_type": "code",
   "execution_count": 108,
   "id": "45c82742-4560-4044-85df-559b61aaaccb",
   "metadata": {},
   "outputs": [
    {
     "name": "stdout",
     "output_type": "stream",
     "text": [
      "Mahesh\n"
     ]
    }
   ],
   "source": [
    "myDict = {'name': 'Mahesh', 'marks': 92, 'hobby': 'guitar'}\n",
    "\n",
    "print(myDict['name'])                                       # Pass the key to get the value"
   ]
  },
  {
   "cell_type": "code",
   "execution_count": 112,
   "id": "83749693-3f94-4c1e-931f-6c140b8faa35",
   "metadata": {},
   "outputs": [
    {
     "name": "stdout",
     "output_type": "stream",
     "text": [
      "None\n"
     ]
    }
   ],
   "source": [
    "print(myDict.get('hobby'))                                 # Alternately use get(key) to access the value"
   ]
  },
  {
   "cell_type": "code",
   "execution_count": 115,
   "id": "a9e99a44-4295-416b-b941-b88674b9bb19",
   "metadata": {},
   "outputs": [
    {
     "name": "stdout",
     "output_type": "stream",
     "text": [
      "None\n"
     ]
    }
   ],
   "source": [
    "print(myDict.get('score'))                         # Gives None using get method if key not present"
   ]
  },
  {
   "cell_type": "markdown",
   "id": "c443e974-e879-4f1e-9fea-3b797c017f0a",
   "metadata": {},
   "source": [
    "# Add or Modify  Elements in a Dictionary\n"
   ]
  },
  {
   "cell_type": "code",
   "execution_count": 120,
   "id": "5fe819b9-a7af-40ab-9e3b-49a4964f0607",
   "metadata": {},
   "outputs": [
    {
     "name": "stdout",
     "output_type": "stream",
     "text": [
      "{'name': 'Mahesh', 'marks': 82, 'Cricket': 'guitar'}\n"
     ]
    }
   ],
   "source": [
    "myDict = {'name': 'Mahesh', 'marks': 82, 'Cricket': 'guitar'}\n",
    "\n",
    "myDict['name'] = 'Mahesh'                                      # Update the value in the key 'name' \n",
    " \n",
    "print(myDict)"
   ]
  },
  {
   "cell_type": "code",
   "execution_count": 121,
   "id": "3c33bbcf-964b-4f4e-8504-d772572a192e",
   "metadata": {},
   "outputs": [
    {
     "name": "stdout",
     "output_type": "stream",
     "text": [
      "{'name': 'Mahesh', 'marks': 82, 'Cricket': 'guitar', 'division': 'A'}\n"
     ]
    }
   ],
   "source": [
    "myDict['division'] = 'A'                                       # Add new key-value pair\n",
    "\n",
    "print(myDict)"
   ]
  },
  {
   "cell_type": "markdown",
   "id": "3012686e-0af8-4b59-bd29-9f1f5a3e678a",
   "metadata": {},
   "source": [
    "# Delete or Remove Element in a Dictionary"
   ]
  },
  {
   "cell_type": "code",
   "execution_count": 123,
   "id": "e31adb48-721e-4994-a463-7d16f02797ac",
   "metadata": {},
   "outputs": [
    {
     "name": "stdout",
     "output_type": "stream",
     "text": [
      "82\n",
      "{'name': 'Mahesh', 'cricket': 'guitar'}\n"
     ]
    }
   ],
   "source": [
    "myDict = {'name': 'Mahesh', 'marks': 82, 'cricket': 'guitar'}\n",
    "\n",
    "print(myDict.pop('marks'))                                     # Remove a particular item - pass the key to pop() method\n",
    "\n",
    "print(myDict)"
   ]
  },
  {
   "cell_type": "code",
   "execution_count": 126,
   "id": "89134e9c-c34b-480b-8ea1-4524c6fb7b37",
   "metadata": {},
   "outputs": [
    {
     "name": "stdout",
     "output_type": "stream",
     "text": [
      "{'name': 'Mahesh', 'cricket': 'guitar'}\n"
     ]
    }
   ],
   "source": [
    "keyValDict = {'name': 'Mahesh', 'marks': 82, 'cricket': 'guitar'}\n",
    "\n",
    "del keyValDict['marks']                                       # Delete particular key\n",
    "\n",
    "print(keyValDict)"
   ]
  },
  {
   "cell_type": "code",
   "execution_count": 127,
   "id": "e51bdb6a-2af8-45d1-98c0-0c3ed365531d",
   "metadata": {},
   "outputs": [
    {
     "name": "stdout",
     "output_type": "stream",
     "text": [
      "{}\n"
     ]
    }
   ],
   "source": [
    "keyValDict.clear()                                           # Remove all items\n",
    "\n",
    "print(keyValDict)"
   ]
  },
  {
   "cell_type": "markdown",
   "id": "345fe714-3eef-4b65-a363-43d8db46b0a3",
   "metadata": {},
   "source": [
    "# Dictionary Methods"
   ]
  },
  {
   "cell_type": "code",
   "execution_count": 133,
   "id": "ef3c6028-e3e7-4a81-a935-c723fa91035b",
   "metadata": {},
   "outputs": [
    {
     "name": "stdout",
     "output_type": "stream",
     "text": [
      "{'name': 'Mahesh', 'marks': 82, 'cricket': 'guitar'}\n"
     ]
    }
   ],
   "source": [
    "keyValDict = {'name': 'Mahesh', 'marks': 82, 'cricket': 'guitar'}\n",
    "\n",
    "myDict = keyValDict.copy()                                    # copy()\n",
    "\n",
    "print(myDict)"
   ]
  },
  {
   "cell_type": "code",
   "execution_count": 137,
   "id": "744a18c9-c18b-478d-9e1f-db9d404aeb94",
   "metadata": {},
   "outputs": [
    {
     "name": "stdout",
     "output_type": "stream",
     "text": [
      "{'mango': 5, 'orange': 5, 'apple': 5}\n"
     ]
    }
   ],
   "source": [
    "# fromkeys[seq[, v]] -> Return a new dictionary with keys from seq and value equal to v (defaults to None).\n",
    "\n",
    "fruits = {}.fromkeys(['mango','orange','apple'],5)\n",
    "\n",
    "print(fruits)"
   ]
  },
  {
   "cell_type": "code",
   "execution_count": 138,
   "id": "d92ead59-773f-41a2-98da-8950f20b94fe",
   "metadata": {},
   "outputs": [
    {
     "name": "stdout",
     "output_type": "stream",
     "text": [
      "dict_items([(1, 4), (3, 9), (14, 16), (5, 5)])\n"
     ]
    }
   ],
   "source": [
    "varDict = {1:4, 3:9, 14:16, 5:5}\n",
    "\n",
    "print(varDict.items()) #return a new view of the dictionary items (key, value)"
   ]
  },
  {
   "cell_type": "code",
   "execution_count": 141,
   "id": "1407c284-3d5e-4b85-804e-125c76fe366a",
   "metadata": {},
   "outputs": [
    {
     "name": "stdout",
     "output_type": "stream",
     "text": [
      "dict_keys(['mango', 'orange', 'apple'])\n",
      "dict_values([4, 22, 11])\n"
     ]
    }
   ],
   "source": [
    "fruits = {'mango': 4, 'orange': 22, 'apple': 11}\n",
    "\n",
    "print(fruits.keys())                                       # returns the dictionary keys\n",
    "\n",
    "print(fruits.values())                                     # returns the dictionary values"
   ]
  },
  {
   "cell_type": "code",
   "execution_count": 144,
   "id": "4e5ff3d4-cf95-4246-803b-75a277a1bf89",
   "metadata": {},
   "outputs": [
    {
     "name": "stdout",
     "output_type": "stream",
     "text": [
      "['__class__', '__contains__', '__delattr__', '__delitem__', '__dir__', '__doc__', '__eq__', '__format__', '__ge__', '__getattribute__', '__getitem__', '__gt__', '__hash__', '__init__', '__init_subclass__', '__iter__', '__le__', '__len__', '__lt__', '__ne__', '__new__', '__reduce__', '__reduce_ex__', '__repr__', '__reversed__', '__setattr__', '__setitem__', '__sizeof__', '__str__', '__subclasshook__', 'clear', 'copy', 'fromkeys', 'get', 'items', 'keys', 'pop', 'popitem', 'setdefault', 'update', 'values']\n"
     ]
    }
   ],
   "source": [
    "dict = {}\n",
    "\n",
    "print(dir(dict))                                          # Get list of all available methods and attributes dictionary"
   ]
  },
  {
   "cell_type": "markdown",
   "id": "e5cf11d9-3beb-4c86-b74b-86a56db83250",
   "metadata": {},
   "source": [
    "# Comprehension in Dictionary"
   ]
  },
  {
   "cell_type": "code",
   "execution_count": 146,
   "id": "9b6f3b38-fc68-4559-932d-eb8b60e5815a",
   "metadata": {},
   "outputs": [
    {
     "name": "stdout",
     "output_type": "stream",
     "text": [
      "('mango', 4)\n",
      "('orange', 22)\n",
      "('apple', 11)\n"
     ]
    }
   ],
   "source": [
    "fruits = {'mango': 4, 'orange': 22, 'apple': 11}\n",
    "\n",
    "for fruit in fruits.items():                             # Same as list comprehensions but here its for dictionaries\n",
    "   \n",
    " print(fruit)    "
   ]
  },
  {
   "cell_type": "code",
   "execution_count": 148,
   "id": "933e414f-8e0d-44fb-9b75-148dfa66f070",
   "metadata": {},
   "outputs": [
    {
     "name": "stdout",
     "output_type": "stream",
     "text": [
      "{'mango': 4, 'orange': 22}\n"
     ]
    }
   ],
   "source": [
    "fruits = {'mango': 4, 'orange': 22, 'apple': 11}\n",
    "\n",
    "fruitsDict = {k:v for k, v in fruits.items() if v%2 == 0} # Creating a new dictionary with only pairs where  even\n",
    "\n",
    "print(fruitsDict)"
   ]
  },
  {
   "cell_type": "code",
   "execution_count": 150,
   "id": "37ec3638-fbb0-489f-bd63-dc251e7b04b6",
   "metadata": {},
   "outputs": [
    {
     "name": "stdout",
     "output_type": "stream",
     "text": [
      "{'mango_royal': 48, 'orange_royal': 264}\n",
      "{'mango': 4, 'orange': 22, 'apple': 11}\n"
     ]
    }
   ],
   "source": [
    "fruits = {'mango': 4, 'orange': 22, 'apple': 11} \n",
    "\n",
    "fruitsDict = {k + '_royal':v * 12 for k, v in fruits.items() if v%2 == 0} # We can also perform operations \n",
    "\n",
    "print(fruitsDict)\n",
    "\n",
    "print(fruits)"
   ]
  },
  {
   "cell_type": "code",
   "execution_count": null,
   "id": "cb3dea5f-3568-4a50-8686-a7280144be7c",
   "metadata": {},
   "outputs": [],
   "source": []
  }
 ],
 "metadata": {
  "kernelspec": {
   "display_name": "Python 3",
   "language": "python",
   "name": "python3"
  },
  "language_info": {
   "codemirror_mode": {
    "name": "ipython",
    "version": 3
   },
   "file_extension": ".py",
   "mimetype": "text/x-python",
   "name": "python",
   "nbconvert_exporter": "python",
   "pygments_lexer": "ipython3",
   "version": "3.8.8"
  }
 },
 "nbformat": 4,
 "nbformat_minor": 5
}
