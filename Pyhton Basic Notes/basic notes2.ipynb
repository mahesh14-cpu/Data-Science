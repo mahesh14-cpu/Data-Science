{
 "cells": [
  {
   "cell_type": "markdown",
   "id": "1551fce3-e357-4d67-9e9f-463758870f82",
   "metadata": {},
   "source": [
    "# 6. Variables"
   ]
  },
  {
   "cell_type": "markdown",
   "id": "03d215d0-a2d6-4490-bad8-5626fa23fda9",
   "metadata": {},
   "source": [
    "A variable is an alias given to a location in memory that is used to store some data (value).\n",
    "\n",
    "Each data point stored in the memory is given unique name to differentiate between different memory locations (and thus data points). <br/><b>The rules for writing a variable name is same as the rules for writing identifiers in Python.</b>\n",
    "\n",
    "We don't need to declare a variable before using it. In Python, we simply assign a value to a variable and it will exist. We don't even have to declare the <b>type</b> of the variable. This is handled internally according to the type of value we assign to the variable.\n",
    "<br/>\n",
    "<br/>"
   ]
  },
  {
   "cell_type": "code",
   "execution_count": 3,
   "id": "d8a5edcd-52e0-4cc7-99b7-d2650ec92eba",
   "metadata": {},
   "outputs": [
    {
     "name": "stdout",
     "output_type": "stream",
     "text": [
      "4 11.4 StringValue\n"
     ]
    }
   ],
   "source": [
    "intergerNumber = 4\n",
    "\n",
    "decimalNumber = 11.4\n",
    "\n",
    "stringVariable = \"StringValue\"\n",
    "\n",
    "print(intergerNumber, decimalNumber, stringVariable)"
   ]
  },
  {
   "cell_type": "markdown",
   "id": "55feb372-4b62-4c51-9e5b-8593a3c82a1e",
   "metadata": {},
   "source": [
    "# Multiple assignements\n",
    "Use comma to seperate the variables and their corresponding values"
   ]
  },
  {
   "cell_type": "code",
   "execution_count": 4,
   "id": "bf808678-afd2-46bd-b1c8-b58004b6e960",
   "metadata": {},
   "outputs": [
    {
     "name": "stdout",
     "output_type": "stream",
     "text": [
      "5 11.2 StringValue\n"
     ]
    }
   ],
   "source": [
    "intergerNumber, decimalNumber, stringVariable = 5, 11.2, \"StringValue\"\n",
    "\n",
    "print(intergerNumber, decimalNumber, stringVariable)"
   ]
  },
  {
   "cell_type": "markdown",
   "id": "6e1c8e0e-c247-47ea-ae2a-72022176b43d",
   "metadata": {},
   "source": [
    "# To initialize multiple variables with same value use 1 assignment"
   ]
  },
  {
   "cell_type": "code",
   "execution_count": 7,
   "id": "70c2adcd-eae5-4f09-9fcd-373a257eb4b2",
   "metadata": {},
   "outputs": [
    {
     "name": "stdout",
     "output_type": "stream",
     "text": [
      "All variable assigned same value All variable assigned same value All variable assigned same value\n"
     ]
    }
   ],
   "source": [
    "variable1 = variable2 = variable3 = \"All variable assigned same value\"\n",
    "\n",
    "print(variable1,variable2,variable3)"
   ]
  },
  {
   "cell_type": "markdown",
   "id": "0fd7c740-0e70-4b20-ab49-774bc6ca0d88",
   "metadata": {},
   "source": [
    "### Storage Locations"
   ]
  },
  {
   "cell_type": "code",
   "execution_count": 12,
   "id": "d3c7f5f5-af1a-4a26-a2bf-b61410619d94",
   "metadata": {},
   "outputs": [
    {
     "name": "stdout",
     "output_type": "stream",
     "text": [
      "1949852896\n"
     ]
    }
   ],
   "source": [
    "print(id(intergerNumber))                # print address of variable: 'intergerNumber'"
   ]
  },
  {
   "cell_type": "code",
   "execution_count": 15,
   "id": "0786886d-8d01-476a-b7d5-65c83b0f4de1",
   "metadata": {},
   "outputs": [
    {
     "name": "stdout",
     "output_type": "stream",
     "text": [
      "93873872\n"
     ]
    }
   ],
   "source": [
    "print(id(decimalNumber))                 #print address id variable: 'decaimalNumbar'"
   ]
  },
  {
   "cell_type": "markdown",
   "id": "b17b847f-239a-45ca-807d-df7838cc7a3f",
   "metadata": {},
   "source": [
    "<b>interger1</b> and <b>interger2</b> points to same memory location in the below example"
   ]
  },
  {
   "cell_type": "code",
   "execution_count": 5,
   "id": "365c0556-26a2-40ac-a22d-86d1b270419e",
   "metadata": {},
   "outputs": [
    {
     "name": "stdout",
     "output_type": "stream",
     "text": [
      "1913021744\n",
      "1913021904\n"
     ]
    }
   ],
   "source": [
    "interger1 = 10\n",
    "\n",
    "interger2 = 20\n",
    "\n",
    "print(id(interger1))\n",
    "\n",
    "print(id(interger2))"
   ]
  },
  {
   "cell_type": "markdown",
   "id": "76082337-9c5c-4ef1-a3f5-11de5d7330ba",
   "metadata": {},
   "source": [
    "# 7. Data Types"
   ]
  },
  {
   "cell_type": "markdown",
   "id": "3d00072d-a56a-40f7-b1f7-acce3f92f350",
   "metadata": {},
   "source": [
    "# Python Numbers"
   ]
  },
  {
   "cell_type": "markdown",
   "id": "fa8bb3f2-c1f3-4cc2-9fdc-b3a7d6812d6b",
   "metadata": {},
   "source": [
    "<b>Integers, floating point numbers and complex numbers</b>\n",
    "falls under Python numbers category. They are defined as int, float and complex class in Python.\n",
    "\n",
    "We can use the <b>type()</b> function to know which class a variable or a value belongs to <br/> and the <b>isinstance()</b> function to check if an object belongs to a particular class."
   ]
  },
  {
   "cell_type": "code",
   "execution_count": 6,
   "id": "808f9d24-8e81-48a6-adbf-375764248048",
   "metadata": {},
   "outputs": [
    {
     "name": "stdout",
     "output_type": "stream",
     "text": [
      "11 is of type <class 'int'>\n"
     ]
    }
   ],
   "source": [
    "data1= 11  #interger data type\n",
    "\n",
    "print(data1,\"is of type\",type(data1))"
   ]
  },
  {
   "cell_type": "code",
   "execution_count": 23,
   "id": "fce8f9f3-6871-42fe-86d7-88766b4bde4e",
   "metadata": {},
   "outputs": [
    {
     "name": "stdout",
     "output_type": "stream",
     "text": [
      "11.5 is of type <class 'float'>\n"
     ]
    }
   ],
   "source": [
    "data2 = 11.5  #float data type\n",
    "\n",
    "print(data2,\"is of type\", type(data2))"
   ]
  },
  {
   "cell_type": "code",
   "execution_count": 24,
   "id": "8b5926dd-63a1-4b86-8977-89c8614ccad1",
   "metadata": {},
   "outputs": [
    {
     "name": "stdout",
     "output_type": "stream",
     "text": [
      "(200+10j) is complex number? True\n"
     ]
    }
   ],
   "source": [
    "data3 = 200 + 10j  #Data type is changed to complex number\n",
    "\n",
    "print(data3,\"is complex number?\", isinstance(data3,complex))"
   ]
  },
  {
   "cell_type": "markdown",
   "id": "27f42caa-5bb1-40d7-81ff-9978679e3250",
   "metadata": {},
   "source": [
    "### Boolean"
   ]
  },
  {
   "cell_type": "markdown",
   "id": "6ade654a-d9a0-4d4a-b904-6323551976bc",
   "metadata": {},
   "source": [
    "Boolean represents True or False values"
   ]
  },
  {
   "cell_type": "code",
   "execution_count": 7,
   "id": "b8199b92-c700-4dfc-924f-eb569be82b35",
   "metadata": {},
   "outputs": [
    {
     "name": "stdout",
     "output_type": "stream",
     "text": [
      "<class 'bool'>\n"
     ]
    }
   ],
   "source": [
    "booleanVariable = True                    # 'booleanVariable' is a boolean type & True is a keyword\n",
    "\n",
    "print(type(booleanVariable))\n"
   ]
  },
  {
   "cell_type": "markdown",
   "id": "56b3e8c6-87b8-45f9-a892-acbaf204f0bd",
   "metadata": {},
   "source": [
    "### Python Strings"
   ]
  },
  {
   "cell_type": "code",
   "execution_count": 8,
   "id": "4bc99e91-413f-48a1-a622-b41df174eab1",
   "metadata": {},
   "outputs": [
    {
     "name": "stdout",
     "output_type": "stream",
     "text": [
      "stringVariable is: This is a string variable\n",
      "First character in stringVariable is: T\n"
     ]
    }
   ],
   "source": [
    "stringVariable = \"This is a string variable\"\n",
    "\n",
    "print('stringVariable is:', stringVariable)\n",
    "\n",
    "print('First character in stringVariable is:', stringVariable[0])"
   ]
  },
  {
   "cell_type": "code",
   "execution_count": 32,
   "id": "e4aafcda-0a3c-497f-8edd-e11e63ad72a1",
   "metadata": {},
   "outputs": [
    {
     "name": "stdout",
     "output_type": "stream",
     "text": [
      "This is\n",
      "This is\n",
      "is\n"
     ]
    }
   ],
   "source": [
    "# Slicing of string variable\n",
    "\n",
    "print(stringVariable[0:7])\n",
    "\n",
    "print(stringVariable[:7])\n",
    "\n",
    "print(stringVariable[5:7])"
   ]
  },
  {
   "cell_type": "markdown",
   "id": "0e81acbb-21c2-43b6-830b-66a05c01e3eb",
   "metadata": {},
   "source": [
    "### Python List"
   ]
  },
  {
   "cell_type": "markdown",
   "id": "18730025-acd3-44a1-8656-59f23ecebe48",
   "metadata": {},
   "source": [
    "List is an <u>ordered sequence</u> of items. It is one of the most used datatype in Python and is very flexible. \n",
    "\n",
    "All the items in a list do not need to be of the same type.\n",
    "\n",
    "Declaring a list is pretty straight forward. Items separated by commas are enclosed within square brackets <b>'[ ]'</b>."
   ]
  },
  {
   "cell_type": "code",
   "execution_count": 35,
   "id": "568d30c5-7c17-453c-88cd-cec1d6c01fc7",
   "metadata": {},
   "outputs": [
    {
     "name": "stdout",
     "output_type": "stream",
     "text": [
      "[2, 1.1, 'ThirdElement', 22, 44, 'More values']\n"
     ]
    }
   ],
   "source": [
    "myList = [2,1.1,\"ThirdElement\",22,44,'More values']\n",
    "\n",
    "print(myList)"
   ]
  },
  {
   "cell_type": "code",
   "execution_count": 37,
   "id": "596ee08a-7c2f-4c00-ae0a-13f28055eb56",
   "metadata": {},
   "outputs": [
    {
     "name": "stdout",
     "output_type": "stream",
     "text": [
      "ThirdElement\n"
     ]
    }
   ],
   "source": [
    "print(myList[2])                      #print an element based on its index. index starts from 0"
   ]
  },
  {
   "cell_type": "markdown",
   "id": "0f00d482-e3f2-4861-8c1d-20a3363e3b6e",
   "metadata": {},
   "source": [
    "# Lists are mutable, which means, value of elements of a list can be changed."
   ]
  },
  {
   "cell_type": "code",
   "execution_count": 39,
   "id": "18524a0f-58fd-429e-9ec5-17e1485d1568",
   "metadata": {},
   "outputs": [
    {
     "name": "stdout",
     "output_type": "stream",
     "text": [
      "[2, 1.1, 'ElementThree', 22, 44, 'More values']\n"
     ]
    }
   ],
   "source": [
    "myList[2] = \"ElementThree\"\n",
    "\n",
    "print(myList)"
   ]
  },
  {
   "cell_type": "code",
   "execution_count": 40,
   "id": "b35b7acf-121d-442f-9183-9182767574c9",
   "metadata": {},
   "outputs": [
    {
     "name": "stdout",
     "output_type": "stream",
     "text": [
      "[2, 'ElementThree', 22, 44, 'More values']\n"
     ]
    }
   ],
   "source": [
    "myList.remove(1.1)                    #Remove items from a particular index\n",
    "\n",
    "print(myList)"
   ]
  },
  {
   "cell_type": "code",
   "execution_count": 41,
   "id": "730c674b-08d6-4427-9eb2-dde1ed167ec1",
   "metadata": {},
   "outputs": [
    {
     "name": "stdout",
     "output_type": "stream",
     "text": [
      "[2, 'ElementThree', 44, 'More values']\n"
     ]
    }
   ],
   "source": [
    "myList.pop(2)                         #Remove items from a particular index\n",
    "\n",
    "print(myList)"
   ]
  },
  {
   "cell_type": "code",
   "execution_count": 42,
   "id": "d6af821d-cc53-4a66-b13d-5551089d92b1",
   "metadata": {},
   "outputs": [
    {
     "name": "stdout",
     "output_type": "stream",
     "text": [
      "[2, 'ElementThree', 44, 'More values', 2.2]\n"
     ]
    }
   ],
   "source": [
    "myList.append(2.2)                    #Add items at the last index\n",
    "\n",
    "print(myList)"
   ]
  },
  {
   "cell_type": "markdown",
   "id": "0f36d6f1-87fd-49c6-995a-0a75a650bdbe",
   "metadata": {},
   "source": [
    "### Python Tuple"
   ]
  },
  {
   "cell_type": "markdown",
   "id": "69872f15-ef5f-43f5-8bb4-efeae406e3c7",
   "metadata": {},
   "source": [
    "Tuple is an <u>ordered sequence</u> of items same as list. <br/>\n",
    "The only difference is that tuples are <u>immutable</u>. <b>Tuples once created cannot be modified</b>.\n",
    "\n",
    "Tuples are used to write-protect data and are usually faster than list as it cannot change dynamically.\n",
    "\n",
    "It is defined within parentheses <b>()</b> where items are separated by commas."
   ]
  },
  {
   "cell_type": "code",
   "execution_count": 46,
   "id": "ca5c9864-1c73-4c06-ac84-97b81efaf094",
   "metadata": {},
   "outputs": [],
   "source": [
    "mytuple = (40,50,60,\"text\")\n"
   ]
  },
  {
   "cell_type": "code",
   "execution_count": 48,
   "id": "e898fa67-6c83-44f3-b16b-81a3d4c02bba",
   "metadata": {},
   "outputs": [
    {
     "name": "stdout",
     "output_type": "stream",
     "text": [
      "60\n"
     ]
    }
   ],
   "source": [
    "print(mytuple[2])                      #Read elements by their corresponding index values."
   ]
  },
  {
   "cell_type": "markdown",
   "id": "c9f5f7d8-09c9-49f1-a39a-455b7a40ce28",
   "metadata": {},
   "source": [
    "### Python Set"
   ]
  },
  {
   "cell_type": "markdown",
   "id": "df3c882b-3e15-483e-afbe-5ce492f11a5a",
   "metadata": {},
   "source": [
    "Set is an <u>unordered collection</u> of unique items. <br/>\n",
    "Set is defined by values separated by comma inside curly braces <b>{ }</b>. <br/>"
   ]
  },
  {
   "cell_type": "code",
   "execution_count": 50,
   "id": "bb538610-5703-48c5-be2b-42059fcb57e4",
   "metadata": {},
   "outputs": [
    {
     "name": "stdout",
     "output_type": "stream",
     "text": [
      "{70, 40, 80, 50, 60}\n"
     ]
    }
   ],
   "source": [
    "myset = {40,50,60,70,80}\n",
    "\n",
    "print(myset)"
   ]
  },
  {
   "cell_type": "code",
   "execution_count": 51,
   "id": "82a75462-1efc-4704-8cea-7f9b5fd1ddbb",
   "metadata": {},
   "outputs": [
    {
     "name": "stdout",
     "output_type": "stream",
     "text": [
      "{40, 50, 60}\n"
     ]
    }
   ],
   "source": [
    "myset = {40,50,50,60,60}              #Only unique values considered, duplicates removed automatically\n",
    "\n",
    "print(myset)"
   ]
  },
  {
   "cell_type": "code",
   "execution_count": 52,
   "id": "1490cacf-2894-4113-a53e-ac90038617fa",
   "metadata": {},
   "outputs": [
    {
     "name": "stdout",
     "output_type": "stream",
     "text": [
      "<class 'set'>\n"
     ]
    }
   ],
   "source": [
    "print(type(myset))"
   ]
  },
  {
   "cell_type": "markdown",
   "id": "a9a8f062-813b-4a7d-8321-9b3bc846cd57",
   "metadata": {},
   "source": [
    "### Python Dictionary"
   ]
  },
  {
   "cell_type": "markdown",
   "id": "f00480df-3783-4cd6-ad4c-edb2a0203c1b",
   "metadata": {},
   "source": [
    "<b>Dictionary</b> is an <u>unordered collection</u> of <b>key-value</b> pairs.\n",
    "\n",
    "It is generally used when we have a huge amount of data.<br/> \n",
    "Dictionaries are optimized for retrieving data. <br/>\n",
    "We must know the <b>key</b> to retrieve the <b>value</b>.\n",
    "\n",
    "In Python, dictionaries are defined within curly braces <b>{}</b> <br/>\n",
    "with each item being a pair in the form <b>key:value</b>. <br/>\n",
    "<b>Key and value</b> can be of <u>any type</u>."
   ]
  },
  {
   "cell_type": "code",
   "execution_count": 54,
   "id": "5cd1ddda-0d69-47d2-8033-dcf82f7c2637",
   "metadata": {},
   "outputs": [
    {
     "name": "stdout",
     "output_type": "stream",
     "text": [
      "value2\n"
     ]
    }
   ],
   "source": [
    "myDictionary = {'key1':\"value1\",'key2':\"value2\",'key3':\"value3\",}\n",
    "\n",
    "print(myDictionary['key2'])"
   ]
  },
  {
   "cell_type": "markdown",
   "id": "1289a58e-1557-4314-ac3d-74d650daaf41",
   "metadata": {},
   "source": [
    "# Update  a value in the dictionary"
   ]
  },
  {
   "cell_type": "code",
   "execution_count": 56,
   "id": "513a89db-6a80-4a04-afe3-281e47b092f1",
   "metadata": {},
   "outputs": [
    {
     "name": "stdout",
     "output_type": "stream",
     "text": [
      "{'key1': 'value1', 'key2': 'value2.2', 'key3': 'value3'}\n"
     ]
    }
   ],
   "source": [
    "myDictionary['key2'] = \"value2.2\"\n",
    "\n",
    "print(myDictionary)"
   ]
  },
  {
   "cell_type": "markdown",
   "id": "30da1db7-d0ca-45a1-b1e3-5add7fab6958",
   "metadata": {},
   "source": [
    "# Add  a new key & value"
   ]
  },
  {
   "cell_type": "code",
   "execution_count": 58,
   "id": "4c845ae1-dda1-43da-9696-36aa7c9dbe77",
   "metadata": {},
   "outputs": [
    {
     "name": "stdout",
     "output_type": "stream",
     "text": [
      "{'key1': 'value1', 'key2': 'value2.2', 'key3': 'value3', 'key4': 'value4'}\n"
     ]
    }
   ],
   "source": [
    "myDictionary[\"key4\"] = \"value4\"\n",
    "\n",
    "print(myDictionary)"
   ]
  },
  {
   "cell_type": "markdown",
   "id": "1b2f4aa4-dcc2-4e6d-9a77-933381de12ed",
   "metadata": {},
   "source": [
    "# Delete  Dictionary Elements"
   ]
  },
  {
   "cell_type": "code",
   "execution_count": 60,
   "id": "06273e2d-5f12-417d-a419-28346307168b",
   "metadata": {},
   "outputs": [
    {
     "name": "stdout",
     "output_type": "stream",
     "text": [
      "{'key1': 'value1', 'key3': 'value3', 'key4': 'value4'}\n"
     ]
    }
   ],
   "source": [
    "del myDictionary[\"key2\"]\n",
    "\n",
    "print(myDictionary)"
   ]
  },
  {
   "cell_type": "markdown",
   "id": "e6dc1b03-b52e-4628-b9f3-3fc1278e4417",
   "metadata": {},
   "source": [
    "# 8. Conversion between Datatypes"
   ]
  },
  {
   "cell_type": "markdown",
   "id": "8d172e01-8bbd-4b0c-9333-962a16ff7b21",
   "metadata": {},
   "source": [
    "To convert between different data types use different type conversion functions like <b>int(), float(), str()</b>etc. "
   ]
  },
  {
   "cell_type": "code",
   "execution_count": 64,
   "id": "222b6c57-983d-4631-adab-25b2c24b2f54",
   "metadata": {},
   "outputs": [
    {
     "data": {
      "text/plain": [
       "4"
      ]
     },
     "execution_count": 64,
     "metadata": {},
     "output_type": "execute_result"
    }
   ],
   "source": [
    "int(4.4)"
   ]
  },
  {
   "cell_type": "code",
   "execution_count": 65,
   "id": "a13edc9e-1a14-4a92-8b3c-9e778a72c3e5",
   "metadata": {},
   "outputs": [
    {
     "data": {
      "text/plain": [
       "4.0"
      ]
     },
     "execution_count": 65,
     "metadata": {},
     "output_type": "execute_result"
    }
   ],
   "source": [
    "float(4)"
   ]
  },
  {
   "cell_type": "markdown",
   "id": "f6221d1a-ba1f-4fa4-9278-d693310ca9bb",
   "metadata": {},
   "source": [
    "# Conversion to and from string must contain compatible values."
   ]
  },
  {
   "cell_type": "code",
   "execution_count": 70,
   "id": "4e0d88a7-5691-4afd-8248-d551cd205412",
   "metadata": {},
   "outputs": [
    {
     "data": {
      "text/plain": [
       "'4'"
      ]
     },
     "execution_count": 70,
     "metadata": {},
     "output_type": "execute_result"
    }
   ],
   "source": [
    "str(4)"
   ]
  },
  {
   "cell_type": "code",
   "execution_count": 71,
   "id": "00523eed-3584-4fa3-a246-3313a37e4c82",
   "metadata": {},
   "outputs": [
    {
     "data": {
      "text/plain": [
       "'4.4'"
      ]
     },
     "execution_count": 71,
     "metadata": {},
     "output_type": "execute_result"
    }
   ],
   "source": [
    "str(4.4)"
   ]
  },
  {
   "cell_type": "code",
   "execution_count": 72,
   "id": "d9bd3982-72af-4339-b2e1-b7d6afddba5c",
   "metadata": {},
   "outputs": [
    {
     "data": {
      "text/plain": [
       "4"
      ]
     },
     "execution_count": 72,
     "metadata": {},
     "output_type": "execute_result"
    }
   ],
   "source": [
    "int('4')"
   ]
  },
  {
   "cell_type": "code",
   "execution_count": 75,
   "id": "85478633-6de2-4f19-b21c-f3ea6539fcf2",
   "metadata": {},
   "outputs": [
    {
     "data": {
      "text/plain": [
       "4.4"
      ]
     },
     "execution_count": 75,
     "metadata": {},
     "output_type": "execute_result"
    }
   ],
   "source": [
    "float('4.4')"
   ]
  },
  {
   "cell_type": "code",
   "execution_count": 76,
   "id": "ae34dd67-ac9c-493d-8b30-d389b54b1244",
   "metadata": {},
   "outputs": [
    {
     "data": {
      "text/plain": [
       "4.0"
      ]
     },
     "execution_count": 76,
     "metadata": {},
     "output_type": "execute_result"
    }
   ],
   "source": [
    "float('4')"
   ]
  },
  {
   "cell_type": "code",
   "execution_count": 77,
   "id": "da2aef91-15be-4374-b2a8-efae3ad04a2a",
   "metadata": {},
   "outputs": [
    {
     "name": "stdout",
     "output_type": "stream",
     "text": [
      "text120text2\n"
     ]
    }
   ],
   "source": [
    "mynewString = 'text1' + str(20) + 'text2'\n",
    "\n",
    "print(mynewString)"
   ]
  },
  {
   "cell_type": "markdown",
   "id": "fd7fd0cd-b0fa-4288-bc9b-c92715110ccb",
   "metadata": {},
   "source": [
    "Convert,<br/>\n",
    "1> list to set<br/>\n",
    "2> String to list"
   ]
  },
  {
   "cell_type": "code",
   "execution_count": 9,
   "id": "9d0b63d1-b039-4f22-be62-031a9c160e71",
   "metadata": {},
   "outputs": [
    {
     "name": "stdout",
     "output_type": "stream",
     "text": [
      "['a', 'b', 'c', 'c']\n",
      "<class 'set'>\n",
      "{'b', 'c', 'a'}\n"
     ]
    }
   ],
   "source": [
    "#1> list to set\n",
    "\n",
    "myList1  = ['a','b','c','c']\n",
    "\n",
    "print(myList1)\n",
    "\n",
    "(type(myList1))\n",
    "\n",
    "mySet1 = set(myList1)\n",
    "\n",
    "print(type(mySet1))\n",
    "\n",
    "print(mySet1)"
   ]
  },
  {
   "cell_type": "code",
   "execution_count": 10,
   "id": "c59600fb-ff8b-47ac-85c3-da842b2e9fe9",
   "metadata": {},
   "outputs": [
    {
     "name": "stdout",
     "output_type": "stream",
     "text": [
      "<class 'str'>\n",
      "<class 'list'>\n",
      "['T', 'h', 'i', 's', ' ', 'i', 's', ' ', 's', 't', 'r', 'i', 'n', 'g', ' ', 't', 'o', ' ', 'l', 'i', 's', 't']\n"
     ]
    }
   ],
   "source": [
    "#2> String to list\n",
    "\n",
    "myString1 = 'This is string to list'\n",
    "\n",
    "print(type(myString1))\n",
    "\n",
    "strToList  = list(myString1)\n",
    "\n",
    "print(type(strToList))\n",
    "\n",
    "print(strToList)"
   ]
  },
  {
   "cell_type": "markdown",
   "id": "9ac275f4-8c1f-4648-a1ac-d2b97b9432e3",
   "metadata": {},
   "source": [
    "# 9. Python Output"
   ]
  },
  {
   "cell_type": "markdown",
   "id": "3eafe462-ae67-40b9-bb95-870658eab623",
   "metadata": {},
   "source": [
    "to see the output on the screen(standard output device), use the <b>print()</b> function "
   ]
  },
  {
   "cell_type": "code",
   "execution_count": 82,
   "id": "ec1f987d-9e9f-43cf-acc6-f0559670a8fd",
   "metadata": {},
   "outputs": [
    {
     "name": "stdout",
     "output_type": "stream",
     "text": [
      "The output will be displyed on the screen\n"
     ]
    }
   ],
   "source": [
    "print(\"The output will be displyed on the screen\")"
   ]
  },
  {
   "cell_type": "code",
   "execution_count": 12,
   "id": "1bd552bb-5dae-4ade-85be-3bbda4706cc7",
   "metadata": {},
   "outputs": [
    {
     "name": "stdout",
     "output_type": "stream",
     "text": [
      "The value of myInt is 500\n",
      "The value of myInt is500\n"
     ]
    }
   ],
   "source": [
    "myInt = 500\n",
    "\n",
    "print(\"The value of myInt is\",myInt)\n",
    "\n",
    "print(\"The value of myInt is\" + str(myInt))           #if you wish to print the number in the string form\n"
   ]
  }
 ],
 "metadata": {
  "kernelspec": {
   "display_name": "Python 3",
   "language": "python",
   "name": "python3"
  },
  "language_info": {
   "codemirror_mode": {
    "name": "ipython",
    "version": 3
   },
   "file_extension": ".py",
   "mimetype": "text/x-python",
   "name": "python",
   "nbconvert_exporter": "python",
   "pygments_lexer": "ipython3",
   "version": "3.8.8"
  }
 },
 "nbformat": 4,
 "nbformat_minor": 5
}
