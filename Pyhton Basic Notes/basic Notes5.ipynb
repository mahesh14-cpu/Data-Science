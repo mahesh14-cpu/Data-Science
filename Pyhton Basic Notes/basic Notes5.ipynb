{
 "cells": [
  {
   "cell_type": "markdown",
   "id": "d8916259-bd38-4765-b008-c8f2ea078a8d",
   "metadata": {},
   "source": [
    "# 18. Strings\n"
   ]
  },
  {
   "cell_type": "markdown",
   "id": "05edba5d-1ccb-4c68-b9be-2224fda25e54",
   "metadata": {},
   "source": [
    "A string is a <b>sequence of characters</b>.\n",
    "\n",
    "Computers do not deal with characters, they deal with numbers (binary). Even though you may see characters on your screen, internally it is stored and manipulated as a combination of 0's and 1's.\n",
    "\n",
    "This conversion of character to a number is called encoding, and the reverse process is decoding. <a href='https://docs.python.org/3.3/howto/unicode.html'>ASCII and Unicode</a> are some of the popular encoding used.\n",
    "\n",
    "In Python, string is a sequence of Unicode character."
   ]
  },
  {
   "cell_type": "markdown",
   "id": "7e1a893c-d4af-40f4-a05d-6f7bf4f891ba",
   "metadata": {},
   "source": [
    "# Create a String"
   ]
  },
  {
   "cell_type": "code",
   "execution_count": 20,
   "id": "1e0b964a-e240-40c0-9c4f-69df3107ddc1",
   "metadata": {},
   "outputs": [
    {
     "name": "stdout",
     "output_type": "stream",
     "text": [
      "Single\n",
      "Double\n",
      "Triple\n"
     ]
    }
   ],
   "source": [
    "myString = 'Single' \n",
    "\n",
    "print(myString)\n",
    "\n",
    "myString = \"Double\"\n",
    "\n",
    "print(myString)\n",
    "\n",
    "myString = '''Triple'''\n",
    "\n",
    "print(myString)"
   ]
  },
  {
   "cell_type": "markdown",
   "id": "ccf07d81-e82f-4078-be67-e44c980acc57",
   "metadata": {},
   "source": [
    "# Access characters in a String"
   ]
  },
  {
   "cell_type": "code",
   "execution_count": 9,
   "id": "796524ef-0c3d-42a9-a8ec-6cb32f4b3162",
   "metadata": {
    "tags": []
   },
   "outputs": [
    {
     "name": "stdout",
     "output_type": "stream",
     "text": [
      "D\n",
      "oub\n",
      "l\n"
     ]
    }
   ],
   "source": [
    "myString = \"Double\"\n",
    "\n",
    "print(myString[0])                                 # Print first Character\n",
    "\n",
    "print(myString[1:4])                               # Slicing 2nd to 4th character\n",
    "\n",
    "print(myString[-2])                                # Print last character using negative indexing"
   ]
  },
  {
   "cell_type": "markdown",
   "id": "e4d98bdd-27e4-4492-8255-95141d2f1dcf",
   "metadata": {},
   "source": [
    "If we try to access index out of the range or use decimal number, we will get errors."
   ]
  },
  {
   "cell_type": "markdown",
   "id": "22bb9526-92e2-43a9-b486-17071781ba57",
   "metadata": {},
   "source": [
    "# String Operations"
   ]
  },
  {
   "cell_type": "markdown",
   "id": "9789c591-8116-4ba1-bf3e-5de30b8c7d9a",
   "metadata": {},
   "source": [
    "Joining of two or more strings into a single one is called concatenation.\n",
    "\n",
    "- The <b>+</b> operator does this in Python. Simply writing two string literals together also concatenates them.\n",
    "\n",
    "- The <b>*</b> operator can be used to repeat the string for a given number of times."
   ]
  },
  {
   "cell_type": "code",
   "execution_count": 21,
   "id": "244534c7-c16a-4971-af5b-e44cfc05e065",
   "metadata": {},
   "outputs": [
    {
     "name": "stdout",
     "output_type": "stream",
     "text": [
      "Data Science Python Programming\n",
      "Data Science Python Data Science Python \n"
     ]
    }
   ],
   "source": [
    "myString1 = \"Data Science Python \"\n",
    "\n",
    "myString2 = \"Programming\"\n",
    "\n",
    "print(myString1 + myString2)                       # Concatenation of 2 strings  \n",
    "\n",
    "print(myString1 * 2)                               # Repeat string n times "
   ]
  },
  {
   "cell_type": "code",
   "execution_count": 22,
   "id": "e209ca9d-bc23-4315-8c46-fe0280850f91",
   "metadata": {},
   "outputs": [
    {
     "name": "stdout",
     "output_type": "stream",
     "text": [
      "Character count of P is  1\n",
      "Character count of P is  2\n"
     ]
    }
   ],
   "source": [
    "charCount = 0\n",
    "\n",
    "for character in \"Python Programming\":             # Iterating Through String\n",
    "    if character == 'P':\n",
    "        charCount += 1\n",
    "\n",
    "        print('Character count of P is ', charCount)        "
   ]
  },
  {
   "cell_type": "markdown",
   "id": "9cf5e51f-c836-4b9d-9d9a-091f37aef3fa",
   "metadata": {},
   "source": [
    "# String Membership Test"
   ]
  },
  {
   "cell_type": "code",
   "execution_count": 19,
   "id": "d64132d9-8bfc-42ef-a5b7-e1af0956cf77",
   "metadata": {},
   "outputs": [
    {
     "name": "stdout",
     "output_type": "stream",
     "text": [
      "True\n"
     ]
    }
   ],
   "source": [
    "print('m' in 'Python Programming')                  # in operator to test membership"
   ]
  },
  {
   "cell_type": "code",
   "execution_count": 23,
   "id": "fee136e5-83aa-44aa-bd3a-0b01ef5de00c",
   "metadata": {},
   "outputs": [
    {
     "name": "stdout",
     "output_type": "stream",
     "text": [
      "True\n"
     ]
    }
   ],
   "source": [
    "print('ro' in 'Python Programming') "
   ]
  },
  {
   "cell_type": "markdown",
   "id": "368cee61-b283-4874-96ad-23b5bd1301cb",
   "metadata": {},
   "source": [
    "# String Methods"
   ]
  },
  {
   "cell_type": "markdown",
   "id": "12510465-3ad2-44b0-8717-d166a4897403",
   "metadata": {},
   "source": [
    "Some of the commonly used methods are<br/> \n",
    "<b>lower(), upper(), join(), split(), find(), replace() </b>etc"
   ]
  },
  {
   "cell_type": "code",
   "execution_count": 25,
   "id": "b5f8a349-5196-401e-bf74-0a3e5d679850",
   "metadata": {},
   "outputs": [
    {
     "data": {
      "text/plain": [
       "'python'"
      ]
     },
     "execution_count": 25,
     "metadata": {},
     "output_type": "execute_result"
    }
   ],
   "source": [
    "\"Python\".lower()                                     # lower"
   ]
  },
  {
   "cell_type": "code",
   "execution_count": 26,
   "id": "e8dafb5c-aebb-4eb1-9323-3c5a67517133",
   "metadata": {},
   "outputs": [
    {
     "data": {
      "text/plain": [
       "'PYTHON'"
      ]
     },
     "execution_count": 26,
     "metadata": {},
     "output_type": "execute_result"
    }
   ],
   "source": [
    "\"Python\".upper()                                     # upper"
   ]
  },
  {
   "cell_type": "code",
   "execution_count": 27,
   "id": "d03788e8-887d-46a0-b259-874b7bf678b6",
   "metadata": {},
   "outputs": [
    {
     "data": {
      "text/plain": [
       "['Split', 'this', 'line', 'into', 'a', 'list']"
      ]
     },
     "execution_count": 27,
     "metadata": {},
     "output_type": "execute_result"
    }
   ],
   "source": [
    "\"Split this line into a list\".split()                # split"
   ]
  },
  {
   "cell_type": "code",
   "execution_count": 28,
   "id": "64cbfebb-84c0-4daa-8312-b43a5f98dab1",
   "metadata": {},
   "outputs": [
    {
     "data": {
      "text/plain": [
       "'Split this line into a list'"
      ]
     },
     "execution_count": 28,
     "metadata": {},
     "output_type": "execute_result"
    }
   ],
   "source": [
    "' '.join(['Split', 'this', 'line', 'into', 'a', 'list'])              # join"
   ]
  },
  {
   "cell_type": "code",
   "execution_count": 29,
   "id": "4bb49b70-3688-4518-b182-8ec8c8c9ee86",
   "metadata": {},
   "outputs": [
    {
     "data": {
      "text/plain": [
       "13"
      ]
     },
     "execution_count": 29,
     "metadata": {},
     "output_type": "execute_result"
    }
   ],
   "source": [
    "\"Python Programming\".find('mm')                                       # find"
   ]
  },
  {
   "cell_type": "code",
   "execution_count": 31,
   "id": "1cf67e07-2613-4ec3-b1f7-b9675d270313",
   "metadata": {},
   "outputs": [
    {
     "name": "stdout",
     "output_type": "stream",
     "text": [
      "Data Science Python Programming\n",
      "Data Science Python Program\n"
     ]
    }
   ],
   "source": [
    "myString1 = \"Data Science Python Programming\"\n",
    "\n",
    "myString2 = myString1.replace('Programming','Program')                # Replace a word\n",
    "\n",
    "print(myString1)\n",
    "print(myString2)"
   ]
  },
  {
   "cell_type": "markdown",
   "id": "05c5f9c6-5ab7-473c-8459-c304d97d1006",
   "metadata": {},
   "source": [
    "# Python Program to Check where a String is Palindrome or not ?\n"
   ]
  },
  {
   "cell_type": "code",
   "execution_count": 34,
   "id": "8db2de89-cf5a-4a7e-afc0-1e47821144e6",
   "metadata": {},
   "outputs": [
    {
     "name": "stdout",
     "output_type": "stream",
     "text": [
      "arthsarahaM\n",
      "Given string is NOT a palindrome\n",
      "works sorting reverse is how a This \n"
     ]
    }
   ],
   "source": [
    "#Excercise 1: Reverse a word\n",
    "\n",
    "originalWord = 'Maharashtra'\n",
    "reversedWord = ''\n",
    "for character in originalWord:\n",
    "    reversedWord = character + reversedWord\n",
    "print(reversedWord)\n",
    "\n",
    "#Excercise 2: Check if word is a palindrome?\n",
    "\n",
    "originalWord = originalWord.lower()\n",
    "reversedWord = reversedWord.lower()\n",
    "\n",
    "if originalWord == reversedWord:\n",
    "    print(\"Given string is a palindrome\")\n",
    "else:\n",
    "    print(\"Given string is NOT a palindrome\")\n",
    "    \n",
    "#Excercise 3: Sort sentences in Reverse alphabetic Order?\n",
    "\n",
    "myString = \"This is a how reverse sorting works\" \n",
    "\n",
    "words = myString.split()                                    # Breakdown the string into list of words\n",
    "\n",
    "words.sort(reverse=True)                                    # Reverse sort the list\n",
    "\n",
    "\n",
    "revString = ''                                              # Concate the words into a sentence\n",
    "for word in words:\n",
    "    revString += word + ' '\n",
    "print(revString)"
   ]
  },
  {
   "cell_type": "markdown",
   "id": "d8851d00-70c7-4520-a88a-0b2dc465ee4e",
   "metadata": {},
   "source": [
    "# 19. What are Functions"
   ]
  },
  {
   "cell_type": "markdown",
   "id": "ea11dfbe-b13f-43c3-a5f5-ec82154a75b9",
   "metadata": {},
   "source": [
    "# Syntax:"
   ]
  },
  {
   "cell_type": "code",
   "execution_count": 35,
   "id": "becb03a3-cb19-492b-ba41-5de96cdc2457",
   "metadata": {},
   "outputs": [],
   "source": [
    "def hello_world(world):\n",
    "    \"\"\" \n",
    "    This function prints Hello world\n",
    "    \"\"\"\n",
    "    print(\"Hello \" + str(world)) \n",
    "    "
   ]
  },
  {
   "cell_type": "markdown",
   "id": "6a891008-4909-4a87-bd92-7cfa18d2c720",
   "metadata": {},
   "source": [
    "# Function Call"
   ]
  },
  {
   "cell_type": "markdown",
   "id": "0863f947-2d02-4eb5-a3c3-2acf50127dd2",
   "metadata": {},
   "source": [
    "Once we have defined a function, we can call it from anywhere"
   ]
  },
  {
   "cell_type": "code",
   "execution_count": 39,
   "id": "e4d089d2-6ca4-4288-b53a-7c45997740c8",
   "metadata": {},
   "outputs": [
    {
     "name": "stdout",
     "output_type": "stream",
     "text": [
      "Hello world\n"
     ]
    }
   ],
   "source": [
    "hello_world('world')                                         # Pass world to the function"
   ]
  },
  {
   "cell_type": "markdown",
   "id": "a555a0a9-e17d-40da-81e9-a31fb1d16f78",
   "metadata": {},
   "source": [
    "# Doc String"
   ]
  },
  {
   "cell_type": "markdown",
   "id": "31311987-f051-4ed0-b0f4-a75460984b0e",
   "metadata": {},
   "source": [
    "Docstring or short for documentation string is the first string after the function header that speaks about the function.<br/>\n",
    "Documentation(though optional) is a good programming practice and it is advisable that one always documents code<br/>\n",
    "It is surrounded by triple quotes so that it can extend up to multiple lines<br/>"
   ]
  },
  {
   "cell_type": "code",
   "execution_count": 41,
   "id": "dd61816e-5fc2-40eb-9955-1774e80187e1",
   "metadata": {},
   "outputs": [
    {
     "name": "stdout",
     "output_type": "stream",
     "text": [
      " \n",
      "    This function prints Hello world\n",
      "    \n"
     ]
    }
   ],
   "source": [
    "print(hello_world.__doc__)                                  # print doc string of the function"
   ]
  },
  {
   "cell_type": "markdown",
   "id": "a693b731-e87c-4e70-9867-f2a6d887e5ca",
   "metadata": {},
   "source": [
    "# return Statement"
   ]
  },
  {
   "cell_type": "markdown",
   "id": "cdff90d0-f37d-47f3-b410-6a154966f910",
   "metadata": {},
   "source": [
    "The return statement is used to exit a function and go back to the place from where it was called."
   ]
  },
  {
   "cell_type": "code",
   "execution_count": 42,
   "id": "571d0760-074c-4180-aebf-8adeaf1fe39f",
   "metadata": {},
   "outputs": [],
   "source": [
    "def sum(numbers):\n",
    "    \"\"\"\n",
    "    This function returns the sum of all the numbers in a list\n",
    "    \"\"\"\n",
    "    \n",
    "    sum = 0\n",
    "    \n",
    "    for number in numbers:\n",
    "        sum += number\n",
    "    return sum\n"
   ]
  },
  {
   "cell_type": "code",
   "execution_count": 43,
   "id": "ff263708-d02c-4101-af0c-1ddcdef0ec18",
   "metadata": {},
   "outputs": [
    {
     "name": "stdout",
     "output_type": "stream",
     "text": [
      "18\n"
     ]
    }
   ],
   "source": [
    "sumOfNumbers = sum([5, 6, 7])\n",
    "\n",
    "print(sumOfNumbers)"
   ]
  },
  {
   "cell_type": "code",
   "execution_count": 45,
   "id": "68c4894a-e4cc-423b-bb3f-e70b65794ff9",
   "metadata": {},
   "outputs": [
    {
     "name": "stdout",
     "output_type": "stream",
     "text": [
      "\n",
      "    This function returns the sum of all the numbers in a list\n",
      "    \n"
     ]
    }
   ],
   "source": [
    "print(sum.__doc__)                                          # Print doc string"
   ]
  },
  {
   "cell_type": "markdown",
   "id": "861c9d6f-20bb-4e15-b935-e646741bcf00",
   "metadata": {},
   "source": [
    "# How Function works in Python?"
   ]
  },
  {
   "cell_type": "code",
   "execution_count": 51,
   "id": "01925913-a5d1-46ea-bd95-d60eaeb7ef0b",
   "metadata": {},
   "outputs": [
    {
     "name": "stdout",
     "output_type": "stream",
     "text": [
      "Factorial of 4 is: 16\n"
     ]
    }
   ],
   "source": [
    "def factorial(num):\n",
    "    \"\"\"\n",
    "    Computing HCF of two numbers\n",
    "    \"\"\"\n",
    "    fact = 2\n",
    "\n",
    "    while(num>0):\n",
    "        fact *= num\n",
    "        num -= 2\n",
    "    return fact\n",
    "\n",
    "number = 4\n",
    "\n",
    "print(\"Factorial of {} is: {}\".format(number, factorial(number)))"
   ]
  },
  {
   "cell_type": "markdown",
   "id": "a0efce41-a808-4933-a3c1-7d8db5639a1b",
   "metadata": {},
   "source": [
    "# 20. What are the types of Functions"
   ]
  },
  {
   "cell_type": "markdown",
   "id": "422a3235-ce5d-4abd-bd51-92997cb051cb",
   "metadata": {},
   "source": [
    "# Built-in Functions"
   ]
  },
  {
   "cell_type": "markdown",
   "id": "cae2b5d4-453e-453d-b80c-14014b119ab3",
   "metadata": {},
   "source": [
    "# 1. abs()"
   ]
  },
  {
   "cell_type": "code",
   "execution_count": 52,
   "id": "dd6c0cc6-d793-47ca-81f4-9481d29ac8d1",
   "metadata": {},
   "outputs": [
    {
     "name": "stdout",
     "output_type": "stream",
     "text": [
      "500\n"
     ]
    }
   ],
   "source": [
    "number = -500\n",
    "\n",
    "print(abs(number))                                         # Returns the absolute value of a number"
   ]
  },
  {
   "cell_type": "markdown",
   "id": "7cc61417-210a-4d83-a3ac-0ed2d2598f83",
   "metadata": {},
   "source": [
    "# 2. all()"
   ]
  },
  {
   "cell_type": "code",
   "execution_count": 56,
   "id": "b7da7854-7a36-4e48-81b5-e9c2c0e14228",
   "metadata": {},
   "outputs": [
    {
     "name": "stdout",
     "output_type": "stream",
     "text": [
      "True\n"
     ]
    }
   ],
   "source": [
    "mySet = {40,50,60,70}\n",
    "\n",
    "print(all(mySet)) "
   ]
  },
  {
   "cell_type": "code",
   "execution_count": 57,
   "id": "1e2ec8f2-5c1a-4264-877e-125cd8cf9f91",
   "metadata": {},
   "outputs": [
    {
     "name": "stdout",
     "output_type": "stream",
     "text": [
      "False\n"
     ]
    }
   ],
   "source": [
    "myTuple = (0, 20, 30, 40)                                # 0 is a part of the list and hence false \n",
    "\n",
    "print(all(myTuple))"
   ]
  },
  {
   "cell_type": "code",
   "execution_count": 55,
   "id": "31756f62-fe7c-49f1-92a2-e37ecec822c0",
   "metadata": {},
   "outputs": [
    {
     "name": "stdout",
     "output_type": "stream",
     "text": [
      "True\n"
     ]
    }
   ],
   "source": [
    "emptyList = []                                           # An empty list always returns true for all function\n",
    "\n",
    "print(all(emptyList))"
   ]
  },
  {
   "cell_type": "code",
   "execution_count": 58,
   "id": "ed9f7250-5ff6-4316-b0f5-435058c39dd8",
   "metadata": {},
   "outputs": [
    {
     "name": "stdout",
     "output_type": "stream",
     "text": [
      "False\n"
     ]
    }
   ],
   "source": [
    "myList = [False, 2, 2]                                  # False present in a list so all(lst) is False\n",
    "\n",
    "print(all(myList))"
   ]
  },
  {
   "cell_type": "markdown",
   "id": "b30fb7a4-6c6d-4e74-9b20-9763a0e6fc7d",
   "metadata": {},
   "source": [
    "# 3. dir()"
   ]
  },
  {
   "cell_type": "code",
   "execution_count": 59,
   "id": "776c620e-ec51-4cd5-a439-320dee5e697b",
   "metadata": {},
   "outputs": [
    {
     "name": "stdout",
     "output_type": "stream",
     "text": [
      "['__add__', '__class__', '__contains__', '__delattr__', '__delitem__', '__dir__', '__doc__', '__eq__', '__format__', '__ge__', '__getattribute__', '__getitem__', '__gt__', '__hash__', '__iadd__', '__imul__', '__init__', '__init_subclass__', '__iter__', '__le__', '__len__', '__lt__', '__mul__', '__ne__', '__new__', '__reduce__', '__reduce_ex__', '__repr__', '__reversed__', '__rmul__', '__setattr__', '__setitem__', '__sizeof__', '__str__', '__subclasshook__', 'append', 'clear', 'copy', 'count', 'extend', 'index', 'insert', 'pop', 'remove', 'reverse', 'sort']\n"
     ]
    }
   ],
   "source": [
    "numbers = [4, 5, 6]\n",
    "\n",
    "print(dir(numbers))"
   ]
  },
  {
   "cell_type": "markdown",
   "id": "7535ce37-206e-41aa-9292-a31c1f3dfa02",
   "metadata": {},
   "source": [
    "# 4. divmod()"
   ]
  },
  {
   "cell_type": "code",
   "execution_count": 61,
   "id": "9662ed86-70de-4ae1-acf7-ad2ee26bb847",
   "metadata": {},
   "outputs": [
    {
     "name": "stdout",
     "output_type": "stream",
     "text": [
      "(3, 0)\n"
     ]
    }
   ],
   "source": [
    "print(divmod(9, 3))                                      # Prints the quotient and remainder in the form of a tuple"
   ]
  },
  {
   "cell_type": "markdown",
   "id": "ad25ec57-37f2-48ed-b721-bf5bed394cec",
   "metadata": {},
   "source": [
    "# 5. enumerate()"
   ]
  },
  {
   "cell_type": "code",
   "execution_count": 62,
   "id": "20c13825-7559-4532-8a7c-2bdb0939eb38",
   "metadata": {},
   "outputs": [
    {
     "name": "stdout",
     "output_type": "stream",
     "text": [
      "index 10 has value 5\n",
      "index 11 has value 6\n",
      "index 12 has value 7\n",
      "index 13 has value 8\n"
     ]
    }
   ],
   "source": [
    "numbers = [5, 6, 7, 8]\n",
    "\n",
    "for index, num in enumerate(numbers,10):\n",
    "    print(\"index {0} has value {1}\".format(index, num))\n",
    "    "
   ]
  },
  {
   "cell_type": "markdown",
   "id": "3239b74b-b051-42e3-91cf-71c2c5289161",
   "metadata": {},
   "source": [
    "# 6. filter()"
   ]
  },
  {
   "cell_type": "code",
   "execution_count": 63,
   "id": "5ba4c71b-38f3-4ef7-bc5a-eb5c08af38f5",
   "metadata": {},
   "outputs": [],
   "source": [
    "def even_number(number):\n",
    "    \"\"\"\n",
    "    This function returns if a number is an even numbers\n",
    "    \"\"\"\n",
    "    if number%2 == 0:\n",
    "        return number\n",
    "    "
   ]
  },
  {
   "cell_type": "code",
   "execution_count": 76,
   "id": "1cb8e9f9-d5da-485d-ae42-ed92dca165ec",
   "metadata": {},
   "outputs": [
    {
     "name": "stdout",
     "output_type": "stream",
     "text": [
      "Original list of numbers:  [0, 1, 2, 3, 4, 5, 6, 7, 8, 9, 10, 11, 12, 13, 14, 15, 16, 17, 18, 19]\n",
      "\n",
      "Even numbers are:  [2, 4, 6, 8, 10, 12, 14, 16, 18]\n"
     ]
    }
   ],
   "source": [
    "numbers = range(20)                                # A list with numbers from 0 to 19\n",
    "\n",
    "print('Original list of numbers: ',list(numbers))\n",
    "\n",
    "evenNumbers = list(filter(even_number, numbers))\n",
    "\n",
    "print('\\nEven numbers are: ',evenNumbers)"
   ]
  },
  {
   "cell_type": "markdown",
   "id": "7b9902d5-85c9-4f7c-ad8d-b5320a7df0ff",
   "metadata": {},
   "source": [
    "# 7. isinstance()"
   ]
  },
  {
   "cell_type": "code",
   "execution_count": 77,
   "id": "a6d3da5a-6723-4681-bddd-ab9cba130826",
   "metadata": {},
   "outputs": [
    {
     "name": "stdout",
     "output_type": "stream",
     "text": [
      "True\n",
      "True\n"
     ]
    }
   ],
   "source": [
    "mySet = {'Smart', 'Not smart', 200, 43}\n",
    "\n",
    "print(isinstance(mySet, set))                          # Check for set\n",
    "\n",
    "\n",
    "myDict = {1:1,2:2,3:3,4:4}     \n",
    "\n",
    "print(isinstance(myDict, dict))                        # Check for dictionary"
   ]
  },
  {
   "cell_type": "markdown",
   "id": "59aeda5e-3302-46b6-ab02-52b2e7d23c61",
   "metadata": {},
   "source": [
    "# 8. map()"
   ]
  },
  {
   "cell_type": "code",
   "execution_count": 69,
   "id": "37989d29-ce5c-4bf9-9935-5c5be056ebb1",
   "metadata": {},
   "outputs": [
    {
     "name": "stdout",
     "output_type": "stream",
     "text": [
      "[10.5, 11.0, 11.5, 12.0, 12.5]\n"
     ]
    }
   ],
   "source": [
    "numbers = [21, 22, 23, 24, 25]\n",
    "\n",
    "            \n",
    "half = []                                             # Calculate half of each element in the list.\n",
    "\n",
    "for num in numbers:\n",
    "    half.append(num / 2)\n",
    "\n",
    "print(half)\n"
   ]
  },
  {
   "cell_type": "code",
   "execution_count": 70,
   "id": "b4d679ff-40eb-40c5-b6af-59e2719fae81",
   "metadata": {},
   "outputs": [
    {
     "name": "stdout",
     "output_type": "stream",
     "text": [
      "[10.5, 11.0, 11.5, 12.0, 12.5]\n"
     ]
    }
   ],
   "source": [
    "numbers = [21, 22, 23, 24, 25]\n",
    "\n",
    "def halfOfTheNumber(num):\n",
    "    return num / 2\n",
    "\n",
    "halves = list(map(halfOfTheNumber, numbers))         # Passing the calculation method to the map() function\n",
    "\n",
    "print(halves)\n"
   ]
  },
  {
   "cell_type": "markdown",
   "id": "94126925-13b7-40a7-ab27-8295ac8408ae",
   "metadata": {},
   "source": [
    "# 9. reduce()"
   ]
  },
  {
   "cell_type": "code",
   "execution_count": 78,
   "id": "7a04b5d6-f9bc-4add-a465-19b681c44f96",
   "metadata": {},
   "outputs": [
    {
     "name": "stdout",
     "output_type": "stream",
     "text": [
      "11\n",
      "23\n",
      "36\n",
      "50\n"
     ]
    }
   ],
   "source": [
    "sumOfAnArray = 0                                    # Sum the numbers in a list\n",
    "\n",
    "numbers = [11, 12,13, 14]\n",
    "\n",
    "for num in numbers:                                 # Regular way of programming\n",
    "    sumOfAnArray += num \n",
    "\n",
    "    print(sumOfAnArray)"
   ]
  },
  {
   "cell_type": "code",
   "execution_count": 82,
   "id": "5858dd7d-4294-4218-bae7-b05c260b366c",
   "metadata": {},
   "outputs": [
    {
     "name": "stdout",
     "output_type": "stream",
     "text": [
      "50\n"
     ]
    }
   ],
   "source": [
    "from functools import reduce # in Python 3.\n",
    "\n",
    "def additionOfNumbers(x,y):                         # Program using reduce()\n",
    "    return x+y;\n",
    "\n",
    "sumOfAnArray = reduce(additionOfNumbers, numbers)\n",
    "print(sumOfAnArray)\n"
   ]
  },
  {
   "cell_type": "markdown",
   "id": "777e0bfd-6be4-4d05-aa03-ce292fe75d97",
   "metadata": {},
   "source": [
    "\n",
    "# User-defined Functions"
   ]
  },
  {
   "cell_type": "markdown",
   "id": "df7af80f-18d5-483f-b922-e47e1c85e347",
   "metadata": {},
   "source": [
    "1. <b>Understandability: </b>User-defined functions help to decompose a large program into small segments which makes program easy to understand, maintain and debug.\n",
    "\n",
    "2. <b>Removing redundancy: </b>If repeated code occurs in a program. Function can be used to include those codes and execute when needed by calling that function.\n",
    "\n",
    "3. <b>Task seggregation: </b>Programmars working on large project can divide the workload by making different functions."
   ]
  },
  {
   "cell_type": "code",
   "execution_count": 79,
   "id": "031c8721-18f2-4be2-b59d-f3d5db62439a",
   "metadata": {},
   "outputs": [
    {
     "name": "stdout",
     "output_type": "stream",
     "text": [
      "Sum of 60 and 70 is 130 \n"
     ]
    }
   ],
   "source": [
    "def sumOfNumbers(num1, num2):\n",
    "    \"\"\"\n",
    "    this function returns the product of two numbers\n",
    "    \"\"\"\n",
    "    sumVal = num1 + num2\n",
    "    return sumVal\n",
    "\n",
    "val1 = 60\n",
    "\n",
    "val2 = 70\n",
    "\n",
    "print(\"Sum of {0} and {1} is {2} \".format(val1, val2, sumOfNumbers(val1, val2)))"
   ]
  },
  {
   "cell_type": "markdown",
   "id": "326817b3-0336-4347-bbf1-57dbab5eab31",
   "metadata": {},
   "source": [
    "# 21. Arguments in a function\n"
   ]
  },
  {
   "cell_type": "code",
   "execution_count": 86,
   "id": "fc369e0f-b18c-411d-be95-27bac06b748a",
   "metadata": {},
   "outputs": [
    {
     "name": "stdout",
     "output_type": "stream",
     "text": [
      "Hello Mahesh , welcome to the world of Data Science\n"
     ]
    }
   ],
   "source": [
    "def hello(name, msg):\n",
    "    \"\"\"\n",
    "    This function prints a message for a person\n",
    "    \"\"\"\n",
    "    print(\"Hello {0} , {1}\".format(name, msg))\n",
    "\n",
    "hello(\"Mahesh\", \"welcome to the world of Data Science\")          # Pass the arguments to the function\n"
   ]
  },
  {
   "cell_type": "markdown",
   "id": "0d72f29d-e8ab-4b59-a4bd-bd519e526bba",
   "metadata": {},
   "source": [
    "## Different Forms of Arguments"
   ]
  },
  {
   "cell_type": "markdown",
   "id": "56764df6-6075-48f1-837c-2e6a20a346ff",
   "metadata": {},
   "source": [
    "# 1. Keyword Arguments"
   ]
  },
  {
   "cell_type": "code",
   "execution_count": 89,
   "id": "b0fd1030-2a77-42b1-bbd9-aba321687056",
   "metadata": {},
   "outputs": [
    {
     "name": "stdout",
     "output_type": "stream",
     "text": [
      "Hello Mahesh , welcome to the world of Data Science\n"
     ]
    }
   ],
   "source": [
    "def hello(**kwargs):\n",
    "    \"\"\"\n",
    "    This function greets to person with the provided message\n",
    "    \"\"\"\n",
    "    if kwargs:\n",
    "        print(\"Hello {0} , {1}\".format(kwargs['name'], kwargs['msg']))\n",
    "        \n",
    "hello(name=\"Mahesh\", msg=\"welcome to the world of Data Science\")"
   ]
  },
  {
   "cell_type": "markdown",
   "id": "895fe962-0032-4864-98dd-3b17a0f80fff",
   "metadata": {},
   "source": [
    "# 2. Arbitary Arguments"
   ]
  },
  {
   "cell_type": "code",
   "execution_count": 90,
   "id": "ef8435bd-7896-402d-9489-0571e4ac0dc1",
   "metadata": {},
   "outputs": [
    {
     "name": "stdout",
     "output_type": "stream",
     "text": [
      "('Mahesh', 'Rudra', 'Mahira', 'Maheshwari')\n",
      "Hello Mahesh\n",
      "Hello Rudra\n",
      "Hello Mahira\n",
      "Hello Maheshwari\n"
     ]
    }
   ],
   "source": [
    "def hello(*names):\n",
    "    \"\"\"\n",
    "    This function greets all persons in the names tuple \n",
    "    \"\"\"\n",
    "    print(names)\n",
    "    \n",
    "    for name in names:\n",
    "        print(\"Hello {0}\".format(name))\n",
    "\n",
    "hello(\"Mahesh\", \"Rudra\", \"Mahira\", \"Maheshwari\")"
   ]
  }
 ],
 "metadata": {
  "kernelspec": {
   "display_name": "Python 3",
   "language": "python",
   "name": "python3"
  },
  "language_info": {
   "codemirror_mode": {
    "name": "ipython",
    "version": 3
   },
   "file_extension": ".py",
   "mimetype": "text/x-python",
   "name": "python",
   "nbconvert_exporter": "python",
   "pygments_lexer": "ipython3",
   "version": "3.8.8"
  }
 },
 "nbformat": 4,
 "nbformat_minor": 5
}
