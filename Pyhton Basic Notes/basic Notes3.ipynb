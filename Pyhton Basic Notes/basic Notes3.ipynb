{
 "cells": [
  {
   "cell_type": "markdown",
   "id": "9d469683-89c8-4259-9193-6c85caf2954f",
   "metadata": {},
   "source": [
    "# 10. Output Formatting"
   ]
  },
  {
   "cell_type": "markdown",
   "id": "ef83769f-6921-47bf-8917-04150885cc18",
   "metadata": {},
   "source": [
    "To make the output look attractive<br/> \n",
    "we use the <b> str.format() </b> method.<br/> \n",
    "This method is visible to any string object."
   ]
  },
  {
   "cell_type": "code",
   "execution_count": 2,
   "id": "4bf61750-c5ce-45bd-8523-aed07bd9e4c3",
   "metadata": {},
   "outputs": [
    {
     "name": "stdout",
     "output_type": "stream",
     "text": [
      "myInt:50 is the half of myInt2:70\n"
     ]
    }
   ],
   "source": [
    "myInt1 = 50\n",
    "\n",
    "myInt2 = 70\n",
    "\n",
    "print(\"myInt:{} is the half of myInt2:{}\".format(myInt1, myInt2))   # Consider the python provided default type"
   ]
  },
  {
   "cell_type": "code",
   "execution_count": 3,
   "id": "6130bccc-a081-43a3-ab11-fdbe61ae7c9e",
   "metadata": {},
   "outputs": [
    {
     "name": "stdout",
     "output_type": "stream",
     "text": [
      "myInt2:70 is double of myInt:50\n"
     ]
    }
   ],
   "source": [
    "myInt1 = 50\n",
    "\n",
    "myInt2 = 70\n",
    "\n",
    "print (\"myInt2:{1} is double of myInt:{0}\". format(myInt1, myInt2))   #consider position of arguments"
   ]
  },
  {
   "cell_type": "code",
   "execution_count": 4,
   "id": "a87a760e-1cd3-4671-ad50-029370bb8c03",
   "metadata": {},
   "outputs": [
    {
     "name": "stdout",
     "output_type": "stream",
     "text": [
      "Welcome Mahesh to the world of Data science\n"
     ]
    }
   ],
   "source": [
    "print(\"Welcome {name} to the world of {ds}\".format(name=\"Mahesh\", ds=\"Data science\"))"
   ]
  },
  {
   "cell_type": "code",
   "execution_count": 5,
   "id": "b21dc058-8b6b-495f-95e6-c4332681f050",
   "metadata": {},
   "outputs": [
    {
     "name": "stdout",
     "output_type": "stream",
     "text": [
      "Welcome Mahesh, to the world of Data science.we are learning (Subject = python).\n"
     ]
    }
   ],
   "source": [
    "print('Welcome {0}, to the world of {1}.we are learning (Subject = python).'.format('Mahesh','Data science'))"
   ]
  },
  {
   "cell_type": "code",
   "execution_count": 7,
   "id": "213775d4-d472-4b4f-b00f-02513008f2c7",
   "metadata": {},
   "outputs": [
    {
     "name": "stdout",
     "output_type": "stream",
     "text": [
      "+3.140000; -3.140000\n"
     ]
    }
   ],
   "source": [
    "print('{:+f}; {:+f}'.format(3.14, -3.14))"
   ]
  },
  {
   "cell_type": "markdown",
   "id": "151091e2-5bce-43d2-92fc-6334e389d965",
   "metadata": {},
   "source": [
    "# 11. Python Input"
   ]
  },
  {
   "cell_type": "markdown",
   "id": "12049586-6dab-40ab-a2a6-6bb02fd801aa",
   "metadata": {},
   "source": [
    "User inputs can be taken in Python by using the input() function. "
   ]
  },
  {
   "cell_type": "code",
   "execution_count": 34,
   "id": "30fa93c4-f4b6-4993-b65d-9093e0d306b7",
   "metadata": {},
   "outputs": [
    {
     "name": "stdin",
     "output_type": "stream",
     "text": [
      "Please enter some data: Hello Mahesh\n"
     ]
    },
    {
     "name": "stdout",
     "output_type": "stream",
     "text": [
      "You typed in: Hello Mahesh\n"
     ]
    }
   ],
   "source": [
    "userinput = input(\"Please enter some data:\")\n",
    "\n",
    "print(\"You typed in:\", userinput)"
   ]
  },
  {
   "cell_type": "code",
   "execution_count": 35,
   "id": "9fc2d02d-f2f3-4e55-8976-108da71fa3a4",
   "metadata": {},
   "outputs": [
    {
     "name": "stdin",
     "output_type": "stream",
     "text": [
      "Enter class strength: 20\n"
     ]
    },
    {
     "name": "stdout",
     "output_type": "stream",
     "text": [
      "You typed in: Hello Mahesh\n",
      "userinput type is: <class 'str'>\n"
     ]
    }
   ],
   "source": [
    "userInpit = input(\"Enter class strength:\")\n",
    "\n",
    "print(\"You typed in:\", userinput)\n",
    "\n",
    "print(\"userinput type is:\", type(userinput))"
   ]
  },
  {
   "cell_type": "markdown",
   "id": "cfa7301f-8b7e-4586-89d2-1221e8926426",
   "metadata": {},
   "source": [
    "# 12. Operators"
   ]
  },
  {
   "cell_type": "markdown",
   "id": "6be56abc-1b25-4459-8078-6e60cbeb8aa7",
   "metadata": {},
   "source": [
    "Operators are the constructs which can help manipulate the value of operands.<br/>\n",
    "Consider the expression 4 + 5 = 9. Here, <i><b>4 and 5</b></i> are called <i><b>operands</b></i> and <i><b>+</b></i> is called <i><b>operator</b></i>."
   ]
  },
  {
   "cell_type": "markdown",
   "id": "29530fdf-6cdf-4784-851e-076edfe50c39",
   "metadata": {},
   "source": [
    "# Operator Types"
   ]
  },
  {
   "cell_type": "markdown",
   "id": "5e38af5a-b022-4e4f-9052-48ee9b57f713",
   "metadata": {},
   "source": [
    "The different operators in Python are as below\n",
    "\n",
    "1. Arithmetic operators\n",
    "    \n",
    "2. Comparison (Relational) operators\n",
    "\n",
    "3. Logical (Boolean) operators\n",
    "\n",
    "4. Bitwise operators\n",
    "\n",
    "5. Assignment operators\n",
    "\n",
    "6. Special operators\n",
    "\n",
    "Let us discuss them one by one"
   ]
  },
  {
   "cell_type": "markdown",
   "id": "077048cd-b8fd-484f-943f-bccc6de99b6a",
   "metadata": {},
   "source": [
    "# 12.1 Arithmetic Operators"
   ]
  },
  {
   "cell_type": "code",
   "execution_count": 5,
   "id": "7bdefbd6-ecbc-460a-8fc4-9c9aa7bc0989",
   "metadata": {},
   "outputs": [
    {
     "name": "stdout",
     "output_type": "stream",
     "text": [
      "12\n",
      "4\n",
      "32\n",
      "2.0\n",
      "0\n",
      "2\n",
      "4096\n"
     ]
    }
   ],
   "source": [
    "variable1, variable2 = 8, 4\n",
    "\n",
    "print(variable1 + variable2)  # Addition(+)\n",
    "\n",
    "print(variable1 - variable2)  # Subtraction(-)\n",
    "\n",
    "print(variable1 * variable2)  # Multiplication(*)\n",
    "\n",
    "print(variable1 / variable2)  # Division(/)\n",
    "\n",
    "print(variable1 % variable2)  # Modulo division (%)\n",
    "\n",
    "print(variable1 // variable2) # Floor Division (//)\n",
    "\n",
    "print(variable1 ** variable2) # Exponent (**)"
   ]
  },
  {
   "cell_type": "markdown",
   "id": "c91f6b51-ef59-4752-a8fb-5b03ecab9511",
   "metadata": {},
   "source": [
    "# 12.2 Comparision Operators"
   ]
  },
  {
   "cell_type": "markdown",
   "id": "0dab6436-929e-42a4-a4a4-248ba0be4810",
   "metadata": {},
   "source": [
    "Comparison operators are used to compare values. It either returns True or False according to the condition."
   ]
  },
  {
   "cell_type": "code",
   "execution_count": 7,
   "id": "471c2f3a-c3f7-4564-8d7f-aabbaaec6f18",
   "metadata": {},
   "outputs": [
    {
     "name": "stdout",
     "output_type": "stream",
     "text": [
      "False\n",
      "True\n",
      "False\n",
      "True\n",
      "True\n",
      "False\n"
     ]
    }
   ],
   "source": [
    "variable1, variable2 = 8, 4        \n",
    "\n",
    "print(variable1 < variable2)   # Check if variable1 is less than variable2\n",
    "\n",
    "print(variable1 > variable2)   # Check if variable1 is greater than variable2\n",
    "\n",
    "print(variable1 == variable2)  # Check if variable1 is equal to variable2\n",
    "\n",
    "print(variable1 != variable2)  # Check if variable1 is not equal to variable2 (!=)\n",
    "\n",
    "print(variable1 >= variable2)  # Check if variable1 greater than or equal to variable2\n",
    "\n",
    "print(variable1 <= variable2)  # Check if variable1 less than or equal to variable2\n"
   ]
  },
  {
   "cell_type": "markdown",
   "id": "5fd23d1f-9302-4d63-8961-3dfae34eb445",
   "metadata": {},
   "source": [
    "# 12.3 Logical Operators"
   ]
  },
  {
   "cell_type": "markdown",
   "id": "c8a43dc3-cc95-483e-b897-020594d19244",
   "metadata": {},
   "source": [
    "Logical operators are  **and, or, not** operators."
   ]
  },
  {
   "cell_type": "code",
   "execution_count": 8,
   "id": "1f4cd39f-45ba-4109-8c85-0d4e57f00373",
   "metadata": {},
   "outputs": [
    {
     "name": "stdout",
     "output_type": "stream",
     "text": [
      "False\n",
      "True\n",
      "True\n"
     ]
    }
   ],
   "source": [
    "variable1, variable2 = True, False\n",
    "\n",
    "print(variable1 and variable2)  # Print variable1 and variable2 \n",
    "\n",
    "# 0 0 0\n",
    "# 0 1 0\n",
    "# 1 0 0\n",
    "# 1 1 1\n",
    "\n",
    "print(variable1 or variable2)  # Print variable1 or variable2\n",
    "\n",
    "# 0 0 0\n",
    "# 0 1 1\n",
    "# 1 0 1\n",
    "# 1 1 1\n",
    "\n",
    "print(not variable2)           # Print not variable2\n"
   ]
  },
  {
   "cell_type": "markdown",
   "id": "86899760-7c81-4b6b-9a41-f745455911e8",
   "metadata": {},
   "source": [
    "# 12.4 Bitwise operators"
   ]
  },
  {
   "cell_type": "markdown",
   "id": "35e1bfe1-d7b0-4189-ad06-6212d6dbdbc1",
   "metadata": {},
   "source": [
    "Bitwise operators act on operands as if they were string of binary digits. It operates bit by bit"
   ]
  },
  {
   "cell_type": "markdown",
   "id": "db7021f7-cce6-453a-bb25-1709d2bcba8b",
   "metadata": {},
   "source": [
    "    &,  |,  ~,  ^,  >>,  << are Bitwise operators"
   ]
  },
  {
   "cell_type": "code",
   "execution_count": 11,
   "id": "7f7e273e-71a4-4b91-9fc0-0428da3ac98c",
   "metadata": {},
   "outputs": [
    {
     "name": "stdout",
     "output_type": "stream",
     "text": [
      "0\n",
      "13\n",
      "-10\n",
      "13\n",
      "1\n",
      "16\n"
     ]
    }
   ],
   "source": [
    "variable1, variable2 = 4, 9           # Decimal to bitwise values -> 3 - 0000 0011 & 7 - 0000 0111\n",
    "\n",
    "print(variable1 & variable2)           # Bitwise AND ->       0000 0011 & 0000 0111 -> 0000 0011 -> 3\n",
    "\n",
    "\n",
    "print(variable1 | variable2)           # Bitwise OR ->        0000 0011 | 0000 0111 -> 0000 0111 -> 7\n",
    "\n",
    "\n",
    "print(~variable2)                      # Bitwise NOT ->     ~ 0000 0111 -> 1111 1000 -> -8\n",
    "\n",
    "\n",
    "print(variable1 ^ variable2)           # Bitwise XOR ->       0000 0011 ^ 0000 0111 -> 0000 0100 -> 4\n",
    "\n",
    "\n",
    "print(variable1>>2)                    # Bitwise rightshift   0000 0011>>2 -> 0000 0000 -> 0\n",
    "\n",
    "\n",
    "print(variable1<<2)                    # Bitwise Leftshift    0000 0011<<2 -> 0000 1100 -> 12"
   ]
  },
  {
   "cell_type": "markdown",
   "id": "5146e3d8-e050-4d75-8aff-faf3f136a19d",
   "metadata": {},
   "source": [
    "# 12.5 Assignment operators"
   ]
  },
  {
   "cell_type": "markdown",
   "id": "b3d38255-40d2-45ed-b7df-09da5036221e",
   "metadata": {},
   "source": [
    "<u>Assignment operators</u> are used in Python to <i><b>assign values to variables</b></i>.\n",
    "\n",
    "age = 50 is a simple assignment operator that assigns the value 50 on the right to the variable (age) a on the left."
   ]
  },
  {
   "cell_type": "code",
   "execution_count": 14,
   "id": "542a5394-89e0-4399-9982-c97c49abacc6",
   "metadata": {},
   "outputs": [
    {
     "name": "stdout",
     "output_type": "stream",
     "text": [
      "34\n",
      "27\n",
      "108\n",
      "27.0\n",
      "27.0\n",
      "13.0\n",
      "169.0\n"
     ]
    }
   ],
   "source": [
    "age = 30\n",
    "\n",
    "age += 4        # Add AND  <- age = age + 4\n",
    "print(age)\n",
    "\n",
    "age -= 7        # Subtract AND (-=)\n",
    "print(age)\n",
    "\n",
    "age *= 4        # Multiply AND (*=)\n",
    "print(age)\n",
    "\n",
    "age /= 4        # Divide AND (/=)\n",
    "print(age)\n",
    "\n",
    "age %= 40       # Modulus AND (%=)\n",
    "print(age)\n",
    "\n",
    "age //= 2      # Floor Division (//=)\n",
    "print(age)\n",
    "\n",
    "age **= 2       # Exponent AND (**=)\n",
    "print(age)"
   ]
  },
  {
   "cell_type": "markdown",
   "id": "66dcdbb6-41e1-41ab-a0f6-52fac3dabff7",
   "metadata": {},
   "source": [
    "# 12.6 Special Operators"
   ]
  },
  {
   "cell_type": "markdown",
   "id": "34216136-fa61-4941-8e1a-09ef3276a179",
   "metadata": {},
   "source": [
    "# 12.6.1 Identity Operators"
   ]
  },
  {
   "cell_type": "markdown",
   "id": "d849447d-baa5-4e11-9947-e5775d18c098",
   "metadata": {},
   "source": [
    "**is and is not** are the <u>identity operators</u> in Python. \n",
    "\n",
    "They are used to verify if two values (or variables) are located in the same part of the memory."
   ]
  },
  {
   "cell_type": "code",
   "execution_count": 16,
   "id": "2ea713da-a418-4157-9f3d-a84dc6111091",
   "metadata": {},
   "outputs": [
    {
     "name": "stdout",
     "output_type": "stream",
     "text": [
      "True\n",
      "False\n"
     ]
    }
   ],
   "source": [
    "variable1 = 20\n",
    "\n",
    "variable2 = 20\n",
    "\n",
    "print(variable1 is variable2)            # 20 is created once & both variable1 and variable2 points to same object\n",
    "\n",
    "#check is not\n",
    "\n",
    "print(variable1 is not variable2)"
   ]
  },
  {
   "cell_type": "code",
   "execution_count": 20,
   "id": "7097455f-6fda-445d-b8eb-0b4da620134e",
   "metadata": {},
   "outputs": [
    {
     "name": "stdout",
     "output_type": "stream",
     "text": [
      "False\n"
     ]
    }
   ],
   "source": [
    "myString1 = \"Mahesh\"\n",
    "\n",
    "myString2 = \"Mahesh\"\n",
    "\n",
    "print(myString1 is not myString2)"
   ]
  },
  {
   "cell_type": "markdown",
   "id": "6a49c16e-c456-4e30-9f08-88c8ef497996",
   "metadata": {},
   "source": [
    "# 12.6.2 MemberShip Operators"
   ]
  },
  {
   "cell_type": "markdown",
   "id": "82b93ca7-1656-4be7-8c12-2da217554e9f",
   "metadata": {},
   "source": [
    "**in and not in** are the membership operators in Python. \n",
    "    \n",
    "They are used to test whether a value or variable is found in a sequence (string, list, tuple, set and   dictionary)."
   ]
  },
  {
   "cell_type": "code",
   "execution_count": 21,
   "id": "947ad966-1755-40d6-99ed-8666b41fc513",
   "metadata": {},
   "outputs": [
    {
     "name": "stdout",
     "output_type": "stream",
     "text": [
      "False\n",
      "True\n"
     ]
    }
   ],
   "source": [
    "myList3 = ['a', 42, 'b', 200]\n",
    "\n",
    "print(22 in myList3)                     # Check if 22 is present in the given list or not\n",
    "\n",
    "print('b' in myList3)                    # Check if 'b' is present in the given list"
   ]
  },
  {
   "cell_type": "code",
   "execution_count": 92,
   "id": "b54610a3-43e2-4405-864f-f4e24a7fcbc9",
   "metadata": {},
   "outputs": [
    {
     "name": "stdout",
     "output_type": "stream",
     "text": [
      "True\n"
     ]
    }
   ],
   "source": [
    "myDictionary = {125 : 'Apple', 200 : 'Banana'}\n",
    "\n",
    "print(125 in myDictionary)"
   ]
  },
  {
   "cell_type": "markdown",
   "id": "27a9176e-5181-426b-9deb-382488e7697f",
   "metadata": {},
   "source": [
    "# 13. Control Flow"
   ]
  },
  {
   "cell_type": "markdown",
   "id": "c5f9e1e3-c97e-4fcb-a5cf-f5e739ec0974",
   "metadata": {},
   "source": [
    "## 13.1 Python if - else Statement\n",
    "\n",
    "If - else statements are used for **decision making**, let us see a simple examle,\n",
    "\n",
    "if 'It rains':<br/>\n",
    "&nbsp;&nbsp;&nbsp;&nbsp;'Dont play golf'<br/>\n",
    "else: <br/>\n",
    "&nbsp;&nbsp;&nbsp;&nbsp;if 'It is too hot':<br/>\n",
    "&nbsp;&nbsp;&nbsp;&nbsp;&nbsp;&nbsp;&nbsp;&nbsp;'Dont play golf'<br/>\n",
    "&nbsp;&nbsp;&nbsp;&nbsp;else:<br/>\n",
    "&nbsp;&nbsp;&nbsp;&nbsp;&nbsp;&nbsp;&nbsp;&nbsp;'Play golf'<br/>\n",
    "\n",
    "---\n",
    "**else if** can be combined to form **elif**\n",
    "\n",
    "if 'It rains':<br/>\n",
    "&nbsp;&nbsp;&nbsp;&nbsp;'Dont play golf'<br/>\n",
    "elif 'It is too hot':<br/>\n",
    "&nbsp;&nbsp;&nbsp;&nbsp;'Dont play golf'<br/>\n",
    "else:<br/>\n",
    "&nbsp;&nbsp;&nbsp;&nbsp;'Play golf'<br/>\n",
    "\n",
    "---"
   ]
  },
  {
   "cell_type": "markdown",
   "id": "2c42d7f0-754d-425d-a79c-701608c84227",
   "metadata": {},
   "source": [
    "### 13.1.1 Let us see the Python Syntax for if statement<br/><br/>\n",
    "\n",
    "    if test expression:\n",
    "        statement(s)\n",
    "\n",
    "The program evaluates the test expression and will execute statement(s) only if the text expression is True.\n",
    "\n",
    "If the text expression is False, the statement(s) is not executed.\n",
    "\n",
    "Python interprets non-zero values as True. None and 0 are interpreted as False.\n",
    "\n",
    "---"
   ]
  },
  {
   "cell_type": "code",
   "execution_count": 33,
   "id": "c7b5b0c7-c517-48a2-91a5-1229ae73166c",
   "metadata": {},
   "outputs": [
    {
     "name": "stdout",
     "output_type": "stream",
     "text": [
      "Number is less than 15\n",
      "Outside if block\n"
     ]
    }
   ],
   "source": [
    "number = 10\n",
    "\n",
    "if number<15:\n",
    "   \n",
    " print('Number is less than 15')\n",
    "\n",
    "print('Outside if block')"
   ]
  },
  {
   "cell_type": "code",
   "execution_count": 34,
   "id": "c9edf3a3-a1ea-4a01-b7eb-fc27dada152b",
   "metadata": {},
   "outputs": [
    {
     "name": "stdout",
     "output_type": "stream",
     "text": [
      "Inside if\n",
      "Outside if\n",
      "True\n"
     ]
    }
   ],
   "source": [
    "# try 0, -1 and None\n",
    "if -1:\n",
    "    print(\"Inside if\")\n",
    "print(\"Outside if\")                               #This print statement always print\n",
    "\n",
    "# What is the idea behind the above\n",
    "\n",
    "val = -1\n",
    "\n",
    "print(bool(val))"
   ]
  },
  {
   "cell_type": "markdown",
   "id": "54d32f84-afe4-4c9b-8960-087294723ba7",
   "metadata": {},
   "source": [
    "---\n",
    "\n",
    "### 13.1.2 Python if...else - Statement\n",
    "\n",
    "Syntax of if ... else statement is as follows\n",
    "\n",
    "    if test expression:\n",
    "    \n",
    "        Body of if\n",
    "\n",
    "    else: \n",
    "    \n",
    "        Body of else"
   ]
  },
  {
   "cell_type": "code",
   "execution_count": 31,
   "id": "6df29566-1a5e-4ea3-a403-4bdc053d8018",
   "metadata": {},
   "outputs": [
    {
     "name": "stdout",
     "output_type": "stream",
     "text": [
      "Adult\n"
     ]
    }
   ],
   "source": [
    "age = 21\n",
    "if age > 18:\n",
    "    print('Adult')\n",
    "\n",
    "else:\n",
    "    print('Child')"
   ]
  },
  {
   "cell_type": "markdown",
   "id": "383b30a4-57e8-4205-a1b9-2803ce55e485",
   "metadata": {},
   "source": [
    "---\n",
    "\n",
    "### 13.1.3 if..elif..else Statement"
   ]
  },
  {
   "cell_type": "markdown",
   "id": "567944ae-9797-48bc-b4af-65686b23d41f",
   "metadata": {},
   "source": [
    "The syntax for **if..elif..else** Statement is as follows\n",
    "\n",
    "\n",
    "    if test expression:\n",
    "\n",
    "        Body of if\n",
    "    elif test expression:\n",
    "    \n",
    "        Body of elif\n",
    "    else: \n",
    "    \n",
    "        Body of else"
   ]
  },
  {
   "cell_type": "code",
   "execution_count": 35,
   "id": "ee189d4f-fe51-4560-86d7-0aa8a70c8ad9",
   "metadata": {},
   "outputs": [
    {
     "name": "stdout",
     "output_type": "stream",
     "text": [
      "Adult\n"
     ]
    }
   ],
   "source": [
    "age = 20\n",
    "\n",
    "if age > 19:\n",
    "    print('Adult')\n",
    "\n",
    "elif age > 12:\n",
    "    print('Teen')\n",
    "\n",
    "else:\n",
    "    print('Child')"
   ]
  },
  {
   "cell_type": "markdown",
   "id": "806f5698-2eac-46b9-8e80-e9bce7f606e8",
   "metadata": {},
   "source": [
    "# 13.1.4 Nested if Statements"
   ]
  },
  {
   "cell_type": "code",
   "execution_count": 27,
   "id": "2279f119-53d7-4894-bc2d-36f3c3ae9c46",
   "metadata": {},
   "outputs": [
    {
     "name": "stdout",
     "output_type": "stream",
     "text": [
      "Teen\n",
      "This will always get executed\n"
     ]
    }
   ],
   "source": [
    "age = 15\n",
    "\n",
    "if age >=13:\n",
    "    if age <=19:\n",
    "        print('Teen')\n",
    "    else:\n",
    "        print('Adult')\n",
    "else:\n",
    "    print('Child')\n",
    "    \n",
    "    \n",
    "    \n",
    "print('This will always get executed')"
   ]
  },
  {
   "cell_type": "markdown",
   "id": "88e5e4e9-b6f9-4b05-a50c-5dafbfca9b66",
   "metadata": {},
   "source": [
    "Combining **Operators** in if-statements"
   ]
  },
  {
   "cell_type": "code",
   "execution_count": 36,
   "id": "db4ca793-d923-4d98-8228-693fb6c0d57a",
   "metadata": {},
   "outputs": [
    {
     "name": "stdout",
     "output_type": "stream",
     "text": [
      "The person is in category: Child\n"
     ]
    }
   ],
   "source": [
    "age = 5\n",
    "person_type = 'not sure'\n",
    "\n",
    "if (age >= 13) and (age<=19):                           # Using the logical operator : and\n",
    "    person_type = 'Teen'\n",
    "\n",
    "elif (age >= 0) and (age <=12):\n",
    "    person_type = 'Child'\n",
    "\n",
    "else:\n",
    "    person_type = 'Adult'\n",
    "\n",
    "print('The person is in category: {}'.format(person_type))"
   ]
  },
  {
   "cell_type": "markdown",
   "id": "dcf3a0bc-e43d-4ac6-8d67-76c0716dbf29",
   "metadata": {},
   "source": [
    "# 13.2 while loop in Python"
   ]
  },
  {
   "cell_type": "markdown",
   "id": "ab16dad1-421c-4615-becf-49fcaeb7dbaf",
   "metadata": {},
   "source": [
    "## 13.2.1 while loop\n",
    "\n",
    "\n",
    "Use while loop to iterate over a block of code as long as the test expression (also called test condition) is true.\n",
    "\n",
    "#### Syntax\n",
    "\n",
    "    while test_expression:\n",
    "        \n",
    "        Body of while\n",
    "\n",
    "\n",
    "The body of the loop is entered only if the test_expression evaluates to True. \n",
    "\n",
    "After one iteration, the test expression is checked again. \n",
    "\n",
    "This process continues until the test_expression evaluates to False.\n"
   ]
  },
  {
   "cell_type": "code",
   "execution_count": 40,
   "id": "82da2400-c23e-46ae-bbfe-a4e1bf693c39",
   "metadata": {},
   "outputs": [
    {
     "name": "stdout",
     "output_type": "stream",
     "text": [
      "Sum of the array is: 35\n"
     ]
    }
   ],
   "source": [
    "# Find the sum of all numbers in a list\n",
    "\n",
    "myList = [5, 6, 7, 8, 9]\n",
    "\n",
    "sum = 0\n",
    "index = 0\n",
    "\n",
    "while index < len(myList):\n",
    "    \n",
    "    sum += myList[index]                      # sum = sum + myList[index]\n",
    "    index += 1                                # index = index + 1\n",
    "\n",
    "print('Sum of the array is: {}'.format(sum))"
   ]
  },
  {
   "cell_type": "markdown",
   "id": "f4708997-03f1-463e-9cb4-0b62922d3580",
   "metadata": {},
   "source": [
    "#### Examples of while Loop with else statement\n",
    "\n",
    "While loop has an optional <b>else</b> block which one may use if one wishes to use it.<br/>\n",
    "The else block gets executed when the condition in while statement is <b>False</b>.<br/>\n",
    "\n",
    "The <b>else</b> can be skipped if we use a <b>break</b> command in the while block"
   ]
  },
  {
   "cell_type": "code",
   "execution_count": 43,
   "id": "d0629303-70be-4277-9e8b-b9aa8de83cba",
   "metadata": {},
   "outputs": [
    {
     "name": "stdout",
     "output_type": "stream",
     "text": [
      "5\n",
      "Eitherway printed\n"
     ]
    }
   ],
   "source": [
    "myList = [5, 6, 7, 8, 9]\n",
    "\n",
    "#iterating over the list\n",
    "\n",
    "index = 0\n",
    "\n",
    "while index < len(myList):\n",
    "    \n",
    "    print(myList[index])\n",
    "    \n",
    "    break\n",
    "    index += 1\n",
    "\n",
    "else:\n",
    "    print('Completed iterating the list')\n",
    "    \n",
    "print('Eitherway printed')"
   ]
  },
  {
   "cell_type": "code",
   "execution_count": 44,
   "id": "d25ebcfa-4022-415e-9e1e-7a238ace42a3",
   "metadata": {},
   "outputs": [
    {
     "name": "stdin",
     "output_type": "stream",
     "text": [
      "Enter a positive non-zero number:  9\n"
     ]
    },
    {
     "name": "stdout",
     "output_type": "stream",
     "text": [
      "Thank you, let me share the result with you\n",
      "The factorial of the number is:  362880\n"
     ]
    }
   ],
   "source": [
    "userInput = input(\"Enter a positive non-zero number: \")\n",
    "number = int(userInput)\n",
    "\n",
    "if number <= 0:\n",
    "    print('Invalid number please re-enter')\n",
    "    userInput = input(\"Enter a positive non-zero number: \")\n",
    "    number = int(userInput)\n",
    "    \n",
    "else:\n",
    "    print('Thank you, let me share the result with you')\n",
    "\n",
    "fact = 1\n",
    "if number > 0:\n",
    "    while number > 0:\n",
    "        fact *= number                                      # fact = fact * number\n",
    "        number -= 1                                         # number = number -1\n",
    "    print('The factorial of the number is: ', fact)\n",
    "        "
   ]
  },
  {
   "cell_type": "markdown",
   "id": "4048ab4f-16be-4450-b480-294ceb7d5ea9",
   "metadata": {},
   "source": [
    "# 13.3 for Loop Python  "
   ]
  },
  {
   "cell_type": "code",
   "execution_count": 47,
   "id": "c6304c28-cf00-40a4-8ef6-6dc8d97d973d",
   "metadata": {},
   "outputs": [
    {
     "name": "stdout",
     "output_type": "stream",
     "text": [
      "Sum of the aray is: 35\n"
     ]
    }
   ],
   "source": [
    "# Sum of all numbers in a list\n",
    "\n",
    "myList = [5, 6, 7, 8, 9]\n",
    "\n",
    "sum = 0\n",
    "\n",
    "#iterating over the list\n",
    "\n",
    "for element in myList:\n",
    "    sum += element\n",
    "    \n",
    "print(\"Sum of the aray is: {}\".format(sum))"
   ]
  },
  {
   "cell_type": "markdown",
   "id": "3e59cace-562e-444c-bd18-482fb4a3d026",
   "metadata": {},
   "source": [
    "\n",
    "#### range() function\n",
    "\n",
    "Often we need to run a for loop on a range of values that could be based on a starting point to an ending point with pre-specified step size.\n",
    "\n",
    "##### range(start,stop,step size)\n",
    "\n",
    "The numbers in range are not stored but calculated dynamically on the fly using the 3 parameters start,stop, step size"
   ]
  },
  {
   "cell_type": "code",
   "execution_count": 48,
   "id": "c7ef4062-b8bb-42a5-abfc-e0687cf7090a",
   "metadata": {},
   "outputs": [
    {
     "name": "stdout",
     "output_type": "stream",
     "text": [
      "0\n",
      "1\n",
      "2\n",
      "3\n",
      "4\n",
      "5\n",
      "6\n",
      "7\n"
     ]
    }
   ],
   "source": [
    "# Print range of 8\n",
    "\n",
    "for element in range(8):\n",
    "   \n",
    " print(element)"
   ]
  },
  {
   "cell_type": "code",
   "execution_count": 49,
   "id": "6a957b79-88d5-407c-a99a-a8ce731f19bb",
   "metadata": {},
   "outputs": [
    {
     "name": "stdout",
     "output_type": "stream",
     "text": [
      "1\n",
      "4\n",
      "7\n",
      "10\n",
      "13\n",
      "16\n",
      "19\n",
      "22\n",
      "25\n",
      "28\n",
      "31\n",
      "34\n",
      "37\n"
     ]
    }
   ],
   "source": [
    "# Print range numbers from 0 to 40 but with step size of 12\n",
    "\n",
    "for element in range(1,40,3):\n",
    "    \n",
    "    print(element)\n",
    "    "
   ]
  },
  {
   "cell_type": "code",
   "execution_count": null,
   "id": "17218edf-d211-4f45-9f6e-699c9b710f42",
   "metadata": {},
   "outputs": [],
   "source": []
  },
  {
   "cell_type": "code",
   "execution_count": 50,
   "id": "1f70a8b1-6daf-4973-a06d-2ebf9d8fd499",
   "metadata": {},
   "outputs": [
    {
     "name": "stdout",
     "output_type": "stream",
     "text": [
      "5\n",
      "6\n",
      "7\n",
      "8\n",
      "Mahesh\n"
     ]
    }
   ],
   "source": [
    "myList = [5, 6, 7, 8, \"Mahesh\"]\n",
    "\n",
    "# Iterate over myList using index\n",
    "\n",
    "#for index in range(len(myList)):\n",
    "\n",
    "#    print(myList[index])\n",
    "\n",
    "for element in myList:\n",
    "   \n",
    " print(element)"
   ]
  },
  {
   "cell_type": "markdown",
   "id": "8fc0fb9c-eb7d-4c12-9048-c308b861f5af",
   "metadata": {},
   "source": [
    "#### for loop with else\n",
    "\n",
    "Similar to while loop, a for loop can have an optional else block. <br/>\n",
    "The else part is executed if the items in the sequence used in for loop exhausts.\n",
    "\n",
    "for loop's else part runs if no break occurs."
   ]
  },
  {
   "cell_type": "code",
   "execution_count": 51,
   "id": "a5af0f17-9878-4072-8ac9-40aa5491b111",
   "metadata": {},
   "outputs": [
    {
     "name": "stdout",
     "output_type": "stream",
     "text": [
      "Mahesh\n",
      "Rohit\n",
      "Rakesh\n",
      "Completed the names list\n"
     ]
    }
   ],
   "source": [
    "names = ['Mahesh', 'Rohit', 'Rakesh']\n",
    "\n",
    "#iterating over the list\n",
    "for name in names:\n",
    "    print(name)\n",
    "else:\n",
    "    print(\"Completed the names list\")"
   ]
  },
  {
   "cell_type": "code",
   "execution_count": 53,
   "id": "3d19a48c-7a15-4ce6-b7b6-47ac6c2c4717",
   "metadata": {},
   "outputs": [
    {
     "name": "stdout",
     "output_type": "stream",
     "text": [
      "Mahesh\n",
      "Rohit\n",
      "Rakesh\n",
      "Totally outside the for else block\n"
     ]
    }
   ],
   "source": [
    "# Let us use the break keyword\n",
    "\n",
    "for name in names:\n",
    "    print(name)\n",
    "    if name == 'Rakesh':\n",
    "        break    \n",
    "else:\n",
    "    print(\"Completed the names list\")\n",
    "\n",
    "print('Totally outside the for else block')"
   ]
  },
  {
   "cell_type": "code",
   "execution_count": 54,
   "id": "cbce5a9f-d7dd-45a7-9158-cb7f6d5d793c",
   "metadata": {},
   "outputs": [
    {
     "name": "stdin",
     "output_type": "stream",
     "text": [
      "Please enter a positive number:  200\n"
     ]
    },
    {
     "name": "stdout",
     "output_type": "stream",
     "text": [
      "[1, 2, 4, 5, 8, 10, 20, 25, 40, 50, 100]\n"
     ]
    }
   ],
   "source": [
    "inputNumber = input(\"Please enter a positive number: \")\n",
    "\n",
    "number = int(inputNumber)\n",
    "\n",
    "listOfDivisors = [1]\n",
    "\n",
    "for divisor in range(2,int(number/2)+1):               # divisor -> 2.3.4.5.6.7.8....... int(num/2) + 1\n",
    "    if(number%divisor == 0):\n",
    "        \n",
    "        listOfDivisors.append(divisor)\n",
    "else:\n",
    "    print(listOfDivisors)"
   ]
  },
  {
   "cell_type": "markdown",
   "id": "ad86cfa5-ba8f-43fe-94d6-6121a66d115f",
   "metadata": {},
   "source": [
    "# 13.4 break & continue in Python  "
   ]
  },
  {
   "cell_type": "markdown",
   "id": "c2f265b8-0b75-492e-a5f9-a7841277c293",
   "metadata": {},
   "source": [
    "The break and continue statements can alter the flow of a normal loop.\n",
    "\n",
    "Loops iterate over a block of code until test expression is false, but sometimes we may need to terminate the current iteration or even the whole loop without cheking test expression.\n",
    "\n",
    "The break and continue statements are used in these cases.\n",
    "\n",
    "#### Python break Statement\n",
    "\n",
    "Syntax:\n",
    "    \n",
    "    break\n",
    "    \n",
    "#### Python continue Statement\n",
    "    \n",
    "syntax:\n",
    "    \n",
    "    continue\n",
    "    \n"
   ]
  },
  {
   "cell_type": "code",
   "execution_count": 71,
   "id": "4ef5af2c-83c0-4d6e-a8b7-712c6f8c4c8c",
   "metadata": {},
   "outputs": [
    {
     "name": "stdout",
     "output_type": "stream",
     "text": [
      "Mahesh\n",
      "Totally outside the for & else loop\n"
     ]
    }
   ],
   "source": [
    "# Use of break\n",
    "\n",
    "names = ['Mahesh', 'Rakesh', 'Roshni']\n",
    "\n",
    "for name in names:               # Let us iterate over the names list\n",
    "    if name == 'Rakesh':\n",
    "        break\n",
    "    print(name)\n",
    "else:\n",
    "    print('For is completed and we are in else part')\n",
    "print(\"Totally outside the for & else loop\")"
   ]
  },
  {
   "cell_type": "code",
   "execution_count": 70,
   "id": "8aca97b2-0a11-4718-93d0-2929ea0506a4",
   "metadata": {},
   "outputs": [
    {
     "name": "stdout",
     "output_type": "stream",
     "text": [
      "Mahesh\n",
      "Ram\n",
      "For is completed and we are in else part\n",
      "Totally outside the for & else loop\n"
     ]
    }
   ],
   "source": [
    "# Use of continue\n",
    "\n",
    "names = ['Mahesh', 'Rakesh', 'Ram']\n",
    "\n",
    "for name in names:               # Let us iterate over the names list\n",
    "    if name == 'Rakesh':\n",
    "        continue\n",
    "    print(name)                  # If continue condition is satisfied we skip this line and carry on with the next iteration\n",
    "\n",
    "else:\n",
    "    print('For is completed and we are in else part')\n",
    "print(\"Totally outside the for & else loop\")"
   ]
  },
  {
   "cell_type": "code",
   "execution_count": 72,
   "id": "fc8a98e2-e52f-4871-9779-f4d0e505c03d",
   "metadata": {},
   "outputs": [
    {
     "name": "stdin",
     "output_type": "stream",
     "text": [
      "Please enter a positive number:  12\n"
     ]
    },
    {
     "name": "stdout",
     "output_type": "stream",
     "text": [
      "[5, 4, 6]\n"
     ]
    }
   ],
   "source": [
    "inputNumber = input(\"Please enter a positive number: \")\n",
    "number = int(inputNumber)\n",
    "listOfDivisors = [5]\n",
    "for divisor in range(2,int(number/2)+1):\n",
    "    if number%divisor == 0:\n",
    "        if divisor in [4,5]:\n",
    "            continue\n",
    "        elif len(listOfDivisors) == 4:\n",
    "            break\n",
    "        listOfDivisors.append(divisor)\n",
    "print(listOfDivisors)"
   ]
  }
 ],
 "metadata": {
  "kernelspec": {
   "display_name": "Python 3",
   "language": "python",
   "name": "python3"
  },
  "language_info": {
   "codemirror_mode": {
    "name": "ipython",
    "version": 3
   },
   "file_extension": ".py",
   "mimetype": "text/x-python",
   "name": "python",
   "nbconvert_exporter": "python",
   "pygments_lexer": "ipython3",
   "version": "3.8.8"
  }
 },
 "nbformat": 4,
 "nbformat_minor": 5
}
