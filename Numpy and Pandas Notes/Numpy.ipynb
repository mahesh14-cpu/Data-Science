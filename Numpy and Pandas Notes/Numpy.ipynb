{
 "cells": [
  {
   "cell_type": "code",
   "execution_count": 1,
   "id": "3a9c12bb-a35a-4648-87e5-2ad490ca3131",
   "metadata": {},
   "outputs": [],
   "source": [
    "# 1. Introduction to Numpy"
   ]
  },
  {
   "cell_type": "code",
   "execution_count": 2,
   "id": "0e74c976-a5de-49d4-b7e0-a317b05d8cb5",
   "metadata": {},
   "outputs": [],
   "source": [
    "# Nump is a library developed for python which can handle large, multi-dimensional arrays and matrices. "
   ]
  },
  {
   "cell_type": "code",
   "execution_count": 3,
   "id": "531c11a6-39a3-4c72-8798-7403e372ccf1",
   "metadata": {},
   "outputs": [],
   "source": [
    "# 1.1 Speed comparision between Numpy and Python lists"
   ]
  },
  {
   "cell_type": "code",
   "execution_count": 4,
   "id": "92b95aad-0fb9-4d31-802a-bc48ccfa8645",
   "metadata": {
    "colab": {
     "autoexec": {
      "startup": false,
      "wait_interval": 0
     }
    },
    "colab_type": "code",
    "id": "uyc-iksa_42M",
    "outputId": "2c54a8b1-12b3-43fc-99a4-563cdacbd6bc"
   },
   "outputs": [
    {
     "name": "stdout",
     "output_type": "stream",
     "text": [
      "Pure Python version 1.4469\n",
      "Numpy version 0.0156\n",
      "Numpy is in this example 92.5831 times faster!\n"
     ]
    }
   ],
   "source": [
    "import time\n",
    "import numpy as np\n",
    "\n",
    "size_of_vec = 1000000\n",
    "\n",
    "def pure_python_version():                                                # This function will return the time for python calculation\n",
    "    time_python = time.time()                                             # Start time before operation\n",
    "    my_list1 = range(size_of_vec)                                         # Creating a list with 1000000 values\n",
    "    my_list2 = range(size_of_vec)\n",
    "    sum_list = [my_list1[i] + my_list2[i] for i in range(len(my_list1))]  # Calculating the sum\n",
    "    return time.time() - time_python                                      # Return Current time - start time\n",
    "\n",
    "def numpy_version():                                                      # This function will return the time for numpy calculation\n",
    "    time_numpy = time.time()                                              # Start time before operation\n",
    "    my_arr1 = np.arange(size_of_vec)                                      # Creating a numpy array of 1000000 values\n",
    "    my_arr2 = np.arange(size_of_vec)\n",
    "    sum_array = my_arr1 + my_arr2                                         # Calculate the sum\n",
    "    return time.time() - time_numpy                                       # Return current time - start time\n",
    "\n",
    "\n",
    "python_time = pure_python_version()                                       # Time taken for Python expression\n",
    "numpy_time = numpy_version()                                              # Time taken for numpy operation\n",
    "print(\"Pure Python version {:0.4f}\".format(python_time))\n",
    "print(\"Numpy version {:0.4f}\".format(numpy_time))\n",
    "print(\"Numpy is in this example {:0.4f} times faster!\".format(python_time/numpy_time))"
   ]
  },
  {
   "cell_type": "code",
   "execution_count": 5,
   "id": "f4ca5b47-e1f9-4ca7-98dd-5337d0baf872",
   "metadata": {},
   "outputs": [],
   "source": [
    "# 1.2 Importing the package"
   ]
  },
  {
   "cell_type": "code",
   "execution_count": 6,
   "id": "72c804df-59e3-40bf-b567-abe214cc33c8",
   "metadata": {},
   "outputs": [],
   "source": [
    "# import numpy module and give an alias np,so that we dont have to repeatedly use the longer from of the name."
   ]
  },
  {
   "cell_type": "code",
   "execution_count": 7,
   "id": "b8f121a3-e46c-4b9b-9e17-4e5b34620757",
   "metadata": {},
   "outputs": [],
   "source": [
    "import numpy as np"
   ]
  },
  {
   "cell_type": "code",
   "execution_count": 8,
   "id": "d477c6f3-0e90-44be-b6d5-8688d9026f3c",
   "metadata": {},
   "outputs": [],
   "source": [
    "# 1.3 Creating numpy arrays"
   ]
  },
  {
   "cell_type": "code",
   "execution_count": 9,
   "id": "fa27e49e-2ac0-49b5-85c9-7cd8ce1320ba",
   "metadata": {},
   "outputs": [],
   "source": [
    "# The key feature of numpy is its N-dimensional arrays or ndarray, having the below specialities."
   ]
  },
  {
   "cell_type": "code",
   "execution_count": 11,
   "id": "b4ab1e02-3b32-44ba-8b4c-7d4a7dcac3ee",
   "metadata": {},
   "outputs": [
    {
     "data": {
      "text/plain": [
       "[15, 16, 17, 18, 19]"
      ]
     },
     "execution_count": 11,
     "metadata": {},
     "output_type": "execute_result"
    }
   ],
   "source": [
    "my_list = [15,16,17,18,19]                      # This is an example of python list\n",
    "my_list"
   ]
  },
  {
   "cell_type": "code",
   "execution_count": 12,
   "id": "7ca962dc-7a4f-4b0d-8714-f0a10d04337b",
   "metadata": {},
   "outputs": [
    {
     "data": {
      "text/plain": [
       "list"
      ]
     },
     "execution_count": 12,
     "metadata": {},
     "output_type": "execute_result"
    }
   ],
   "source": [
    "type(my_list)                                   # This is a one dimensional arrays type of python objects\n"
   ]
  },
  {
   "cell_type": "code",
   "execution_count": 13,
   "id": "07e9040c-f2ff-4e48-82df-3058477a3f1c",
   "metadata": {},
   "outputs": [
    {
     "data": {
      "text/plain": [
       "array([15, 16, 17, 18, 19])"
      ]
     },
     "execution_count": 13,
     "metadata": {},
     "output_type": "execute_result"
    }
   ],
   "source": [
    "arr = np.array(my_list)                         # This is a one dimensional array\n",
    "arr"
   ]
  },
  {
   "cell_type": "code",
   "execution_count": 14,
   "id": "03399835-772a-480c-b76b-ca84f7706955",
   "metadata": {},
   "outputs": [
    {
     "data": {
      "text/plain": [
       "numpy.ndarray"
      ]
     },
     "execution_count": 14,
     "metadata": {},
     "output_type": "execute_result"
    }
   ],
   "source": [
    "type(arr)"
   ]
  },
  {
   "cell_type": "code",
   "execution_count": 15,
   "id": "aa4bf981-d128-4554-8313-ce1d1b82f867",
   "metadata": {},
   "outputs": [],
   "source": [
    "my_mat = [[11,12,13], [22,23,24], [35,36,37], [41,42,43]]                 # Creating a 2D list of lists"
   ]
  },
  {
   "cell_type": "code",
   "execution_count": 16,
   "id": "ff88c581-e768-4eed-877b-6ad9f6c70b3b",
   "metadata": {},
   "outputs": [
    {
     "data": {
      "text/plain": [
       "array([[11, 12, 13],\n",
       "       [22, 23, 24],\n",
       "       [35, 36, 37],\n",
       "       [41, 42, 43]])"
      ]
     },
     "execution_count": 16,
     "metadata": {},
     "output_type": "execute_result"
    }
   ],
   "source": [
    "mat = np.array(my_mat)                                                   # This is a 2 dimensional array\n",
    "mat"
   ]
  },
  {
   "cell_type": "code",
   "execution_count": 17,
   "id": "43355a21-5a16-4c6d-b741-1143bf7c8f0b",
   "metadata": {},
   "outputs": [
    {
     "data": {
      "text/plain": [
       "numpy.ndarray"
      ]
     },
     "execution_count": 17,
     "metadata": {},
     "output_type": "execute_result"
    }
   ],
   "source": [
    "type(mat)"
   ]
  },
  {
   "cell_type": "code",
   "execution_count": 18,
   "id": "75b40654-9318-4fcf-9c64-308cb265c061",
   "metadata": {},
   "outputs": [],
   "source": [
    "# 1.4 Checking the attributes of array"
   ]
  },
  {
   "cell_type": "code",
   "execution_count": 19,
   "id": "7bc6aad7-4bd9-4aba-8c05-041e24c252f5",
   "metadata": {},
   "outputs": [],
   "source": [
    "# once you know to create an array, you would be intrested to know the shape, dimensionality and datatype of the elements in the array."
   ]
  },
  {
   "cell_type": "code",
   "execution_count": 20,
   "id": "18e6def0-445a-4cf1-a3ff-44588f878f98",
   "metadata": {},
   "outputs": [
    {
     "data": {
      "text/plain": [
       "(5,)"
      ]
     },
     "execution_count": 20,
     "metadata": {},
     "output_type": "execute_result"
    }
   ],
   "source": [
    "arr.shape                                  # This gives the shape of the aray "
   ]
  },
  {
   "cell_type": "code",
   "execution_count": 21,
   "id": "33ccdfcd-2161-4b96-8563-fa8b33e2cbd9",
   "metadata": {},
   "outputs": [
    {
     "data": {
      "text/plain": [
       "(4, 3)"
      ]
     },
     "execution_count": 21,
     "metadata": {},
     "output_type": "execute_result"
    }
   ],
   "source": [
    "mat.shape                                  # This gives ther number of rows and colums of the array"
   ]
  },
  {
   "cell_type": "code",
   "execution_count": 22,
   "id": "6cdc26a7-8d00-4b9e-aceb-c8b6c19715d4",
   "metadata": {},
   "outputs": [],
   "source": [
    "# Shape function is used to know the resolution of an array"
   ]
  },
  {
   "cell_type": "code",
   "execution_count": 23,
   "id": "a4308720-3159-413f-8cd8-ba1b640146d2",
   "metadata": {},
   "outputs": [
    {
     "data": {
      "text/plain": [
       "1"
      ]
     },
     "execution_count": 23,
     "metadata": {},
     "output_type": "execute_result"
    }
   ],
   "source": [
    "arr.ndim                                   # This is 1 dimensional array"
   ]
  },
  {
   "cell_type": "code",
   "execution_count": 24,
   "id": "5ffa52af-1889-454c-8f0b-520f8b2541bd",
   "metadata": {},
   "outputs": [
    {
     "data": {
      "text/plain": [
       "2"
      ]
     },
     "execution_count": 24,
     "metadata": {},
     "output_type": "execute_result"
    }
   ],
   "source": [
    "mat.ndim                                   # This is a 2 dimensional array or matrix"
   ]
  },
  {
   "cell_type": "code",
   "execution_count": 25,
   "id": "941988dd-5617-4a51-87da-ae54b3953e01",
   "metadata": {},
   "outputs": [],
   "source": [
    "# ndim function is for checking dimension"
   ]
  },
  {
   "cell_type": "code",
   "execution_count": 26,
   "id": "3fcab32e-b15b-47ff-baa0-a5f522dc7dde",
   "metadata": {},
   "outputs": [
    {
     "data": {
      "text/plain": [
       "dtype('int32')"
      ]
     },
     "execution_count": 26,
     "metadata": {},
     "output_type": "execute_result"
    }
   ],
   "source": [
    "arr.dtype                                  # The datatype of elements inside array is int32"
   ]
  },
  {
   "cell_type": "code",
   "execution_count": 27,
   "id": "b770928a-e34e-4233-9d20-cf6443530c15",
   "metadata": {},
   "outputs": [
    {
     "data": {
      "text/plain": [
       "dtype('int32')"
      ]
     },
     "execution_count": 27,
     "metadata": {},
     "output_type": "execute_result"
    }
   ],
   "source": [
    "mat.dtype"
   ]
  },
  {
   "cell_type": "code",
   "execution_count": 28,
   "id": "03714da7-45a5-4cb0-ac20-5a62492630dd",
   "metadata": {},
   "outputs": [],
   "source": [
    "# 1.5 Array Initialization"
   ]
  },
  {
   "cell_type": "code",
   "execution_count": 29,
   "id": "cb4eaaa5-2aca-4748-9af7-962c1d195a91",
   "metadata": {},
   "outputs": [],
   "source": [
    "# Here will learn generating arrays with varying step size"
   ]
  },
  {
   "cell_type": "code",
   "execution_count": 30,
   "id": "c03008f1-9d20-4149-b5cb-73f421b902a7",
   "metadata": {},
   "outputs": [
    {
     "data": {
      "text/plain": [
       "array([11, 12, 13, 14, 15, 16, 17, 18, 19])"
      ]
     },
     "execution_count": 30,
     "metadata": {},
     "output_type": "execute_result"
    }
   ],
   "source": [
    "np.arange(11,20)"
   ]
  },
  {
   "cell_type": "code",
   "execution_count": 31,
   "id": "9138d5c6-2cf9-4142-828e-0e550ddab4c8",
   "metadata": {},
   "outputs": [
    {
     "data": {
      "text/plain": [
       "array([11])"
      ]
     },
     "execution_count": 31,
     "metadata": {},
     "output_type": "execute_result"
    }
   ],
   "source": [
    "np.arange(11,20,12)"
   ]
  },
  {
   "cell_type": "code",
   "execution_count": 32,
   "id": "05b7bc06-1549-477e-b044-86564090524e",
   "metadata": {},
   "outputs": [
    {
     "data": {
      "text/plain": [
       "array([0., 0., 0., 0.])"
      ]
     },
     "execution_count": 32,
     "metadata": {},
     "output_type": "execute_result"
    }
   ],
   "source": [
    "np.zeros(4)"
   ]
  },
  {
   "cell_type": "code",
   "execution_count": 33,
   "id": "b2ac5edc-e659-4029-a87b-223d84cd7bf9",
   "metadata": {},
   "outputs": [
    {
     "data": {
      "text/plain": [
       "array([[0., 0., 0.],\n",
       "       [0., 0., 0.],\n",
       "       [0., 0., 0.]])"
      ]
     },
     "execution_count": 33,
     "metadata": {},
     "output_type": "execute_result"
    }
   ],
   "source": [
    "np.zeros((3,3))"
   ]
  },
  {
   "cell_type": "code",
   "execution_count": 34,
   "id": "e694114b-7982-45d9-aa44-f50059033efd",
   "metadata": {},
   "outputs": [
    {
     "data": {
      "text/plain": [
       "array([11.        , 11.22222222, 11.44444444, 11.66666667, 11.88888889,\n",
       "       12.11111111, 12.33333333, 12.55555556, 12.77777778, 13.        ,\n",
       "       13.22222222, 13.44444444, 13.66666667, 13.88888889, 14.11111111,\n",
       "       14.33333333, 14.55555556, 14.77777778, 15.        ])"
      ]
     },
     "execution_count": 34,
     "metadata": {},
     "output_type": "execute_result"
    }
   ],
   "source": [
    "np.linspace(11,15,19)"
   ]
  },
  {
   "cell_type": "code",
   "execution_count": 35,
   "id": "fd4d6d4f-1852-4c18-89a0-ec33e80473f7",
   "metadata": {},
   "outputs": [
    {
     "data": {
      "text/plain": [
       "array([[1., 0., 0.],\n",
       "       [0., 1., 0.],\n",
       "       [0., 0., 1.]])"
      ]
     },
     "execution_count": 35,
     "metadata": {},
     "output_type": "execute_result"
    }
   ],
   "source": [
    "np.eye(3)"
   ]
  },
  {
   "cell_type": "code",
   "execution_count": 36,
   "id": "c31530d1-ea63-461e-9ab4-5634d8528367",
   "metadata": {},
   "outputs": [],
   "source": [
    "# 1.6 Array initialization using Random Numbers"
   ]
  },
  {
   "cell_type": "code",
   "execution_count": 37,
   "id": "06a820e1-d068-4c35-82ae-677c02404d90",
   "metadata": {},
   "outputs": [],
   "source": [
    "# Here we are going to see how to populate array with rabdom number. genrate an array of 5 random numbers."
   ]
  },
  {
   "cell_type": "code",
   "execution_count": 38,
   "id": "81a6f739-f550-41d2-a23c-4b0b8e579a1b",
   "metadata": {},
   "outputs": [
    {
     "data": {
      "text/plain": [
       "array([0.30219122, 0.49466411, 0.18480469, 0.52105275, 0.94380541])"
      ]
     },
     "execution_count": 38,
     "metadata": {},
     "output_type": "execute_result"
    }
   ],
   "source": [
    "np.random.rand(5)"
   ]
  },
  {
   "cell_type": "code",
   "execution_count": 39,
   "id": "ad8ea552-f0c3-42cc-8c49-a77c66e100a6",
   "metadata": {},
   "outputs": [
    {
     "data": {
      "text/plain": [
       "array([[0.4006221 , 0.36577512],\n",
       "       [0.91193317, 0.14791526]])"
      ]
     },
     "execution_count": 39,
     "metadata": {},
     "output_type": "execute_result"
    }
   ],
   "source": [
    "np.random.rand(2,2)"
   ]
  },
  {
   "cell_type": "code",
   "execution_count": 40,
   "id": "358692dc-a215-406a-b61e-0b894493dba7",
   "metadata": {},
   "outputs": [
    {
     "data": {
      "text/plain": [
       "array([[0.51192224, 0.06718273, 0.8512867 , 0.69545893],\n",
       "       [0.14601574, 0.22389623, 0.98621937, 0.19299348],\n",
       "       [0.41363064, 0.5386703 , 0.47719248, 0.21869073],\n",
       "       [0.03031016, 0.87323721, 0.87357837, 0.81561665]])"
      ]
     },
     "execution_count": 40,
     "metadata": {},
     "output_type": "execute_result"
    }
   ],
   "source": [
    "np.random.rand(4,4)"
   ]
  },
  {
   "cell_type": "code",
   "execution_count": 41,
   "id": "622a4608-d87e-4e9e-a4b7-910d4126f6eb",
   "metadata": {},
   "outputs": [
    {
     "data": {
      "text/plain": [
       "array([[0.83135003, 0.22378391, 0.55686858],\n",
       "       [0.25192938, 0.57807505, 0.42602005],\n",
       "       [0.57345446, 0.55542757, 0.88279283]])"
      ]
     },
     "execution_count": 41,
     "metadata": {},
     "output_type": "execute_result"
    }
   ],
   "source": [
    "np.random.rand(9).reshape(3,3)"
   ]
  },
  {
   "cell_type": "code",
   "execution_count": 42,
   "id": "2a1a710e-ca89-409b-9995-ebafee3078de",
   "metadata": {},
   "outputs": [],
   "source": [
    "# 1.7 Numpy Indexing"
   ]
  },
  {
   "cell_type": "code",
   "execution_count": 43,
   "id": "c6e503bd-d0ef-4e23-89b7-e09ec86be904",
   "metadata": {},
   "outputs": [],
   "source": [
    "# Once we have learned how to create arrays in numpy. "
   ]
  },
  {
   "cell_type": "code",
   "execution_count": 44,
   "id": "a06dd5f1-e9db-49e6-a486-1840667d0db4",
   "metadata": {},
   "outputs": [
    {
     "data": {
      "text/plain": [
       "array([ 0,  1,  2,  3,  4,  5,  6,  7,  8,  9, 10])"
      ]
     },
     "execution_count": 44,
     "metadata": {},
     "output_type": "execute_result"
    }
   ],
   "source": [
    "my_arr = np.arange(0,11)                        # It will return an array from 0 to 10\n",
    "my_arr  "
   ]
  },
  {
   "cell_type": "code",
   "execution_count": 45,
   "id": "e1becbdf-3c08-4421-a4f9-d9d37f10685e",
   "metadata": {},
   "outputs": [
    {
     "data": {
      "text/plain": [
       "10"
      ]
     },
     "execution_count": 45,
     "metadata": {},
     "output_type": "execute_result"
    }
   ],
   "source": [
    "my_arr[10]                                      # It will return element  at index 10"
   ]
  },
  {
   "cell_type": "code",
   "execution_count": 46,
   "id": "bc018b34-20cc-4b6c-8030-c5176c71d81a",
   "metadata": {},
   "outputs": [],
   "source": [
    "# 1.7.1 Array Slicing"
   ]
  },
  {
   "cell_type": "code",
   "execution_count": 47,
   "id": "eb8f6d97-2f2a-41ec-b6c9-5c1d7bac9b7e",
   "metadata": {},
   "outputs": [],
   "source": [
    "# to accescc more than one elemnts of the array use slicing"
   ]
  },
  {
   "cell_type": "code",
   "execution_count": 48,
   "id": "03e5d9da-1b12-4090-bb93-bf0890c7afd0",
   "metadata": {},
   "outputs": [
    {
     "data": {
      "text/plain": [
       "array([1, 2, 3, 4])"
      ]
     },
     "execution_count": 48,
     "metadata": {},
     "output_type": "execute_result"
    }
   ],
   "source": [
    "my_arr[1:5]                                      # It will return all the elements between 1 and 5 excludng 5"
   ]
  },
  {
   "cell_type": "code",
   "execution_count": 49,
   "id": "848eb211-78f3-43d2-82ff-cdb11cce3d41",
   "metadata": {},
   "outputs": [
    {
     "data": {
      "text/plain": [
       "array([ 8,  9, 10])"
      ]
     },
     "execution_count": 49,
     "metadata": {},
     "output_type": "execute_result"
    }
   ],
   "source": [
    "my_arr[8:]                                       # It will return all elements from index 8 and beyond"
   ]
  },
  {
   "cell_type": "code",
   "execution_count": 50,
   "id": "259b65be-258a-40a3-a853-7c1268248787",
   "metadata": {},
   "outputs": [
    {
     "data": {
      "text/plain": [
       "array([0, 1, 2, 3, 4, 5])"
      ]
     },
     "execution_count": 50,
     "metadata": {},
     "output_type": "execute_result"
    }
   ],
   "source": [
    "my_arr[:6]                                       # It will return all elements from first index to 5"
   ]
  },
  {
   "cell_type": "code",
   "execution_count": 51,
   "id": "042408b7-0c58-47af-9142-c12e9269971a",
   "metadata": {},
   "outputs": [
    {
     "data": {
      "text/plain": [
       "array([-5, -5, -5, -5, -5,  5,  6,  7,  8,  9, 10])"
      ]
     },
     "execution_count": 51,
     "metadata": {},
     "output_type": "execute_result"
    }
   ],
   "source": [
    "my_arr[0:5] = -5                                 # Numpy arrays are mutable\n",
    "my_arr"
   ]
  },
  {
   "cell_type": "code",
   "execution_count": 52,
   "id": "c4260099-0ae5-4cbb-8eeb-eb518b3837f4",
   "metadata": {},
   "outputs": [],
   "source": [
    "arr_2d = np.array ([[0,1,2], [3,4,5], [6,7,8], [9,10,11]])\n"
   ]
  },
  {
   "cell_type": "code",
   "execution_count": 53,
   "id": "10ce4777-4b55-46ef-9616-a25eda7ac2c6",
   "metadata": {},
   "outputs": [
    {
     "data": {
      "text/plain": [
       "array([[ 0,  1,  2],\n",
       "       [ 3,  4,  5],\n",
       "       [ 6,  7,  8],\n",
       "       [ 9, 10, 11]])"
      ]
     },
     "execution_count": 53,
     "metadata": {},
     "output_type": "execute_result"
    }
   ],
   "source": [
    "arr_2d"
   ]
  },
  {
   "cell_type": "code",
   "execution_count": 54,
   "id": "e3e9c6cb-0c39-42c3-baf7-faba5efbedda",
   "metadata": {},
   "outputs": [
    {
     "data": {
      "text/plain": [
       "2"
      ]
     },
     "execution_count": 54,
     "metadata": {},
     "output_type": "execute_result"
    }
   ],
   "source": [
    "arr_2d [0][2]                                    # Elements in 0th row and 2nd coloumn"
   ]
  },
  {
   "cell_type": "code",
   "execution_count": 55,
   "id": "6d1ea065-200b-4ba0-918b-fdcb7885ac8e",
   "metadata": {},
   "outputs": [
    {
     "data": {
      "text/plain": [
       "array([[0, 1],\n",
       "       [3, 4]])"
      ]
     },
     "execution_count": 55,
     "metadata": {},
     "output_type": "execute_result"
    }
   ],
   "source": [
    "arr_2d [0:2,0:2]                                 # Elements from rows 0 and 1 an columns 0 and 1"
   ]
  },
  {
   "cell_type": "code",
   "execution_count": 56,
   "id": "d911654c-7f79-4c4b-987d-306de3fd4222",
   "metadata": {},
   "outputs": [
    {
     "data": {
      "text/plain": [
       "array([[1, 2],\n",
       "       [4, 5]])"
      ]
     },
     "execution_count": 56,
     "metadata": {},
     "output_type": "execute_result"
    }
   ],
   "source": [
    "arr_2d [:2,1:]                                    # Elements from rows 0 and 1 and columns 1 and 2 "
   ]
  },
  {
   "cell_type": "code",
   "execution_count": 57,
   "id": "32998a3f-8569-4fda-9be2-f1115ca3c99e",
   "metadata": {},
   "outputs": [],
   "source": [
    " # 1.7.2 Conditional Indexing is an Array"
   ]
  },
  {
   "cell_type": "code",
   "execution_count": 58,
   "id": "0c8c5a60-6fa3-4518-afbe-8f18c72c99d6",
   "metadata": {},
   "outputs": [],
   "source": [
    "# first we need to create a boolean array based on an conditional statements using operators for comparison then return filtered elements."
   ]
  },
  {
   "cell_type": "code",
   "execution_count": 59,
   "id": "d5c45ad0-dc5f-4731-a681-1a764b52ec5e",
   "metadata": {},
   "outputs": [],
   "source": [
    "arr_cond = np.arange(0,11)"
   ]
  },
  {
   "cell_type": "code",
   "execution_count": 60,
   "id": "abe00951-fd58-4aa6-b564-ea4d1cb86a0c",
   "metadata": {},
   "outputs": [
    {
     "data": {
      "text/plain": [
       "array([False, False, False, False, False, False,  True,  True,  True,\n",
       "        True,  True])"
      ]
     },
     "execution_count": 60,
     "metadata": {},
     "output_type": "execute_result"
    }
   ],
   "source": [
    "arr_cond>5                                        # This will return a boolean array"
   ]
  },
  {
   "cell_type": "code",
   "execution_count": 61,
   "id": "048b402d-34f7-4774-b1de-3a3509294c4e",
   "metadata": {},
   "outputs": [
    {
     "data": {
      "text/plain": [
       "array([ 6,  7,  8,  9, 10])"
      ]
     },
     "execution_count": 61,
     "metadata": {},
     "output_type": "execute_result"
    }
   ],
   "source": [
    "arr_cond[arr_cond > 5]                            # This will return all the elements of an array where elements size > 5"
   ]
  },
  {
   "cell_type": "code",
   "execution_count": 62,
   "id": "18ffea60-4232-4ba6-989c-2de01bdd10f3",
   "metadata": {},
   "outputs": [
    {
     "data": {
      "text/plain": [
       "array([ 6,  7,  8,  9, 10])"
      ]
     },
     "execution_count": 62,
     "metadata": {},
     "output_type": "execute_result"
    }
   ],
   "source": [
    "arr_cond[arr_cond > 5]                            # This is ths same thing without usig another object."
   ]
  },
  {
   "cell_type": "code",
   "execution_count": 63,
   "id": "f81a71bb-a330-44c7-9e66-e4ab3bd918ee",
   "metadata": {},
   "outputs": [],
   "source": [
    "# 1.8.1 Numpy Broadcasting"
   ]
  },
  {
   "cell_type": "code",
   "execution_count": 64,
   "id": "4db96d4b-3e52-45cd-94de-5c7f14a3d455",
   "metadata": {},
   "outputs": [],
   "source": [
    "# Broadcasting is used to describe how arrays are treated during mathematical oprations. array so that they have compatible sizes."
   ]
  },
  {
   "cell_type": "code",
   "execution_count": 65,
   "id": "e60e8323-a668-442a-b7c4-bd36449903c0",
   "metadata": {},
   "outputs": [
    {
     "data": {
      "text/plain": [
       "array([[ 1,  2,  3],\n",
       "       [ 5,  6,  7],\n",
       "       [ 8,  9, 10],\n",
       "       [12, 13, 14]])"
      ]
     },
     "execution_count": 65,
     "metadata": {},
     "output_type": "execute_result"
    }
   ],
   "source": [
    "arr_2d = np.array ([[1,2,3], [5,6,7], [8,9,10], [12,13,14]])             # Creating numpy array\n",
    "arr_2d"
   ]
  },
  {
   "cell_type": "code",
   "execution_count": 66,
   "id": "38b5d518-a5b9-4720-af35-037a8666ac3e",
   "metadata": {},
   "outputs": [
    {
     "data": {
      "text/plain": [
       "(4, 3)"
      ]
     },
     "execution_count": 66,
     "metadata": {},
     "output_type": "execute_result"
    }
   ],
   "source": [
    "arr_2d.shape"
   ]
  },
  {
   "cell_type": "code",
   "execution_count": 67,
   "id": "8c189323-de20-44d0-8fc4-8d61e580cdbd",
   "metadata": {},
   "outputs": [],
   "source": [
    "scaler = 3                                                    # Scaler\n",
    "arr_1d = np.array([10,10,10])                                 # Array with different shape"
   ]
  },
  {
   "cell_type": "code",
   "execution_count": 68,
   "id": "1c99ce38-0ba6-4384-9d28-80200ce3e045",
   "metadata": {},
   "outputs": [
    {
     "data": {
      "text/plain": [
       "(3,)"
      ]
     },
     "execution_count": 68,
     "metadata": {},
     "output_type": "execute_result"
    }
   ],
   "source": [
    "arr_1d.shape"
   ]
  },
  {
   "cell_type": "code",
   "execution_count": 69,
   "id": "ec781b40-a23d-4725-b642-30bbb35aa13c",
   "metadata": {},
   "outputs": [
    {
     "data": {
      "text/plain": [
       "array([[ 4,  5,  6],\n",
       "       [ 8,  9, 10],\n",
       "       [11, 12, 13],\n",
       "       [15, 16, 17]])"
      ]
     },
     "execution_count": 69,
     "metadata": {},
     "output_type": "execute_result"
    }
   ],
   "source": [
    "arr_2d + scaler                                               # Operation with a scaler"
   ]
  },
  {
   "cell_type": "code",
   "execution_count": 70,
   "id": "b89de28c-d519-4f65-8b0e-181b787d1bbb",
   "metadata": {},
   "outputs": [
    {
     "data": {
      "text/plain": [
       "array([[11, 12, 13],\n",
       "       [15, 16, 17],\n",
       "       [18, 19, 20],\n",
       "       [22, 23, 24]])"
      ]
     },
     "execution_count": 70,
     "metadata": {},
     "output_type": "execute_result"
    }
   ],
   "source": [
    "arr_2d + arr_1d                                               # Operation with a array of different shape"
   ]
  },
  {
   "cell_type": "code",
   "execution_count": 71,
   "id": "d29002ff-9c3b-4b6b-8cc2-3e4438803df4",
   "metadata": {},
   "outputs": [],
   "source": [
    "# 1.8.2 Numpy Mathematical Function"
   ]
  },
  {
   "cell_type": "code",
   "execution_count": 72,
   "id": "bd5f3c96-2401-40a4-bc10-9b3a0ba2c1f3",
   "metadata": {},
   "outputs": [],
   "source": [
    "# Function are faster and optimised for large szie arrays."
   ]
  },
  {
   "cell_type": "code",
   "execution_count": 73,
   "id": "58728a0d-10ca-4695-8cc6-a783bfd1baee",
   "metadata": {},
   "outputs": [
    {
     "data": {
      "text/plain": [
       "array([ 1,  2,  3,  4,  5,  6,  7,  8,  9, 10])"
      ]
     },
     "execution_count": 73,
     "metadata": {},
     "output_type": "execute_result"
    }
   ],
   "source": [
    "arr = np.arange(1,11)                                         # Lets forst create a numpy array\n",
    "arr"
   ]
  },
  {
   "cell_type": "code",
   "execution_count": 74,
   "id": "1615db35-f644-42ae-ac2c-7c326902d52e",
   "metadata": {},
   "outputs": [
    {
     "data": {
      "text/plain": [
       "1"
      ]
     },
     "execution_count": 74,
     "metadata": {},
     "output_type": "execute_result"
    }
   ],
   "source": [
    "arr.min()                                                     # Minimum value of array"
   ]
  },
  {
   "cell_type": "code",
   "execution_count": 75,
   "id": "d5b51e2d-a0bc-4cd8-b610-1b69b124d4da",
   "metadata": {},
   "outputs": [
    {
     "data": {
      "text/plain": [
       "10"
      ]
     },
     "execution_count": 75,
     "metadata": {},
     "output_type": "execute_result"
    }
   ],
   "source": [
    "arr.max()                                                     # Maximum of the array"
   ]
  },
  {
   "cell_type": "code",
   "execution_count": 76,
   "id": "90a4ea3e-5c3c-4759-9128-b28d2daaea3e",
   "metadata": {},
   "outputs": [
    {
     "data": {
      "text/plain": [
       "0"
      ]
     },
     "execution_count": 76,
     "metadata": {},
     "output_type": "execute_result"
    }
   ],
   "source": [
    "arr.argmin()                                                  # Index position of mininum of array"
   ]
  },
  {
   "cell_type": "code",
   "execution_count": 77,
   "id": "272f1173-0e49-432e-92dd-c076a32e7feb",
   "metadata": {},
   "outputs": [
    {
     "data": {
      "text/plain": [
       "9"
      ]
     },
     "execution_count": 77,
     "metadata": {},
     "output_type": "execute_result"
    }
   ],
   "source": [
    "arr.argmax()                                                  # Index position of maximum of array"
   ]
  },
  {
   "cell_type": "code",
   "execution_count": 78,
   "id": "9ae54bd8-be06-48f4-8f1c-e410584f9735",
   "metadata": {},
   "outputs": [
    {
     "data": {
      "text/plain": [
       "array([1.        , 1.41421356, 1.73205081, 2.        , 2.23606798,\n",
       "       2.44948974, 2.64575131, 2.82842712, 3.        , 3.16227766])"
      ]
     },
     "execution_count": 78,
     "metadata": {},
     "output_type": "execute_result"
    }
   ],
   "source": [
    "np.sqrt(arr)                                                  # To calculate square root of all element is an array"
   ]
  },
  {
   "cell_type": "code",
   "execution_count": 79,
   "id": "62665ea4-65b2-480d-8470-867df94fa82c",
   "metadata": {},
   "outputs": [
    {
     "data": {
      "text/plain": [
       "5.5"
      ]
     },
     "execution_count": 79,
     "metadata": {},
     "output_type": "execute_result"
    }
   ],
   "source": [
    "arr.mean()                                                   # To calculate mean of all the values in an array "
   ]
  },
  {
   "cell_type": "code",
   "execution_count": 80,
   "id": "c56c2903-e290-472d-98c8-276069fc0673",
   "metadata": {},
   "outputs": [
    {
     "data": {
      "text/plain": [
       "array([2.71828183e+00, 7.38905610e+00, 2.00855369e+01, 5.45981500e+01,\n",
       "       1.48413159e+02, 4.03428793e+02, 1.09663316e+03, 2.98095799e+03,\n",
       "       8.10308393e+03, 2.20264658e+04])"
      ]
     },
     "execution_count": 80,
     "metadata": {},
     "output_type": "execute_result"
    }
   ],
   "source": [
    "np.exp(arr)                                                  # To calculate exponential value of each element in an array"
   ]
  },
  {
   "cell_type": "code",
   "execution_count": 81,
   "id": "dd3aa64e-6b5c-4d19-b6b3-10fb0d6bfb73",
   "metadata": {},
   "outputs": [],
   "source": [
    "# 1.8.3 Array Manipulation"
   ]
  },
  {
   "cell_type": "code",
   "execution_count": 82,
   "id": "93a2c2d4-3b08-4949-b073-400cce43ffa2",
   "metadata": {},
   "outputs": [],
   "source": [
    "# Here will see some numpy function that can change the structure of an array"
   ]
  },
  {
   "cell_type": "code",
   "execution_count": 83,
   "id": "1d993702-4b3c-42e0-a2b7-65ebe96442db",
   "metadata": {},
   "outputs": [
    {
     "data": {
      "text/plain": [
       "array([[ 0,  1,  2,  3],\n",
       "       [ 4,  5,  6,  7],\n",
       "       [ 8,  9, 10, 11],\n",
       "       [12, 13, 14, 15]])"
      ]
     },
     "execution_count": 83,
     "metadata": {},
     "output_type": "execute_result"
    }
   ],
   "source": [
    "arr = np.arange(0,16)                                        # Using reshape wer can change the dimensions of the array\n",
    "\n",
    "arr_2d =arr.reshape(4,4)\n",
    "\n",
    "arr_2d"
   ]
  },
  {
   "cell_type": "code",
   "execution_count": 84,
   "id": "c6492d90-fd39-4719-876d-4877f64399c8",
   "metadata": {},
   "outputs": [
    {
     "data": {
      "text/plain": [
       "array([ 0,  1,  2,  3,  4,  5,  6,  7,  8,  9, 10, 11, 12, 13, 14, 15])"
      ]
     },
     "execution_count": 84,
     "metadata": {},
     "output_type": "execute_result"
    }
   ],
   "source": [
    "arr_2d.flatten()                                            # Flatten is used to convert a 2d array to 1d array"
   ]
  },
  {
   "cell_type": "code",
   "execution_count": 85,
   "id": "359790ec-5e73-4d71-9abc-41b2b1519832",
   "metadata": {},
   "outputs": [
    {
     "data": {
      "text/plain": [
       "array([[ 0,  4,  8, 12],\n",
       "       [ 1,  5,  9, 13],\n",
       "       [ 2,  6, 10, 14],\n",
       "       [ 3,  7, 11, 15]])"
      ]
     },
     "execution_count": 85,
     "metadata": {},
     "output_type": "execute_result"
    }
   ],
   "source": [
    "arr_2d.transpose()                                        # transpose is used to convert the rows into coilumns and vice-versa"
   ]
  },
  {
   "cell_type": "code",
   "execution_count": 86,
   "id": "c805108c-24a3-4089-829f-cf6f1dea8eaf",
   "metadata": {},
   "outputs": [],
   "source": [
    "arr_x = np.array ([[1,2,3,4], [5,6,7,8]])  # Lets create 2 arrays\n",
    "\n",
    "arr_y = np.array ([[21,22,23,24], [25,26,27,28]])"
   ]
  },
  {
   "cell_type": "code",
   "execution_count": 87,
   "id": "10cf6413-9ad8-466a-bba0-63187b942604",
   "metadata": {},
   "outputs": [
    {
     "data": {
      "text/plain": [
       "array([[ 1,  2,  3,  4, 21, 22, 23, 24],\n",
       "       [ 5,  6,  7,  8, 25, 26, 27, 28]])"
      ]
     },
     "execution_count": 87,
     "metadata": {},
     "output_type": "execute_result"
    }
   ],
   "source": [
    "np.concatenate ((arr_x, arr_y), axis=1)                  # Join 2 array along columns"
   ]
  },
  {
   "cell_type": "code",
   "execution_count": 88,
   "id": "b7d6e682-4421-4055-9097-e4e1f0bd544d",
   "metadata": {},
   "outputs": [
    {
     "data": {
      "text/plain": [
       "array([[ 1,  2,  3,  4],\n",
       "       [ 5,  6,  7,  8],\n",
       "       [21, 22, 23, 24],\n",
       "       [25, 26, 27, 28]])"
      ]
     },
     "execution_count": 88,
     "metadata": {},
     "output_type": "execute_result"
    }
   ],
   "source": [
    "arr_z = np.concatenate ((arr_x ,arr_y), axis=0)          # Join 2 arrays along rows\n",
    "\n",
    "arr_z"
   ]
  },
  {
   "cell_type": "code",
   "execution_count": 89,
   "id": "83d98ab2-b62f-4002-a58c-a5e0e0a70fde",
   "metadata": {},
   "outputs": [
    {
     "data": {
      "text/plain": [
       "[array([[ 1,  2],\n",
       "        [ 5,  6],\n",
       "        [21, 22],\n",
       "        [25, 26]]),\n",
       " array([[ 3,  4],\n",
       "        [ 7,  8],\n",
       "        [23, 24],\n",
       "        [27, 28]])]"
      ]
     },
     "execution_count": 89,
     "metadata": {},
     "output_type": "execute_result"
    }
   ],
   "source": [
    "np.hsplit (arr_z, 2)                                      # It will split the array into 2 equal halves along the columns"
   ]
  },
  {
   "cell_type": "code",
   "execution_count": 90,
   "id": "1c69ed8c-6d72-438d-9484-5fa49a49946a",
   "metadata": {},
   "outputs": [
    {
     "data": {
      "text/plain": [
       "[array([[1, 2, 3, 4],\n",
       "        [5, 6, 7, 8]]),\n",
       " array([[21, 22, 23, 24],\n",
       "        [25, 26, 27, 28]])]"
      ]
     },
     "execution_count": 90,
     "metadata": {},
     "output_type": "execute_result"
    }
   ],
   "source": [
    "np.vsplit (arr_z, 2)                                       # It will split array into 2 equal halves along the rows"
   ]
  },
  {
   "cell_type": "code",
   "execution_count": null,
   "id": "58c2a983-4dec-4ef2-a538-e37e779f4423",
   "metadata": {},
   "outputs": [],
   "source": []
  }
 ],
 "metadata": {
  "kernelspec": {
   "display_name": "Python 3",
   "language": "python",
   "name": "python3"
  },
  "language_info": {
   "codemirror_mode": {
    "name": "ipython",
    "version": 3
   },
   "file_extension": ".py",
   "mimetype": "text/x-python",
   "name": "python",
   "nbconvert_exporter": "python",
   "pygments_lexer": "ipython3",
   "version": "3.8.8"
  }
 },
 "nbformat": 4,
 "nbformat_minor": 5
}
