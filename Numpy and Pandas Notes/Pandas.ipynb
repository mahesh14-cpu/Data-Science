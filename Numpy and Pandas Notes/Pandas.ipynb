{
 "cells": [
  {
   "cell_type": "code",
   "execution_count": 1,
   "id": "bcb3f430-88ca-4c78-bd78-437715dc9ee7",
   "metadata": {},
   "outputs": [],
   "source": [
    "# 2.Pandas"
   ]
  },
  {
   "cell_type": "code",
   "execution_count": 2,
   "id": "5e2678b3-5bd8-4fc4-b6a2-1a5c1e3f3ab9",
   "metadata": {},
   "outputs": [],
   "source": [
    "# Pandas is a fast and efficient Dataframe object for data manipulation"
   ]
  },
  {
   "cell_type": "code",
   "execution_count": 3,
   "id": "6a888fca-b592-4617-96c7-513ac94d0b7b",
   "metadata": {},
   "outputs": [],
   "source": [
    "# 2.1 Importing the package"
   ]
  },
  {
   "cell_type": "code",
   "execution_count": 17,
   "id": "9278d1c7-ae2f-40a4-acd3-a4fa61afa7ba",
   "metadata": {},
   "outputs": [],
   "source": [
    "import pandas as pd "
   ]
  },
  {
   "cell_type": "code",
   "execution_count": 5,
   "id": "fdc4016e-804e-4bd9-9f80-7498b927ff84",
   "metadata": {},
   "outputs": [],
   "source": [
    "# 2.2 Series"
   ]
  },
  {
   "cell_type": "code",
   "execution_count": 8,
   "id": "05b9960e-a264-47a8-a683-98ffd674a985",
   "metadata": {},
   "outputs": [],
   "source": [
    "# These are 1D labelled ndarray capable of storing any datatype(int,float,string)"
   ]
  },
  {
   "cell_type": "code",
   "execution_count": 18,
   "id": "6c2419f7-71e0-42d6-a99a-7794c2911123",
   "metadata": {
    "tags": []
   },
   "outputs": [],
   "source": [
    "import numpy as np\n",
    "\n",
    "countries = ['India', 'England', 'France']                 # Creating two lists contaning name of the country and its capital\n",
    "\n",
    "capitals = ['New delhi', 'London', 'Paris']    \n",
    "\n",
    "arr = np.array(capitals)                                  # Making an array with the list capitals\n",
    "\n",
    "dicts = {'a':20, 'b':30, 'c':40, 'd':50, 'e':60, 'f':70, 'g':80, 'h':90}     # Defining a dictionary"
   ]
  },
  {
   "cell_type": "code",
   "execution_count": 12,
   "id": "83c500ff-b33b-4b59-9eba-15c485b78bbc",
   "metadata": {},
   "outputs": [],
   "source": [
    "# Creating a series from a list"
   ]
  },
  {
   "cell_type": "code",
   "execution_count": 20,
   "id": "67065710-af4b-4ad2-bc78-7c564f4c30d2",
   "metadata": {},
   "outputs": [
    {
     "data": {
      "text/plain": [
       "0    New delhi\n",
       "1       London\n",
       "2        Paris\n",
       "dtype: object"
      ]
     },
     "execution_count": 20,
     "metadata": {},
     "output_type": "execute_result"
    }
   ],
   "source": [
    "pd.Series (data = capitals)                               # Creating pandas series"
   ]
  },
  {
   "cell_type": "code",
   "execution_count": 21,
   "id": "5e4d2fe1-69c4-4b66-b025-cf579bd2dee0",
   "metadata": {},
   "outputs": [
    {
     "data": {
      "text/plain": [
       "India      New delhi\n",
       "England       London\n",
       "France         Paris\n",
       "dtype: object"
      ]
     },
     "execution_count": 21,
     "metadata": {},
     "output_type": "execute_result"
    }
   ],
   "source": [
    "pd.Series (data = capitals, index = countries)           # Modifying a series by adding index"
   ]
  },
  {
   "cell_type": "code",
   "execution_count": 22,
   "id": "6442eee2-ee6b-44cb-adf6-a4a1dfdbae96",
   "metadata": {},
   "outputs": [
    {
     "data": {
      "text/plain": [
       "0    New delhi\n",
       "1       London\n",
       "2        Paris\n",
       "dtype: object"
      ]
     },
     "execution_count": 22,
     "metadata": {},
     "output_type": "execute_result"
    }
   ],
   "source": [
    "pd.Series (arr)"
   ]
  },
  {
   "cell_type": "code",
   "execution_count": 23,
   "id": "877f1acb-b7aa-4e83-819d-a88b87e16425",
   "metadata": {},
   "outputs": [
    {
     "data": {
      "text/plain": [
       "a    20\n",
       "b    30\n",
       "c    40\n",
       "d    50\n",
       "e    60\n",
       "f    70\n",
       "g    80\n",
       "h    90\n",
       "dtype: int64"
      ]
     },
     "execution_count": 23,
     "metadata": {},
     "output_type": "execute_result"
    }
   ],
   "source": [
    "pd.Series (dicts)"
   ]
  },
  {
   "cell_type": "code",
   "execution_count": 24,
   "id": "8ff2394b-050f-46f9-9bc8-8c206bde168d",
   "metadata": {},
   "outputs": [],
   "source": [
    "# 2.2.1 Series Indexing"
   ]
  },
  {
   "cell_type": "code",
   "execution_count": 25,
   "id": "e42321ff-b53f-4540-b64a-4b2d2b20bbab",
   "metadata": {},
   "outputs": [],
   "source": [
    "# Here you will observe hoe the elements of the series are indexed and how we can access any element index"
   ]
  },
  {
   "cell_type": "code",
   "execution_count": 28,
   "id": "595f9934-3956-40eb-8a5e-2901eafee789",
   "metadata": {},
   "outputs": [],
   "source": [
    "my_series = pd.Series (dicts)"
   ]
  },
  {
   "cell_type": "code",
   "execution_count": 29,
   "id": "ddc3d28c-95ca-4a76-8257-57ea0ec9f7f9",
   "metadata": {},
   "outputs": [
    {
     "data": {
      "text/plain": [
       "(8,)"
      ]
     },
     "execution_count": 29,
     "metadata": {},
     "output_type": "execute_result"
    }
   ],
   "source": [
    "my_series.shape                                          # This series has 8 elements"
   ]
  },
  {
   "cell_type": "code",
   "execution_count": 31,
   "id": "d2cba704-c6b0-4e87-af21-b4f6daa6d6e1",
   "metadata": {},
   "outputs": [
    {
     "data": {
      "text/plain": [
       "20"
      ]
     },
     "execution_count": 31,
     "metadata": {},
     "output_type": "execute_result"
    }
   ],
   "source": [
    "my_series [0]                                           # Series indexing starts with 0"
   ]
  },
  {
   "cell_type": "code",
   "execution_count": 32,
   "id": "e866fcdc-0a12-4edb-a298-68ca6483ea85",
   "metadata": {},
   "outputs": [
    {
     "data": {
      "text/plain": [
       "a    20\n",
       "b    30\n",
       "c    40\n",
       "dtype: int64"
      ]
     },
     "execution_count": 32,
     "metadata": {},
     "output_type": "execute_result"
    }
   ],
   "source": [
    "my_series [:3]                                          # Accessing the first 3 elements in series"
   ]
  },
  {
   "cell_type": "code",
   "execution_count": 33,
   "id": "1ea75144-3b5f-498a-a13c-1098faf7a76b",
   "metadata": {},
   "outputs": [
    {
     "data": {
      "text/plain": [
       "d    50\n",
       "e    60\n",
       "f    70\n",
       "g    80\n",
       "dtype: int64"
      ]
     },
     "execution_count": 33,
     "metadata": {},
     "output_type": "execute_result"
    }
   ],
   "source": [
    "my_series [3:7]                                        # Accessing all the elements from 3rd to 7th index"
   ]
  },
  {
   "cell_type": "code",
   "execution_count": 34,
   "id": "5f6313f8-80fc-44d9-abf4-c7b4e21b9f04",
   "metadata": {},
   "outputs": [
    {
     "data": {
      "text/plain": [
       "20"
      ]
     },
     "execution_count": 34,
     "metadata": {},
     "output_type": "execute_result"
    }
   ],
   "source": [
    "my_series ['a']                                        # Accessing tha data using lables"
   ]
  },
  {
   "cell_type": "code",
   "execution_count": 35,
   "id": "b8636bc5-a0cd-4a5d-b67d-4df9db9670d5",
   "metadata": {},
   "outputs": [
    {
     "data": {
      "text/plain": [
       "a    20\n",
       "c    40\n",
       "e    60\n",
       "dtype: int64"
      ]
     },
     "execution_count": 35,
     "metadata": {},
     "output_type": "execute_result"
    }
   ],
   "source": [
    "my_series [['a', 'c', 'e']]                           # Accessing multiple elements in aseries using lables"
   ]
  },
  {
   "cell_type": "code",
   "execution_count": 36,
   "id": "8fec10bc-0026-40aa-8619-ec196dd8e768",
   "metadata": {},
   "outputs": [
    {
     "data": {
      "text/plain": [
       "a     40\n",
       "b     60\n",
       "c     80\n",
       "d    100\n",
       "e    120\n",
       "f    140\n",
       "g    160\n",
       "h    180\n",
       "dtype: int64"
      ]
     },
     "execution_count": 36,
     "metadata": {},
     "output_type": "execute_result"
    }
   ],
   "source": [
    "my_series + my_series                                 # Performing elelments wise mathematical oprations on series"
   ]
  },
  {
   "cell_type": "code",
   "execution_count": 37,
   "id": "c2735f91-850f-4a03-af8a-a51916f7ccb6",
   "metadata": {},
   "outputs": [],
   "source": [
    "# 2.3 DataFrames"
   ]
  },
  {
   "cell_type": "code",
   "execution_count": 38,
   "id": "943e8834-d847-429f-814e-21ca7ed12214",
   "metadata": {},
   "outputs": [],
   "source": [
    "# Dataframes are 2D data structures having data aligned in tabular format. "
   ]
  },
  {
   "cell_type": "code",
   "execution_count": 40,
   "id": "242f5bcc-10c7-48a4-ab7b-5076bfecde8e",
   "metadata": {},
   "outputs": [
    {
     "name": "stdout",
     "output_type": "stream",
     "text": [
      "Empty DataFrame\n",
      "Columns: []\n",
      "Index: []\n"
     ]
    }
   ],
   "source": [
    "df = pd.DataFrame()                                   # Creating an empty dataframe               \n",
    "\n",
    "print (df)"
   ]
  },
  {
   "cell_type": "code",
   "execution_count": 41,
   "id": "b69b8257-496d-4602-a0b8-5622a1016415",
   "metadata": {},
   "outputs": [
    {
     "data": {
      "text/html": [
       "<div>\n",
       "<style scoped>\n",
       "    .dataframe tbody tr th:only-of-type {\n",
       "        vertical-align: middle;\n",
       "    }\n",
       "\n",
       "    .dataframe tbody tr th {\n",
       "        vertical-align: top;\n",
       "    }\n",
       "\n",
       "    .dataframe thead th {\n",
       "        text-align: right;\n",
       "    }\n",
       "</style>\n",
       "<table border=\"1\" class=\"dataframe\">\n",
       "  <thead>\n",
       "    <tr style=\"text-align: right;\">\n",
       "      <th></th>\n",
       "      <th>Fruit</th>\n",
       "    </tr>\n",
       "  </thead>\n",
       "  <tbody>\n",
       "    <tr>\n",
       "      <th>0</th>\n",
       "      <td>Mango</td>\n",
       "    </tr>\n",
       "    <tr>\n",
       "      <th>1</th>\n",
       "      <td>Apple</td>\n",
       "    </tr>\n",
       "    <tr>\n",
       "      <th>2</th>\n",
       "      <td>Orange</td>\n",
       "    </tr>\n",
       "    <tr>\n",
       "      <th>3</th>\n",
       "      <td>Lemon</td>\n",
       "    </tr>\n",
       "  </tbody>\n",
       "</table>\n",
       "</div>"
      ],
      "text/plain": [
       "    Fruit\n",
       "0   Mango\n",
       "1   Apple\n",
       "2  Orange\n",
       "3   Lemon"
      ]
     },
     "execution_count": 41,
     "metadata": {},
     "output_type": "execute_result"
    }
   ],
   "source": [
    "fruits = ['Mango', 'Apple', 'Orange', 'Lemon']\n",
    "\n",
    "fruits_df = pd.DataFrame (fruits, columns=['Fruit'])  # Columns is used to set the column name\n",
    "\n",
    "fruits_df"
   ]
  },
  {
   "cell_type": "code",
   "execution_count": 43,
   "id": "db9d7387-8fdb-4648-b20b-b1296f62ac34",
   "metadata": {},
   "outputs": [
    {
     "data": {
      "text/html": [
       "<div>\n",
       "<style scoped>\n",
       "    .dataframe tbody tr th:only-of-type {\n",
       "        vertical-align: middle;\n",
       "    }\n",
       "\n",
       "    .dataframe tbody tr th {\n",
       "        vertical-align: top;\n",
       "    }\n",
       "\n",
       "    .dataframe thead th {\n",
       "        text-align: right;\n",
       "    }\n",
       "</style>\n",
       "<table border=\"1\" class=\"dataframe\">\n",
       "  <thead>\n",
       "    <tr style=\"text-align: right;\">\n",
       "      <th></th>\n",
       "      <th>Name</th>\n",
       "      <th>Age</th>\n",
       "      <th>Blood Group</th>\n",
       "    </tr>\n",
       "  </thead>\n",
       "  <tbody>\n",
       "    <tr>\n",
       "      <th>0</th>\n",
       "      <td>Mahesh</td>\n",
       "      <td>25</td>\n",
       "      <td>O+</td>\n",
       "    </tr>\n",
       "    <tr>\n",
       "      <th>1</th>\n",
       "      <td>Rudra</td>\n",
       "      <td>10</td>\n",
       "      <td>O+</td>\n",
       "    </tr>\n",
       "    <tr>\n",
       "      <th>2</th>\n",
       "      <td>Rani</td>\n",
       "      <td>24</td>\n",
       "      <td>B+</td>\n",
       "    </tr>\n",
       "    <tr>\n",
       "      <th>3</th>\n",
       "      <td>Mahira</td>\n",
       "      <td>15</td>\n",
       "      <td>B+</td>\n",
       "    </tr>\n",
       "  </tbody>\n",
       "</table>\n",
       "</div>"
      ],
      "text/plain": [
       "     Name  Age Blood Group\n",
       "0  Mahesh   25          O+\n",
       "1   Rudra   10          O+\n",
       "2    Rani   24          B+\n",
       "3  Mahira   15          B+"
      ]
     },
     "execution_count": 43,
     "metadata": {},
     "output_type": "execute_result"
    }
   ],
   "source": [
    "people = [['Mahesh',25,'O+'], ['Rudra',10,'O+'], ['Rani',24,'B+'], ['Mahira',15,'B+']]\n",
    "\n",
    "people_df = pd.DataFrame (people, columns= ['Name', 'Age', 'Blood Group'])\n",
    "\n",
    "people_df"
   ]
  },
  {
   "cell_type": "code",
   "execution_count": 45,
   "id": "934080b8-6e7b-4bd5-83cb-c565fadbc7e9",
   "metadata": {},
   "outputs": [
    {
     "data": {
      "text/html": [
       "<div>\n",
       "<style scoped>\n",
       "    .dataframe tbody tr th:only-of-type {\n",
       "        vertical-align: middle;\n",
       "    }\n",
       "\n",
       "    .dataframe tbody tr th {\n",
       "        vertical-align: top;\n",
       "    }\n",
       "\n",
       "    .dataframe thead th {\n",
       "        text-align: right;\n",
       "    }\n",
       "</style>\n",
       "<table border=\"1\" class=\"dataframe\">\n",
       "  <thead>\n",
       "    <tr style=\"text-align: right;\">\n",
       "      <th></th>\n",
       "      <th>Name</th>\n",
       "      <th>Age</th>\n",
       "      <th>Blood Group</th>\n",
       "    </tr>\n",
       "  </thead>\n",
       "  <tbody>\n",
       "    <tr>\n",
       "      <th>0</th>\n",
       "      <td>Mahesh</td>\n",
       "      <td>25</td>\n",
       "      <td>O+</td>\n",
       "    </tr>\n",
       "    <tr>\n",
       "      <th>1</th>\n",
       "      <td>Rudra</td>\n",
       "      <td>10</td>\n",
       "      <td>O+</td>\n",
       "    </tr>\n",
       "    <tr>\n",
       "      <th>2</th>\n",
       "      <td>Rani</td>\n",
       "      <td>24</td>\n",
       "      <td>B+</td>\n",
       "    </tr>\n",
       "    <tr>\n",
       "      <th>3</th>\n",
       "      <td>Mahira</td>\n",
       "      <td>15</td>\n",
       "      <td>B+</td>\n",
       "    </tr>\n",
       "  </tbody>\n",
       "</table>\n",
       "</div>"
      ],
      "text/plain": [
       "     Name  Age Blood Group\n",
       "0  Mahesh   25          O+\n",
       "1   Rudra   10          O+\n",
       "2    Rani   24          B+\n",
       "3  Mahira   15          B+"
      ]
     },
     "execution_count": 45,
     "metadata": {},
     "output_type": "execute_result"
    }
   ],
   "source": [
    "people = {'Name':['Mahesh', 'Rudra', 'Rani', 'Mahira'], 'Age':[25,10,24,15], 'Blood Group':['O+', 'O+', 'B+', 'B+']}\n",
    "\n",
    "people_df = pd.DataFrame (people)\n",
    "\n",
    "people_df"
   ]
  },
  {
   "cell_type": "code",
   "execution_count": 46,
   "id": "9c52ad10-05ac-4194-ae25-757c4d475e93",
   "metadata": {},
   "outputs": [],
   "source": [
    "# 2.3.1 Loading files into DataFrame"
   ]
  },
  {
   "cell_type": "code",
   "execution_count": 49,
   "id": "b44f5899-6909-496c-ac1d-2213a71454f4",
   "metadata": {},
   "outputs": [],
   "source": [
    "# DataFrame can load data from many types of files like csv,excel sheets,text,etc."
   ]
  },
  {
   "cell_type": "code",
   "execution_count": 51,
   "id": "caa7c2d7-f52d-4678-bdbc-6581df6e676d",
   "metadata": {
    "colab": {
     "autoexec": {
      "startup": false,
      "wait_interval": 0
     }
    },
    "colab_type": "code",
    "id": "FXk-EXOO_49j",
    "outputId": "15758ffb-1d41-4058-d95a-9c265eae15c8"
   },
   "outputs": [
    {
     "data": {
      "text/html": [
       "<div>\n",
       "<style scoped>\n",
       "    .dataframe tbody tr th:only-of-type {\n",
       "        vertical-align: middle;\n",
       "    }\n",
       "\n",
       "    .dataframe tbody tr th {\n",
       "        vertical-align: top;\n",
       "    }\n",
       "\n",
       "    .dataframe thead th {\n",
       "        text-align: right;\n",
       "    }\n",
       "</style>\n",
       "<table border=\"1\" class=\"dataframe\">\n",
       "  <thead>\n",
       "    <tr style=\"text-align: right;\">\n",
       "      <th></th>\n",
       "      <th>ID</th>\n",
       "      <th>Address</th>\n",
       "      <th>City</th>\n",
       "      <th>State</th>\n",
       "      <th>Country</th>\n",
       "      <th>Name</th>\n",
       "      <th>Employees</th>\n",
       "    </tr>\n",
       "  </thead>\n",
       "  <tbody>\n",
       "    <tr>\n",
       "      <th>0</th>\n",
       "      <td>1</td>\n",
       "      <td>3666 21st St</td>\n",
       "      <td>San Francisco</td>\n",
       "      <td>CA 94114</td>\n",
       "      <td>USA</td>\n",
       "      <td>Madeira</td>\n",
       "      <td>8</td>\n",
       "    </tr>\n",
       "    <tr>\n",
       "      <th>1</th>\n",
       "      <td>2</td>\n",
       "      <td>735 Dolores St</td>\n",
       "      <td>San Francisco</td>\n",
       "      <td>CA 94119</td>\n",
       "      <td>USA</td>\n",
       "      <td>Bready Shop</td>\n",
       "      <td>15</td>\n",
       "    </tr>\n",
       "    <tr>\n",
       "      <th>2</th>\n",
       "      <td>3</td>\n",
       "      <td>332 Hill St</td>\n",
       "      <td>San Francisco</td>\n",
       "      <td>California 94114</td>\n",
       "      <td>USA</td>\n",
       "      <td>Super River</td>\n",
       "      <td>25</td>\n",
       "    </tr>\n",
       "    <tr>\n",
       "      <th>3</th>\n",
       "      <td>4</td>\n",
       "      <td>3995 23rd St</td>\n",
       "      <td>San Francisco</td>\n",
       "      <td>CA 94114</td>\n",
       "      <td>USA</td>\n",
       "      <td>Ben's Shop</td>\n",
       "      <td>10</td>\n",
       "    </tr>\n",
       "    <tr>\n",
       "      <th>4</th>\n",
       "      <td>5</td>\n",
       "      <td>1056 Sanchez St</td>\n",
       "      <td>San Francisco</td>\n",
       "      <td>California</td>\n",
       "      <td>USA</td>\n",
       "      <td>Sanchez</td>\n",
       "      <td>12</td>\n",
       "    </tr>\n",
       "    <tr>\n",
       "      <th>5</th>\n",
       "      <td>6</td>\n",
       "      <td>551 Alvarado St</td>\n",
       "      <td>San Francisco</td>\n",
       "      <td>CA 94114</td>\n",
       "      <td>USA</td>\n",
       "      <td>Richvalley</td>\n",
       "      <td>20</td>\n",
       "    </tr>\n",
       "  </tbody>\n",
       "</table>\n",
       "</div>"
      ],
      "text/plain": [
       "   ID          Address           City             State Country         Name  \\\n",
       "0   1     3666 21st St  San Francisco          CA 94114     USA      Madeira   \n",
       "1   2   735 Dolores St  San Francisco          CA 94119     USA  Bready Shop   \n",
       "2   3      332 Hill St  San Francisco  California 94114     USA  Super River   \n",
       "3   4     3995 23rd St  San Francisco          CA 94114     USA   Ben's Shop   \n",
       "4   5  1056 Sanchez St  San Francisco        California     USA      Sanchez   \n",
       "5   6  551 Alvarado St  San Francisco          CA 94114     USA   Richvalley   \n",
       "\n",
       "   Employees  \n",
       "0          8  \n",
       "1         15  \n",
       "2         25  \n",
       "3         10  \n",
       "4         12  \n",
       "5         20  "
      ]
     },
     "execution_count": 51,
     "metadata": {},
     "output_type": "execute_result"
    }
   ],
   "source": [
    "csv_df = pd.read_csv('https://raw.githubusercontent.com/insaid2018/Term-1/master/Data/Casestudy/supermarkets.csv') # read_csv is used to read csv file\n",
    "\n",
    "csv_df"
   ]
  },
  {
   "cell_type": "code",
   "execution_count": 61,
   "id": "7639a96d-b478-4c5b-82ee-27fc14c1a22d",
   "metadata": {
    "colab": {
     "autoexec": {
      "startup": false,
      "wait_interval": 0
     }
    },
    "colab_type": "code",
    "id": "rKrEiIo0_49s",
    "outputId": "3e8ffda8-ed9d-4bcd-a425-99cdb61b64fa"
   },
   "outputs": [
    {
     "data": {
      "text/html": [
       "<div>\n",
       "<style scoped>\n",
       "    .dataframe tbody tr th:only-of-type {\n",
       "        vertical-align: middle;\n",
       "    }\n",
       "\n",
       "    .dataframe tbody tr th {\n",
       "        vertical-align: top;\n",
       "    }\n",
       "\n",
       "    .dataframe thead th {\n",
       "        text-align: right;\n",
       "    }\n",
       "</style>\n",
       "<table border=\"1\" class=\"dataframe\">\n",
       "  <thead>\n",
       "    <tr style=\"text-align: right;\">\n",
       "      <th></th>\n",
       "      <th>ID</th>\n",
       "      <th>Address</th>\n",
       "      <th>City</th>\n",
       "      <th>State</th>\n",
       "      <th>Country</th>\n",
       "      <th>Name</th>\n",
       "      <th>Employees</th>\n",
       "    </tr>\n",
       "  </thead>\n",
       "  <tbody>\n",
       "    <tr>\n",
       "      <th>0</th>\n",
       "      <td>1</td>\n",
       "      <td>3666 21st St</td>\n",
       "      <td>San Francisco</td>\n",
       "      <td>CA 94114</td>\n",
       "      <td>USA</td>\n",
       "      <td>Madeira</td>\n",
       "      <td>8</td>\n",
       "    </tr>\n",
       "    <tr>\n",
       "      <th>1</th>\n",
       "      <td>2</td>\n",
       "      <td>735 Dolores St</td>\n",
       "      <td>San Francisco</td>\n",
       "      <td>CA 94119</td>\n",
       "      <td>USA</td>\n",
       "      <td>Bready Shop</td>\n",
       "      <td>15</td>\n",
       "    </tr>\n",
       "    <tr>\n",
       "      <th>2</th>\n",
       "      <td>3</td>\n",
       "      <td>332 Hill St</td>\n",
       "      <td>San Francisco</td>\n",
       "      <td>California 94114</td>\n",
       "      <td>USA</td>\n",
       "      <td>Super River</td>\n",
       "      <td>25</td>\n",
       "    </tr>\n",
       "    <tr>\n",
       "      <th>3</th>\n",
       "      <td>4</td>\n",
       "      <td>3995 23rd St</td>\n",
       "      <td>San Francisco</td>\n",
       "      <td>CA 94114</td>\n",
       "      <td>USA</td>\n",
       "      <td>Ben's Shop</td>\n",
       "      <td>10</td>\n",
       "    </tr>\n",
       "    <tr>\n",
       "      <th>4</th>\n",
       "      <td>5</td>\n",
       "      <td>1056 Sanchez St</td>\n",
       "      <td>San Francisco</td>\n",
       "      <td>California</td>\n",
       "      <td>USA</td>\n",
       "      <td>Sanchez</td>\n",
       "      <td>12</td>\n",
       "    </tr>\n",
       "    <tr>\n",
       "      <th>5</th>\n",
       "      <td>6</td>\n",
       "      <td>551 Alvarado St</td>\n",
       "      <td>San Francisco</td>\n",
       "      <td>CA 94114</td>\n",
       "      <td>USA</td>\n",
       "      <td>Richvalley</td>\n",
       "      <td>20</td>\n",
       "    </tr>\n",
       "  </tbody>\n",
       "</table>\n",
       "</div>"
      ],
      "text/plain": [
       "   ID          Address           City             State Country         Name  \\\n",
       "0   1     3666 21st St  San Francisco          CA 94114     USA      Madeira   \n",
       "1   2   735 Dolores St  San Francisco          CA 94119     USA  Bready Shop   \n",
       "2   3      332 Hill St  San Francisco  California 94114     USA  Super River   \n",
       "3   4     3995 23rd St  San Francisco          CA 94114     USA   Ben's Shop   \n",
       "4   5  1056 Sanchez St  San Francisco        California     USA      Sanchez   \n",
       "5   6  551 Alvarado St  San Francisco          CA 94114     USA   Richvalley   \n",
       "\n",
       "   Employees  \n",
       "0          8  \n",
       "1         15  \n",
       "2         25  \n",
       "3         10  \n",
       "4         12  \n",
       "5         20  "
      ]
     },
     "execution_count": 61,
     "metadata": {},
     "output_type": "execute_result"
    }
   ],
   "source": [
    "json_df = pd.read_json('https://raw.githubusercontent.com/insaid2018/Term-1/master/Data/Casestudy/supermarkets.json')                             # read_json is used to read json file\n",
    "\n",
    "json_df"
   ]
  },
  {
   "cell_type": "code",
   "execution_count": 63,
   "id": "6baf6880-b341-40a8-be86-a160c49c3679",
   "metadata": {},
   "outputs": [],
   "source": [
    "# Data structure serparated by semi-colon"
   ]
  },
  {
   "cell_type": "code",
   "execution_count": 65,
   "id": "a2e9a419-8b3c-4f06-9f9d-7c7c21416f55",
   "metadata": {
    "colab": {
     "autoexec": {
      "startup": false,
      "wait_interval": 0
     }
    },
    "colab_type": "code",
    "id": "ZW7HN56S_494",
    "outputId": "d6d2eee7-cadd-4e7d-f009-15991e05d2f6"
   },
   "outputs": [
    {
     "data": {
      "text/html": [
       "<div>\n",
       "<style scoped>\n",
       "    .dataframe tbody tr th:only-of-type {\n",
       "        vertical-align: middle;\n",
       "    }\n",
       "\n",
       "    .dataframe tbody tr th {\n",
       "        vertical-align: top;\n",
       "    }\n",
       "\n",
       "    .dataframe thead th {\n",
       "        text-align: right;\n",
       "    }\n",
       "</style>\n",
       "<table border=\"1\" class=\"dataframe\">\n",
       "  <thead>\n",
       "    <tr style=\"text-align: right;\">\n",
       "      <th></th>\n",
       "      <th>ID</th>\n",
       "      <th>Address</th>\n",
       "      <th>City</th>\n",
       "      <th>State</th>\n",
       "      <th>Country</th>\n",
       "      <th>Name</th>\n",
       "      <th>Employees</th>\n",
       "    </tr>\n",
       "  </thead>\n",
       "  <tbody>\n",
       "    <tr>\n",
       "      <th>0</th>\n",
       "      <td>1</td>\n",
       "      <td>3666 21st St</td>\n",
       "      <td>San Francisco</td>\n",
       "      <td>CA 94114</td>\n",
       "      <td>USA</td>\n",
       "      <td>Madeira</td>\n",
       "      <td>8</td>\n",
       "    </tr>\n",
       "    <tr>\n",
       "      <th>1</th>\n",
       "      <td>2</td>\n",
       "      <td>735 Dolores St</td>\n",
       "      <td>San Francisco</td>\n",
       "      <td>CA 94119</td>\n",
       "      <td>USA</td>\n",
       "      <td>Bready Shop</td>\n",
       "      <td>15</td>\n",
       "    </tr>\n",
       "    <tr>\n",
       "      <th>2</th>\n",
       "      <td>3</td>\n",
       "      <td>332 Hill St</td>\n",
       "      <td>San Francisco</td>\n",
       "      <td>California 94114</td>\n",
       "      <td>USA</td>\n",
       "      <td>Super River</td>\n",
       "      <td>25</td>\n",
       "    </tr>\n",
       "    <tr>\n",
       "      <th>3</th>\n",
       "      <td>4</td>\n",
       "      <td>3995 23rd St</td>\n",
       "      <td>San Francisco</td>\n",
       "      <td>CA 94114</td>\n",
       "      <td>USA</td>\n",
       "      <td>Ben's Shop</td>\n",
       "      <td>10</td>\n",
       "    </tr>\n",
       "    <tr>\n",
       "      <th>4</th>\n",
       "      <td>5</td>\n",
       "      <td>1056 Sanchez St</td>\n",
       "      <td>San Francisco</td>\n",
       "      <td>California</td>\n",
       "      <td>USA</td>\n",
       "      <td>Sanchez</td>\n",
       "      <td>12</td>\n",
       "    </tr>\n",
       "    <tr>\n",
       "      <th>5</th>\n",
       "      <td>6</td>\n",
       "      <td>551 Alvarado St</td>\n",
       "      <td>San Francisco</td>\n",
       "      <td>CA 94114</td>\n",
       "      <td>USA</td>\n",
       "      <td>Richvalley</td>\n",
       "      <td>20</td>\n",
       "    </tr>\n",
       "  </tbody>\n",
       "</table>\n",
       "</div>"
      ],
      "text/plain": [
       "   ID          Address           City             State Country          Name  \\\n",
       "0   1     3666 21st St  San Francisco          CA 94114     USA       Madeira   \n",
       "1   2   735 Dolores St  San Francisco          CA 94119     USA   Bready Shop   \n",
       "2   3      332 Hill St  San Francisco  California 94114     USA   Super River   \n",
       "3   4     3995 23rd St  San Francisco          CA 94114     USA    Ben's Shop   \n",
       "4   5  1056 Sanchez St  San Francisco        California     USA       Sanchez   \n",
       "5   6  551 Alvarado St  San Francisco          CA 94114     USA    Richvalley   \n",
       "\n",
       "   Employees  \n",
       "0          8  \n",
       "1         15  \n",
       "2         25  \n",
       "3         10  \n",
       "4         12  \n",
       "5         20  "
      ]
     },
     "execution_count": 65,
     "metadata": {},
     "output_type": "execute_result"
    }
   ],
   "source": [
    "txt_df = pd.read_csv('https://raw.githubusercontent.com/insaid2018/Term-1/master/Data/Casestudy/supermarkets-semi-colons.txt', sep=';')            # sep is used to separate the dataset\n",
    "\n",
    "txt_df               "
   ]
  },
  {
   "cell_type": "code",
   "execution_count": 66,
   "id": "3729ed8f-4acc-49a7-b98d-57a1d8bfc3dd",
   "metadata": {
    "colab": {
     "autoexec": {
      "startup": false,
      "wait_interval": 0
     }
    },
    "colab_type": "code",
    "id": "mvz4xOlM_499",
    "outputId": "cb1a0ffb-1801-4087-d21f-c61593067c88"
   },
   "outputs": [
    {
     "data": {
      "text/html": [
       "<div>\n",
       "<style scoped>\n",
       "    .dataframe tbody tr th:only-of-type {\n",
       "        vertical-align: middle;\n",
       "    }\n",
       "\n",
       "    .dataframe tbody tr th {\n",
       "        vertical-align: top;\n",
       "    }\n",
       "\n",
       "    .dataframe thead th {\n",
       "        text-align: right;\n",
       "    }\n",
       "</style>\n",
       "<table border=\"1\" class=\"dataframe\">\n",
       "  <thead>\n",
       "    <tr style=\"text-align: right;\">\n",
       "      <th></th>\n",
       "      <th>ID</th>\n",
       "      <th>Address</th>\n",
       "      <th>City</th>\n",
       "      <th>State</th>\n",
       "      <th>Country</th>\n",
       "      <th>Name</th>\n",
       "      <th>Employees</th>\n",
       "    </tr>\n",
       "  </thead>\n",
       "  <tbody>\n",
       "    <tr>\n",
       "      <th>0</th>\n",
       "      <td>1</td>\n",
       "      <td>3666 21st St</td>\n",
       "      <td>San Francisco</td>\n",
       "      <td>CA 94114</td>\n",
       "      <td>USA</td>\n",
       "      <td>Madeira</td>\n",
       "      <td>8</td>\n",
       "    </tr>\n",
       "    <tr>\n",
       "      <th>1</th>\n",
       "      <td>2</td>\n",
       "      <td>735 Dolores St</td>\n",
       "      <td>San Francisco</td>\n",
       "      <td>CA 94119</td>\n",
       "      <td>USA</td>\n",
       "      <td>Bready Shop</td>\n",
       "      <td>15</td>\n",
       "    </tr>\n",
       "    <tr>\n",
       "      <th>2</th>\n",
       "      <td>3</td>\n",
       "      <td>332 Hill St</td>\n",
       "      <td>San Francisco</td>\n",
       "      <td>California 94114</td>\n",
       "      <td>USA</td>\n",
       "      <td>Super River</td>\n",
       "      <td>25</td>\n",
       "    </tr>\n",
       "    <tr>\n",
       "      <th>3</th>\n",
       "      <td>4</td>\n",
       "      <td>3995 23rd St</td>\n",
       "      <td>San Francisco</td>\n",
       "      <td>CA 94114</td>\n",
       "      <td>USA</td>\n",
       "      <td>Ben's Shop</td>\n",
       "      <td>10</td>\n",
       "    </tr>\n",
       "    <tr>\n",
       "      <th>4</th>\n",
       "      <td>5</td>\n",
       "      <td>1056 Sanchez St</td>\n",
       "      <td>San Francisco</td>\n",
       "      <td>California</td>\n",
       "      <td>USA</td>\n",
       "      <td>Sanchez</td>\n",
       "      <td>12</td>\n",
       "    </tr>\n",
       "    <tr>\n",
       "      <th>5</th>\n",
       "      <td>6</td>\n",
       "      <td>551 Alvarado St</td>\n",
       "      <td>San Francisco</td>\n",
       "      <td>CA 94114</td>\n",
       "      <td>USA</td>\n",
       "      <td>Richvalley</td>\n",
       "      <td>20</td>\n",
       "    </tr>\n",
       "  </tbody>\n",
       "</table>\n",
       "</div>"
      ],
      "text/plain": [
       "   ID          Address           City             State Country         Name  \\\n",
       "0   1     3666 21st St  San Francisco          CA 94114     USA      Madeira   \n",
       "1   2   735 Dolores St  San Francisco          CA 94119     USA  Bready Shop   \n",
       "2   3      332 Hill St  San Francisco  California 94114     USA  Super River   \n",
       "3   4     3995 23rd St  San Francisco          CA 94114     USA   Ben's Shop   \n",
       "4   5  1056 Sanchez St  San Francisco        California     USA      Sanchez   \n",
       "5   6  551 Alvarado St  San Francisco          CA 94114     USA   Richvalley   \n",
       "\n",
       "   Employees  \n",
       "0          8  \n",
       "1         15  \n",
       "2         25  \n",
       "3         10  \n",
       "4         12  \n",
       "5         20  "
      ]
     },
     "execution_count": 66,
     "metadata": {},
     "output_type": "execute_result"
    }
   ],
   "source": [
    "web_df = pd.read_csv('https://raw.githubusercontent.com/insaid2018/Term-1/master/Data/Casestudy/supermarkets.csv')            # write the url of the csv file within ''.\n",
    "\n",
    "web_df"
   ]
  },
  {
   "cell_type": "code",
   "execution_count": 67,
   "id": "b6c3ab2d-bffe-44b1-85b3-15408f6a2e36",
   "metadata": {},
   "outputs": [],
   "source": [
    "# 2.3.2 Attributes of a DataFrame"
   ]
  },
  {
   "cell_type": "code",
   "execution_count": 68,
   "id": "bdab06b5-8bf1-4ffa-ab19-a6d688ca2055",
   "metadata": {},
   "outputs": [],
   "source": [
    "# After loading yoyr dataframe you m,ay be intrested to know the columns,shape, datatypes."
   ]
  },
  {
   "cell_type": "code",
   "execution_count": 69,
   "id": "895be47e-dc22-45be-b2d2-f739269f8ffc",
   "metadata": {},
   "outputs": [
    {
     "data": {
      "text/plain": [
       "(4, 3)"
      ]
     },
     "execution_count": 69,
     "metadata": {},
     "output_type": "execute_result"
    }
   ],
   "source": [
    "people_df.shape                               # Shape function is used to know the dimensions"
   ]
  },
  {
   "cell_type": "code",
   "execution_count": 70,
   "id": "09a87fb8-f1f6-4a85-92e3-c3dfb7a6dfc9",
   "metadata": {},
   "outputs": [
    {
     "name": "stdout",
     "output_type": "stream",
     "text": [
      "Name           object\n",
      "Age             int64\n",
      "Blood Group    object\n",
      "dtype: object\n"
     ]
    }
   ],
   "source": [
    "print (people_df.dtypes)                      # Dtypes function for information about layout"
   ]
  },
  {
   "cell_type": "code",
   "execution_count": 71,
   "id": "3ecba251-daaf-4d45-9741-d497c2151417",
   "metadata": {},
   "outputs": [
    {
     "name": "stdout",
     "output_type": "stream",
     "text": [
      "<class 'pandas.core.frame.DataFrame'>\n",
      "RangeIndex: 4 entries, 0 to 3\n",
      "Data columns (total 3 columns):\n",
      " #   Column       Non-Null Count  Dtype \n",
      "---  ------       --------------  ----- \n",
      " 0   Name         4 non-null      object\n",
      " 1   Age          4 non-null      int64 \n",
      " 2   Blood Group  4 non-null      object\n",
      "dtypes: int64(1), object(2)\n",
      "memory usage: 128.0+ bytes\n"
     ]
    }
   ],
   "source": [
    "people_df.info()"
   ]
  },
  {
   "cell_type": "code",
   "execution_count": 72,
   "id": "12448552-be81-4429-9ac7-88f76a525154",
   "metadata": {},
   "outputs": [
    {
     "data": {
      "text/plain": [
       "Name           4\n",
       "Age            4\n",
       "Blood Group    4\n",
       "dtype: int64"
      ]
     },
     "execution_count": 72,
     "metadata": {},
     "output_type": "execute_result"
    }
   ],
   "source": [
    "people_df.count()"
   ]
  },
  {
   "cell_type": "code",
   "execution_count": 73,
   "id": "160a1fd5-8dd7-4561-968b-6669631ab4e5",
   "metadata": {},
   "outputs": [
    {
     "data": {
      "text/plain": [
       "RangeIndex(start=0, stop=4, step=1)"
      ]
     },
     "execution_count": 73,
     "metadata": {},
     "output_type": "execute_result"
    }
   ],
   "source": [
    "people_df.index"
   ]
  },
  {
   "cell_type": "code",
   "execution_count": 74,
   "id": "e9ef8721-8307-4d3b-bda1-338cc02752af",
   "metadata": {},
   "outputs": [
    {
     "data": {
      "text/plain": [
       "Index(['Name', 'Age', 'Blood Group'], dtype='object')"
      ]
     },
     "execution_count": 74,
     "metadata": {},
     "output_type": "execute_result"
    }
   ],
   "source": [
    "people_df.columns"
   ]
  },
  {
   "cell_type": "code",
   "execution_count": 75,
   "id": "c4272a6b-8525-40a1-9db3-95e7e22ffbf6",
   "metadata": {},
   "outputs": [
    {
     "data": {
      "text/html": [
       "<div>\n",
       "<style scoped>\n",
       "    .dataframe tbody tr th:only-of-type {\n",
       "        vertical-align: middle;\n",
       "    }\n",
       "\n",
       "    .dataframe tbody tr th {\n",
       "        vertical-align: top;\n",
       "    }\n",
       "\n",
       "    .dataframe thead th {\n",
       "        text-align: right;\n",
       "    }\n",
       "</style>\n",
       "<table border=\"1\" class=\"dataframe\">\n",
       "  <thead>\n",
       "    <tr style=\"text-align: right;\">\n",
       "      <th></th>\n",
       "      <th>Age</th>\n",
       "      <th>Blood Group</th>\n",
       "    </tr>\n",
       "    <tr>\n",
       "      <th>Name</th>\n",
       "      <th></th>\n",
       "      <th></th>\n",
       "    </tr>\n",
       "  </thead>\n",
       "  <tbody>\n",
       "    <tr>\n",
       "      <th>Mahesh</th>\n",
       "      <td>25</td>\n",
       "      <td>O+</td>\n",
       "    </tr>\n",
       "    <tr>\n",
       "      <th>Rudra</th>\n",
       "      <td>10</td>\n",
       "      <td>O+</td>\n",
       "    </tr>\n",
       "    <tr>\n",
       "      <th>Rani</th>\n",
       "      <td>24</td>\n",
       "      <td>B+</td>\n",
       "    </tr>\n",
       "    <tr>\n",
       "      <th>Mahira</th>\n",
       "      <td>15</td>\n",
       "      <td>B+</td>\n",
       "    </tr>\n",
       "  </tbody>\n",
       "</table>\n",
       "</div>"
      ],
      "text/plain": [
       "        Age Blood Group\n",
       "Name                   \n",
       "Mahesh   25          O+\n",
       "Rudra    10          O+\n",
       "Rani     24          B+\n",
       "Mahira   15          B+"
      ]
     },
     "execution_count": 75,
     "metadata": {},
     "output_type": "execute_result"
    }
   ],
   "source": [
    "newe_people_df = people_df.set_index ('Name')\n",
    "\n",
    "newe_people_df"
   ]
  },
  {
   "cell_type": "code",
   "execution_count": 76,
   "id": "cb574932-83e6-41d5-9464-78fb0babba65",
   "metadata": {},
   "outputs": [],
   "source": [
    "# 2.3.3 Selection, Addition and Deletion"
   ]
  },
  {
   "cell_type": "code",
   "execution_count": 77,
   "id": "8b5926d5-8ca4-4820-a18c-46ee88d84c04",
   "metadata": {},
   "outputs": [],
   "source": [
    "# Selecting a row or a column, adding column to existing dataframe. and deleting a row or column"
   ]
  },
  {
   "cell_type": "code",
   "execution_count": 78,
   "id": "bddcd852-73aa-442a-9f1d-e4a77d41ef59",
   "metadata": {},
   "outputs": [
    {
     "data": {
      "text/plain": [
       "0    O+\n",
       "1    O+\n",
       "2    B+\n",
       "3    B+\n",
       "Name: Blood Group, dtype: object"
      ]
     },
     "execution_count": 78,
     "metadata": {},
     "output_type": "execute_result"
    }
   ],
   "source": [
    "people_df ['Blood Group']                             # Column selection"
   ]
  },
  {
   "cell_type": "code",
   "execution_count": 79,
   "id": "c68f99d9-c935-40ae-845e-ca11b43de223",
   "metadata": {},
   "outputs": [
    {
     "data": {
      "text/html": [
       "<div>\n",
       "<style scoped>\n",
       "    .dataframe tbody tr th:only-of-type {\n",
       "        vertical-align: middle;\n",
       "    }\n",
       "\n",
       "    .dataframe tbody tr th {\n",
       "        vertical-align: top;\n",
       "    }\n",
       "\n",
       "    .dataframe thead th {\n",
       "        text-align: right;\n",
       "    }\n",
       "</style>\n",
       "<table border=\"1\" class=\"dataframe\">\n",
       "  <thead>\n",
       "    <tr style=\"text-align: right;\">\n",
       "      <th></th>\n",
       "      <th>Name</th>\n",
       "      <th>Age</th>\n",
       "      <th>Blood Group</th>\n",
       "      <th>score</th>\n",
       "    </tr>\n",
       "  </thead>\n",
       "  <tbody>\n",
       "    <tr>\n",
       "      <th>0</th>\n",
       "      <td>Mahesh</td>\n",
       "      <td>25</td>\n",
       "      <td>O+</td>\n",
       "      <td>20</td>\n",
       "    </tr>\n",
       "    <tr>\n",
       "      <th>1</th>\n",
       "      <td>Rudra</td>\n",
       "      <td>10</td>\n",
       "      <td>O+</td>\n",
       "      <td>40</td>\n",
       "    </tr>\n",
       "    <tr>\n",
       "      <th>2</th>\n",
       "      <td>Rani</td>\n",
       "      <td>24</td>\n",
       "      <td>B+</td>\n",
       "      <td>60</td>\n",
       "    </tr>\n",
       "    <tr>\n",
       "      <th>3</th>\n",
       "      <td>Mahira</td>\n",
       "      <td>15</td>\n",
       "      <td>B+</td>\n",
       "      <td>70</td>\n",
       "    </tr>\n",
       "  </tbody>\n",
       "</table>\n",
       "</div>"
      ],
      "text/plain": [
       "     Name  Age Blood Group  score\n",
       "0  Mahesh   25          O+     20\n",
       "1   Rudra   10          O+     40\n",
       "2    Rani   24          B+     60\n",
       "3  Mahira   15          B+     70"
      ]
     },
     "execution_count": 79,
     "metadata": {},
     "output_type": "execute_result"
    }
   ],
   "source": [
    "people_df ['score'] = [20,40,60,70]                  # adding a new column\n",
    "\n",
    "people_df"
   ]
  },
  {
   "cell_type": "code",
   "execution_count": 81,
   "id": "d3aaa341-520a-4ed0-840b-adcf31e4291a",
   "metadata": {},
   "outputs": [
    {
     "data": {
      "text/html": [
       "<div>\n",
       "<style scoped>\n",
       "    .dataframe tbody tr th:only-of-type {\n",
       "        vertical-align: middle;\n",
       "    }\n",
       "\n",
       "    .dataframe tbody tr th {\n",
       "        vertical-align: top;\n",
       "    }\n",
       "\n",
       "    .dataframe thead th {\n",
       "        text-align: right;\n",
       "    }\n",
       "</style>\n",
       "<table border=\"1\" class=\"dataframe\">\n",
       "  <thead>\n",
       "    <tr style=\"text-align: right;\">\n",
       "      <th></th>\n",
       "      <th>Name</th>\n",
       "      <th>Age</th>\n",
       "      <th>Blood Group</th>\n",
       "      <th>score</th>\n",
       "      <th>Sum</th>\n",
       "    </tr>\n",
       "  </thead>\n",
       "  <tbody>\n",
       "    <tr>\n",
       "      <th>0</th>\n",
       "      <td>Mahesh</td>\n",
       "      <td>25</td>\n",
       "      <td>O+</td>\n",
       "      <td>20</td>\n",
       "      <td>45</td>\n",
       "    </tr>\n",
       "    <tr>\n",
       "      <th>1</th>\n",
       "      <td>Rudra</td>\n",
       "      <td>10</td>\n",
       "      <td>O+</td>\n",
       "      <td>40</td>\n",
       "      <td>50</td>\n",
       "    </tr>\n",
       "    <tr>\n",
       "      <th>2</th>\n",
       "      <td>Rani</td>\n",
       "      <td>24</td>\n",
       "      <td>B+</td>\n",
       "      <td>60</td>\n",
       "      <td>84</td>\n",
       "    </tr>\n",
       "    <tr>\n",
       "      <th>3</th>\n",
       "      <td>Mahira</td>\n",
       "      <td>15</td>\n",
       "      <td>B+</td>\n",
       "      <td>70</td>\n",
       "      <td>85</td>\n",
       "    </tr>\n",
       "  </tbody>\n",
       "</table>\n",
       "</div>"
      ],
      "text/plain": [
       "     Name  Age Blood Group  score  Sum\n",
       "0  Mahesh   25          O+     20   45\n",
       "1   Rudra   10          O+     40   50\n",
       "2    Rani   24          B+     60   84\n",
       "3  Mahira   15          B+     70   85"
      ]
     },
     "execution_count": 81,
     "metadata": {},
     "output_type": "execute_result"
    }
   ],
   "source": [
    "people_df ['Sum'] = people_df ['score'] + people_df ['Age']       # Addition of two column. yopu can perfrom any math opration\n",
    "\n",
    "people_df"
   ]
  },
  {
   "cell_type": "code",
   "execution_count": 84,
   "id": "3601cb83-2073-4061-915a-f1673c1bc385",
   "metadata": {},
   "outputs": [
    {
     "data": {
      "text/html": [
       "<div>\n",
       "<style scoped>\n",
       "    .dataframe tbody tr th:only-of-type {\n",
       "        vertical-align: middle;\n",
       "    }\n",
       "\n",
       "    .dataframe tbody tr th {\n",
       "        vertical-align: top;\n",
       "    }\n",
       "\n",
       "    .dataframe thead th {\n",
       "        text-align: right;\n",
       "    }\n",
       "</style>\n",
       "<table border=\"1\" class=\"dataframe\">\n",
       "  <thead>\n",
       "    <tr style=\"text-align: right;\">\n",
       "      <th></th>\n",
       "      <th>Name</th>\n",
       "      <th>Age</th>\n",
       "      <th>Blood Group</th>\n",
       "      <th>score</th>\n",
       "      <th>Sum</th>\n",
       "    </tr>\n",
       "  </thead>\n",
       "  <tbody>\n",
       "    <tr>\n",
       "      <th>0</th>\n",
       "      <td>Mahesh</td>\n",
       "      <td>25</td>\n",
       "      <td>O+</td>\n",
       "      <td>20</td>\n",
       "      <td>45</td>\n",
       "    </tr>\n",
       "    <tr>\n",
       "      <th>1</th>\n",
       "      <td>Rudra</td>\n",
       "      <td>10</td>\n",
       "      <td>O+</td>\n",
       "      <td>40</td>\n",
       "      <td>50</td>\n",
       "    </tr>\n",
       "    <tr>\n",
       "      <th>2</th>\n",
       "      <td>Rani</td>\n",
       "      <td>24</td>\n",
       "      <td>B+</td>\n",
       "      <td>60</td>\n",
       "      <td>84</td>\n",
       "    </tr>\n",
       "    <tr>\n",
       "      <th>3</th>\n",
       "      <td>Mahira</td>\n",
       "      <td>15</td>\n",
       "      <td>B+</td>\n",
       "      <td>70</td>\n",
       "      <td>85</td>\n",
       "    </tr>\n",
       "  </tbody>\n",
       "</table>\n",
       "</div>"
      ],
      "text/plain": [
       "     Name  Age Blood Group  score  Sum\n",
       "0  Mahesh   25          O+     20   45\n",
       "1   Rudra   10          O+     40   50\n",
       "2    Rani   24          B+     60   84\n",
       "3  Mahira   15          B+     70   85"
      ]
     },
     "execution_count": 84,
     "metadata": {},
     "output_type": "execute_result"
    }
   ],
   "source": [
    "people_df.drop ('Sum', axis=1)                  \n",
    "\n",
    "people_df"
   ]
  },
  {
   "cell_type": "code",
   "execution_count": 87,
   "id": "29e292a1-b5e4-4c28-b68a-a1462fa8b8d3",
   "metadata": {},
   "outputs": [
    {
     "data": {
      "text/html": [
       "<div>\n",
       "<style scoped>\n",
       "    .dataframe tbody tr th:only-of-type {\n",
       "        vertical-align: middle;\n",
       "    }\n",
       "\n",
       "    .dataframe tbody tr th {\n",
       "        vertical-align: top;\n",
       "    }\n",
       "\n",
       "    .dataframe thead th {\n",
       "        text-align: right;\n",
       "    }\n",
       "</style>\n",
       "<table border=\"1\" class=\"dataframe\">\n",
       "  <thead>\n",
       "    <tr style=\"text-align: right;\">\n",
       "      <th></th>\n",
       "      <th>Name</th>\n",
       "      <th>Age</th>\n",
       "      <th>Blood Group</th>\n",
       "      <th>score</th>\n",
       "    </tr>\n",
       "  </thead>\n",
       "  <tbody>\n",
       "    <tr>\n",
       "      <th>0</th>\n",
       "      <td>Mahesh</td>\n",
       "      <td>25</td>\n",
       "      <td>O+</td>\n",
       "      <td>20</td>\n",
       "    </tr>\n",
       "    <tr>\n",
       "      <th>1</th>\n",
       "      <td>Rudra</td>\n",
       "      <td>10</td>\n",
       "      <td>O+</td>\n",
       "      <td>40</td>\n",
       "    </tr>\n",
       "    <tr>\n",
       "      <th>2</th>\n",
       "      <td>Rani</td>\n",
       "      <td>24</td>\n",
       "      <td>B+</td>\n",
       "      <td>60</td>\n",
       "    </tr>\n",
       "    <tr>\n",
       "      <th>3</th>\n",
       "      <td>Mahira</td>\n",
       "      <td>15</td>\n",
       "      <td>B+</td>\n",
       "      <td>70</td>\n",
       "    </tr>\n",
       "  </tbody>\n",
       "</table>\n",
       "</div>"
      ],
      "text/plain": [
       "     Name  Age Blood Group  score\n",
       "0  Mahesh   25          O+     20\n",
       "1   Rudra   10          O+     40\n",
       "2    Rani   24          B+     60\n",
       "3  Mahira   15          B+     70"
      ]
     },
     "execution_count": 87,
     "metadata": {},
     "output_type": "execute_result"
    }
   ],
   "source": [
    "people_df.drop('Sum', axis=1, inplace=True)           # Drop sum and modify the dataframe\n",
    "\n",
    "people_df"
   ]
  },
  {
   "cell_type": "code",
   "execution_count": 88,
   "id": "b2b65bfd-3434-462a-baae-342c520d54d7",
   "metadata": {},
   "outputs": [],
   "source": [
    "del people_df ['score']                              # Column deletion using del"
   ]
  },
  {
   "cell_type": "code",
   "execution_count": 90,
   "id": "e8285cc0-689f-4e5d-9a98-7ce1640791d3",
   "metadata": {},
   "outputs": [
    {
     "data": {
      "text/html": [
       "<div>\n",
       "<style scoped>\n",
       "    .dataframe tbody tr th:only-of-type {\n",
       "        vertical-align: middle;\n",
       "    }\n",
       "\n",
       "    .dataframe tbody tr th {\n",
       "        vertical-align: top;\n",
       "    }\n",
       "\n",
       "    .dataframe thead th {\n",
       "        text-align: right;\n",
       "    }\n",
       "</style>\n",
       "<table border=\"1\" class=\"dataframe\">\n",
       "  <thead>\n",
       "    <tr style=\"text-align: right;\">\n",
       "      <th></th>\n",
       "      <th>Age</th>\n",
       "      <th>Blood Group</th>\n",
       "    </tr>\n",
       "    <tr>\n",
       "      <th>Name</th>\n",
       "      <th></th>\n",
       "      <th></th>\n",
       "    </tr>\n",
       "  </thead>\n",
       "  <tbody>\n",
       "    <tr>\n",
       "      <th>Mahesh</th>\n",
       "      <td>25</td>\n",
       "      <td>O+</td>\n",
       "    </tr>\n",
       "    <tr>\n",
       "      <th>Rudra</th>\n",
       "      <td>10</td>\n",
       "      <td>O+</td>\n",
       "    </tr>\n",
       "    <tr>\n",
       "      <th>Rani</th>\n",
       "      <td>24</td>\n",
       "      <td>B+</td>\n",
       "    </tr>\n",
       "    <tr>\n",
       "      <th>Mahira</th>\n",
       "      <td>15</td>\n",
       "      <td>B+</td>\n",
       "    </tr>\n",
       "  </tbody>\n",
       "</table>\n",
       "</div>"
      ],
      "text/plain": [
       "        Age Blood Group\n",
       "Name                   \n",
       "Mahesh   25          O+\n",
       "Rudra    10          O+\n",
       "Rani     24          B+\n",
       "Mahira   15          B+"
      ]
     },
     "execution_count": 90,
     "metadata": {},
     "output_type": "execute_result"
    }
   ],
   "source": [
    "new_people_df = people_df.set_index('Name')          # Creates a new df with name set as index\n",
    "\n",
    "new_people_df"
   ]
  },
  {
   "cell_type": "code",
   "execution_count": 92,
   "id": "b67ea6dd-0854-4fc4-a24e-64b03cf672bb",
   "metadata": {},
   "outputs": [
    {
     "data": {
      "text/html": [
       "<div>\n",
       "<style scoped>\n",
       "    .dataframe tbody tr th:only-of-type {\n",
       "        vertical-align: middle;\n",
       "    }\n",
       "\n",
       "    .dataframe tbody tr th {\n",
       "        vertical-align: top;\n",
       "    }\n",
       "\n",
       "    .dataframe thead th {\n",
       "        text-align: right;\n",
       "    }\n",
       "</style>\n",
       "<table border=\"1\" class=\"dataframe\">\n",
       "  <thead>\n",
       "    <tr style=\"text-align: right;\">\n",
       "      <th></th>\n",
       "      <th>Name</th>\n",
       "      <th>Age</th>\n",
       "    </tr>\n",
       "  </thead>\n",
       "  <tbody>\n",
       "    <tr>\n",
       "      <th>0</th>\n",
       "      <td>Mahesh</td>\n",
       "      <td>25</td>\n",
       "    </tr>\n",
       "    <tr>\n",
       "      <th>1</th>\n",
       "      <td>Rudra</td>\n",
       "      <td>10</td>\n",
       "    </tr>\n",
       "    <tr>\n",
       "      <th>2</th>\n",
       "      <td>Rani</td>\n",
       "      <td>24</td>\n",
       "    </tr>\n",
       "    <tr>\n",
       "      <th>3</th>\n",
       "      <td>Mahira</td>\n",
       "      <td>15</td>\n",
       "    </tr>\n",
       "  </tbody>\n",
       "</table>\n",
       "</div>"
      ],
      "text/plain": [
       "     Name  Age\n",
       "0  Mahesh   25\n",
       "1   Rudra   10\n",
       "2    Rani   24\n",
       "3  Mahira   15"
      ]
     },
     "execution_count": 92,
     "metadata": {},
     "output_type": "execute_result"
    }
   ],
   "source": [
    "people_df.drop (['Blood Group'],1)                   # Droping 'Bllod Group' column"
   ]
  },
  {
   "cell_type": "code",
   "execution_count": 95,
   "id": "6c842cd1-a753-409d-a526-7c3e44975db6",
   "metadata": {},
   "outputs": [
    {
     "data": {
      "text/html": [
       "<div>\n",
       "<style scoped>\n",
       "    .dataframe tbody tr th:only-of-type {\n",
       "        vertical-align: middle;\n",
       "    }\n",
       "\n",
       "    .dataframe tbody tr th {\n",
       "        vertical-align: top;\n",
       "    }\n",
       "\n",
       "    .dataframe thead th {\n",
       "        text-align: right;\n",
       "    }\n",
       "</style>\n",
       "<table border=\"1\" class=\"dataframe\">\n",
       "  <thead>\n",
       "    <tr style=\"text-align: right;\">\n",
       "      <th></th>\n",
       "      <th>Age</th>\n",
       "      <th>Blood Group</th>\n",
       "    </tr>\n",
       "    <tr>\n",
       "      <th>Name</th>\n",
       "      <th></th>\n",
       "      <th></th>\n",
       "    </tr>\n",
       "  </thead>\n",
       "  <tbody>\n",
       "    <tr>\n",
       "      <th>Mahesh</th>\n",
       "      <td>25</td>\n",
       "      <td>O+</td>\n",
       "    </tr>\n",
       "    <tr>\n",
       "      <th>Rani</th>\n",
       "      <td>24</td>\n",
       "      <td>B+</td>\n",
       "    </tr>\n",
       "    <tr>\n",
       "      <th>Mahira</th>\n",
       "      <td>15</td>\n",
       "      <td>B+</td>\n",
       "    </tr>\n",
       "  </tbody>\n",
       "</table>\n",
       "</div>"
      ],
      "text/plain": [
       "        Age Blood Group\n",
       "Name                   \n",
       "Mahesh   25          O+\n",
       "Rani     24          B+\n",
       "Mahira   15          B+"
      ]
     },
     "execution_count": 95,
     "metadata": {},
     "output_type": "execute_result"
    }
   ],
   "source": [
    "new_people_df.drop ('Rudra', axis=0)                 # Row deletion using row index"
   ]
  },
  {
   "cell_type": "code",
   "execution_count": 96,
   "id": "2931536b-c5a6-4e3c-b5e5-b69ddec49058",
   "metadata": {},
   "outputs": [],
   "source": [
    "# 2.3.4 Indexing in dataframe"
   ]
  },
  {
   "cell_type": "code",
   "execution_count": 98,
   "id": "9f0a62fd-8aab-42f1-a793-5c7d875de959",
   "metadata": {},
   "outputs": [],
   "source": [
    "# Using numbers record or columns index using iloc and using names record name or column name using loc"
   ]
  },
  {
   "cell_type": "code",
   "execution_count": 99,
   "id": "ca446609-4168-4776-b082-b581979eee06",
   "metadata": {
    "colab": {
     "autoexec": {
      "startup": false,
      "wait_interval": 0
     }
    },
    "colab_type": "code",
    "id": "8mjz19oG_4-1",
    "outputId": "705a94dc-1a9b-4dd1-d84c-0bf5bf0c4ba9"
   },
   "outputs": [
    {
     "data": {
      "text/html": [
       "<div>\n",
       "<style scoped>\n",
       "    .dataframe tbody tr th:only-of-type {\n",
       "        vertical-align: middle;\n",
       "    }\n",
       "\n",
       "    .dataframe tbody tr th {\n",
       "        vertical-align: top;\n",
       "    }\n",
       "\n",
       "    .dataframe thead th {\n",
       "        text-align: right;\n",
       "    }\n",
       "</style>\n",
       "<table border=\"1\" class=\"dataframe\">\n",
       "  <thead>\n",
       "    <tr style=\"text-align: right;\">\n",
       "      <th></th>\n",
       "      <th>ID</th>\n",
       "      <th>Address</th>\n",
       "      <th>City</th>\n",
       "      <th>State</th>\n",
       "      <th>Country</th>\n",
       "      <th>Name</th>\n",
       "      <th>Employees</th>\n",
       "    </tr>\n",
       "  </thead>\n",
       "  <tbody>\n",
       "    <tr>\n",
       "      <th>0</th>\n",
       "      <td>1</td>\n",
       "      <td>3666 21st St</td>\n",
       "      <td>San Francisco</td>\n",
       "      <td>CA 94114</td>\n",
       "      <td>USA</td>\n",
       "      <td>Madeira</td>\n",
       "      <td>8</td>\n",
       "    </tr>\n",
       "    <tr>\n",
       "      <th>1</th>\n",
       "      <td>2</td>\n",
       "      <td>735 Dolores St</td>\n",
       "      <td>San Francisco</td>\n",
       "      <td>CA 94119</td>\n",
       "      <td>USA</td>\n",
       "      <td>Bready Shop</td>\n",
       "      <td>15</td>\n",
       "    </tr>\n",
       "    <tr>\n",
       "      <th>2</th>\n",
       "      <td>3</td>\n",
       "      <td>332 Hill St</td>\n",
       "      <td>San Francisco</td>\n",
       "      <td>California 94114</td>\n",
       "      <td>USA</td>\n",
       "      <td>Super River</td>\n",
       "      <td>25</td>\n",
       "    </tr>\n",
       "    <tr>\n",
       "      <th>3</th>\n",
       "      <td>4</td>\n",
       "      <td>3995 23rd St</td>\n",
       "      <td>San Francisco</td>\n",
       "      <td>CA 94114</td>\n",
       "      <td>USA</td>\n",
       "      <td>Ben's Shop</td>\n",
       "      <td>10</td>\n",
       "    </tr>\n",
       "    <tr>\n",
       "      <th>4</th>\n",
       "      <td>5</td>\n",
       "      <td>1056 Sanchez St</td>\n",
       "      <td>San Francisco</td>\n",
       "      <td>California</td>\n",
       "      <td>USA</td>\n",
       "      <td>Sanchez</td>\n",
       "      <td>12</td>\n",
       "    </tr>\n",
       "    <tr>\n",
       "      <th>5</th>\n",
       "      <td>6</td>\n",
       "      <td>551 Alvarado St</td>\n",
       "      <td>San Francisco</td>\n",
       "      <td>CA 94114</td>\n",
       "      <td>USA</td>\n",
       "      <td>Richvalley</td>\n",
       "      <td>20</td>\n",
       "    </tr>\n",
       "  </tbody>\n",
       "</table>\n",
       "</div>"
      ],
      "text/plain": [
       "   ID          Address           City             State Country         Name  \\\n",
       "0   1     3666 21st St  San Francisco          CA 94114     USA      Madeira   \n",
       "1   2   735 Dolores St  San Francisco          CA 94119     USA  Bready Shop   \n",
       "2   3      332 Hill St  San Francisco  California 94114     USA  Super River   \n",
       "3   4     3995 23rd St  San Francisco          CA 94114     USA   Ben's Shop   \n",
       "4   5  1056 Sanchez St  San Francisco        California     USA      Sanchez   \n",
       "5   6  551 Alvarado St  San Francisco          CA 94114     USA   Richvalley   \n",
       "\n",
       "   Employees  \n",
       "0          8  \n",
       "1         15  \n",
       "2         25  \n",
       "3         10  \n",
       "4         12  \n",
       "5         20  "
      ]
     },
     "execution_count": 99,
     "metadata": {},
     "output_type": "execute_result"
    }
   ],
   "source": [
    "market_df = pd.read_csv('http://pythonhow.com/supermarkets.csv')\n",
    "\n",
    "market_df"
   ]
  },
  {
   "cell_type": "code",
   "execution_count": 100,
   "id": "3283e841-bbf2-4ebf-905c-fb774e91158e",
   "metadata": {},
   "outputs": [],
   "source": [
    "market_df = market_df.set_index ('ID')                                # Use the ID column as index"
   ]
  },
  {
   "cell_type": "code",
   "execution_count": 101,
   "id": "86559ae2-8e4c-4d50-b8f8-0e184a29cc0d",
   "metadata": {},
   "outputs": [
    {
     "data": {
      "text/html": [
       "<div>\n",
       "<style scoped>\n",
       "    .dataframe tbody tr th:only-of-type {\n",
       "        vertical-align: middle;\n",
       "    }\n",
       "\n",
       "    .dataframe tbody tr th {\n",
       "        vertical-align: top;\n",
       "    }\n",
       "\n",
       "    .dataframe thead th {\n",
       "        text-align: right;\n",
       "    }\n",
       "</style>\n",
       "<table border=\"1\" class=\"dataframe\">\n",
       "  <thead>\n",
       "    <tr style=\"text-align: right;\">\n",
       "      <th></th>\n",
       "      <th>Address</th>\n",
       "      <th>City</th>\n",
       "      <th>State</th>\n",
       "      <th>Country</th>\n",
       "      <th>Name</th>\n",
       "    </tr>\n",
       "    <tr>\n",
       "      <th>ID</th>\n",
       "      <th></th>\n",
       "      <th></th>\n",
       "      <th></th>\n",
       "      <th></th>\n",
       "      <th></th>\n",
       "    </tr>\n",
       "  </thead>\n",
       "  <tbody>\n",
       "    <tr>\n",
       "      <th>1</th>\n",
       "      <td>3666 21st St</td>\n",
       "      <td>San Francisco</td>\n",
       "      <td>CA 94114</td>\n",
       "      <td>USA</td>\n",
       "      <td>Madeira</td>\n",
       "    </tr>\n",
       "    <tr>\n",
       "      <th>2</th>\n",
       "      <td>735 Dolores St</td>\n",
       "      <td>San Francisco</td>\n",
       "      <td>CA 94119</td>\n",
       "      <td>USA</td>\n",
       "      <td>Bready Shop</td>\n",
       "    </tr>\n",
       "    <tr>\n",
       "      <th>3</th>\n",
       "      <td>332 Hill St</td>\n",
       "      <td>San Francisco</td>\n",
       "      <td>California 94114</td>\n",
       "      <td>USA</td>\n",
       "      <td>Super River</td>\n",
       "    </tr>\n",
       "    <tr>\n",
       "      <th>4</th>\n",
       "      <td>3995 23rd St</td>\n",
       "      <td>San Francisco</td>\n",
       "      <td>CA 94114</td>\n",
       "      <td>USA</td>\n",
       "      <td>Ben's Shop</td>\n",
       "    </tr>\n",
       "  </tbody>\n",
       "</table>\n",
       "</div>"
      ],
      "text/plain": [
       "           Address           City             State Country         Name\n",
       "ID                                                                      \n",
       "1     3666 21st St  San Francisco          CA 94114     USA      Madeira\n",
       "2   735 Dolores St  San Francisco          CA 94119     USA  Bready Shop\n",
       "3      332 Hill St  San Francisco  California 94114     USA  Super River\n",
       "4     3995 23rd St  San Francisco          CA 94114     USA   Ben's Shop"
      ]
     },
     "execution_count": 101,
     "metadata": {},
     "output_type": "execute_result"
    }
   ],
   "source": [
    "market_df.iloc [0:4, 0:5]                                            # It will returns from 0-4 and column from 0-5"
   ]
  },
  {
   "cell_type": "code",
   "execution_count": 102,
   "id": "14cc4239-ecfe-4c16-9927-4ebbbcc497d3",
   "metadata": {},
   "outputs": [
    {
     "data": {
      "text/html": [
       "<div>\n",
       "<style scoped>\n",
       "    .dataframe tbody tr th:only-of-type {\n",
       "        vertical-align: middle;\n",
       "    }\n",
       "\n",
       "    .dataframe tbody tr th {\n",
       "        vertical-align: top;\n",
       "    }\n",
       "\n",
       "    .dataframe thead th {\n",
       "        text-align: right;\n",
       "    }\n",
       "</style>\n",
       "<table border=\"1\" class=\"dataframe\">\n",
       "  <thead>\n",
       "    <tr style=\"text-align: right;\">\n",
       "      <th></th>\n",
       "      <th>Address</th>\n",
       "      <th>City</th>\n",
       "      <th>State</th>\n",
       "      <th>Country</th>\n",
       "      <th>Name</th>\n",
       "    </tr>\n",
       "    <tr>\n",
       "      <th>ID</th>\n",
       "      <th></th>\n",
       "      <th></th>\n",
       "      <th></th>\n",
       "      <th></th>\n",
       "      <th></th>\n",
       "    </tr>\n",
       "  </thead>\n",
       "  <tbody>\n",
       "    <tr>\n",
       "      <th>1</th>\n",
       "      <td>3666 21st St</td>\n",
       "      <td>San Francisco</td>\n",
       "      <td>CA 94114</td>\n",
       "      <td>USA</td>\n",
       "      <td>Madeira</td>\n",
       "    </tr>\n",
       "    <tr>\n",
       "      <th>2</th>\n",
       "      <td>735 Dolores St</td>\n",
       "      <td>San Francisco</td>\n",
       "      <td>CA 94119</td>\n",
       "      <td>USA</td>\n",
       "      <td>Bready Shop</td>\n",
       "    </tr>\n",
       "    <tr>\n",
       "      <th>3</th>\n",
       "      <td>332 Hill St</td>\n",
       "      <td>San Francisco</td>\n",
       "      <td>California 94114</td>\n",
       "      <td>USA</td>\n",
       "      <td>Super River</td>\n",
       "    </tr>\n",
       "    <tr>\n",
       "      <th>4</th>\n",
       "      <td>3995 23rd St</td>\n",
       "      <td>San Francisco</td>\n",
       "      <td>CA 94114</td>\n",
       "      <td>USA</td>\n",
       "      <td>Ben's Shop</td>\n",
       "    </tr>\n",
       "    <tr>\n",
       "      <th>5</th>\n",
       "      <td>1056 Sanchez St</td>\n",
       "      <td>San Francisco</td>\n",
       "      <td>California</td>\n",
       "      <td>USA</td>\n",
       "      <td>Sanchez</td>\n",
       "    </tr>\n",
       "    <tr>\n",
       "      <th>6</th>\n",
       "      <td>551 Alvarado St</td>\n",
       "      <td>San Francisco</td>\n",
       "      <td>CA 94114</td>\n",
       "      <td>USA</td>\n",
       "      <td>Richvalley</td>\n",
       "    </tr>\n",
       "  </tbody>\n",
       "</table>\n",
       "</div>"
      ],
      "text/plain": [
       "            Address           City             State Country         Name\n",
       "ID                                                                       \n",
       "1      3666 21st St  San Francisco          CA 94114     USA      Madeira\n",
       "2    735 Dolores St  San Francisco          CA 94119     USA  Bready Shop\n",
       "3       332 Hill St  San Francisco  California 94114     USA  Super River\n",
       "4      3995 23rd St  San Francisco          CA 94114     USA   Ben's Shop\n",
       "5   1056 Sanchez St  San Francisco        California     USA      Sanchez\n",
       "6   551 Alvarado St  San Francisco          CA 94114     USA   Richvalley"
      ]
     },
     "execution_count": 102,
     "metadata": {},
     "output_type": "execute_result"
    }
   ],
   "source": [
    "market_df.iloc [:, 0:5]                                             # Return the column from 0-5"
   ]
  },
  {
   "cell_type": "code",
   "execution_count": 103,
   "id": "c1714cd4-eabb-4ed2-9cb2-d5a3beaafe90",
   "metadata": {},
   "outputs": [
    {
     "data": {
      "text/html": [
       "<div>\n",
       "<style scoped>\n",
       "    .dataframe tbody tr th:only-of-type {\n",
       "        vertical-align: middle;\n",
       "    }\n",
       "\n",
       "    .dataframe tbody tr th {\n",
       "        vertical-align: top;\n",
       "    }\n",
       "\n",
       "    .dataframe thead th {\n",
       "        text-align: right;\n",
       "    }\n",
       "</style>\n",
       "<table border=\"1\" class=\"dataframe\">\n",
       "  <thead>\n",
       "    <tr style=\"text-align: right;\">\n",
       "      <th></th>\n",
       "      <th>Address</th>\n",
       "      <th>City</th>\n",
       "      <th>State</th>\n",
       "      <th>Country</th>\n",
       "      <th>Name</th>\n",
       "      <th>Employees</th>\n",
       "    </tr>\n",
       "    <tr>\n",
       "      <th>ID</th>\n",
       "      <th></th>\n",
       "      <th></th>\n",
       "      <th></th>\n",
       "      <th></th>\n",
       "      <th></th>\n",
       "      <th></th>\n",
       "    </tr>\n",
       "  </thead>\n",
       "  <tbody>\n",
       "    <tr>\n",
       "      <th>1</th>\n",
       "      <td>3666 21st St</td>\n",
       "      <td>San Francisco</td>\n",
       "      <td>CA 94114</td>\n",
       "      <td>USA</td>\n",
       "      <td>Madeira</td>\n",
       "      <td>8</td>\n",
       "    </tr>\n",
       "    <tr>\n",
       "      <th>2</th>\n",
       "      <td>735 Dolores St</td>\n",
       "      <td>San Francisco</td>\n",
       "      <td>CA 94119</td>\n",
       "      <td>USA</td>\n",
       "      <td>Bready Shop</td>\n",
       "      <td>15</td>\n",
       "    </tr>\n",
       "    <tr>\n",
       "      <th>3</th>\n",
       "      <td>332 Hill St</td>\n",
       "      <td>San Francisco</td>\n",
       "      <td>California 94114</td>\n",
       "      <td>USA</td>\n",
       "      <td>Super River</td>\n",
       "      <td>25</td>\n",
       "    </tr>\n",
       "    <tr>\n",
       "      <th>4</th>\n",
       "      <td>3995 23rd St</td>\n",
       "      <td>San Francisco</td>\n",
       "      <td>CA 94114</td>\n",
       "      <td>USA</td>\n",
       "      <td>Ben's Shop</td>\n",
       "      <td>10</td>\n",
       "    </tr>\n",
       "  </tbody>\n",
       "</table>\n",
       "</div>"
      ],
      "text/plain": [
       "           Address           City             State Country         Name  \\\n",
       "ID                                                                         \n",
       "1     3666 21st St  San Francisco          CA 94114     USA      Madeira   \n",
       "2   735 Dolores St  San Francisco          CA 94119     USA  Bready Shop   \n",
       "3      332 Hill St  San Francisco  California 94114     USA  Super River   \n",
       "4     3995 23rd St  San Francisco          CA 94114     USA   Ben's Shop   \n",
       "\n",
       "    Employees  \n",
       "ID             \n",
       "1           8  \n",
       "2          15  \n",
       "3          25  \n",
       "4          10  "
      ]
     },
     "execution_count": 103,
     "metadata": {},
     "output_type": "execute_result"
    }
   ],
   "source": [
    "market_df.iloc [0:4, :]                                             # return all the rows from 0-4"
   ]
  },
  {
   "cell_type": "code",
   "execution_count": 104,
   "id": "ad955a15-8992-4967-826f-9786f6ce7a76",
   "metadata": {},
   "outputs": [
    {
     "data": {
      "text/plain": [
       "ID\n",
       "1      3666 21st St\n",
       "2    735 Dolores St\n",
       "3       332 Hill St\n",
       "4      3995 23rd St\n",
       "Name: Address, dtype: object"
      ]
     },
     "execution_count": 104,
     "metadata": {},
     "output_type": "execute_result"
    }
   ],
   "source": [
    "market_df.loc [1:4, \"Address\"]                                     # Returns ID 1-4 and column address"
   ]
  },
  {
   "cell_type": "code",
   "execution_count": 105,
   "id": "edd3741b-cb25-4c83-96d8-9e6dd3801b52",
   "metadata": {},
   "outputs": [
    {
     "data": {
      "text/html": [
       "<div>\n",
       "<style scoped>\n",
       "    .dataframe tbody tr th:only-of-type {\n",
       "        vertical-align: middle;\n",
       "    }\n",
       "\n",
       "    .dataframe tbody tr th {\n",
       "        vertical-align: top;\n",
       "    }\n",
       "\n",
       "    .dataframe thead th {\n",
       "        text-align: right;\n",
       "    }\n",
       "</style>\n",
       "<table border=\"1\" class=\"dataframe\">\n",
       "  <thead>\n",
       "    <tr style=\"text-align: right;\">\n",
       "      <th></th>\n",
       "      <th>Address</th>\n",
       "      <th>City</th>\n",
       "      <th>State</th>\n",
       "      <th>Country</th>\n",
       "    </tr>\n",
       "    <tr>\n",
       "      <th>ID</th>\n",
       "      <th></th>\n",
       "      <th></th>\n",
       "      <th></th>\n",
       "      <th></th>\n",
       "    </tr>\n",
       "  </thead>\n",
       "  <tbody>\n",
       "    <tr>\n",
       "      <th>1</th>\n",
       "      <td>3666 21st St</td>\n",
       "      <td>San Francisco</td>\n",
       "      <td>CA 94114</td>\n",
       "      <td>USA</td>\n",
       "    </tr>\n",
       "    <tr>\n",
       "      <th>2</th>\n",
       "      <td>735 Dolores St</td>\n",
       "      <td>San Francisco</td>\n",
       "      <td>CA 94119</td>\n",
       "      <td>USA</td>\n",
       "    </tr>\n",
       "    <tr>\n",
       "      <th>3</th>\n",
       "      <td>332 Hill St</td>\n",
       "      <td>San Francisco</td>\n",
       "      <td>California 94114</td>\n",
       "      <td>USA</td>\n",
       "    </tr>\n",
       "    <tr>\n",
       "      <th>4</th>\n",
       "      <td>3995 23rd St</td>\n",
       "      <td>San Francisco</td>\n",
       "      <td>CA 94114</td>\n",
       "      <td>USA</td>\n",
       "    </tr>\n",
       "  </tbody>\n",
       "</table>\n",
       "</div>"
      ],
      "text/plain": [
       "           Address           City             State Country\n",
       "ID                                                         \n",
       "1     3666 21st St  San Francisco          CA 94114     USA\n",
       "2   735 Dolores St  San Francisco          CA 94119     USA\n",
       "3      332 Hill St  San Francisco  California 94114     USA\n",
       "4     3995 23rd St  San Francisco          CA 94114     USA"
      ]
     },
     "execution_count": 105,
     "metadata": {},
     "output_type": "execute_result"
    }
   ],
   "source": [
    "market_df.loc [1:4, \"Address\": \"Country\"]                        # Returns ID 1-4 column address to country"
   ]
  },
  {
   "cell_type": "code",
   "execution_count": 107,
   "id": "70c5fd91-e53b-4eee-8399-a61a70b5033c",
   "metadata": {},
   "outputs": [
    {
     "data": {
      "text/html": [
       "<div>\n",
       "<style scoped>\n",
       "    .dataframe tbody tr th:only-of-type {\n",
       "        vertical-align: middle;\n",
       "    }\n",
       "\n",
       "    .dataframe tbody tr th {\n",
       "        vertical-align: top;\n",
       "    }\n",
       "\n",
       "    .dataframe thead th {\n",
       "        text-align: right;\n",
       "    }\n",
       "</style>\n",
       "<table border=\"1\" class=\"dataframe\">\n",
       "  <thead>\n",
       "    <tr style=\"text-align: right;\">\n",
       "      <th></th>\n",
       "      <th>State</th>\n",
       "      <th>Country</th>\n",
       "      <th>Name</th>\n",
       "      <th>Employees</th>\n",
       "    </tr>\n",
       "    <tr>\n",
       "      <th>ID</th>\n",
       "      <th></th>\n",
       "      <th></th>\n",
       "      <th></th>\n",
       "      <th></th>\n",
       "    </tr>\n",
       "  </thead>\n",
       "  <tbody>\n",
       "    <tr>\n",
       "      <th>1</th>\n",
       "      <td>CA 94114</td>\n",
       "      <td>USA</td>\n",
       "      <td>Madeira</td>\n",
       "      <td>8</td>\n",
       "    </tr>\n",
       "    <tr>\n",
       "      <th>2</th>\n",
       "      <td>CA 94119</td>\n",
       "      <td>USA</td>\n",
       "      <td>Bready Shop</td>\n",
       "      <td>15</td>\n",
       "    </tr>\n",
       "    <tr>\n",
       "      <th>3</th>\n",
       "      <td>California 94114</td>\n",
       "      <td>USA</td>\n",
       "      <td>Super River</td>\n",
       "      <td>25</td>\n",
       "    </tr>\n",
       "    <tr>\n",
       "      <th>4</th>\n",
       "      <td>CA 94114</td>\n",
       "      <td>USA</td>\n",
       "      <td>Ben's Shop</td>\n",
       "      <td>10</td>\n",
       "    </tr>\n",
       "    <tr>\n",
       "      <th>5</th>\n",
       "      <td>California</td>\n",
       "      <td>USA</td>\n",
       "      <td>Sanchez</td>\n",
       "      <td>12</td>\n",
       "    </tr>\n",
       "    <tr>\n",
       "      <th>6</th>\n",
       "      <td>CA 94114</td>\n",
       "      <td>USA</td>\n",
       "      <td>Richvalley</td>\n",
       "      <td>20</td>\n",
       "    </tr>\n",
       "  </tbody>\n",
       "</table>\n",
       "</div>"
      ],
      "text/plain": [
       "               State Country         Name  Employees\n",
       "ID                                                  \n",
       "1           CA 94114     USA      Madeira          8\n",
       "2           CA 94119     USA  Bready Shop         15\n",
       "3   California 94114     USA  Super River         25\n",
       "4           CA 94114     USA   Ben's Shop         10\n",
       "5         California     USA      Sanchez         12\n",
       "6           CA 94114     USA   Richvalley         20"
      ]
     },
     "execution_count": 107,
     "metadata": {},
     "output_type": "execute_result"
    }
   ],
   "source": [
    "market_df.loc [:, \"State\" :]                                     # Returns all the column from state onwards and all the rows"
   ]
  },
  {
   "cell_type": "code",
   "execution_count": 125,
   "id": "c8fba7df-8d82-4167-ac31-77b5bcdc64b1",
   "metadata": {},
   "outputs": [],
   "source": [
    "# 2.3.5 Merging, Concatenating and Appending"
   ]
  },
  {
   "cell_type": "code",
   "execution_count": 133,
   "id": "cf8e98d7-f0b3-4446-9476-4f9d8b45ecab",
   "metadata": {},
   "outputs": [],
   "source": [
    "# We saw how to add rows or columns. here will see how to merge two dataframes"
   ]
  },
  {
   "cell_type": "code",
   "execution_count": 134,
   "id": "9bce479e-0c01-45ae-847c-596c28fcb456",
   "metadata": {
    "colab": {
     "autoexec": {
      "startup": false,
      "wait_interval": 0
     }
    },
    "colab_type": "code",
    "id": "Voo2cRh9_4_P"
   },
   "outputs": [],
   "source": [
    "df1 = pd.DataFrame({                                            # Lets create 2 dataframes\n",
    "    'id':[11,12,13,14,15],\n",
    "    'name':['Mahesh','Rudra','Rani','Mahira','Kemal'],\n",
    "    'sub':['English','Math','Marathi','science','History']\n",
    "})\n",
    "df2 = pd.DataFrame({\n",
    "    'id':[11,12,13,14,15],\n",
    "    'name':['Rudra','Rani','Mahira','Kemal','Nihan'],\n",
    "    'sub':['Marathi','Science','History','Hindi','Algebra']\n",
    "})"
   ]
  },
  {
   "cell_type": "code",
   "execution_count": 135,
   "id": "5393fb05-7590-46fd-93c3-72b997a18992",
   "metadata": {
    "colab": {
     "autoexec": {
      "startup": false,
      "wait_interval": 0
     }
    },
    "colab_type": "code",
    "id": "qEPrPDsj_4_R",
    "outputId": "39c26f42-cd2c-4040-b2d8-6a7aecb66eaf"
   },
   "outputs": [
    {
     "data": {
      "text/html": [
       "<div>\n",
       "<style scoped>\n",
       "    .dataframe tbody tr th:only-of-type {\n",
       "        vertical-align: middle;\n",
       "    }\n",
       "\n",
       "    .dataframe tbody tr th {\n",
       "        vertical-align: top;\n",
       "    }\n",
       "\n",
       "    .dataframe thead th {\n",
       "        text-align: right;\n",
       "    }\n",
       "</style>\n",
       "<table border=\"1\" class=\"dataframe\">\n",
       "  <thead>\n",
       "    <tr style=\"text-align: right;\">\n",
       "      <th></th>\n",
       "      <th>id</th>\n",
       "      <th>name</th>\n",
       "      <th>sub</th>\n",
       "    </tr>\n",
       "  </thead>\n",
       "  <tbody>\n",
       "    <tr>\n",
       "      <th>0</th>\n",
       "      <td>11</td>\n",
       "      <td>Mahesh</td>\n",
       "      <td>English</td>\n",
       "    </tr>\n",
       "    <tr>\n",
       "      <th>1</th>\n",
       "      <td>12</td>\n",
       "      <td>Rudra</td>\n",
       "      <td>Math</td>\n",
       "    </tr>\n",
       "    <tr>\n",
       "      <th>2</th>\n",
       "      <td>13</td>\n",
       "      <td>Rani</td>\n",
       "      <td>Marathi</td>\n",
       "    </tr>\n",
       "    <tr>\n",
       "      <th>3</th>\n",
       "      <td>14</td>\n",
       "      <td>Mahira</td>\n",
       "      <td>science</td>\n",
       "    </tr>\n",
       "    <tr>\n",
       "      <th>4</th>\n",
       "      <td>15</td>\n",
       "      <td>Kemal</td>\n",
       "      <td>History</td>\n",
       "    </tr>\n",
       "    <tr>\n",
       "      <th>0</th>\n",
       "      <td>11</td>\n",
       "      <td>Rudra</td>\n",
       "      <td>Marathi</td>\n",
       "    </tr>\n",
       "    <tr>\n",
       "      <th>1</th>\n",
       "      <td>12</td>\n",
       "      <td>Rani</td>\n",
       "      <td>Science</td>\n",
       "    </tr>\n",
       "    <tr>\n",
       "      <th>2</th>\n",
       "      <td>13</td>\n",
       "      <td>Mahira</td>\n",
       "      <td>History</td>\n",
       "    </tr>\n",
       "    <tr>\n",
       "      <th>3</th>\n",
       "      <td>14</td>\n",
       "      <td>Kemal</td>\n",
       "      <td>Hindi</td>\n",
       "    </tr>\n",
       "    <tr>\n",
       "      <th>4</th>\n",
       "      <td>15</td>\n",
       "      <td>Nihan</td>\n",
       "      <td>Algebra</td>\n",
       "    </tr>\n",
       "  </tbody>\n",
       "</table>\n",
       "</div>"
      ],
      "text/plain": [
       "   id    name      sub\n",
       "0  11  Mahesh  English\n",
       "1  12   Rudra     Math\n",
       "2  13    Rani  Marathi\n",
       "3  14  Mahira  science\n",
       "4  15   Kemal  History\n",
       "0  11   Rudra  Marathi\n",
       "1  12    Rani  Science\n",
       "2  13  Mahira  History\n",
       "3  14   Kemal    Hindi\n",
       "4  15   Nihan  Algebra"
      ]
     },
     "execution_count": 135,
     "metadata": {},
     "output_type": "execute_result"
    }
   ],
   "source": [
    "pd.concat([df1, df2], axis=0)                                  # Joining two DataFrame along the rows"
   ]
  },
  {
   "cell_type": "code",
   "execution_count": 136,
   "id": "24d7b90c-b577-4811-94f1-c174a917b660",
   "metadata": {},
   "outputs": [
    {
     "data": {
      "text/html": [
       "<div>\n",
       "<style scoped>\n",
       "    .dataframe tbody tr th:only-of-type {\n",
       "        vertical-align: middle;\n",
       "    }\n",
       "\n",
       "    .dataframe tbody tr th {\n",
       "        vertical-align: top;\n",
       "    }\n",
       "\n",
       "    .dataframe thead th {\n",
       "        text-align: right;\n",
       "    }\n",
       "</style>\n",
       "<table border=\"1\" class=\"dataframe\">\n",
       "  <thead>\n",
       "    <tr style=\"text-align: right;\">\n",
       "      <th></th>\n",
       "      <th>id</th>\n",
       "      <th>name</th>\n",
       "      <th>sub</th>\n",
       "      <th>id</th>\n",
       "      <th>name</th>\n",
       "      <th>sub</th>\n",
       "    </tr>\n",
       "  </thead>\n",
       "  <tbody>\n",
       "    <tr>\n",
       "      <th>0</th>\n",
       "      <td>11</td>\n",
       "      <td>Mahesh</td>\n",
       "      <td>English</td>\n",
       "      <td>11</td>\n",
       "      <td>Rudra</td>\n",
       "      <td>Marathi</td>\n",
       "    </tr>\n",
       "    <tr>\n",
       "      <th>1</th>\n",
       "      <td>12</td>\n",
       "      <td>Rudra</td>\n",
       "      <td>Math</td>\n",
       "      <td>12</td>\n",
       "      <td>Rani</td>\n",
       "      <td>Science</td>\n",
       "    </tr>\n",
       "    <tr>\n",
       "      <th>2</th>\n",
       "      <td>13</td>\n",
       "      <td>Rani</td>\n",
       "      <td>Marathi</td>\n",
       "      <td>13</td>\n",
       "      <td>Mahira</td>\n",
       "      <td>History</td>\n",
       "    </tr>\n",
       "    <tr>\n",
       "      <th>3</th>\n",
       "      <td>14</td>\n",
       "      <td>Mahira</td>\n",
       "      <td>science</td>\n",
       "      <td>14</td>\n",
       "      <td>Kemal</td>\n",
       "      <td>Hindi</td>\n",
       "    </tr>\n",
       "    <tr>\n",
       "      <th>4</th>\n",
       "      <td>15</td>\n",
       "      <td>Kemal</td>\n",
       "      <td>History</td>\n",
       "      <td>15</td>\n",
       "      <td>Nihan</td>\n",
       "      <td>Algebra</td>\n",
       "    </tr>\n",
       "  </tbody>\n",
       "</table>\n",
       "</div>"
      ],
      "text/plain": [
       "   id    name      sub  id    name      sub\n",
       "0  11  Mahesh  English  11   Rudra  Marathi\n",
       "1  12   Rudra     Math  12    Rani  Science\n",
       "2  13    Rani  Marathi  13  Mahira  History\n",
       "3  14  Mahira  science  14   Kemal    Hindi\n",
       "4  15   Kemal  History  15   Nihan  Algebra"
      ]
     },
     "execution_count": 136,
     "metadata": {},
     "output_type": "execute_result"
    }
   ],
   "source": [
    "pd.concat ([df1, df2], axis=1)                                 # Joining 2 Dataframe alomg the columns "
   ]
  },
  {
   "cell_type": "code",
   "execution_count": 137,
   "id": "613db8d5-4103-44d8-aefa-4fe04c1ed517",
   "metadata": {},
   "outputs": [
    {
     "data": {
      "text/html": [
       "<div>\n",
       "<style scoped>\n",
       "    .dataframe tbody tr th:only-of-type {\n",
       "        vertical-align: middle;\n",
       "    }\n",
       "\n",
       "    .dataframe tbody tr th {\n",
       "        vertical-align: top;\n",
       "    }\n",
       "\n",
       "    .dataframe thead th {\n",
       "        text-align: right;\n",
       "    }\n",
       "</style>\n",
       "<table border=\"1\" class=\"dataframe\">\n",
       "  <thead>\n",
       "    <tr style=\"text-align: right;\">\n",
       "      <th></th>\n",
       "      <th>id_x</th>\n",
       "      <th>name_x</th>\n",
       "      <th>sub</th>\n",
       "      <th>id_y</th>\n",
       "      <th>name_y</th>\n",
       "    </tr>\n",
       "  </thead>\n",
       "  <tbody>\n",
       "    <tr>\n",
       "      <th>0</th>\n",
       "      <td>13</td>\n",
       "      <td>Rani</td>\n",
       "      <td>Marathi</td>\n",
       "      <td>11</td>\n",
       "      <td>Rudra</td>\n",
       "    </tr>\n",
       "    <tr>\n",
       "      <th>1</th>\n",
       "      <td>15</td>\n",
       "      <td>Kemal</td>\n",
       "      <td>History</td>\n",
       "      <td>13</td>\n",
       "      <td>Mahira</td>\n",
       "    </tr>\n",
       "  </tbody>\n",
       "</table>\n",
       "</div>"
      ],
      "text/plain": [
       "   id_x name_x      sub  id_y  name_y\n",
       "0    13   Rani  Marathi    11   Rudra\n",
       "1    15  Kemal  History    13  Mahira"
      ]
     },
     "execution_count": 137,
     "metadata": {},
     "output_type": "execute_result"
    }
   ],
   "source": [
    "pd.merge (left=df1, right=df2, on='sub')                       # Joining 2 Dataframe using sub as key"
   ]
  },
  {
   "cell_type": "code",
   "execution_count": 142,
   "id": "729b2829-177d-4bd5-946d-82c06f411726",
   "metadata": {},
   "outputs": [
    {
     "data": {
      "text/html": [
       "<div>\n",
       "<style scoped>\n",
       "    .dataframe tbody tr th:only-of-type {\n",
       "        vertical-align: middle;\n",
       "    }\n",
       "\n",
       "    .dataframe tbody tr th {\n",
       "        vertical-align: top;\n",
       "    }\n",
       "\n",
       "    .dataframe thead th {\n",
       "        text-align: right;\n",
       "    }\n",
       "</style>\n",
       "<table border=\"1\" class=\"dataframe\">\n",
       "  <thead>\n",
       "    <tr style=\"text-align: right;\">\n",
       "      <th></th>\n",
       "      <th>id</th>\n",
       "      <th>name_x</th>\n",
       "      <th>sub_x</th>\n",
       "      <th>name_y</th>\n",
       "      <th>sub_y</th>\n",
       "    </tr>\n",
       "  </thead>\n",
       "  <tbody>\n",
       "    <tr>\n",
       "      <th>0</th>\n",
       "      <td>11</td>\n",
       "      <td>Mahesh</td>\n",
       "      <td>English</td>\n",
       "      <td>Rudra</td>\n",
       "      <td>Marathi</td>\n",
       "    </tr>\n",
       "    <tr>\n",
       "      <th>1</th>\n",
       "      <td>12</td>\n",
       "      <td>Rudra</td>\n",
       "      <td>Math</td>\n",
       "      <td>Rani</td>\n",
       "      <td>Science</td>\n",
       "    </tr>\n",
       "    <tr>\n",
       "      <th>2</th>\n",
       "      <td>13</td>\n",
       "      <td>Rani</td>\n",
       "      <td>Marathi</td>\n",
       "      <td>Mahira</td>\n",
       "      <td>History</td>\n",
       "    </tr>\n",
       "    <tr>\n",
       "      <th>3</th>\n",
       "      <td>14</td>\n",
       "      <td>Mahira</td>\n",
       "      <td>science</td>\n",
       "      <td>Kemal</td>\n",
       "      <td>Hindi</td>\n",
       "    </tr>\n",
       "    <tr>\n",
       "      <th>4</th>\n",
       "      <td>15</td>\n",
       "      <td>Kemal</td>\n",
       "      <td>History</td>\n",
       "      <td>Nihan</td>\n",
       "      <td>Algebra</td>\n",
       "    </tr>\n",
       "  </tbody>\n",
       "</table>\n",
       "</div>"
      ],
      "text/plain": [
       "   id  name_x    sub_x  name_y    sub_y\n",
       "0  11  Mahesh  English   Rudra  Marathi\n",
       "1  12   Rudra     Math    Rani  Science\n",
       "2  13    Rani  Marathi  Mahira  History\n",
       "3  14  Mahira  science   Kemal    Hindi\n",
       "4  15   Kemal  History   Nihan  Algebra"
      ]
     },
     "execution_count": 142,
     "metadata": {},
     "output_type": "execute_result"
    }
   ],
   "source": [
    "pd.merge (left=df1, right=df2, on='id')"
   ]
  },
  {
   "cell_type": "code",
   "execution_count": 144,
   "id": "9966cc37-1400-4210-8ed1-4f0c23c0aeb5",
   "metadata": {
    "colab": {
     "autoexec": {
      "startup": false,
      "wait_interval": 0
     }
    },
    "colab_type": "code",
    "id": "-wh60TjY_4_c"
   },
   "outputs": [
    {
     "data": {
      "text/html": [
       "<div>\n",
       "<style scoped>\n",
       "    .dataframe tbody tr th:only-of-type {\n",
       "        vertical-align: middle;\n",
       "    }\n",
       "\n",
       "    .dataframe tbody tr th {\n",
       "        vertical-align: top;\n",
       "    }\n",
       "\n",
       "    .dataframe thead th {\n",
       "        text-align: right;\n",
       "    }\n",
       "</style>\n",
       "<table border=\"1\" class=\"dataframe\">\n",
       "  <thead>\n",
       "    <tr style=\"text-align: right;\">\n",
       "      <th></th>\n",
       "      <th>id</th>\n",
       "      <th>name</th>\n",
       "      <th>sub</th>\n",
       "    </tr>\n",
       "  </thead>\n",
       "  <tbody>\n",
       "    <tr>\n",
       "      <th>0</th>\n",
       "      <td>20</td>\n",
       "      <td>Watson</td>\n",
       "      <td>Geo</td>\n",
       "    </tr>\n",
       "  </tbody>\n",
       "</table>\n",
       "</div>"
      ],
      "text/plain": [
       "   id    name  sub\n",
       "0  20  Watson  Geo"
      ]
     },
     "execution_count": 144,
     "metadata": {},
     "output_type": "execute_result"
    }
   ],
   "source": [
    "df3 = pd.DataFrame({'id':[20],                                  # Lets modify our row to a DataFrame\n",
    "                    'name':['Watson'], \n",
    "                    'sub':['Geo']})\n",
    "df3"
   ]
  },
  {
   "cell_type": "code",
   "execution_count": 145,
   "id": "d40e82bf-c663-4ab3-b2b2-12a4af6e20f1",
   "metadata": {},
   "outputs": [
    {
     "data": {
      "text/html": [
       "<div>\n",
       "<style scoped>\n",
       "    .dataframe tbody tr th:only-of-type {\n",
       "        vertical-align: middle;\n",
       "    }\n",
       "\n",
       "    .dataframe tbody tr th {\n",
       "        vertical-align: top;\n",
       "    }\n",
       "\n",
       "    .dataframe thead th {\n",
       "        text-align: right;\n",
       "    }\n",
       "</style>\n",
       "<table border=\"1\" class=\"dataframe\">\n",
       "  <thead>\n",
       "    <tr style=\"text-align: right;\">\n",
       "      <th></th>\n",
       "      <th>id</th>\n",
       "      <th>name</th>\n",
       "      <th>sub</th>\n",
       "    </tr>\n",
       "  </thead>\n",
       "  <tbody>\n",
       "    <tr>\n",
       "      <th>0</th>\n",
       "      <td>11</td>\n",
       "      <td>Mahesh</td>\n",
       "      <td>English</td>\n",
       "    </tr>\n",
       "    <tr>\n",
       "      <th>1</th>\n",
       "      <td>12</td>\n",
       "      <td>Rudra</td>\n",
       "      <td>Math</td>\n",
       "    </tr>\n",
       "    <tr>\n",
       "      <th>2</th>\n",
       "      <td>13</td>\n",
       "      <td>Rani</td>\n",
       "      <td>Marathi</td>\n",
       "    </tr>\n",
       "    <tr>\n",
       "      <th>3</th>\n",
       "      <td>14</td>\n",
       "      <td>Mahira</td>\n",
       "      <td>science</td>\n",
       "    </tr>\n",
       "    <tr>\n",
       "      <th>4</th>\n",
       "      <td>15</td>\n",
       "      <td>Kemal</td>\n",
       "      <td>History</td>\n",
       "    </tr>\n",
       "  </tbody>\n",
       "</table>\n",
       "</div>"
      ],
      "text/plain": [
       "   id    name      sub\n",
       "0  11  Mahesh  English\n",
       "1  12   Rudra     Math\n",
       "2  13    Rani  Marathi\n",
       "3  14  Mahira  science\n",
       "4  15   Kemal  History"
      ]
     },
     "execution_count": 145,
     "metadata": {},
     "output_type": "execute_result"
    }
   ],
   "source": [
    "df1"
   ]
  },
  {
   "cell_type": "code",
   "execution_count": 146,
   "id": "e5a38664-c8f4-479e-88a8-5f21cda7ea6d",
   "metadata": {},
   "outputs": [
    {
     "data": {
      "text/html": [
       "<div>\n",
       "<style scoped>\n",
       "    .dataframe tbody tr th:only-of-type {\n",
       "        vertical-align: middle;\n",
       "    }\n",
       "\n",
       "    .dataframe tbody tr th {\n",
       "        vertical-align: top;\n",
       "    }\n",
       "\n",
       "    .dataframe thead th {\n",
       "        text-align: right;\n",
       "    }\n",
       "</style>\n",
       "<table border=\"1\" class=\"dataframe\">\n",
       "  <thead>\n",
       "    <tr style=\"text-align: right;\">\n",
       "      <th></th>\n",
       "      <th>id</th>\n",
       "      <th>name</th>\n",
       "      <th>sub</th>\n",
       "    </tr>\n",
       "  </thead>\n",
       "  <tbody>\n",
       "    <tr>\n",
       "      <th>0</th>\n",
       "      <td>11</td>\n",
       "      <td>Mahesh</td>\n",
       "      <td>English</td>\n",
       "    </tr>\n",
       "    <tr>\n",
       "      <th>1</th>\n",
       "      <td>12</td>\n",
       "      <td>Rudra</td>\n",
       "      <td>Math</td>\n",
       "    </tr>\n",
       "    <tr>\n",
       "      <th>2</th>\n",
       "      <td>13</td>\n",
       "      <td>Rani</td>\n",
       "      <td>Marathi</td>\n",
       "    </tr>\n",
       "    <tr>\n",
       "      <th>3</th>\n",
       "      <td>14</td>\n",
       "      <td>Mahira</td>\n",
       "      <td>science</td>\n",
       "    </tr>\n",
       "    <tr>\n",
       "      <th>4</th>\n",
       "      <td>15</td>\n",
       "      <td>Kemal</td>\n",
       "      <td>History</td>\n",
       "    </tr>\n",
       "    <tr>\n",
       "      <th>0</th>\n",
       "      <td>20</td>\n",
       "      <td>Watson</td>\n",
       "      <td>Geo</td>\n",
       "    </tr>\n",
       "  </tbody>\n",
       "</table>\n",
       "</div>"
      ],
      "text/plain": [
       "   id    name      sub\n",
       "0  11  Mahesh  English\n",
       "1  12   Rudra     Math\n",
       "2  13    Rani  Marathi\n",
       "3  14  Mahira  science\n",
       "4  15   Kemal  History\n",
       "0  20  Watson      Geo"
      ]
     },
     "execution_count": 146,
     "metadata": {},
     "output_type": "execute_result"
    }
   ],
   "source": [
    "df4 = df1\n",
    "\n",
    "df5 = df3\n",
    "\n",
    "df4.append(df5)"
   ]
  },
  {
   "cell_type": "code",
   "execution_count": 147,
   "id": "dd8019ec-47ba-44c0-9b31-0f0c14ff04eb",
   "metadata": {},
   "outputs": [
    {
     "data": {
      "text/html": [
       "<div>\n",
       "<style scoped>\n",
       "    .dataframe tbody tr th:only-of-type {\n",
       "        vertical-align: middle;\n",
       "    }\n",
       "\n",
       "    .dataframe tbody tr th {\n",
       "        vertical-align: top;\n",
       "    }\n",
       "\n",
       "    .dataframe thead th {\n",
       "        text-align: right;\n",
       "    }\n",
       "</style>\n",
       "<table border=\"1\" class=\"dataframe\">\n",
       "  <thead>\n",
       "    <tr style=\"text-align: right;\">\n",
       "      <th></th>\n",
       "      <th>id</th>\n",
       "      <th>name</th>\n",
       "      <th>sub</th>\n",
       "    </tr>\n",
       "  </thead>\n",
       "  <tbody>\n",
       "    <tr>\n",
       "      <th>0</th>\n",
       "      <td>11</td>\n",
       "      <td>Mahesh</td>\n",
       "      <td>English</td>\n",
       "    </tr>\n",
       "    <tr>\n",
       "      <th>1</th>\n",
       "      <td>12</td>\n",
       "      <td>Rudra</td>\n",
       "      <td>Math</td>\n",
       "    </tr>\n",
       "    <tr>\n",
       "      <th>2</th>\n",
       "      <td>13</td>\n",
       "      <td>Rani</td>\n",
       "      <td>Marathi</td>\n",
       "    </tr>\n",
       "    <tr>\n",
       "      <th>3</th>\n",
       "      <td>14</td>\n",
       "      <td>Mahira</td>\n",
       "      <td>science</td>\n",
       "    </tr>\n",
       "    <tr>\n",
       "      <th>4</th>\n",
       "      <td>15</td>\n",
       "      <td>Kemal</td>\n",
       "      <td>History</td>\n",
       "    </tr>\n",
       "    <tr>\n",
       "      <th>5</th>\n",
       "      <td>20</td>\n",
       "      <td>Watson</td>\n",
       "      <td>Geo</td>\n",
       "    </tr>\n",
       "  </tbody>\n",
       "</table>\n",
       "</div>"
      ],
      "text/plain": [
       "   id    name      sub\n",
       "0  11  Mahesh  English\n",
       "1  12   Rudra     Math\n",
       "2  13    Rani  Marathi\n",
       "3  14  Mahira  science\n",
       "4  15   Kemal  History\n",
       "5  20  Watson      Geo"
      ]
     },
     "execution_count": 147,
     "metadata": {},
     "output_type": "execute_result"
    }
   ],
   "source": [
    "df4 = df1\n",
    "\n",
    "df5 = df3\n",
    "\n",
    "df4.append(df5, ignore_index = True)"
   ]
  },
  {
   "cell_type": "code",
   "execution_count": 148,
   "id": "5ae9f119-d4d7-4e0f-b599-267773753ab6",
   "metadata": {},
   "outputs": [],
   "source": [
    "# 2.3.6 Conditional in DataFrame"
   ]
  },
  {
   "cell_type": "code",
   "execution_count": 149,
   "id": "2dd81c11-d037-4ac5-81fd-0d28ca96eaae",
   "metadata": {},
   "outputs": [],
   "source": [
    "# This used perfroom comparision on the records and boolean datatypes. then filter out from the dataframe"
   ]
  },
  {
   "cell_type": "code",
   "execution_count": 152,
   "id": "4308c8c2-5054-4251-b0ee-50a8bb6b21ae",
   "metadata": {},
   "outputs": [
    {
     "data": {
      "text/plain": [
       "ID\n",
       "1    False\n",
       "2     True\n",
       "3     True\n",
       "4    False\n",
       "5    False\n",
       "6     True\n",
       "Name: Employees, dtype: bool"
      ]
     },
     "execution_count": 152,
     "metadata": {},
     "output_type": "execute_result"
    }
   ],
   "source": [
    "market_df['Employees'] >=15                                       # This returns a boolean series"
   ]
  },
  {
   "cell_type": "code",
   "execution_count": 156,
   "id": "8c15327d-4215-4980-8398-7ed5c496d524",
   "metadata": {},
   "outputs": [
    {
     "data": {
      "text/html": [
       "<div>\n",
       "<style scoped>\n",
       "    .dataframe tbody tr th:only-of-type {\n",
       "        vertical-align: middle;\n",
       "    }\n",
       "\n",
       "    .dataframe tbody tr th {\n",
       "        vertical-align: top;\n",
       "    }\n",
       "\n",
       "    .dataframe thead th {\n",
       "        text-align: right;\n",
       "    }\n",
       "</style>\n",
       "<table border=\"1\" class=\"dataframe\">\n",
       "  <thead>\n",
       "    <tr style=\"text-align: right;\">\n",
       "      <th></th>\n",
       "      <th>Address</th>\n",
       "      <th>City</th>\n",
       "      <th>State</th>\n",
       "      <th>Country</th>\n",
       "      <th>Name</th>\n",
       "      <th>Employees</th>\n",
       "    </tr>\n",
       "    <tr>\n",
       "      <th>ID</th>\n",
       "      <th></th>\n",
       "      <th></th>\n",
       "      <th></th>\n",
       "      <th></th>\n",
       "      <th></th>\n",
       "      <th></th>\n",
       "    </tr>\n",
       "  </thead>\n",
       "  <tbody>\n",
       "    <tr>\n",
       "      <th>2</th>\n",
       "      <td>735 Dolores St</td>\n",
       "      <td>San Francisco</td>\n",
       "      <td>CA 94119</td>\n",
       "      <td>USA</td>\n",
       "      <td>Bready Shop</td>\n",
       "      <td>15</td>\n",
       "    </tr>\n",
       "    <tr>\n",
       "      <th>3</th>\n",
       "      <td>332 Hill St</td>\n",
       "      <td>San Francisco</td>\n",
       "      <td>California 94114</td>\n",
       "      <td>USA</td>\n",
       "      <td>Super River</td>\n",
       "      <td>25</td>\n",
       "    </tr>\n",
       "    <tr>\n",
       "      <th>6</th>\n",
       "      <td>551 Alvarado St</td>\n",
       "      <td>San Francisco</td>\n",
       "      <td>CA 94114</td>\n",
       "      <td>USA</td>\n",
       "      <td>Richvalley</td>\n",
       "      <td>20</td>\n",
       "    </tr>\n",
       "  </tbody>\n",
       "</table>\n",
       "</div>"
      ],
      "text/plain": [
       "            Address           City             State Country         Name  \\\n",
       "ID                                                                          \n",
       "2    735 Dolores St  San Francisco          CA 94119     USA  Bready Shop   \n",
       "3       332 Hill St  San Francisco  California 94114     USA  Super River   \n",
       "6   551 Alvarado St  San Francisco          CA 94114     USA   Richvalley   \n",
       "\n",
       "    Employees  \n",
       "ID             \n",
       "2          15  \n",
       "3          25  \n",
       "6          20  "
      ]
     },
     "execution_count": 156,
     "metadata": {},
     "output_type": "execute_result"
    }
   ],
   "source": [
    "market_df [market_df['Employees'] >=15]                          # This returns all the rows for which the conditional is true"
   ]
  },
  {
   "cell_type": "code",
   "execution_count": 157,
   "id": "79836d18-199e-42a7-ba48-8e2f0dce4cc6",
   "metadata": {
    "colab": {
     "autoexec": {
      "startup": false,
      "wait_interval": 0
     }
    },
    "colab_type": "code",
    "id": "QK9t6pZL_4_r",
    "outputId": "153f3357-40f3-4bef-82c8-5e697b32527f"
   },
   "outputs": [
    {
     "data": {
      "text/html": [
       "<div>\n",
       "<style scoped>\n",
       "    .dataframe tbody tr th:only-of-type {\n",
       "        vertical-align: middle;\n",
       "    }\n",
       "\n",
       "    .dataframe tbody tr th {\n",
       "        vertical-align: top;\n",
       "    }\n",
       "\n",
       "    .dataframe thead th {\n",
       "        text-align: right;\n",
       "    }\n",
       "</style>\n",
       "<table border=\"1\" class=\"dataframe\">\n",
       "  <thead>\n",
       "    <tr style=\"text-align: right;\">\n",
       "      <th></th>\n",
       "      <th>Address</th>\n",
       "      <th>City</th>\n",
       "      <th>State</th>\n",
       "      <th>Country</th>\n",
       "      <th>Name</th>\n",
       "      <th>Employees</th>\n",
       "    </tr>\n",
       "    <tr>\n",
       "      <th>ID</th>\n",
       "      <th></th>\n",
       "      <th></th>\n",
       "      <th></th>\n",
       "      <th></th>\n",
       "      <th></th>\n",
       "      <th></th>\n",
       "    </tr>\n",
       "  </thead>\n",
       "  <tbody>\n",
       "    <tr>\n",
       "      <th>3</th>\n",
       "      <td>332 Hill St</td>\n",
       "      <td>San Francisco</td>\n",
       "      <td>California 94114</td>\n",
       "      <td>USA</td>\n",
       "      <td>Super River</td>\n",
       "      <td>25</td>\n",
       "    </tr>\n",
       "    <tr>\n",
       "      <th>6</th>\n",
       "      <td>551 Alvarado St</td>\n",
       "      <td>San Francisco</td>\n",
       "      <td>CA 94114</td>\n",
       "      <td>USA</td>\n",
       "      <td>Richvalley</td>\n",
       "      <td>20</td>\n",
       "    </tr>\n",
       "  </tbody>\n",
       "</table>\n",
       "</div>"
      ],
      "text/plain": [
       "            Address           City             State Country         Name  \\\n",
       "ID                                                                          \n",
       "3       332 Hill St  San Francisco  California 94114     USA  Super River   \n",
       "6   551 Alvarado St  San Francisco          CA 94114     USA   Richvalley   \n",
       "\n",
       "    Employees  \n",
       "ID             \n",
       "3          25  \n",
       "6          20  "
      ]
     },
     "execution_count": 157,
     "metadata": {},
     "output_type": "execute_result"
    }
   ],
   "source": [
    "market_df[(market_df['Employees'] >=15) & (market_df['State'] != 'CA 94119')]     # It will return rows where both the conditions are satisfied."
   ]
  },
  {
   "cell_type": "code",
   "execution_count": 158,
   "id": "22820425-c097-4fc4-b5ed-6c8d49f6893b",
   "metadata": {},
   "outputs": [],
   "source": [
    "# 2.3.7 Multi index DataFrame"
   ]
  },
  {
   "cell_type": "code",
   "execution_count": 159,
   "id": "4fa0486d-af1e-4d19-a406-48811b0f0888",
   "metadata": {},
   "outputs": [],
   "source": [
    "# Until now you have seen dataFrame with a single index. we use more than 1 index to gain better insights."
   ]
  },
  {
   "cell_type": "code",
   "execution_count": 181,
   "id": "007e4a90-0081-4c87-ab72-8848df568a85",
   "metadata": {},
   "outputs": [],
   "source": [
    "Company = ['IBM', 'IBM', 'IBM', 'Netflix', 'Netflix', 'Netflix']\n",
    "\n",
    "Year = [2001,2004,2006,2001,2004,2006]\n",
    "\n",
    "Revenue = [20,45,30,12,85,35]\n",
    "\n",
    "Employee = [400,550,750,900,350,630]"
   ]
  },
  {
   "cell_type": "code",
   "execution_count": 182,
   "id": "5bfc275f-0ba4-4131-9687-4fdb332e025e",
   "metadata": {},
   "outputs": [
    {
     "data": {
      "text/plain": [
       "[(20, 400), (45, 550), (30, 750), (12, 900), (85, 350), (35, 630)]"
      ]
     },
     "execution_count": 182,
     "metadata": {},
     "output_type": "execute_result"
    }
   ],
   "source": [
    "list (zip(Revenue, Employee))                           # Zip will collect one value of its container "
   ]
  },
  {
   "cell_type": "code",
   "execution_count": 183,
   "id": "a801f7f6-c2c6-46b3-9f71-0409639584c2",
   "metadata": {},
   "outputs": [
    {
     "data": {
      "text/plain": [
       "[('IBM', 2001),\n",
       " ('IBM', 2004),\n",
       " ('IBM', 2006),\n",
       " ('Netflix', 2001),\n",
       " ('Netflix', 2004),\n",
       " ('Netflix', 2006)]"
      ]
     },
     "execution_count": 183,
     "metadata": {},
     "output_type": "execute_result"
    }
   ],
   "source": [
    "list (zip(Company, Year))"
   ]
  },
  {
   "cell_type": "code",
   "execution_count": 185,
   "id": "2dbaa660-c61a-46ef-b50a-3c95d99fa190",
   "metadata": {},
   "outputs": [],
   "source": [
    "hier_index = list(zip(Company, Year))                  # These pair value will be our 2 indices"
   ]
  },
  {
   "cell_type": "code",
   "execution_count": 186,
   "id": "4a928ba3-e120-4aa8-8899-d0116821a609",
   "metadata": {},
   "outputs": [
    {
     "data": {
      "text/plain": [
       "MultiIndex([(    'IBM', 2001),\n",
       "            (    'IBM', 2004),\n",
       "            (    'IBM', 2006),\n",
       "            ('Netflix', 2001),\n",
       "            ('Netflix', 2004),\n",
       "            ('Netflix', 2006)],\n",
       "           )"
      ]
     },
     "execution_count": 186,
     "metadata": {},
     "output_type": "execute_result"
    }
   ],
   "source": [
    "hier_index = pd.MultiIndex.from_tuples(hier_index)\n",
    "\n",
    "hier_index"
   ]
  },
  {
   "cell_type": "code",
   "execution_count": 187,
   "id": "372a9b5d-fdde-45d1-972a-1d8b93e816bc",
   "metadata": {},
   "outputs": [
    {
     "data": {
      "text/html": [
       "<div>\n",
       "<style scoped>\n",
       "    .dataframe tbody tr th:only-of-type {\n",
       "        vertical-align: middle;\n",
       "    }\n",
       "\n",
       "    .dataframe tbody tr th {\n",
       "        vertical-align: top;\n",
       "    }\n",
       "\n",
       "    .dataframe thead th {\n",
       "        text-align: right;\n",
       "    }\n",
       "</style>\n",
       "<table border=\"1\" class=\"dataframe\">\n",
       "  <thead>\n",
       "    <tr style=\"text-align: right;\">\n",
       "      <th></th>\n",
       "      <th></th>\n",
       "      <th>Revemue</th>\n",
       "      <th>Employee</th>\n",
       "    </tr>\n",
       "  </thead>\n",
       "  <tbody>\n",
       "    <tr>\n",
       "      <th rowspan=\"3\" valign=\"top\">IBM</th>\n",
       "      <th>2001</th>\n",
       "      <td>20</td>\n",
       "      <td>400</td>\n",
       "    </tr>\n",
       "    <tr>\n",
       "      <th>2004</th>\n",
       "      <td>45</td>\n",
       "      <td>550</td>\n",
       "    </tr>\n",
       "    <tr>\n",
       "      <th>2006</th>\n",
       "      <td>30</td>\n",
       "      <td>750</td>\n",
       "    </tr>\n",
       "    <tr>\n",
       "      <th rowspan=\"3\" valign=\"top\">Netflix</th>\n",
       "      <th>2001</th>\n",
       "      <td>12</td>\n",
       "      <td>900</td>\n",
       "    </tr>\n",
       "    <tr>\n",
       "      <th>2004</th>\n",
       "      <td>85</td>\n",
       "      <td>350</td>\n",
       "    </tr>\n",
       "    <tr>\n",
       "      <th>2006</th>\n",
       "      <td>35</td>\n",
       "      <td>630</td>\n",
       "    </tr>\n",
       "  </tbody>\n",
       "</table>\n",
       "</div>"
      ],
      "text/plain": [
       "              Revemue  Employee\n",
       "IBM     2001       20       400\n",
       "        2004       45       550\n",
       "        2006       30       750\n",
       "Netflix 2001       12       900\n",
       "        2004       85       350\n",
       "        2006       35       630"
      ]
     },
     "execution_count": 187,
     "metadata": {},
     "output_type": "execute_result"
    }
   ],
   "source": [
    "multi_index_df = pd.DataFrame (data = list (zip(Revenue, Employee)), index = hier_index, columns = ['Revemue', 'Employee'])\n",
    "\n",
    "multi_index_df"
   ]
  },
  {
   "cell_type": "code",
   "execution_count": 188,
   "id": "1c25bae9-52fc-40ce-9e2d-2cbc539e4351",
   "metadata": {},
   "outputs": [
    {
     "data": {
      "text/html": [
       "<div>\n",
       "<style scoped>\n",
       "    .dataframe tbody tr th:only-of-type {\n",
       "        vertical-align: middle;\n",
       "    }\n",
       "\n",
       "    .dataframe tbody tr th {\n",
       "        vertical-align: top;\n",
       "    }\n",
       "\n",
       "    .dataframe thead th {\n",
       "        text-align: right;\n",
       "    }\n",
       "</style>\n",
       "<table border=\"1\" class=\"dataframe\">\n",
       "  <thead>\n",
       "    <tr style=\"text-align: right;\">\n",
       "      <th></th>\n",
       "      <th></th>\n",
       "      <th>Revemue</th>\n",
       "      <th>Employee</th>\n",
       "    </tr>\n",
       "    <tr>\n",
       "      <th>Company</th>\n",
       "      <th>Year</th>\n",
       "      <th></th>\n",
       "      <th></th>\n",
       "    </tr>\n",
       "  </thead>\n",
       "  <tbody>\n",
       "    <tr>\n",
       "      <th rowspan=\"3\" valign=\"top\">IBM</th>\n",
       "      <th>2001</th>\n",
       "      <td>20</td>\n",
       "      <td>400</td>\n",
       "    </tr>\n",
       "    <tr>\n",
       "      <th>2004</th>\n",
       "      <td>45</td>\n",
       "      <td>550</td>\n",
       "    </tr>\n",
       "    <tr>\n",
       "      <th>2006</th>\n",
       "      <td>30</td>\n",
       "      <td>750</td>\n",
       "    </tr>\n",
       "    <tr>\n",
       "      <th rowspan=\"3\" valign=\"top\">Netflix</th>\n",
       "      <th>2001</th>\n",
       "      <td>12</td>\n",
       "      <td>900</td>\n",
       "    </tr>\n",
       "    <tr>\n",
       "      <th>2004</th>\n",
       "      <td>85</td>\n",
       "      <td>350</td>\n",
       "    </tr>\n",
       "    <tr>\n",
       "      <th>2006</th>\n",
       "      <td>35</td>\n",
       "      <td>630</td>\n",
       "    </tr>\n",
       "  </tbody>\n",
       "</table>\n",
       "</div>"
      ],
      "text/plain": [
       "              Revemue  Employee\n",
       "Company Year                   \n",
       "IBM     2001       20       400\n",
       "        2004       45       550\n",
       "        2006       30       750\n",
       "Netflix 2001       12       900\n",
       "        2004       85       350\n",
       "        2006       35       630"
      ]
     },
     "execution_count": 188,
     "metadata": {},
     "output_type": "execute_result"
    }
   ],
   "source": [
    "multi_index_df.index.names = ['Company', 'Year']                    # Rename our indices to company and year\n",
    "\n",
    "multi_index_df"
   ]
  },
  {
   "cell_type": "code",
   "execution_count": 189,
   "id": "01009ac5-eed3-4450-980f-977814f9687b",
   "metadata": {},
   "outputs": [
    {
     "data": {
      "text/html": [
       "<div>\n",
       "<style scoped>\n",
       "    .dataframe tbody tr th:only-of-type {\n",
       "        vertical-align: middle;\n",
       "    }\n",
       "\n",
       "    .dataframe tbody tr th {\n",
       "        vertical-align: top;\n",
       "    }\n",
       "\n",
       "    .dataframe thead th {\n",
       "        text-align: right;\n",
       "    }\n",
       "</style>\n",
       "<table border=\"1\" class=\"dataframe\">\n",
       "  <thead>\n",
       "    <tr style=\"text-align: right;\">\n",
       "      <th></th>\n",
       "      <th>Revemue</th>\n",
       "      <th>Employee</th>\n",
       "    </tr>\n",
       "    <tr>\n",
       "      <th>Year</th>\n",
       "      <th></th>\n",
       "      <th></th>\n",
       "    </tr>\n",
       "  </thead>\n",
       "  <tbody>\n",
       "    <tr>\n",
       "      <th>2001</th>\n",
       "      <td>20</td>\n",
       "      <td>400</td>\n",
       "    </tr>\n",
       "    <tr>\n",
       "      <th>2004</th>\n",
       "      <td>45</td>\n",
       "      <td>550</td>\n",
       "    </tr>\n",
       "    <tr>\n",
       "      <th>2006</th>\n",
       "      <td>30</td>\n",
       "      <td>750</td>\n",
       "    </tr>\n",
       "  </tbody>\n",
       "</table>\n",
       "</div>"
      ],
      "text/plain": [
       "      Revemue  Employee\n",
       "Year                   \n",
       "2001       20       400\n",
       "2004       45       550\n",
       "2006       30       750"
      ]
     },
     "execution_count": 189,
     "metadata": {},
     "output_type": "execute_result"
    }
   ],
   "source": [
    "multi_index_df.loc['IBM']                                        # Accessing data using our first index"
   ]
  },
  {
   "cell_type": "code",
   "execution_count": 190,
   "id": "01b926e4-2d12-43c3-9f77-c1f93bf989e6",
   "metadata": {},
   "outputs": [
    {
     "data": {
      "text/plain": [
       "Revemue      45\n",
       "Employee    550\n",
       "Name: 2004, dtype: int64"
      ]
     },
     "execution_count": 190,
     "metadata": {},
     "output_type": "execute_result"
    }
   ],
   "source": [
    "multi_index_df.loc ['IBM'].loc [2004]                         # Accessing data using first index and then second index"
   ]
  },
  {
   "cell_type": "code",
   "execution_count": 191,
   "id": "762c9659-1167-4eab-80d0-4a3ba92b0829",
   "metadata": {},
   "outputs": [
    {
     "data": {
      "text/html": [
       "<div>\n",
       "<style scoped>\n",
       "    .dataframe tbody tr th:only-of-type {\n",
       "        vertical-align: middle;\n",
       "    }\n",
       "\n",
       "    .dataframe tbody tr th {\n",
       "        vertical-align: top;\n",
       "    }\n",
       "\n",
       "    .dataframe thead th {\n",
       "        text-align: right;\n",
       "    }\n",
       "</style>\n",
       "<table border=\"1\" class=\"dataframe\">\n",
       "  <thead>\n",
       "    <tr style=\"text-align: right;\">\n",
       "      <th></th>\n",
       "      <th>Revemue</th>\n",
       "      <th>Employee</th>\n",
       "    </tr>\n",
       "    <tr>\n",
       "      <th>Year</th>\n",
       "      <th></th>\n",
       "      <th></th>\n",
       "    </tr>\n",
       "  </thead>\n",
       "  <tbody>\n",
       "    <tr>\n",
       "      <th>2001</th>\n",
       "      <td>12</td>\n",
       "      <td>900</td>\n",
       "    </tr>\n",
       "    <tr>\n",
       "      <th>2004</th>\n",
       "      <td>85</td>\n",
       "      <td>350</td>\n",
       "    </tr>\n",
       "    <tr>\n",
       "      <th>2006</th>\n",
       "      <td>35</td>\n",
       "      <td>630</td>\n",
       "    </tr>\n",
       "  </tbody>\n",
       "</table>\n",
       "</div>"
      ],
      "text/plain": [
       "      Revemue  Employee\n",
       "Year                   \n",
       "2001       12       900\n",
       "2004       85       350\n",
       "2006       35       630"
      ]
     },
     "execution_count": 191,
     "metadata": {},
     "output_type": "execute_result"
    }
   ],
   "source": [
    "multi_index_df.xs ('Netflix', level = 'Company')      # accessing data based on index level(either from first or second index)"
   ]
  },
  {
   "cell_type": "code",
   "execution_count": 200,
   "id": "ea515508-a331-4ed6-bbd1-b080b39ec8c4",
   "metadata": {},
   "outputs": [
    {
     "data": {
      "text/html": [
       "<div>\n",
       "<style scoped>\n",
       "    .dataframe tbody tr th:only-of-type {\n",
       "        vertical-align: middle;\n",
       "    }\n",
       "\n",
       "    .dataframe tbody tr th {\n",
       "        vertical-align: top;\n",
       "    }\n",
       "\n",
       "    .dataframe thead th {\n",
       "        text-align: right;\n",
       "    }\n",
       "</style>\n",
       "<table border=\"1\" class=\"dataframe\">\n",
       "  <thead>\n",
       "    <tr style=\"text-align: right;\">\n",
       "      <th></th>\n",
       "      <th>Revemue</th>\n",
       "      <th>Employee</th>\n",
       "    </tr>\n",
       "    <tr>\n",
       "      <th>Company</th>\n",
       "      <th></th>\n",
       "      <th></th>\n",
       "    </tr>\n",
       "  </thead>\n",
       "  <tbody>\n",
       "    <tr>\n",
       "      <th>IBM</th>\n",
       "      <td>30</td>\n",
       "      <td>750</td>\n",
       "    </tr>\n",
       "    <tr>\n",
       "      <th>Netflix</th>\n",
       "      <td>35</td>\n",
       "      <td>630</td>\n",
       "    </tr>\n",
       "  </tbody>\n",
       "</table>\n",
       "</div>"
      ],
      "text/plain": [
       "         Revemue  Employee\n",
       "Company                   \n",
       "IBM           30       750\n",
       "Netflix       35       630"
      ]
     },
     "execution_count": 200,
     "metadata": {},
     "output_type": "execute_result"
    }
   ],
   "source": [
    "multi_index_df.xs (2006, level = 'Year')               # Acessing data based on index level"
   ]
  },
  {
   "cell_type": "code",
   "execution_count": 213,
   "id": "1e5c297b-8fe5-415e-9dd9-29cb4a2e1496",
   "metadata": {},
   "outputs": [],
   "source": [
    "# 2.3.8 Groupby"
   ]
  },
  {
   "cell_type": "code",
   "execution_count": 214,
   "id": "86b6dc38-4036-458f-ac75-8cb473ccf0f9",
   "metadata": {},
   "outputs": [],
   "source": [
    "# Groupby allows you to group together rows based on column and perfrom an aggregate function on them "
   ]
  },
  {
   "cell_type": "code",
   "execution_count": 215,
   "id": "9cdd01b4-218c-4ea2-9b53-27c992c094f2",
   "metadata": {
    "colab": {
     "autoexec": {
      "startup": false,
      "wait_interval": 0
     }
    },
    "colab_type": "code",
    "id": "aPYxtktx_5As",
    "outputId": "ef04f390-bd89-4556-b07c-83f77e5e6abe"
   },
   "outputs": [
    {
     "data": {
      "text/html": [
       "<div>\n",
       "<style scoped>\n",
       "    .dataframe tbody tr th:only-of-type {\n",
       "        vertical-align: middle;\n",
       "    }\n",
       "\n",
       "    .dataframe tbody tr th {\n",
       "        vertical-align: top;\n",
       "    }\n",
       "\n",
       "    .dataframe thead th {\n",
       "        text-align: right;\n",
       "    }\n",
       "</style>\n",
       "<table border=\"1\" class=\"dataframe\">\n",
       "  <thead>\n",
       "    <tr style=\"text-align: right;\">\n",
       "      <th></th>\n",
       "      <th>Name</th>\n",
       "      <th>Score</th>\n",
       "      <th>Blood Group</th>\n",
       "    </tr>\n",
       "  </thead>\n",
       "  <tbody>\n",
       "    <tr>\n",
       "      <th>0</th>\n",
       "      <td>Mahesh</td>\n",
       "      <td>24</td>\n",
       "      <td>O+</td>\n",
       "    </tr>\n",
       "    <tr>\n",
       "      <th>1</th>\n",
       "      <td>Rudra</td>\n",
       "      <td>10</td>\n",
       "      <td>O+</td>\n",
       "    </tr>\n",
       "    <tr>\n",
       "      <th>2</th>\n",
       "      <td>Rani</td>\n",
       "      <td>24</td>\n",
       "      <td>B+</td>\n",
       "    </tr>\n",
       "    <tr>\n",
       "      <th>3</th>\n",
       "      <td>Mahira</td>\n",
       "      <td>15</td>\n",
       "      <td>B+</td>\n",
       "    </tr>\n",
       "  </tbody>\n",
       "</table>\n",
       "</div>"
      ],
      "text/plain": [
       "     Name  Score Blood Group\n",
       "0  Mahesh     24          O+\n",
       "1   Rudra     10          O+\n",
       "2    Rani     24          B+\n",
       "3  Mahira     15          B+"
      ]
     },
     "execution_count": 215,
     "metadata": {},
     "output_type": "execute_result"
    }
   ],
   "source": [
    "people = [['Mahesh',24, 'O+'], ['Rudra', 10, 'O+'], ['Rani', 24,'B+'], ['Mahira',15,'B+']]\n",
    "people_df = pd.DataFrame(people, columns=['Name','Score', 'Blood Group'])\n",
    "people_df"
   ]
  },
  {
   "cell_type": "code",
   "execution_count": 216,
   "id": "218374f4-95ea-4ee9-aa9c-5520b5bc0754",
   "metadata": {},
   "outputs": [],
   "source": [
    "def times2 (x) :                                          # We are going to apply this function\n",
    "    \n",
    "    return x * 2"
   ]
  },
  {
   "cell_type": "code",
   "execution_count": 217,
   "id": "e039162b-2fa7-49b4-84c9-67bb8db2104d",
   "metadata": {},
   "outputs": [
    {
     "data": {
      "text/plain": [
       "0    48\n",
       "1    20\n",
       "2    48\n",
       "3    30\n",
       "Name: Score, dtype: int64"
      ]
     },
     "execution_count": 217,
     "metadata": {},
     "output_type": "execute_result"
    }
   ],
   "source": [
    "people_df ['Score'].apply(times2)                        # Applying times2() function a column of dataframe"
   ]
  },
  {
   "cell_type": "code",
   "execution_count": 219,
   "id": "fb656496-a6c9-4b59-b967-362fa03e23e6",
   "metadata": {},
   "outputs": [
    {
     "data": {
      "text/plain": [
       "0    48\n",
       "1    20\n",
       "2    48\n",
       "3    30\n",
       "Name: Score, dtype: int64"
      ]
     },
     "execution_count": 219,
     "metadata": {},
     "output_type": "execute_result"
    }
   ],
   "source": [
    "people_df ['Score'].apply(lambda x: x * 2)              # Applying lambda fuction on colukn of dataframe"
   ]
  },
  {
   "cell_type": "code",
   "execution_count": 220,
   "id": "2fd93496-025f-46aa-bd08-177591ee1290",
   "metadata": {},
   "outputs": [
    {
     "data": {
      "text/html": [
       "<div>\n",
       "<style scoped>\n",
       "    .dataframe tbody tr th:only-of-type {\n",
       "        vertical-align: middle;\n",
       "    }\n",
       "\n",
       "    .dataframe tbody tr th {\n",
       "        vertical-align: top;\n",
       "    }\n",
       "\n",
       "    .dataframe thead th {\n",
       "        text-align: right;\n",
       "    }\n",
       "</style>\n",
       "<table border=\"1\" class=\"dataframe\">\n",
       "  <thead>\n",
       "    <tr style=\"text-align: right;\">\n",
       "      <th></th>\n",
       "      <th>Name</th>\n",
       "      <th>Score</th>\n",
       "      <th>Blood Group</th>\n",
       "    </tr>\n",
       "  </thead>\n",
       "  <tbody>\n",
       "    <tr>\n",
       "      <th>1</th>\n",
       "      <td>Rudra</td>\n",
       "      <td>10</td>\n",
       "      <td>O+</td>\n",
       "    </tr>\n",
       "    <tr>\n",
       "      <th>3</th>\n",
       "      <td>Mahira</td>\n",
       "      <td>15</td>\n",
       "      <td>B+</td>\n",
       "    </tr>\n",
       "    <tr>\n",
       "      <th>0</th>\n",
       "      <td>Mahesh</td>\n",
       "      <td>24</td>\n",
       "      <td>O+</td>\n",
       "    </tr>\n",
       "    <tr>\n",
       "      <th>2</th>\n",
       "      <td>Rani</td>\n",
       "      <td>24</td>\n",
       "      <td>B+</td>\n",
       "    </tr>\n",
       "  </tbody>\n",
       "</table>\n",
       "</div>"
      ],
      "text/plain": [
       "     Name  Score Blood Group\n",
       "1   Rudra     10          O+\n",
       "3  Mahira     15          B+\n",
       "0  Mahesh     24          O+\n",
       "2    Rani     24          B+"
      ]
     },
     "execution_count": 220,
     "metadata": {},
     "output_type": "execute_result"
    }
   ],
   "source": [
    "people_df.sort_values ('Score')                        # Sorting the records based on a column"
   ]
  },
  {
   "cell_type": "code",
   "execution_count": 221,
   "id": "e86903b6-05be-4eca-befe-c67cf0b6c94c",
   "metadata": {},
   "outputs": [],
   "source": [
    "# 2.4 Time series in pandas"
   ]
  },
  {
   "cell_type": "code",
   "execution_count": 223,
   "id": "005f7ffc-0219-4b18-97c2-2c906bc8ab4a",
   "metadata": {},
   "outputs": [],
   "source": [
    "# We will explore datatime function by pandas and how efficient it is ro analyse time series data"
   ]
  },
  {
   "cell_type": "code",
   "execution_count": 224,
   "id": "c481cd8f-0e57-4d58-9645-9a78f4a2b283",
   "metadata": {
    "colab": {
     "autoexec": {
      "startup": false,
      "wait_interval": 0
     }
    },
    "colab_type": "code",
    "id": "hhoCt1bR_5A1"
   },
   "outputs": [],
   "source": [
    "air_df = pd.read_csv('https://raw.githubusercontent.com/insaid2018/Term-1/master/Data/Casestudy/AirQualityUCI.csv')  # Import the Dataset"
   ]
  },
  {
   "cell_type": "code",
   "execution_count": 225,
   "id": "9d7d1e4d-c775-4921-97a0-9a689005b641",
   "metadata": {},
   "outputs": [
    {
     "data": {
      "text/html": [
       "<div>\n",
       "<style scoped>\n",
       "    .dataframe tbody tr th:only-of-type {\n",
       "        vertical-align: middle;\n",
       "    }\n",
       "\n",
       "    .dataframe tbody tr th {\n",
       "        vertical-align: top;\n",
       "    }\n",
       "\n",
       "    .dataframe thead th {\n",
       "        text-align: right;\n",
       "    }\n",
       "</style>\n",
       "<table border=\"1\" class=\"dataframe\">\n",
       "  <thead>\n",
       "    <tr style=\"text-align: right;\">\n",
       "      <th></th>\n",
       "      <th>Date</th>\n",
       "      <th>Time</th>\n",
       "      <th>CO(GT)</th>\n",
       "      <th>PT08.S1(CO)</th>\n",
       "      <th>NMHC(GT)</th>\n",
       "      <th>C6H6(GT)</th>\n",
       "      <th>PT08.S2(NMHC)</th>\n",
       "      <th>NOx(GT)</th>\n",
       "      <th>PT08.S3(NOx)</th>\n",
       "      <th>NO2(GT)</th>\n",
       "      <th>PT08.S4(NO2)</th>\n",
       "      <th>PT08.S5(O3)</th>\n",
       "      <th>T</th>\n",
       "      <th>RH</th>\n",
       "      <th>AH</th>\n",
       "    </tr>\n",
       "  </thead>\n",
       "  <tbody>\n",
       "    <tr>\n",
       "      <th>count</th>\n",
       "      <td>9357</td>\n",
       "      <td>9357</td>\n",
       "      <td>9357.000000</td>\n",
       "      <td>9357.000000</td>\n",
       "      <td>9357.000000</td>\n",
       "      <td>9357.000000</td>\n",
       "      <td>9357.000000</td>\n",
       "      <td>9357.000000</td>\n",
       "      <td>9357.000000</td>\n",
       "      <td>9357.000000</td>\n",
       "      <td>9357.000000</td>\n",
       "      <td>9357.000000</td>\n",
       "      <td>9357.000000</td>\n",
       "      <td>9357.000000</td>\n",
       "      <td>9357.000000</td>\n",
       "    </tr>\n",
       "    <tr>\n",
       "      <th>unique</th>\n",
       "      <td>391</td>\n",
       "      <td>24</td>\n",
       "      <td>NaN</td>\n",
       "      <td>NaN</td>\n",
       "      <td>NaN</td>\n",
       "      <td>NaN</td>\n",
       "      <td>NaN</td>\n",
       "      <td>NaN</td>\n",
       "      <td>NaN</td>\n",
       "      <td>NaN</td>\n",
       "      <td>NaN</td>\n",
       "      <td>NaN</td>\n",
       "      <td>NaN</td>\n",
       "      <td>NaN</td>\n",
       "      <td>NaN</td>\n",
       "    </tr>\n",
       "    <tr>\n",
       "      <th>top</th>\n",
       "      <td>2/9/2005</td>\n",
       "      <td>2:00:00</td>\n",
       "      <td>NaN</td>\n",
       "      <td>NaN</td>\n",
       "      <td>NaN</td>\n",
       "      <td>NaN</td>\n",
       "      <td>NaN</td>\n",
       "      <td>NaN</td>\n",
       "      <td>NaN</td>\n",
       "      <td>NaN</td>\n",
       "      <td>NaN</td>\n",
       "      <td>NaN</td>\n",
       "      <td>NaN</td>\n",
       "      <td>NaN</td>\n",
       "      <td>NaN</td>\n",
       "    </tr>\n",
       "    <tr>\n",
       "      <th>freq</th>\n",
       "      <td>24</td>\n",
       "      <td>390</td>\n",
       "      <td>NaN</td>\n",
       "      <td>NaN</td>\n",
       "      <td>NaN</td>\n",
       "      <td>NaN</td>\n",
       "      <td>NaN</td>\n",
       "      <td>NaN</td>\n",
       "      <td>NaN</td>\n",
       "      <td>NaN</td>\n",
       "      <td>NaN</td>\n",
       "      <td>NaN</td>\n",
       "      <td>NaN</td>\n",
       "      <td>NaN</td>\n",
       "      <td>NaN</td>\n",
       "    </tr>\n",
       "    <tr>\n",
       "      <th>mean</th>\n",
       "      <td>NaN</td>\n",
       "      <td>NaN</td>\n",
       "      <td>-34.207524</td>\n",
       "      <td>1048.990061</td>\n",
       "      <td>-159.090093</td>\n",
       "      <td>1.865683</td>\n",
       "      <td>894.595276</td>\n",
       "      <td>168.616971</td>\n",
       "      <td>794.990168</td>\n",
       "      <td>58.148873</td>\n",
       "      <td>1391.479641</td>\n",
       "      <td>975.072032</td>\n",
       "      <td>9.778305</td>\n",
       "      <td>39.485380</td>\n",
       "      <td>-6.837604</td>\n",
       "    </tr>\n",
       "    <tr>\n",
       "      <th>std</th>\n",
       "      <td>NaN</td>\n",
       "      <td>NaN</td>\n",
       "      <td>77.657170</td>\n",
       "      <td>329.832710</td>\n",
       "      <td>139.789093</td>\n",
       "      <td>41.380206</td>\n",
       "      <td>342.333252</td>\n",
       "      <td>257.433866</td>\n",
       "      <td>321.993552</td>\n",
       "      <td>126.940455</td>\n",
       "      <td>467.210125</td>\n",
       "      <td>456.938184</td>\n",
       "      <td>43.203623</td>\n",
       "      <td>51.216145</td>\n",
       "      <td>38.976670</td>\n",
       "    </tr>\n",
       "    <tr>\n",
       "      <th>min</th>\n",
       "      <td>NaN</td>\n",
       "      <td>NaN</td>\n",
       "      <td>-200.000000</td>\n",
       "      <td>-200.000000</td>\n",
       "      <td>-200.000000</td>\n",
       "      <td>-200.000000</td>\n",
       "      <td>-200.000000</td>\n",
       "      <td>-200.000000</td>\n",
       "      <td>-200.000000</td>\n",
       "      <td>-200.000000</td>\n",
       "      <td>-200.000000</td>\n",
       "      <td>-200.000000</td>\n",
       "      <td>-200.000000</td>\n",
       "      <td>-200.000000</td>\n",
       "      <td>-200.000000</td>\n",
       "    </tr>\n",
       "    <tr>\n",
       "      <th>25%</th>\n",
       "      <td>NaN</td>\n",
       "      <td>NaN</td>\n",
       "      <td>0.600000</td>\n",
       "      <td>921.000000</td>\n",
       "      <td>-200.000000</td>\n",
       "      <td>4.000000</td>\n",
       "      <td>711.000000</td>\n",
       "      <td>50.000000</td>\n",
       "      <td>637.000000</td>\n",
       "      <td>53.000000</td>\n",
       "      <td>1185.000000</td>\n",
       "      <td>700.000000</td>\n",
       "      <td>10.900000</td>\n",
       "      <td>34.100000</td>\n",
       "      <td>0.692300</td>\n",
       "    </tr>\n",
       "    <tr>\n",
       "      <th>50%</th>\n",
       "      <td>NaN</td>\n",
       "      <td>NaN</td>\n",
       "      <td>1.500000</td>\n",
       "      <td>1053.000000</td>\n",
       "      <td>-200.000000</td>\n",
       "      <td>7.900000</td>\n",
       "      <td>895.000000</td>\n",
       "      <td>141.000000</td>\n",
       "      <td>794.000000</td>\n",
       "      <td>96.000000</td>\n",
       "      <td>1446.000000</td>\n",
       "      <td>942.000000</td>\n",
       "      <td>17.200000</td>\n",
       "      <td>48.600000</td>\n",
       "      <td>0.976800</td>\n",
       "    </tr>\n",
       "    <tr>\n",
       "      <th>75%</th>\n",
       "      <td>NaN</td>\n",
       "      <td>NaN</td>\n",
       "      <td>2.600000</td>\n",
       "      <td>1221.000000</td>\n",
       "      <td>-200.000000</td>\n",
       "      <td>13.600000</td>\n",
       "      <td>1105.000000</td>\n",
       "      <td>284.000000</td>\n",
       "      <td>960.000000</td>\n",
       "      <td>133.000000</td>\n",
       "      <td>1662.000000</td>\n",
       "      <td>1255.000000</td>\n",
       "      <td>24.100000</td>\n",
       "      <td>61.900000</td>\n",
       "      <td>1.296200</td>\n",
       "    </tr>\n",
       "    <tr>\n",
       "      <th>max</th>\n",
       "      <td>NaN</td>\n",
       "      <td>NaN</td>\n",
       "      <td>11.900000</td>\n",
       "      <td>2040.000000</td>\n",
       "      <td>1189.000000</td>\n",
       "      <td>63.700000</td>\n",
       "      <td>2214.000000</td>\n",
       "      <td>1479.000000</td>\n",
       "      <td>2683.000000</td>\n",
       "      <td>340.000000</td>\n",
       "      <td>2775.000000</td>\n",
       "      <td>2523.000000</td>\n",
       "      <td>44.600000</td>\n",
       "      <td>88.700000</td>\n",
       "      <td>2.231000</td>\n",
       "    </tr>\n",
       "  </tbody>\n",
       "</table>\n",
       "</div>"
      ],
      "text/plain": [
       "            Date     Time       CO(GT)  PT08.S1(CO)     NMHC(GT)     C6H6(GT)  \\\n",
       "count       9357     9357  9357.000000  9357.000000  9357.000000  9357.000000   \n",
       "unique       391       24          NaN          NaN          NaN          NaN   \n",
       "top     2/9/2005  2:00:00          NaN          NaN          NaN          NaN   \n",
       "freq          24      390          NaN          NaN          NaN          NaN   \n",
       "mean         NaN      NaN   -34.207524  1048.990061  -159.090093     1.865683   \n",
       "std          NaN      NaN    77.657170   329.832710   139.789093    41.380206   \n",
       "min          NaN      NaN  -200.000000  -200.000000  -200.000000  -200.000000   \n",
       "25%          NaN      NaN     0.600000   921.000000  -200.000000     4.000000   \n",
       "50%          NaN      NaN     1.500000  1053.000000  -200.000000     7.900000   \n",
       "75%          NaN      NaN     2.600000  1221.000000  -200.000000    13.600000   \n",
       "max          NaN      NaN    11.900000  2040.000000  1189.000000    63.700000   \n",
       "\n",
       "        PT08.S2(NMHC)      NOx(GT)  PT08.S3(NOx)      NO2(GT)  PT08.S4(NO2)  \\\n",
       "count     9357.000000  9357.000000   9357.000000  9357.000000   9357.000000   \n",
       "unique            NaN          NaN           NaN          NaN           NaN   \n",
       "top               NaN          NaN           NaN          NaN           NaN   \n",
       "freq              NaN          NaN           NaN          NaN           NaN   \n",
       "mean       894.595276   168.616971    794.990168    58.148873   1391.479641   \n",
       "std        342.333252   257.433866    321.993552   126.940455    467.210125   \n",
       "min       -200.000000  -200.000000   -200.000000  -200.000000   -200.000000   \n",
       "25%        711.000000    50.000000    637.000000    53.000000   1185.000000   \n",
       "50%        895.000000   141.000000    794.000000    96.000000   1446.000000   \n",
       "75%       1105.000000   284.000000    960.000000   133.000000   1662.000000   \n",
       "max       2214.000000  1479.000000   2683.000000   340.000000   2775.000000   \n",
       "\n",
       "        PT08.S5(O3)            T           RH           AH  \n",
       "count   9357.000000  9357.000000  9357.000000  9357.000000  \n",
       "unique          NaN          NaN          NaN          NaN  \n",
       "top             NaN          NaN          NaN          NaN  \n",
       "freq            NaN          NaN          NaN          NaN  \n",
       "mean     975.072032     9.778305    39.485380    -6.837604  \n",
       "std      456.938184    43.203623    51.216145    38.976670  \n",
       "min     -200.000000  -200.000000  -200.000000  -200.000000  \n",
       "25%      700.000000    10.900000    34.100000     0.692300  \n",
       "50%      942.000000    17.200000    48.600000     0.976800  \n",
       "75%     1255.000000    24.100000    61.900000     1.296200  \n",
       "max     2523.000000    44.600000    88.700000     2.231000  "
      ]
     },
     "execution_count": 225,
     "metadata": {},
     "output_type": "execute_result"
    }
   ],
   "source": [
    "air_df.describe (include = 'all')"
   ]
  },
  {
   "cell_type": "code",
   "execution_count": 226,
   "id": "0a38a14e-2ffa-4443-aaac-6c310595b590",
   "metadata": {},
   "outputs": [
    {
     "data": {
      "text/html": [
       "<div>\n",
       "<style scoped>\n",
       "    .dataframe tbody tr th:only-of-type {\n",
       "        vertical-align: middle;\n",
       "    }\n",
       "\n",
       "    .dataframe tbody tr th {\n",
       "        vertical-align: top;\n",
       "    }\n",
       "\n",
       "    .dataframe thead th {\n",
       "        text-align: right;\n",
       "    }\n",
       "</style>\n",
       "<table border=\"1\" class=\"dataframe\">\n",
       "  <thead>\n",
       "    <tr style=\"text-align: right;\">\n",
       "      <th></th>\n",
       "      <th>Date</th>\n",
       "      <th>Time</th>\n",
       "      <th>CO(GT)</th>\n",
       "      <th>PT08.S1(CO)</th>\n",
       "      <th>NMHC(GT)</th>\n",
       "      <th>C6H6(GT)</th>\n",
       "      <th>PT08.S2(NMHC)</th>\n",
       "      <th>NOx(GT)</th>\n",
       "      <th>PT08.S3(NOx)</th>\n",
       "      <th>NO2(GT)</th>\n",
       "      <th>PT08.S4(NO2)</th>\n",
       "      <th>PT08.S5(O3)</th>\n",
       "      <th>T</th>\n",
       "      <th>RH</th>\n",
       "      <th>AH</th>\n",
       "    </tr>\n",
       "  </thead>\n",
       "  <tbody>\n",
       "    <tr>\n",
       "      <th>0</th>\n",
       "      <td>3/10/2004</td>\n",
       "      <td>18:00:00</td>\n",
       "      <td>2.6</td>\n",
       "      <td>1360</td>\n",
       "      <td>150</td>\n",
       "      <td>11.9</td>\n",
       "      <td>1046</td>\n",
       "      <td>166</td>\n",
       "      <td>1056</td>\n",
       "      <td>113</td>\n",
       "      <td>1692</td>\n",
       "      <td>1268</td>\n",
       "      <td>13.6</td>\n",
       "      <td>48.9</td>\n",
       "      <td>0.7578</td>\n",
       "    </tr>\n",
       "    <tr>\n",
       "      <th>1</th>\n",
       "      <td>3/10/2004</td>\n",
       "      <td>19:00:00</td>\n",
       "      <td>2.0</td>\n",
       "      <td>1292</td>\n",
       "      <td>112</td>\n",
       "      <td>9.4</td>\n",
       "      <td>955</td>\n",
       "      <td>103</td>\n",
       "      <td>1174</td>\n",
       "      <td>92</td>\n",
       "      <td>1559</td>\n",
       "      <td>972</td>\n",
       "      <td>13.3</td>\n",
       "      <td>47.7</td>\n",
       "      <td>0.7255</td>\n",
       "    </tr>\n",
       "    <tr>\n",
       "      <th>2</th>\n",
       "      <td>3/10/2004</td>\n",
       "      <td>20:00:00</td>\n",
       "      <td>2.2</td>\n",
       "      <td>1402</td>\n",
       "      <td>88</td>\n",
       "      <td>9.0</td>\n",
       "      <td>939</td>\n",
       "      <td>131</td>\n",
       "      <td>1140</td>\n",
       "      <td>114</td>\n",
       "      <td>1555</td>\n",
       "      <td>1074</td>\n",
       "      <td>11.9</td>\n",
       "      <td>54.0</td>\n",
       "      <td>0.7502</td>\n",
       "    </tr>\n",
       "    <tr>\n",
       "      <th>3</th>\n",
       "      <td>3/10/2004</td>\n",
       "      <td>21:00:00</td>\n",
       "      <td>2.2</td>\n",
       "      <td>1376</td>\n",
       "      <td>80</td>\n",
       "      <td>9.2</td>\n",
       "      <td>948</td>\n",
       "      <td>172</td>\n",
       "      <td>1092</td>\n",
       "      <td>122</td>\n",
       "      <td>1584</td>\n",
       "      <td>1203</td>\n",
       "      <td>11.0</td>\n",
       "      <td>60.0</td>\n",
       "      <td>0.7867</td>\n",
       "    </tr>\n",
       "    <tr>\n",
       "      <th>4</th>\n",
       "      <td>3/10/2004</td>\n",
       "      <td>22:00:00</td>\n",
       "      <td>1.6</td>\n",
       "      <td>1272</td>\n",
       "      <td>51</td>\n",
       "      <td>6.5</td>\n",
       "      <td>836</td>\n",
       "      <td>131</td>\n",
       "      <td>1205</td>\n",
       "      <td>116</td>\n",
       "      <td>1490</td>\n",
       "      <td>1110</td>\n",
       "      <td>11.2</td>\n",
       "      <td>59.6</td>\n",
       "      <td>0.7888</td>\n",
       "    </tr>\n",
       "  </tbody>\n",
       "</table>\n",
       "</div>"
      ],
      "text/plain": [
       "        Date      Time  CO(GT)  PT08.S1(CO)  NMHC(GT)  C6H6(GT)  \\\n",
       "0  3/10/2004  18:00:00     2.6         1360       150      11.9   \n",
       "1  3/10/2004  19:00:00     2.0         1292       112       9.4   \n",
       "2  3/10/2004  20:00:00     2.2         1402        88       9.0   \n",
       "3  3/10/2004  21:00:00     2.2         1376        80       9.2   \n",
       "4  3/10/2004  22:00:00     1.6         1272        51       6.5   \n",
       "\n",
       "   PT08.S2(NMHC)  NOx(GT)  PT08.S3(NOx)  NO2(GT)  PT08.S4(NO2)  PT08.S5(O3)  \\\n",
       "0           1046      166          1056      113          1692         1268   \n",
       "1            955      103          1174       92          1559          972   \n",
       "2            939      131          1140      114          1555         1074   \n",
       "3            948      172          1092      122          1584         1203   \n",
       "4            836      131          1205      116          1490         1110   \n",
       "\n",
       "      T    RH      AH  \n",
       "0  13.6  48.9  0.7578  \n",
       "1  13.3  47.7  0.7255  \n",
       "2  11.9  54.0  0.7502  \n",
       "3  11.0  60.0  0.7867  \n",
       "4  11.2  59.6  0.7888  "
      ]
     },
     "execution_count": 226,
     "metadata": {},
     "output_type": "execute_result"
    }
   ],
   "source": [
    "air_df.head()                                 # Observe the columns and rows of the dataset"
   ]
  },
  {
   "cell_type": "code",
   "execution_count": 228,
   "id": "863d5f83-7351-4c8e-9f5b-035c0a7f1713",
   "metadata": {},
   "outputs": [
    {
     "name": "stdout",
     "output_type": "stream",
     "text": [
      "<class 'pandas.core.frame.DataFrame'>\n",
      "RangeIndex: 9357 entries, 0 to 9356\n",
      "Data columns (total 15 columns):\n",
      " #   Column         Non-Null Count  Dtype  \n",
      "---  ------         --------------  -----  \n",
      " 0   Date           9357 non-null   object \n",
      " 1   Time           9357 non-null   object \n",
      " 2   CO(GT)         9357 non-null   float64\n",
      " 3   PT08.S1(CO)    9357 non-null   int64  \n",
      " 4   NMHC(GT)       9357 non-null   int64  \n",
      " 5   C6H6(GT)       9357 non-null   float64\n",
      " 6   PT08.S2(NMHC)  9357 non-null   int64  \n",
      " 7   NOx(GT)        9357 non-null   int64  \n",
      " 8   PT08.S3(NOx)   9357 non-null   int64  \n",
      " 9   NO2(GT)        9357 non-null   int64  \n",
      " 10  PT08.S4(NO2)   9357 non-null   int64  \n",
      " 11  PT08.S5(O3)    9357 non-null   int64  \n",
      " 12  T              9357 non-null   float64\n",
      " 13  RH             9357 non-null   float64\n",
      " 14  AH             9357 non-null   float64\n",
      "dtypes: float64(5), int64(8), object(2)\n",
      "memory usage: 1023.5+ KB\n"
     ]
    }
   ],
   "source": [
    "air_df.info()"
   ]
  },
  {
   "cell_type": "code",
   "execution_count": 229,
   "id": "7259e262-4c31-4715-9d14-7ca2863cd6e6",
   "metadata": {
    "colab": {
     "autoexec": {
      "startup": false,
      "wait_interval": 0
     }
    },
    "colab_type": "code",
    "id": "A_Tpcevr_5A6"
   },
   "outputs": [],
   "source": [
    "air_df['Date'] = pd.to_datetime(air_df['Date'], format='%m/%d/%Y')     "
   ]
  },
  {
   "cell_type": "code",
   "execution_count": 230,
   "id": "659dfba8-96a3-47f1-898d-f4c1586331d0",
   "metadata": {},
   "outputs": [
    {
     "data": {
      "text/plain": [
       "array(['18:00:00', '19:00:00', '20:00:00', '21:00:00', '22:00:00',\n",
       "       '23:00:00', '0:00:00', '1:00:00', '2:00:00', '3:00:00', '4:00:00',\n",
       "       '5:00:00', '6:00:00', '7:00:00', '8:00:00', '9:00:00', '10:00:00',\n",
       "       '11:00:00', '12:00:00', '13:00:00', '14:00:00', '15:00:00',\n",
       "       '16:00:00', '17:00:00'], dtype=object)"
      ]
     },
     "execution_count": 230,
     "metadata": {},
     "output_type": "execute_result"
    }
   ],
   "source": [
    "air_df ['Time'].unique()"
   ]
  },
  {
   "cell_type": "code",
   "execution_count": 231,
   "id": "4d28d92d-a0b9-4e48-8f56-b09cc68275b4",
   "metadata": {},
   "outputs": [
    {
     "data": {
      "text/plain": [
       "Date             8443\n",
       "Time             8443\n",
       "CO(GT)           8443\n",
       "PT08.S1(CO)      8443\n",
       "NMHC(GT)         8443\n",
       "C6H6(GT)         8443\n",
       "PT08.S2(NMHC)    8443\n",
       "NOx(GT)          8443\n",
       "PT08.S3(NOx)     8443\n",
       "NO2(GT)          8443\n",
       "PT08.S4(NO2)     8443\n",
       "PT08.S5(O3)      8443\n",
       "T                8443\n",
       "RH               8443\n",
       "AH               8443\n",
       "dtype: int64"
      ]
     },
     "execution_count": 231,
     "metadata": {},
     "output_type": "execute_result"
    }
   ],
   "source": [
    "air_df [air_df ['NMHC(GT)']==-200].count()"
   ]
  },
  {
   "cell_type": "code",
   "execution_count": 233,
   "id": "3bacfc24-8332-48d2-b1eb-acab27f85627",
   "metadata": {},
   "outputs": [
    {
     "data": {
      "text/html": [
       "<div>\n",
       "<style scoped>\n",
       "    .dataframe tbody tr th:only-of-type {\n",
       "        vertical-align: middle;\n",
       "    }\n",
       "\n",
       "    .dataframe tbody tr th {\n",
       "        vertical-align: top;\n",
       "    }\n",
       "\n",
       "    .dataframe thead th {\n",
       "        text-align: right;\n",
       "    }\n",
       "</style>\n",
       "<table border=\"1\" class=\"dataframe\">\n",
       "  <thead>\n",
       "    <tr style=\"text-align: right;\">\n",
       "      <th></th>\n",
       "      <th>Date</th>\n",
       "      <th>Time</th>\n",
       "      <th>CO(GT)</th>\n",
       "      <th>PT08.S1(CO)</th>\n",
       "      <th>C6H6(GT)</th>\n",
       "      <th>PT08.S2(NMHC)</th>\n",
       "      <th>NOx(GT)</th>\n",
       "      <th>PT08.S3(NOx)</th>\n",
       "      <th>NO2(GT)</th>\n",
       "      <th>PT08.S4(NO2)</th>\n",
       "      <th>PT08.S5(O3)</th>\n",
       "      <th>T</th>\n",
       "      <th>RH</th>\n",
       "      <th>AH</th>\n",
       "    </tr>\n",
       "  </thead>\n",
       "  <tbody>\n",
       "    <tr>\n",
       "      <th>0</th>\n",
       "      <td>2004-03-10</td>\n",
       "      <td>18:00:00</td>\n",
       "      <td>2.6</td>\n",
       "      <td>1360</td>\n",
       "      <td>11.9</td>\n",
       "      <td>1046</td>\n",
       "      <td>166</td>\n",
       "      <td>1056</td>\n",
       "      <td>113</td>\n",
       "      <td>1692</td>\n",
       "      <td>1268</td>\n",
       "      <td>13.6</td>\n",
       "      <td>48.9</td>\n",
       "      <td>0.7578</td>\n",
       "    </tr>\n",
       "    <tr>\n",
       "      <th>1</th>\n",
       "      <td>2004-03-10</td>\n",
       "      <td>19:00:00</td>\n",
       "      <td>2.0</td>\n",
       "      <td>1292</td>\n",
       "      <td>9.4</td>\n",
       "      <td>955</td>\n",
       "      <td>103</td>\n",
       "      <td>1174</td>\n",
       "      <td>92</td>\n",
       "      <td>1559</td>\n",
       "      <td>972</td>\n",
       "      <td>13.3</td>\n",
       "      <td>47.7</td>\n",
       "      <td>0.7255</td>\n",
       "    </tr>\n",
       "    <tr>\n",
       "      <th>2</th>\n",
       "      <td>2004-03-10</td>\n",
       "      <td>20:00:00</td>\n",
       "      <td>2.2</td>\n",
       "      <td>1402</td>\n",
       "      <td>9.0</td>\n",
       "      <td>939</td>\n",
       "      <td>131</td>\n",
       "      <td>1140</td>\n",
       "      <td>114</td>\n",
       "      <td>1555</td>\n",
       "      <td>1074</td>\n",
       "      <td>11.9</td>\n",
       "      <td>54.0</td>\n",
       "      <td>0.7502</td>\n",
       "    </tr>\n",
       "    <tr>\n",
       "      <th>3</th>\n",
       "      <td>2004-03-10</td>\n",
       "      <td>21:00:00</td>\n",
       "      <td>2.2</td>\n",
       "      <td>1376</td>\n",
       "      <td>9.2</td>\n",
       "      <td>948</td>\n",
       "      <td>172</td>\n",
       "      <td>1092</td>\n",
       "      <td>122</td>\n",
       "      <td>1584</td>\n",
       "      <td>1203</td>\n",
       "      <td>11.0</td>\n",
       "      <td>60.0</td>\n",
       "      <td>0.7867</td>\n",
       "    </tr>\n",
       "    <tr>\n",
       "      <th>4</th>\n",
       "      <td>2004-03-10</td>\n",
       "      <td>22:00:00</td>\n",
       "      <td>1.6</td>\n",
       "      <td>1272</td>\n",
       "      <td>6.5</td>\n",
       "      <td>836</td>\n",
       "      <td>131</td>\n",
       "      <td>1205</td>\n",
       "      <td>116</td>\n",
       "      <td>1490</td>\n",
       "      <td>1110</td>\n",
       "      <td>11.2</td>\n",
       "      <td>59.6</td>\n",
       "      <td>0.7888</td>\n",
       "    </tr>\n",
       "    <tr>\n",
       "      <th>...</th>\n",
       "      <td>...</td>\n",
       "      <td>...</td>\n",
       "      <td>...</td>\n",
       "      <td>...</td>\n",
       "      <td>...</td>\n",
       "      <td>...</td>\n",
       "      <td>...</td>\n",
       "      <td>...</td>\n",
       "      <td>...</td>\n",
       "      <td>...</td>\n",
       "      <td>...</td>\n",
       "      <td>...</td>\n",
       "      <td>...</td>\n",
       "      <td>...</td>\n",
       "    </tr>\n",
       "    <tr>\n",
       "      <th>9352</th>\n",
       "      <td>2005-04-04</td>\n",
       "      <td>10:00:00</td>\n",
       "      <td>3.1</td>\n",
       "      <td>1314</td>\n",
       "      <td>13.5</td>\n",
       "      <td>1101</td>\n",
       "      <td>472</td>\n",
       "      <td>539</td>\n",
       "      <td>190</td>\n",
       "      <td>1374</td>\n",
       "      <td>1729</td>\n",
       "      <td>21.9</td>\n",
       "      <td>29.3</td>\n",
       "      <td>0.7568</td>\n",
       "    </tr>\n",
       "    <tr>\n",
       "      <th>9353</th>\n",
       "      <td>2005-04-04</td>\n",
       "      <td>11:00:00</td>\n",
       "      <td>2.4</td>\n",
       "      <td>1163</td>\n",
       "      <td>11.4</td>\n",
       "      <td>1027</td>\n",
       "      <td>353</td>\n",
       "      <td>604</td>\n",
       "      <td>179</td>\n",
       "      <td>1264</td>\n",
       "      <td>1269</td>\n",
       "      <td>24.3</td>\n",
       "      <td>23.7</td>\n",
       "      <td>0.7119</td>\n",
       "    </tr>\n",
       "    <tr>\n",
       "      <th>9354</th>\n",
       "      <td>2005-04-04</td>\n",
       "      <td>12:00:00</td>\n",
       "      <td>2.4</td>\n",
       "      <td>1142</td>\n",
       "      <td>12.4</td>\n",
       "      <td>1063</td>\n",
       "      <td>293</td>\n",
       "      <td>603</td>\n",
       "      <td>175</td>\n",
       "      <td>1241</td>\n",
       "      <td>1092</td>\n",
       "      <td>26.9</td>\n",
       "      <td>18.3</td>\n",
       "      <td>0.6406</td>\n",
       "    </tr>\n",
       "    <tr>\n",
       "      <th>9355</th>\n",
       "      <td>2005-04-04</td>\n",
       "      <td>13:00:00</td>\n",
       "      <td>2.1</td>\n",
       "      <td>1003</td>\n",
       "      <td>9.5</td>\n",
       "      <td>961</td>\n",
       "      <td>235</td>\n",
       "      <td>702</td>\n",
       "      <td>156</td>\n",
       "      <td>1041</td>\n",
       "      <td>770</td>\n",
       "      <td>28.3</td>\n",
       "      <td>13.5</td>\n",
       "      <td>0.5139</td>\n",
       "    </tr>\n",
       "    <tr>\n",
       "      <th>9356</th>\n",
       "      <td>2005-04-04</td>\n",
       "      <td>14:00:00</td>\n",
       "      <td>2.2</td>\n",
       "      <td>1071</td>\n",
       "      <td>11.9</td>\n",
       "      <td>1047</td>\n",
       "      <td>265</td>\n",
       "      <td>654</td>\n",
       "      <td>168</td>\n",
       "      <td>1129</td>\n",
       "      <td>816</td>\n",
       "      <td>28.5</td>\n",
       "      <td>13.1</td>\n",
       "      <td>0.5028</td>\n",
       "    </tr>\n",
       "  </tbody>\n",
       "</table>\n",
       "<p>9357 rows × 14 columns</p>\n",
       "</div>"
      ],
      "text/plain": [
       "           Date      Time  CO(GT)  PT08.S1(CO)  C6H6(GT)  PT08.S2(NMHC)  \\\n",
       "0    2004-03-10  18:00:00     2.6         1360      11.9           1046   \n",
       "1    2004-03-10  19:00:00     2.0         1292       9.4            955   \n",
       "2    2004-03-10  20:00:00     2.2         1402       9.0            939   \n",
       "3    2004-03-10  21:00:00     2.2         1376       9.2            948   \n",
       "4    2004-03-10  22:00:00     1.6         1272       6.5            836   \n",
       "...         ...       ...     ...          ...       ...            ...   \n",
       "9352 2005-04-04  10:00:00     3.1         1314      13.5           1101   \n",
       "9353 2005-04-04  11:00:00     2.4         1163      11.4           1027   \n",
       "9354 2005-04-04  12:00:00     2.4         1142      12.4           1063   \n",
       "9355 2005-04-04  13:00:00     2.1         1003       9.5            961   \n",
       "9356 2005-04-04  14:00:00     2.2         1071      11.9           1047   \n",
       "\n",
       "      NOx(GT)  PT08.S3(NOx)  NO2(GT)  PT08.S4(NO2)  PT08.S5(O3)     T    RH  \\\n",
       "0         166          1056      113          1692         1268  13.6  48.9   \n",
       "1         103          1174       92          1559          972  13.3  47.7   \n",
       "2         131          1140      114          1555         1074  11.9  54.0   \n",
       "3         172          1092      122          1584         1203  11.0  60.0   \n",
       "4         131          1205      116          1490         1110  11.2  59.6   \n",
       "...       ...           ...      ...           ...          ...   ...   ...   \n",
       "9352      472           539      190          1374         1729  21.9  29.3   \n",
       "9353      353           604      179          1264         1269  24.3  23.7   \n",
       "9354      293           603      175          1241         1092  26.9  18.3   \n",
       "9355      235           702      156          1041          770  28.3  13.5   \n",
       "9356      265           654      168          1129          816  28.5  13.1   \n",
       "\n",
       "          AH  \n",
       "0     0.7578  \n",
       "1     0.7255  \n",
       "2     0.7502  \n",
       "3     0.7867  \n",
       "4     0.7888  \n",
       "...      ...  \n",
       "9352  0.7568  \n",
       "9353  0.7119  \n",
       "9354  0.6406  \n",
       "9355  0.5139  \n",
       "9356  0.5028  \n",
       "\n",
       "[9357 rows x 14 columns]"
      ]
     },
     "execution_count": 233,
     "metadata": {},
     "output_type": "execute_result"
    }
   ],
   "source": [
    "air_df.drop (['NMHC(GT)'], axis=1)"
   ]
  },
  {
   "cell_type": "code",
   "execution_count": 234,
   "id": "496f590e-ea8c-4196-aae4-0e939b5a2702",
   "metadata": {
    "colab": {
     "autoexec": {
      "startup": false,
      "wait_interval": 0
     }
    },
    "colab_type": "code",
    "id": "Z5rz2mo2_5A_"
   },
   "outputs": [],
   "source": [
    "air_df['Time'] = pd.to_datetime(air_df['Time'], format = '%H:%M:%S')     "
   ]
  },
  {
   "cell_type": "code",
   "execution_count": 235,
   "id": "7d27e3d7-5cf9-4273-a225-bf29c83dd6b6",
   "metadata": {},
   "outputs": [
    {
     "data": {
      "text/plain": [
       "Date             datetime64[ns]\n",
       "Time             datetime64[ns]\n",
       "CO(GT)                  float64\n",
       "PT08.S1(CO)               int64\n",
       "NMHC(GT)                  int64\n",
       "C6H6(GT)                float64\n",
       "PT08.S2(NMHC)             int64\n",
       "NOx(GT)                   int64\n",
       "PT08.S3(NOx)              int64\n",
       "NO2(GT)                   int64\n",
       "PT08.S4(NO2)              int64\n",
       "PT08.S5(O3)               int64\n",
       "T                       float64\n",
       "RH                      float64\n",
       "AH                      float64\n",
       "dtype: object"
      ]
     },
     "execution_count": 235,
     "metadata": {},
     "output_type": "execute_result"
    }
   ],
   "source": [
    "air_df.dtypes                                               # First check for our date and time column"
   ]
  },
  {
   "cell_type": "code",
   "execution_count": 237,
   "id": "827ed069-a0de-448d-baff-871558b306d7",
   "metadata": {},
   "outputs": [
    {
     "name": "stdout",
     "output_type": "stream",
     "text": [
      "0    2004\n",
      "1    2004\n",
      "2    2004\n",
      "3    2004\n",
      "4    2004\n",
      "Name: Date, dtype: int64\n"
     ]
    }
   ],
   "source": [
    "year = air_df.Date.dt.year                                    # Extracting year from date column\n",
    "\n",
    "print(year.head())"
   ]
  },
  {
   "cell_type": "code",
   "execution_count": 239,
   "id": "b8019bb9-f8df-4488-8ca0-fa496e6fd61f",
   "metadata": {},
   "outputs": [
    {
     "name": "stdout",
     "output_type": "stream",
     "text": [
      "0    3\n",
      "1    3\n",
      "2    3\n",
      "3    3\n",
      "4    3\n",
      "Name: Date, dtype: int64\n"
     ]
    }
   ],
   "source": [
    "month = air_df.Date.dt.month                                  # Extracting month from date column\n",
    "\n",
    "print(month.head())"
   ]
  },
  {
   "cell_type": "code",
   "execution_count": 240,
   "id": "d5c3e6f6-8c10-4983-b0b4-4f370d163d54",
   "metadata": {},
   "outputs": [
    {
     "data": {
      "text/plain": [
       "12"
      ]
     },
     "execution_count": 240,
     "metadata": {},
     "output_type": "execute_result"
    }
   ],
   "source": [
    "month.nunique()                                              # Counting the number of months"
   ]
  },
  {
   "cell_type": "code",
   "execution_count": 242,
   "id": "34b6a137-f3dd-4c2f-a1f9-9e6032f8b993",
   "metadata": {},
   "outputs": [
    {
     "name": "stdout",
     "output_type": "stream",
     "text": [
      "0    10\n",
      "1    10\n",
      "2    10\n",
      "3    10\n",
      "4    10\n",
      "Name: Date, dtype: int64\n"
     ]
    }
   ],
   "source": [
    "day = air_df.Date.dt.day                                     # Extracting day from data column\n",
    "\n",
    "print(day.head())"
   ]
  },
  {
   "cell_type": "code",
   "execution_count": 243,
   "id": "fab3a920-d9c4-48a4-8356-06b54b811ff9",
   "metadata": {},
   "outputs": [
    {
     "data": {
      "text/plain": [
       "31"
      ]
     },
     "execution_count": 243,
     "metadata": {},
     "output_type": "execute_result"
    }
   ],
   "source": [
    "day.nunique()                                                 # Counting the number of days"
   ]
  },
  {
   "cell_type": "code",
   "execution_count": 247,
   "id": "ff16d406-df2c-4cd7-81d6-952793b0846b",
   "metadata": {},
   "outputs": [],
   "source": [
    "# the index of week days are provided below\n",
    "# 0 = Monday\n",
    "# 1 = Tuesday\n",
    "# 2 = wednesday\n",
    "# 3 = Thursday\n",
    "# 4 = Friday\n",
    "# 5 = Saturday\n",
    "# 6 = Sunday"
   ]
  },
  {
   "cell_type": "code",
   "execution_count": 253,
   "id": "b5965c73-252d-4dc6-a111-a39b40ead8ed",
   "metadata": {},
   "outputs": [
    {
     "name": "stdout",
     "output_type": "stream",
     "text": [
      "0    2\n",
      "1    2\n",
      "2    2\n",
      "3    2\n",
      "4    2\n",
      "Name: Date, dtype: int64\n"
     ]
    }
   ],
   "source": [
    "day_of_week = air_df.Date.dt.dayofweek                        # Extracting the day of the week number\n",
    "\n",
    "print (day_of_week.head())"
   ]
  },
  {
   "cell_type": "code",
   "execution_count": 254,
   "id": "6ec3e6db-51fc-4d86-aa8b-f55583adca68",
   "metadata": {
    "colab": {
     "autoexec": {
      "startup": false,
      "wait_interval": 0
     }
    },
    "colab_type": "code",
    "id": "Qms-jLhx_5BP",
    "outputId": "ac7dd0d5-e95f-47b7-e702-148cda0ec4ab"
   },
   "outputs": [
    {
     "name": "stdout",
     "output_type": "stream",
     "text": [
      "0    70\n",
      "1    70\n",
      "2    70\n",
      "3    70\n",
      "4    70\n",
      "Name: Date, dtype: int64\n"
     ]
    }
   ],
   "source": [
    "day_of_year = air_df.Date.dt.dayofyear                       # Extracting the day of the year\n",
    "\n",
    "print(day_of_year.head())"
   ]
  },
  {
   "cell_type": "code",
   "execution_count": 255,
   "id": "6d0c775b-4387-4e05-b061-f8a0c4b9aee9",
   "metadata": {},
   "outputs": [
    {
     "name": "stdout",
     "output_type": "stream",
     "text": [
      "0    18\n",
      "1    19\n",
      "2    20\n",
      "3    21\n",
      "4    22\n",
      "Name: Time, dtype: int64\n"
     ]
    }
   ],
   "source": [
    "hour = air_df.Time.dt.hour                                    # Extracting the hour from time\n",
    "\n",
    "print (hour.head())"
   ]
  },
  {
   "cell_type": "code",
   "execution_count": 256,
   "id": "185ca92e-41f3-4a1a-9918-6db53abc903b",
   "metadata": {},
   "outputs": [
    {
     "data": {
      "text/plain": [
       "24"
      ]
     },
     "execution_count": 256,
     "metadata": {},
     "output_type": "execute_result"
    }
   ],
   "source": [
    "hour.nunique()                                                # Extracting the number of hours "
   ]
  },
  {
   "cell_type": "code",
   "execution_count": 257,
   "id": "13c2e8bd-b19c-450f-86d7-e0222d07a4e9",
   "metadata": {},
   "outputs": [
    {
     "name": "stdout",
     "output_type": "stream",
     "text": [
      "0    0\n",
      "1    0\n",
      "2    0\n",
      "3    0\n",
      "4    0\n",
      "Name: Time, dtype: int64\n"
     ]
    }
   ],
   "source": [
    "minute = air_df.Time.dt.minute                                # Extracting the minute from the time\n",
    "\n",
    "print(minute.head())"
   ]
  },
  {
   "cell_type": "code",
   "execution_count": 258,
   "id": "4fa6a541-5d95-436e-8980-175d155a482e",
   "metadata": {},
   "outputs": [],
   "source": [
    "# Conclusion"
   ]
  },
  {
   "cell_type": "code",
   "execution_count": 259,
   "id": "08dc73f8-c65c-4f75-a5df-ea4584b0eff4",
   "metadata": {},
   "outputs": [],
   "source": [
    "# Pandas is one of those packages, and makes omporting and analyzing data much easier."
   ]
  },
  {
   "cell_type": "code",
   "execution_count": 260,
   "id": "ab56eba4-ed2c-4408-8889-db828f23c3cb",
   "metadata": {},
   "outputs": [],
   "source": [
    "# It is open source, BSD -licenseed python library providing high perfrmance, easy to use data structure data python program"
   ]
  },
  {
   "cell_type": "code",
   "execution_count": null,
   "id": "075c3d92-8040-4d48-8ee3-843079a31f7b",
   "metadata": {},
   "outputs": [],
   "source": []
  }
 ],
 "metadata": {
  "kernelspec": {
   "display_name": "Python 3",
   "language": "python",
   "name": "python3"
  },
  "language_info": {
   "codemirror_mode": {
    "name": "ipython",
    "version": 3
   },
   "file_extension": ".py",
   "mimetype": "text/x-python",
   "name": "python",
   "nbconvert_exporter": "python",
   "pygments_lexer": "ipython3",
   "version": "3.8.8"
  }
 },
 "nbformat": 4,
 "nbformat_minor": 5
}
