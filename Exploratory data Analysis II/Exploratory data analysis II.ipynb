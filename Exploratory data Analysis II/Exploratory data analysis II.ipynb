{
 "cells": [
  {
   "cell_type": "code",
   "execution_count": 1,
   "id": "3d89bc81-b4a8-4b88-a9b4-e25b5594afe9",
   "metadata": {},
   "outputs": [],
   "source": [
    "# 1.Introduction"
   ]
  },
  {
   "cell_type": "code",
   "execution_count": null,
   "id": "90cba15e-ade7-4294-8244-e0ceb040dc68",
   "metadata": {},
   "outputs": [],
   "source": [
    "# This exploratory data analysis to pratice python skills learned till now on a structured data set including, inspecting, warangling, exploring, and drawing from data."
   ]
  },
  {
   "cell_type": "code",
   "execution_count": 2,
   "id": "d9d52f4d-d8a6-412c-9562-f74ee0171880",
   "metadata": {},
   "outputs": [],
   "source": [
    "# 1.2 Data source and dataset"
   ]
  },
  {
   "cell_type": "code",
   "execution_count": 10,
   "id": "285c5798-97c6-449a-add5-4577b4757ae8",
   "metadata": {},
   "outputs": [],
   "source": [
    "# 2 Load the packages and data"
   ]
  },
  {
   "cell_type": "markdown",
   "id": "2ee3f9f2-9ad0-4dc1-9b1c-dc60dd8f03e6",
   "metadata": {},
   "source": [
    "#### Run this line in case you dont have pandas_profiling installed.\n",
    "```python\n",
    "!pip install pandas_profiling\n",
    "```                                                  "
   ]
  },
  {
   "cell_type": "code",
   "execution_count": 11,
   "id": "9eef5f8f-16a5-4b05-8a1a-7a023d30af04",
   "metadata": {
    "_cell_guid": "87c98308-2f60-47b0-8007-777feadea29e",
    "_kg_hide-input": false,
    "_kg_hide-output": false,
    "_uuid": "7358d222da406e9bb090d83c4ef0b1f01bcab83d"
   },
   "outputs": [],
   "source": [
    "import sys                                                                      # Import packages\n",
    "\n",
    "import pandas as pd\n",
    "\n",
    "import seaborn as sns\n",
    "\n",
    "import numpy as np\n",
    "\n",
    "import matplotlib.pyplot as plt\n",
    "\n",
    "from matplotlib.pyplot import pie, axis, show\n",
    "%matplotlib inline                                                              \n",
    "\n",
    "import warnings                                                                 # Ignore warning related to pandas_profiling\n",
    "warnings.filterwarnings('ignore') \n",
    "\n",
    "pd.set_option('display.max_columns', 100)                                       # Display all dataframe columns in outputs (it has 27 columns, which is wider than the notebook)\n",
    "                                                                                # This sets it up to dispaly with a horizontal scroll instead of hiding the middle columns\n",
    "\n",
    "mh = pd.read_csv(\"https://raw.githubusercontent.com/insaid2018/Term-1/master/Data/Casestudy/survey.csv\")                       # Load in the dataset as mh"
   ]
  },
  {
   "cell_type": "code",
   "execution_count": 12,
   "id": "a1dda848-4551-46c3-a8ff-3071013e1c6e",
   "metadata": {},
   "outputs": [],
   "source": [
    "# 3. Data Profiling"
   ]
  },
  {
   "cell_type": "code",
   "execution_count": null,
   "id": "e17e3da3-ca61-4965-b95c-33ada79ddbe5",
   "metadata": {},
   "outputs": [],
   "source": [
    "# data types and sample data to understand what variables we are dealing with?"
   ]
  },
  {
   "cell_type": "code",
   "execution_count": 13,
   "id": "fba0ed84-da3a-4da2-ad31-f2d438794d27",
   "metadata": {
    "_cell_guid": "2cbcb1ea-b2af-45c9-8fce-4b00c213dab1",
    "_uuid": "9b429eb8b0d07d1bbd0bb8a1d135a430bed53491",
    "scrolled": true
   },
   "outputs": [
    {
     "data": {
      "text/plain": [
       "Timestamp                    object\n",
       "Age                           int64\n",
       "Gender                       object\n",
       "Country                      object\n",
       "state                        object\n",
       "self_employed                object\n",
       "family_history               object\n",
       "treatment                    object\n",
       "work_interfere               object\n",
       "no_employees                 object\n",
       "remote_work                  object\n",
       "tech_company                 object\n",
       "benefits                     object\n",
       "care_options                 object\n",
       "wellness_program             object\n",
       "seek_help                    object\n",
       "anonymity                    object\n",
       "leave                        object\n",
       "mental_health_consequence    object\n",
       "phys_health_consequence      object\n",
       "coworkers                    object\n",
       "supervisor                   object\n",
       "mental_health_interview      object\n",
       "phys_health_interview        object\n",
       "mental_vs_physical           object\n",
       "obs_consequence              object\n",
       "comments                     object\n",
       "dtype: object"
      ]
     },
     "execution_count": 13,
     "metadata": {},
     "output_type": "execute_result"
    }
   ],
   "source": [
    "mh.dtypes                                                                       # Display the data type for each variable"
   ]
  },
  {
   "cell_type": "code",
   "execution_count": 14,
   "id": "2b650301-fdc2-4645-adf7-c73cafcf7131",
   "metadata": {
    "_cell_guid": "15b014b4-7bce-4c7a-9a1a-2d917e94d27f",
    "_uuid": "4a9d3b2900adbd63975153afd6169e9451487530"
   },
   "outputs": [
    {
     "data": {
      "text/html": [
       "<div>\n",
       "<style scoped>\n",
       "    .dataframe tbody tr th:only-of-type {\n",
       "        vertical-align: middle;\n",
       "    }\n",
       "\n",
       "    .dataframe tbody tr th {\n",
       "        vertical-align: top;\n",
       "    }\n",
       "\n",
       "    .dataframe thead th {\n",
       "        text-align: right;\n",
       "    }\n",
       "</style>\n",
       "<table border=\"1\" class=\"dataframe\">\n",
       "  <thead>\n",
       "    <tr style=\"text-align: right;\">\n",
       "      <th></th>\n",
       "      <th>Timestamp</th>\n",
       "      <th>Age</th>\n",
       "      <th>Gender</th>\n",
       "      <th>Country</th>\n",
       "      <th>state</th>\n",
       "      <th>self_employed</th>\n",
       "      <th>family_history</th>\n",
       "      <th>treatment</th>\n",
       "      <th>work_interfere</th>\n",
       "      <th>no_employees</th>\n",
       "      <th>remote_work</th>\n",
       "      <th>tech_company</th>\n",
       "      <th>benefits</th>\n",
       "      <th>care_options</th>\n",
       "      <th>wellness_program</th>\n",
       "      <th>seek_help</th>\n",
       "      <th>anonymity</th>\n",
       "      <th>leave</th>\n",
       "      <th>mental_health_consequence</th>\n",
       "      <th>phys_health_consequence</th>\n",
       "      <th>coworkers</th>\n",
       "      <th>supervisor</th>\n",
       "      <th>mental_health_interview</th>\n",
       "      <th>phys_health_interview</th>\n",
       "      <th>mental_vs_physical</th>\n",
       "      <th>obs_consequence</th>\n",
       "      <th>comments</th>\n",
       "    </tr>\n",
       "  </thead>\n",
       "  <tbody>\n",
       "    <tr>\n",
       "      <th>0</th>\n",
       "      <td>2014-08-27 11:29:31</td>\n",
       "      <td>37</td>\n",
       "      <td>Female</td>\n",
       "      <td>United States</td>\n",
       "      <td>IL</td>\n",
       "      <td>NaN</td>\n",
       "      <td>No</td>\n",
       "      <td>Yes</td>\n",
       "      <td>Often</td>\n",
       "      <td>6-25</td>\n",
       "      <td>No</td>\n",
       "      <td>Yes</td>\n",
       "      <td>Yes</td>\n",
       "      <td>Not sure</td>\n",
       "      <td>No</td>\n",
       "      <td>Yes</td>\n",
       "      <td>Yes</td>\n",
       "      <td>Somewhat easy</td>\n",
       "      <td>No</td>\n",
       "      <td>No</td>\n",
       "      <td>Some of them</td>\n",
       "      <td>Yes</td>\n",
       "      <td>No</td>\n",
       "      <td>Maybe</td>\n",
       "      <td>Yes</td>\n",
       "      <td>No</td>\n",
       "      <td>NaN</td>\n",
       "    </tr>\n",
       "    <tr>\n",
       "      <th>1</th>\n",
       "      <td>2014-08-27 11:29:37</td>\n",
       "      <td>44</td>\n",
       "      <td>M</td>\n",
       "      <td>United States</td>\n",
       "      <td>IN</td>\n",
       "      <td>NaN</td>\n",
       "      <td>No</td>\n",
       "      <td>No</td>\n",
       "      <td>Rarely</td>\n",
       "      <td>More than 1000</td>\n",
       "      <td>No</td>\n",
       "      <td>No</td>\n",
       "      <td>Don't know</td>\n",
       "      <td>No</td>\n",
       "      <td>Don't know</td>\n",
       "      <td>Don't know</td>\n",
       "      <td>Don't know</td>\n",
       "      <td>Don't know</td>\n",
       "      <td>Maybe</td>\n",
       "      <td>No</td>\n",
       "      <td>No</td>\n",
       "      <td>No</td>\n",
       "      <td>No</td>\n",
       "      <td>No</td>\n",
       "      <td>Don't know</td>\n",
       "      <td>No</td>\n",
       "      <td>NaN</td>\n",
       "    </tr>\n",
       "    <tr>\n",
       "      <th>2</th>\n",
       "      <td>2014-08-27 11:29:44</td>\n",
       "      <td>32</td>\n",
       "      <td>Male</td>\n",
       "      <td>Canada</td>\n",
       "      <td>NaN</td>\n",
       "      <td>NaN</td>\n",
       "      <td>No</td>\n",
       "      <td>No</td>\n",
       "      <td>Rarely</td>\n",
       "      <td>6-25</td>\n",
       "      <td>No</td>\n",
       "      <td>Yes</td>\n",
       "      <td>No</td>\n",
       "      <td>No</td>\n",
       "      <td>No</td>\n",
       "      <td>No</td>\n",
       "      <td>Don't know</td>\n",
       "      <td>Somewhat difficult</td>\n",
       "      <td>No</td>\n",
       "      <td>No</td>\n",
       "      <td>Yes</td>\n",
       "      <td>Yes</td>\n",
       "      <td>Yes</td>\n",
       "      <td>Yes</td>\n",
       "      <td>No</td>\n",
       "      <td>No</td>\n",
       "      <td>NaN</td>\n",
       "    </tr>\n",
       "    <tr>\n",
       "      <th>3</th>\n",
       "      <td>2014-08-27 11:29:46</td>\n",
       "      <td>31</td>\n",
       "      <td>Male</td>\n",
       "      <td>United Kingdom</td>\n",
       "      <td>NaN</td>\n",
       "      <td>NaN</td>\n",
       "      <td>Yes</td>\n",
       "      <td>Yes</td>\n",
       "      <td>Often</td>\n",
       "      <td>26-100</td>\n",
       "      <td>No</td>\n",
       "      <td>Yes</td>\n",
       "      <td>No</td>\n",
       "      <td>Yes</td>\n",
       "      <td>No</td>\n",
       "      <td>No</td>\n",
       "      <td>No</td>\n",
       "      <td>Somewhat difficult</td>\n",
       "      <td>Yes</td>\n",
       "      <td>Yes</td>\n",
       "      <td>Some of them</td>\n",
       "      <td>No</td>\n",
       "      <td>Maybe</td>\n",
       "      <td>Maybe</td>\n",
       "      <td>No</td>\n",
       "      <td>Yes</td>\n",
       "      <td>NaN</td>\n",
       "    </tr>\n",
       "    <tr>\n",
       "      <th>4</th>\n",
       "      <td>2014-08-27 11:30:22</td>\n",
       "      <td>31</td>\n",
       "      <td>Male</td>\n",
       "      <td>United States</td>\n",
       "      <td>TX</td>\n",
       "      <td>NaN</td>\n",
       "      <td>No</td>\n",
       "      <td>No</td>\n",
       "      <td>Never</td>\n",
       "      <td>100-500</td>\n",
       "      <td>Yes</td>\n",
       "      <td>Yes</td>\n",
       "      <td>Yes</td>\n",
       "      <td>No</td>\n",
       "      <td>Don't know</td>\n",
       "      <td>Don't know</td>\n",
       "      <td>Don't know</td>\n",
       "      <td>Don't know</td>\n",
       "      <td>No</td>\n",
       "      <td>No</td>\n",
       "      <td>Some of them</td>\n",
       "      <td>Yes</td>\n",
       "      <td>Yes</td>\n",
       "      <td>Yes</td>\n",
       "      <td>Don't know</td>\n",
       "      <td>No</td>\n",
       "      <td>NaN</td>\n",
       "    </tr>\n",
       "  </tbody>\n",
       "</table>\n",
       "</div>"
      ],
      "text/plain": [
       "             Timestamp  Age  Gender         Country state self_employed  \\\n",
       "0  2014-08-27 11:29:31   37  Female   United States    IL           NaN   \n",
       "1  2014-08-27 11:29:37   44       M   United States    IN           NaN   \n",
       "2  2014-08-27 11:29:44   32    Male          Canada   NaN           NaN   \n",
       "3  2014-08-27 11:29:46   31    Male  United Kingdom   NaN           NaN   \n",
       "4  2014-08-27 11:30:22   31    Male   United States    TX           NaN   \n",
       "\n",
       "  family_history treatment work_interfere    no_employees remote_work  \\\n",
       "0             No       Yes          Often            6-25          No   \n",
       "1             No        No         Rarely  More than 1000          No   \n",
       "2             No        No         Rarely            6-25          No   \n",
       "3            Yes       Yes          Often          26-100          No   \n",
       "4             No        No          Never         100-500         Yes   \n",
       "\n",
       "  tech_company    benefits care_options wellness_program   seek_help  \\\n",
       "0          Yes         Yes     Not sure               No         Yes   \n",
       "1           No  Don't know           No       Don't know  Don't know   \n",
       "2          Yes          No           No               No          No   \n",
       "3          Yes          No          Yes               No          No   \n",
       "4          Yes         Yes           No       Don't know  Don't know   \n",
       "\n",
       "    anonymity               leave mental_health_consequence  \\\n",
       "0         Yes       Somewhat easy                        No   \n",
       "1  Don't know          Don't know                     Maybe   \n",
       "2  Don't know  Somewhat difficult                        No   \n",
       "3          No  Somewhat difficult                       Yes   \n",
       "4  Don't know          Don't know                        No   \n",
       "\n",
       "  phys_health_consequence     coworkers supervisor mental_health_interview  \\\n",
       "0                      No  Some of them        Yes                      No   \n",
       "1                      No            No         No                      No   \n",
       "2                      No           Yes        Yes                     Yes   \n",
       "3                     Yes  Some of them         No                   Maybe   \n",
       "4                      No  Some of them        Yes                     Yes   \n",
       "\n",
       "  phys_health_interview mental_vs_physical obs_consequence comments  \n",
       "0                 Maybe                Yes              No      NaN  \n",
       "1                    No         Don't know              No      NaN  \n",
       "2                   Yes                 No              No      NaN  \n",
       "3                 Maybe                 No             Yes      NaN  \n",
       "4                   Yes         Don't know              No      NaN  "
      ]
     },
     "execution_count": 14,
     "metadata": {},
     "output_type": "execute_result"
    }
   ],
   "source": [
    "mh.head()                                                                      # Display the first five rows of the data set"
   ]
  },
  {
   "cell_type": "code",
   "execution_count": 15,
   "id": "6e8c23a7-da5f-46e8-a51f-78ef51074a16",
   "metadata": {},
   "outputs": [
    {
     "data": {
      "text/html": [
       "<div>\n",
       "<style scoped>\n",
       "    .dataframe tbody tr th:only-of-type {\n",
       "        vertical-align: middle;\n",
       "    }\n",
       "\n",
       "    .dataframe tbody tr th {\n",
       "        vertical-align: top;\n",
       "    }\n",
       "\n",
       "    .dataframe thead th {\n",
       "        text-align: right;\n",
       "    }\n",
       "</style>\n",
       "<table border=\"1\" class=\"dataframe\">\n",
       "  <thead>\n",
       "    <tr style=\"text-align: right;\">\n",
       "      <th></th>\n",
       "      <th>Timestamp</th>\n",
       "      <th>Age</th>\n",
       "      <th>Gender</th>\n",
       "      <th>Country</th>\n",
       "      <th>state</th>\n",
       "      <th>self_employed</th>\n",
       "      <th>family_history</th>\n",
       "      <th>treatment</th>\n",
       "      <th>work_interfere</th>\n",
       "      <th>no_employees</th>\n",
       "      <th>remote_work</th>\n",
       "      <th>tech_company</th>\n",
       "      <th>benefits</th>\n",
       "      <th>care_options</th>\n",
       "      <th>wellness_program</th>\n",
       "      <th>seek_help</th>\n",
       "      <th>anonymity</th>\n",
       "      <th>leave</th>\n",
       "      <th>mental_health_consequence</th>\n",
       "      <th>phys_health_consequence</th>\n",
       "      <th>coworkers</th>\n",
       "      <th>supervisor</th>\n",
       "      <th>mental_health_interview</th>\n",
       "      <th>phys_health_interview</th>\n",
       "      <th>mental_vs_physical</th>\n",
       "      <th>obs_consequence</th>\n",
       "      <th>comments</th>\n",
       "    </tr>\n",
       "  </thead>\n",
       "  <tbody>\n",
       "    <tr>\n",
       "      <th>count</th>\n",
       "      <td>1259</td>\n",
       "      <td>1.259000e+03</td>\n",
       "      <td>1259</td>\n",
       "      <td>1259</td>\n",
       "      <td>744</td>\n",
       "      <td>1241</td>\n",
       "      <td>1259</td>\n",
       "      <td>1259</td>\n",
       "      <td>995</td>\n",
       "      <td>1259</td>\n",
       "      <td>1259</td>\n",
       "      <td>1259</td>\n",
       "      <td>1259</td>\n",
       "      <td>1259</td>\n",
       "      <td>1259</td>\n",
       "      <td>1259</td>\n",
       "      <td>1259</td>\n",
       "      <td>1259</td>\n",
       "      <td>1259</td>\n",
       "      <td>1259</td>\n",
       "      <td>1259</td>\n",
       "      <td>1259</td>\n",
       "      <td>1259</td>\n",
       "      <td>1259</td>\n",
       "      <td>1259</td>\n",
       "      <td>1259</td>\n",
       "      <td>164</td>\n",
       "    </tr>\n",
       "    <tr>\n",
       "      <th>unique</th>\n",
       "      <td>1246</td>\n",
       "      <td>NaN</td>\n",
       "      <td>49</td>\n",
       "      <td>48</td>\n",
       "      <td>45</td>\n",
       "      <td>2</td>\n",
       "      <td>2</td>\n",
       "      <td>2</td>\n",
       "      <td>4</td>\n",
       "      <td>6</td>\n",
       "      <td>2</td>\n",
       "      <td>2</td>\n",
       "      <td>3</td>\n",
       "      <td>3</td>\n",
       "      <td>3</td>\n",
       "      <td>3</td>\n",
       "      <td>3</td>\n",
       "      <td>5</td>\n",
       "      <td>3</td>\n",
       "      <td>3</td>\n",
       "      <td>3</td>\n",
       "      <td>3</td>\n",
       "      <td>3</td>\n",
       "      <td>3</td>\n",
       "      <td>3</td>\n",
       "      <td>2</td>\n",
       "      <td>160</td>\n",
       "    </tr>\n",
       "    <tr>\n",
       "      <th>top</th>\n",
       "      <td>2014-08-28 09:59:39</td>\n",
       "      <td>NaN</td>\n",
       "      <td>Male</td>\n",
       "      <td>United States</td>\n",
       "      <td>CA</td>\n",
       "      <td>No</td>\n",
       "      <td>No</td>\n",
       "      <td>Yes</td>\n",
       "      <td>Sometimes</td>\n",
       "      <td>6-25</td>\n",
       "      <td>No</td>\n",
       "      <td>Yes</td>\n",
       "      <td>Yes</td>\n",
       "      <td>No</td>\n",
       "      <td>No</td>\n",
       "      <td>No</td>\n",
       "      <td>Don't know</td>\n",
       "      <td>Don't know</td>\n",
       "      <td>No</td>\n",
       "      <td>No</td>\n",
       "      <td>Some of them</td>\n",
       "      <td>Yes</td>\n",
       "      <td>No</td>\n",
       "      <td>Maybe</td>\n",
       "      <td>Don't know</td>\n",
       "      <td>No</td>\n",
       "      <td>* Small family business - YMMV.</td>\n",
       "    </tr>\n",
       "    <tr>\n",
       "      <th>freq</th>\n",
       "      <td>2</td>\n",
       "      <td>NaN</td>\n",
       "      <td>615</td>\n",
       "      <td>751</td>\n",
       "      <td>138</td>\n",
       "      <td>1095</td>\n",
       "      <td>767</td>\n",
       "      <td>637</td>\n",
       "      <td>465</td>\n",
       "      <td>290</td>\n",
       "      <td>883</td>\n",
       "      <td>1031</td>\n",
       "      <td>477</td>\n",
       "      <td>501</td>\n",
       "      <td>842</td>\n",
       "      <td>646</td>\n",
       "      <td>819</td>\n",
       "      <td>563</td>\n",
       "      <td>490</td>\n",
       "      <td>925</td>\n",
       "      <td>774</td>\n",
       "      <td>516</td>\n",
       "      <td>1008</td>\n",
       "      <td>557</td>\n",
       "      <td>576</td>\n",
       "      <td>1075</td>\n",
       "      <td>5</td>\n",
       "    </tr>\n",
       "    <tr>\n",
       "      <th>mean</th>\n",
       "      <td>NaN</td>\n",
       "      <td>7.942815e+07</td>\n",
       "      <td>NaN</td>\n",
       "      <td>NaN</td>\n",
       "      <td>NaN</td>\n",
       "      <td>NaN</td>\n",
       "      <td>NaN</td>\n",
       "      <td>NaN</td>\n",
       "      <td>NaN</td>\n",
       "      <td>NaN</td>\n",
       "      <td>NaN</td>\n",
       "      <td>NaN</td>\n",
       "      <td>NaN</td>\n",
       "      <td>NaN</td>\n",
       "      <td>NaN</td>\n",
       "      <td>NaN</td>\n",
       "      <td>NaN</td>\n",
       "      <td>NaN</td>\n",
       "      <td>NaN</td>\n",
       "      <td>NaN</td>\n",
       "      <td>NaN</td>\n",
       "      <td>NaN</td>\n",
       "      <td>NaN</td>\n",
       "      <td>NaN</td>\n",
       "      <td>NaN</td>\n",
       "      <td>NaN</td>\n",
       "      <td>NaN</td>\n",
       "    </tr>\n",
       "    <tr>\n",
       "      <th>std</th>\n",
       "      <td>NaN</td>\n",
       "      <td>2.818299e+09</td>\n",
       "      <td>NaN</td>\n",
       "      <td>NaN</td>\n",
       "      <td>NaN</td>\n",
       "      <td>NaN</td>\n",
       "      <td>NaN</td>\n",
       "      <td>NaN</td>\n",
       "      <td>NaN</td>\n",
       "      <td>NaN</td>\n",
       "      <td>NaN</td>\n",
       "      <td>NaN</td>\n",
       "      <td>NaN</td>\n",
       "      <td>NaN</td>\n",
       "      <td>NaN</td>\n",
       "      <td>NaN</td>\n",
       "      <td>NaN</td>\n",
       "      <td>NaN</td>\n",
       "      <td>NaN</td>\n",
       "      <td>NaN</td>\n",
       "      <td>NaN</td>\n",
       "      <td>NaN</td>\n",
       "      <td>NaN</td>\n",
       "      <td>NaN</td>\n",
       "      <td>NaN</td>\n",
       "      <td>NaN</td>\n",
       "      <td>NaN</td>\n",
       "    </tr>\n",
       "    <tr>\n",
       "      <th>min</th>\n",
       "      <td>NaN</td>\n",
       "      <td>-1.726000e+03</td>\n",
       "      <td>NaN</td>\n",
       "      <td>NaN</td>\n",
       "      <td>NaN</td>\n",
       "      <td>NaN</td>\n",
       "      <td>NaN</td>\n",
       "      <td>NaN</td>\n",
       "      <td>NaN</td>\n",
       "      <td>NaN</td>\n",
       "      <td>NaN</td>\n",
       "      <td>NaN</td>\n",
       "      <td>NaN</td>\n",
       "      <td>NaN</td>\n",
       "      <td>NaN</td>\n",
       "      <td>NaN</td>\n",
       "      <td>NaN</td>\n",
       "      <td>NaN</td>\n",
       "      <td>NaN</td>\n",
       "      <td>NaN</td>\n",
       "      <td>NaN</td>\n",
       "      <td>NaN</td>\n",
       "      <td>NaN</td>\n",
       "      <td>NaN</td>\n",
       "      <td>NaN</td>\n",
       "      <td>NaN</td>\n",
       "      <td>NaN</td>\n",
       "    </tr>\n",
       "    <tr>\n",
       "      <th>25%</th>\n",
       "      <td>NaN</td>\n",
       "      <td>2.700000e+01</td>\n",
       "      <td>NaN</td>\n",
       "      <td>NaN</td>\n",
       "      <td>NaN</td>\n",
       "      <td>NaN</td>\n",
       "      <td>NaN</td>\n",
       "      <td>NaN</td>\n",
       "      <td>NaN</td>\n",
       "      <td>NaN</td>\n",
       "      <td>NaN</td>\n",
       "      <td>NaN</td>\n",
       "      <td>NaN</td>\n",
       "      <td>NaN</td>\n",
       "      <td>NaN</td>\n",
       "      <td>NaN</td>\n",
       "      <td>NaN</td>\n",
       "      <td>NaN</td>\n",
       "      <td>NaN</td>\n",
       "      <td>NaN</td>\n",
       "      <td>NaN</td>\n",
       "      <td>NaN</td>\n",
       "      <td>NaN</td>\n",
       "      <td>NaN</td>\n",
       "      <td>NaN</td>\n",
       "      <td>NaN</td>\n",
       "      <td>NaN</td>\n",
       "    </tr>\n",
       "    <tr>\n",
       "      <th>50%</th>\n",
       "      <td>NaN</td>\n",
       "      <td>3.100000e+01</td>\n",
       "      <td>NaN</td>\n",
       "      <td>NaN</td>\n",
       "      <td>NaN</td>\n",
       "      <td>NaN</td>\n",
       "      <td>NaN</td>\n",
       "      <td>NaN</td>\n",
       "      <td>NaN</td>\n",
       "      <td>NaN</td>\n",
       "      <td>NaN</td>\n",
       "      <td>NaN</td>\n",
       "      <td>NaN</td>\n",
       "      <td>NaN</td>\n",
       "      <td>NaN</td>\n",
       "      <td>NaN</td>\n",
       "      <td>NaN</td>\n",
       "      <td>NaN</td>\n",
       "      <td>NaN</td>\n",
       "      <td>NaN</td>\n",
       "      <td>NaN</td>\n",
       "      <td>NaN</td>\n",
       "      <td>NaN</td>\n",
       "      <td>NaN</td>\n",
       "      <td>NaN</td>\n",
       "      <td>NaN</td>\n",
       "      <td>NaN</td>\n",
       "    </tr>\n",
       "    <tr>\n",
       "      <th>75%</th>\n",
       "      <td>NaN</td>\n",
       "      <td>3.600000e+01</td>\n",
       "      <td>NaN</td>\n",
       "      <td>NaN</td>\n",
       "      <td>NaN</td>\n",
       "      <td>NaN</td>\n",
       "      <td>NaN</td>\n",
       "      <td>NaN</td>\n",
       "      <td>NaN</td>\n",
       "      <td>NaN</td>\n",
       "      <td>NaN</td>\n",
       "      <td>NaN</td>\n",
       "      <td>NaN</td>\n",
       "      <td>NaN</td>\n",
       "      <td>NaN</td>\n",
       "      <td>NaN</td>\n",
       "      <td>NaN</td>\n",
       "      <td>NaN</td>\n",
       "      <td>NaN</td>\n",
       "      <td>NaN</td>\n",
       "      <td>NaN</td>\n",
       "      <td>NaN</td>\n",
       "      <td>NaN</td>\n",
       "      <td>NaN</td>\n",
       "      <td>NaN</td>\n",
       "      <td>NaN</td>\n",
       "      <td>NaN</td>\n",
       "    </tr>\n",
       "    <tr>\n",
       "      <th>max</th>\n",
       "      <td>NaN</td>\n",
       "      <td>1.000000e+11</td>\n",
       "      <td>NaN</td>\n",
       "      <td>NaN</td>\n",
       "      <td>NaN</td>\n",
       "      <td>NaN</td>\n",
       "      <td>NaN</td>\n",
       "      <td>NaN</td>\n",
       "      <td>NaN</td>\n",
       "      <td>NaN</td>\n",
       "      <td>NaN</td>\n",
       "      <td>NaN</td>\n",
       "      <td>NaN</td>\n",
       "      <td>NaN</td>\n",
       "      <td>NaN</td>\n",
       "      <td>NaN</td>\n",
       "      <td>NaN</td>\n",
       "      <td>NaN</td>\n",
       "      <td>NaN</td>\n",
       "      <td>NaN</td>\n",
       "      <td>NaN</td>\n",
       "      <td>NaN</td>\n",
       "      <td>NaN</td>\n",
       "      <td>NaN</td>\n",
       "      <td>NaN</td>\n",
       "      <td>NaN</td>\n",
       "      <td>NaN</td>\n",
       "    </tr>\n",
       "  </tbody>\n",
       "</table>\n",
       "</div>"
      ],
      "text/plain": [
       "                  Timestamp           Age Gender        Country state  \\\n",
       "count                  1259  1.259000e+03   1259           1259   744   \n",
       "unique                 1246           NaN     49             48    45   \n",
       "top     2014-08-28 09:59:39           NaN   Male  United States    CA   \n",
       "freq                      2           NaN    615            751   138   \n",
       "mean                    NaN  7.942815e+07    NaN            NaN   NaN   \n",
       "std                     NaN  2.818299e+09    NaN            NaN   NaN   \n",
       "min                     NaN -1.726000e+03    NaN            NaN   NaN   \n",
       "25%                     NaN  2.700000e+01    NaN            NaN   NaN   \n",
       "50%                     NaN  3.100000e+01    NaN            NaN   NaN   \n",
       "75%                     NaN  3.600000e+01    NaN            NaN   NaN   \n",
       "max                     NaN  1.000000e+11    NaN            NaN   NaN   \n",
       "\n",
       "       self_employed family_history treatment work_interfere no_employees  \\\n",
       "count           1241           1259      1259            995         1259   \n",
       "unique             2              2         2              4            6   \n",
       "top               No             No       Yes      Sometimes         6-25   \n",
       "freq            1095            767       637            465          290   \n",
       "mean             NaN            NaN       NaN            NaN          NaN   \n",
       "std              NaN            NaN       NaN            NaN          NaN   \n",
       "min              NaN            NaN       NaN            NaN          NaN   \n",
       "25%              NaN            NaN       NaN            NaN          NaN   \n",
       "50%              NaN            NaN       NaN            NaN          NaN   \n",
       "75%              NaN            NaN       NaN            NaN          NaN   \n",
       "max              NaN            NaN       NaN            NaN          NaN   \n",
       "\n",
       "       remote_work tech_company benefits care_options wellness_program  \\\n",
       "count         1259         1259     1259         1259             1259   \n",
       "unique           2            2        3            3                3   \n",
       "top             No          Yes      Yes           No               No   \n",
       "freq           883         1031      477          501              842   \n",
       "mean           NaN          NaN      NaN          NaN              NaN   \n",
       "std            NaN          NaN      NaN          NaN              NaN   \n",
       "min            NaN          NaN      NaN          NaN              NaN   \n",
       "25%            NaN          NaN      NaN          NaN              NaN   \n",
       "50%            NaN          NaN      NaN          NaN              NaN   \n",
       "75%            NaN          NaN      NaN          NaN              NaN   \n",
       "max            NaN          NaN      NaN          NaN              NaN   \n",
       "\n",
       "       seek_help   anonymity       leave mental_health_consequence  \\\n",
       "count       1259        1259        1259                      1259   \n",
       "unique         3           3           5                         3   \n",
       "top           No  Don't know  Don't know                        No   \n",
       "freq         646         819         563                       490   \n",
       "mean         NaN         NaN         NaN                       NaN   \n",
       "std          NaN         NaN         NaN                       NaN   \n",
       "min          NaN         NaN         NaN                       NaN   \n",
       "25%          NaN         NaN         NaN                       NaN   \n",
       "50%          NaN         NaN         NaN                       NaN   \n",
       "75%          NaN         NaN         NaN                       NaN   \n",
       "max          NaN         NaN         NaN                       NaN   \n",
       "\n",
       "       phys_health_consequence     coworkers supervisor  \\\n",
       "count                     1259          1259       1259   \n",
       "unique                       3             3          3   \n",
       "top                         No  Some of them        Yes   \n",
       "freq                       925           774        516   \n",
       "mean                       NaN           NaN        NaN   \n",
       "std                        NaN           NaN        NaN   \n",
       "min                        NaN           NaN        NaN   \n",
       "25%                        NaN           NaN        NaN   \n",
       "50%                        NaN           NaN        NaN   \n",
       "75%                        NaN           NaN        NaN   \n",
       "max                        NaN           NaN        NaN   \n",
       "\n",
       "       mental_health_interview phys_health_interview mental_vs_physical  \\\n",
       "count                     1259                  1259               1259   \n",
       "unique                       3                     3                  3   \n",
       "top                         No                 Maybe         Don't know   \n",
       "freq                      1008                   557                576   \n",
       "mean                       NaN                   NaN                NaN   \n",
       "std                        NaN                   NaN                NaN   \n",
       "min                        NaN                   NaN                NaN   \n",
       "25%                        NaN                   NaN                NaN   \n",
       "50%                        NaN                   NaN                NaN   \n",
       "75%                        NaN                   NaN                NaN   \n",
       "max                        NaN                   NaN                NaN   \n",
       "\n",
       "       obs_consequence                         comments  \n",
       "count             1259                              164  \n",
       "unique               2                              160  \n",
       "top                 No  * Small family business - YMMV.  \n",
       "freq              1075                                5  \n",
       "mean               NaN                              NaN  \n",
       "std                NaN                              NaN  \n",
       "min                NaN                              NaN  \n",
       "25%                NaN                              NaN  \n",
       "50%                NaN                              NaN  \n",
       "75%                NaN                              NaN  \n",
       "max                NaN                              NaN  "
      ]
     },
     "execution_count": 15,
     "metadata": {},
     "output_type": "execute_result"
    }
   ],
   "source": [
    "mh.describe(include = 'all')                                                    # Descriptive statistics for the numerical variables"
   ]
  },
  {
   "cell_type": "code",
   "execution_count": 16,
   "id": "f3844121-faf8-46ed-bbda-5328749ac863",
   "metadata": {
    "_cell_guid": "4c9ac9d4-de2c-42d0-957b-71e495ab20ad",
    "_uuid": "2360d33dfda9393bba6a01bf9eacc74662ebcd66"
   },
   "outputs": [
    {
     "data": {
      "text/html": [
       "<div>\n",
       "<style scoped>\n",
       "    .dataframe tbody tr th:only-of-type {\n",
       "        vertical-align: middle;\n",
       "    }\n",
       "\n",
       "    .dataframe tbody tr th {\n",
       "        vertical-align: top;\n",
       "    }\n",
       "\n",
       "    .dataframe thead th {\n",
       "        text-align: right;\n",
       "    }\n",
       "</style>\n",
       "<table border=\"1\" class=\"dataframe\">\n",
       "  <thead>\n",
       "    <tr style=\"text-align: right;\">\n",
       "      <th></th>\n",
       "      <th>Timestamp</th>\n",
       "      <th>Age</th>\n",
       "      <th>Gender</th>\n",
       "      <th>Country</th>\n",
       "      <th>state</th>\n",
       "      <th>self_employed</th>\n",
       "      <th>family_history</th>\n",
       "      <th>treatment</th>\n",
       "      <th>work_interfere</th>\n",
       "      <th>no_employees</th>\n",
       "      <th>remote_work</th>\n",
       "      <th>tech_company</th>\n",
       "      <th>benefits</th>\n",
       "      <th>care_options</th>\n",
       "      <th>wellness_program</th>\n",
       "      <th>seek_help</th>\n",
       "      <th>anonymity</th>\n",
       "      <th>leave</th>\n",
       "      <th>mental_health_consequence</th>\n",
       "      <th>phys_health_consequence</th>\n",
       "      <th>coworkers</th>\n",
       "      <th>supervisor</th>\n",
       "      <th>mental_health_interview</th>\n",
       "      <th>phys_health_interview</th>\n",
       "      <th>mental_vs_physical</th>\n",
       "      <th>obs_consequence</th>\n",
       "      <th>comments</th>\n",
       "    </tr>\n",
       "  </thead>\n",
       "  <tbody>\n",
       "    <tr>\n",
       "      <th>1185</th>\n",
       "      <td>2014-11-05 10:08:44</td>\n",
       "      <td>27</td>\n",
       "      <td>femail</td>\n",
       "      <td>United States</td>\n",
       "      <td>OK</td>\n",
       "      <td>No</td>\n",
       "      <td>No</td>\n",
       "      <td>No</td>\n",
       "      <td>Never</td>\n",
       "      <td>100-500</td>\n",
       "      <td>No</td>\n",
       "      <td>No</td>\n",
       "      <td>Don't know</td>\n",
       "      <td>Not sure</td>\n",
       "      <td>Don't know</td>\n",
       "      <td>Don't know</td>\n",
       "      <td>Don't know</td>\n",
       "      <td>Don't know</td>\n",
       "      <td>No</td>\n",
       "      <td>No</td>\n",
       "      <td>Some of them</td>\n",
       "      <td>Yes</td>\n",
       "      <td>No</td>\n",
       "      <td>No</td>\n",
       "      <td>Yes</td>\n",
       "      <td>No</td>\n",
       "      <td>NaN</td>\n",
       "    </tr>\n",
       "    <tr>\n",
       "      <th>1046</th>\n",
       "      <td>2014-08-29 11:24:48</td>\n",
       "      <td>33</td>\n",
       "      <td>Malr</td>\n",
       "      <td>Italy</td>\n",
       "      <td>NaN</td>\n",
       "      <td>No</td>\n",
       "      <td>Yes</td>\n",
       "      <td>Yes</td>\n",
       "      <td>Sometimes</td>\n",
       "      <td>6-25</td>\n",
       "      <td>No</td>\n",
       "      <td>Yes</td>\n",
       "      <td>No</td>\n",
       "      <td>Not sure</td>\n",
       "      <td>No</td>\n",
       "      <td>No</td>\n",
       "      <td>Don't know</td>\n",
       "      <td>Somewhat easy</td>\n",
       "      <td>No</td>\n",
       "      <td>No</td>\n",
       "      <td>Some of them</td>\n",
       "      <td>Yes</td>\n",
       "      <td>No</td>\n",
       "      <td>No</td>\n",
       "      <td>Don't know</td>\n",
       "      <td>No</td>\n",
       "      <td>I suffered of panic attacks and agoraphobia fo...</td>\n",
       "    </tr>\n",
       "    <tr>\n",
       "      <th>118</th>\n",
       "      <td>2014-08-27 12:31:43</td>\n",
       "      <td>18</td>\n",
       "      <td>Male</td>\n",
       "      <td>United States</td>\n",
       "      <td>CT</td>\n",
       "      <td>No</td>\n",
       "      <td>No</td>\n",
       "      <td>Yes</td>\n",
       "      <td>Rarely</td>\n",
       "      <td>1-5</td>\n",
       "      <td>Yes</td>\n",
       "      <td>Yes</td>\n",
       "      <td>No</td>\n",
       "      <td>No</td>\n",
       "      <td>No</td>\n",
       "      <td>No</td>\n",
       "      <td>Yes</td>\n",
       "      <td>Very easy</td>\n",
       "      <td>No</td>\n",
       "      <td>No</td>\n",
       "      <td>Some of them</td>\n",
       "      <td>No</td>\n",
       "      <td>No</td>\n",
       "      <td>No</td>\n",
       "      <td>Don't know</td>\n",
       "      <td>No</td>\n",
       "      <td>NaN</td>\n",
       "    </tr>\n",
       "    <tr>\n",
       "      <th>420</th>\n",
       "      <td>2014-08-27 15:32:09</td>\n",
       "      <td>28</td>\n",
       "      <td>male</td>\n",
       "      <td>Germany</td>\n",
       "      <td>NaN</td>\n",
       "      <td>No</td>\n",
       "      <td>Yes</td>\n",
       "      <td>Yes</td>\n",
       "      <td>Rarely</td>\n",
       "      <td>1-5</td>\n",
       "      <td>Yes</td>\n",
       "      <td>Yes</td>\n",
       "      <td>Yes</td>\n",
       "      <td>No</td>\n",
       "      <td>No</td>\n",
       "      <td>No</td>\n",
       "      <td>Yes</td>\n",
       "      <td>Very easy</td>\n",
       "      <td>No</td>\n",
       "      <td>No</td>\n",
       "      <td>Yes</td>\n",
       "      <td>Yes</td>\n",
       "      <td>No</td>\n",
       "      <td>No</td>\n",
       "      <td>Yes</td>\n",
       "      <td>No</td>\n",
       "      <td>fwiw I am a co founder of this company and the...</td>\n",
       "    </tr>\n",
       "    <tr>\n",
       "      <th>1114</th>\n",
       "      <td>2014-08-30 13:48:34</td>\n",
       "      <td>40</td>\n",
       "      <td>m</td>\n",
       "      <td>United States</td>\n",
       "      <td>WA</td>\n",
       "      <td>No</td>\n",
       "      <td>No</td>\n",
       "      <td>No</td>\n",
       "      <td>NaN</td>\n",
       "      <td>More than 1000</td>\n",
       "      <td>No</td>\n",
       "      <td>No</td>\n",
       "      <td>Yes</td>\n",
       "      <td>Not sure</td>\n",
       "      <td>Don't know</td>\n",
       "      <td>Don't know</td>\n",
       "      <td>Don't know</td>\n",
       "      <td>Somewhat easy</td>\n",
       "      <td>Maybe</td>\n",
       "      <td>No</td>\n",
       "      <td>Some of them</td>\n",
       "      <td>Some of them</td>\n",
       "      <td>No</td>\n",
       "      <td>Maybe</td>\n",
       "      <td>Don't know</td>\n",
       "      <td>No</td>\n",
       "      <td>NaN</td>\n",
       "    </tr>\n",
       "    <tr>\n",
       "      <th>913</th>\n",
       "      <td>2014-08-28 18:26:35</td>\n",
       "      <td>33</td>\n",
       "      <td>Male</td>\n",
       "      <td>United States</td>\n",
       "      <td>OR</td>\n",
       "      <td>No</td>\n",
       "      <td>Yes</td>\n",
       "      <td>Yes</td>\n",
       "      <td>Sometimes</td>\n",
       "      <td>26-100</td>\n",
       "      <td>No</td>\n",
       "      <td>Yes</td>\n",
       "      <td>Don't know</td>\n",
       "      <td>Yes</td>\n",
       "      <td>No</td>\n",
       "      <td>Yes</td>\n",
       "      <td>Don't know</td>\n",
       "      <td>Somewhat easy</td>\n",
       "      <td>No</td>\n",
       "      <td>No</td>\n",
       "      <td>Yes</td>\n",
       "      <td>Yes</td>\n",
       "      <td>No</td>\n",
       "      <td>No</td>\n",
       "      <td>Don't know</td>\n",
       "      <td>No</td>\n",
       "      <td>NaN</td>\n",
       "    </tr>\n",
       "    <tr>\n",
       "      <th>1144</th>\n",
       "      <td>2014-09-01 12:00:28</td>\n",
       "      <td>23</td>\n",
       "      <td>Male</td>\n",
       "      <td>Israel</td>\n",
       "      <td>NaN</td>\n",
       "      <td>No</td>\n",
       "      <td>No</td>\n",
       "      <td>No</td>\n",
       "      <td>Never</td>\n",
       "      <td>More than 1000</td>\n",
       "      <td>No</td>\n",
       "      <td>No</td>\n",
       "      <td>No</td>\n",
       "      <td>Yes</td>\n",
       "      <td>Yes</td>\n",
       "      <td>Yes</td>\n",
       "      <td>Yes</td>\n",
       "      <td>Somewhat difficult</td>\n",
       "      <td>No</td>\n",
       "      <td>No</td>\n",
       "      <td>Yes</td>\n",
       "      <td>Yes</td>\n",
       "      <td>No</td>\n",
       "      <td>Yes</td>\n",
       "      <td>Yes</td>\n",
       "      <td>No</td>\n",
       "      <td>NaN</td>\n",
       "    </tr>\n",
       "    <tr>\n",
       "      <th>239</th>\n",
       "      <td>2014-08-27 13:31:03</td>\n",
       "      <td>28</td>\n",
       "      <td>Female</td>\n",
       "      <td>Canada</td>\n",
       "      <td>NaN</td>\n",
       "      <td>No</td>\n",
       "      <td>Yes</td>\n",
       "      <td>Yes</td>\n",
       "      <td>Sometimes</td>\n",
       "      <td>6-25</td>\n",
       "      <td>No</td>\n",
       "      <td>No</td>\n",
       "      <td>Yes</td>\n",
       "      <td>Yes</td>\n",
       "      <td>Yes</td>\n",
       "      <td>Yes</td>\n",
       "      <td>Yes</td>\n",
       "      <td>Don't know</td>\n",
       "      <td>No</td>\n",
       "      <td>No</td>\n",
       "      <td>Some of them</td>\n",
       "      <td>Yes</td>\n",
       "      <td>No</td>\n",
       "      <td>No</td>\n",
       "      <td>No</td>\n",
       "      <td>Yes</td>\n",
       "      <td>NaN</td>\n",
       "    </tr>\n",
       "    <tr>\n",
       "      <th>185</th>\n",
       "      <td>2014-08-27 12:52:46</td>\n",
       "      <td>37</td>\n",
       "      <td>male</td>\n",
       "      <td>United States</td>\n",
       "      <td>MA</td>\n",
       "      <td>No</td>\n",
       "      <td>No</td>\n",
       "      <td>No</td>\n",
       "      <td>NaN</td>\n",
       "      <td>500-1000</td>\n",
       "      <td>Yes</td>\n",
       "      <td>Yes</td>\n",
       "      <td>Yes</td>\n",
       "      <td>No</td>\n",
       "      <td>No</td>\n",
       "      <td>No</td>\n",
       "      <td>Don't know</td>\n",
       "      <td>Don't know</td>\n",
       "      <td>Yes</td>\n",
       "      <td>No</td>\n",
       "      <td>Some of them</td>\n",
       "      <td>No</td>\n",
       "      <td>Maybe</td>\n",
       "      <td>Yes</td>\n",
       "      <td>No</td>\n",
       "      <td>No</td>\n",
       "      <td>NaN</td>\n",
       "    </tr>\n",
       "    <tr>\n",
       "      <th>268</th>\n",
       "      <td>2014-08-27 13:55:16</td>\n",
       "      <td>37</td>\n",
       "      <td>Female</td>\n",
       "      <td>United States</td>\n",
       "      <td>CA</td>\n",
       "      <td>No</td>\n",
       "      <td>Yes</td>\n",
       "      <td>Yes</td>\n",
       "      <td>Often</td>\n",
       "      <td>26-100</td>\n",
       "      <td>No</td>\n",
       "      <td>Yes</td>\n",
       "      <td>Yes</td>\n",
       "      <td>Yes</td>\n",
       "      <td>No</td>\n",
       "      <td>No</td>\n",
       "      <td>Yes</td>\n",
       "      <td>Don't know</td>\n",
       "      <td>Maybe</td>\n",
       "      <td>No</td>\n",
       "      <td>Some of them</td>\n",
       "      <td>Some of them</td>\n",
       "      <td>No</td>\n",
       "      <td>Yes</td>\n",
       "      <td>Don't know</td>\n",
       "      <td>No</td>\n",
       "      <td>NaN</td>\n",
       "    </tr>\n",
       "  </tbody>\n",
       "</table>\n",
       "</div>"
      ],
      "text/plain": [
       "                Timestamp  Age  Gender        Country state self_employed  \\\n",
       "1185  2014-11-05 10:08:44   27  femail  United States    OK            No   \n",
       "1046  2014-08-29 11:24:48   33    Malr          Italy   NaN            No   \n",
       "118   2014-08-27 12:31:43   18    Male  United States    CT            No   \n",
       "420   2014-08-27 15:32:09   28    male        Germany   NaN            No   \n",
       "1114  2014-08-30 13:48:34   40       m  United States    WA            No   \n",
       "913   2014-08-28 18:26:35   33    Male  United States    OR            No   \n",
       "1144  2014-09-01 12:00:28   23    Male         Israel   NaN            No   \n",
       "239   2014-08-27 13:31:03   28  Female         Canada   NaN            No   \n",
       "185   2014-08-27 12:52:46   37    male  United States    MA            No   \n",
       "268   2014-08-27 13:55:16   37  Female  United States    CA            No   \n",
       "\n",
       "     family_history treatment work_interfere    no_employees remote_work  \\\n",
       "1185             No        No          Never         100-500          No   \n",
       "1046            Yes       Yes      Sometimes            6-25          No   \n",
       "118              No       Yes         Rarely             1-5         Yes   \n",
       "420             Yes       Yes         Rarely             1-5         Yes   \n",
       "1114             No        No            NaN  More than 1000          No   \n",
       "913             Yes       Yes      Sometimes          26-100          No   \n",
       "1144             No        No          Never  More than 1000          No   \n",
       "239             Yes       Yes      Sometimes            6-25          No   \n",
       "185              No        No            NaN        500-1000         Yes   \n",
       "268             Yes       Yes          Often          26-100          No   \n",
       "\n",
       "     tech_company    benefits care_options wellness_program   seek_help  \\\n",
       "1185           No  Don't know     Not sure       Don't know  Don't know   \n",
       "1046          Yes          No     Not sure               No          No   \n",
       "118           Yes          No           No               No          No   \n",
       "420           Yes         Yes           No               No          No   \n",
       "1114           No         Yes     Not sure       Don't know  Don't know   \n",
       "913           Yes  Don't know          Yes               No         Yes   \n",
       "1144           No          No          Yes              Yes         Yes   \n",
       "239            No         Yes          Yes              Yes         Yes   \n",
       "185           Yes         Yes           No               No          No   \n",
       "268           Yes         Yes          Yes               No          No   \n",
       "\n",
       "       anonymity               leave mental_health_consequence  \\\n",
       "1185  Don't know          Don't know                        No   \n",
       "1046  Don't know       Somewhat easy                        No   \n",
       "118          Yes           Very easy                        No   \n",
       "420          Yes           Very easy                        No   \n",
       "1114  Don't know       Somewhat easy                     Maybe   \n",
       "913   Don't know       Somewhat easy                        No   \n",
       "1144         Yes  Somewhat difficult                        No   \n",
       "239          Yes          Don't know                        No   \n",
       "185   Don't know          Don't know                       Yes   \n",
       "268          Yes          Don't know                     Maybe   \n",
       "\n",
       "     phys_health_consequence     coworkers    supervisor  \\\n",
       "1185                      No  Some of them           Yes   \n",
       "1046                      No  Some of them           Yes   \n",
       "118                       No  Some of them            No   \n",
       "420                       No           Yes           Yes   \n",
       "1114                      No  Some of them  Some of them   \n",
       "913                       No           Yes           Yes   \n",
       "1144                      No           Yes           Yes   \n",
       "239                       No  Some of them           Yes   \n",
       "185                       No  Some of them            No   \n",
       "268                       No  Some of them  Some of them   \n",
       "\n",
       "     mental_health_interview phys_health_interview mental_vs_physical  \\\n",
       "1185                      No                    No                Yes   \n",
       "1046                      No                    No         Don't know   \n",
       "118                       No                    No         Don't know   \n",
       "420                       No                    No                Yes   \n",
       "1114                      No                 Maybe         Don't know   \n",
       "913                       No                    No         Don't know   \n",
       "1144                      No                   Yes                Yes   \n",
       "239                       No                    No                 No   \n",
       "185                    Maybe                   Yes                 No   \n",
       "268                       No                   Yes         Don't know   \n",
       "\n",
       "     obs_consequence                                           comments  \n",
       "1185              No                                                NaN  \n",
       "1046              No  I suffered of panic attacks and agoraphobia fo...  \n",
       "118               No                                                NaN  \n",
       "420               No  fwiw I am a co founder of this company and the...  \n",
       "1114              No                                                NaN  \n",
       "913               No                                                NaN  \n",
       "1144              No                                                NaN  \n",
       "239              Yes                                                NaN  \n",
       "185               No                                                NaN  \n",
       "268               No                                                NaN  "
      ]
     },
     "execution_count": 16,
     "metadata": {},
     "output_type": "execute_result"
    }
   ],
   "source": [
    "mh.sample(10)                                                                  # Display a random 10 rows from the data set"
   ]
  },
  {
   "cell_type": "code",
   "execution_count": 18,
   "id": "7f9207ed-1f42-45f9-9f79-df47c64d4a86",
   "metadata": {},
   "outputs": [],
   "source": [
    "# 3.6 Initial Observations"
   ]
  },
  {
   "cell_type": "code",
   "execution_count": null,
   "id": "4053746f-627f-45e4-a861-78cf31542eaa",
   "metadata": {},
   "outputs": [],
   "source": [
    "# Sumary of data types in this dataset\n",
    "    # numeric : Age\n",
    "    # object : Everything else"
   ]
  },
  {
   "cell_type": "code",
   "execution_count": 19,
   "id": "b3ded1ab-da78-4f38-a2cf-939f0388e44e",
   "metadata": {
    "_cell_guid": "a19eb500-db4c-4918-a269-46a656624fa9",
    "_uuid": "4a28fefa960f73389540bbe02ffaee1028fbda67"
   },
   "outputs": [
    {
     "name": "stdout",
     "output_type": "stream",
     "text": [
      "'Age'\n",
      "Minimum value:  -1726\n",
      "Maximum value:  99999999999\n",
      "How many values are NaN?:  0\n"
     ]
    }
   ],
   "source": [
    "print(\"'Age'\")                                                                \n",
    "\n",
    "print(\"Minimum value: \", mh[\"Age\"].min())\n",
    "\n",
    "print(\"Maximum value: \", mh[\"Age\"].max())\n",
    "\n",
    "print(\"How many values are NaN?: \", pd.isnull(mh['Age']).sum())"
   ]
  },
  {
   "cell_type": "code",
   "execution_count": 20,
   "id": "63792927-039a-4de4-9bf9-66dded5e9339",
   "metadata": {},
   "outputs": [
    {
     "name": "stdout",
     "output_type": "stream",
     "text": [
      "364            329\n",
      "390    99999999999\n",
      "Name: Age, dtype: int64\n",
      "143      -29\n",
      "715    -1726\n",
      "1127      -1\n",
      "Name: Age, dtype: int64\n"
     ]
    }
   ],
   "source": [
    "mh.Age.max()\n",
    "\n",
    "a=mh.Age[mh.Age>123]\n",
    "\n",
    "b=mh.Age[mh.Age<0]\n",
    "\n",
    "print(a)\n",
    "\n",
    "print(b)"
   ]
  },
  {
   "cell_type": "code",
   "execution_count": 21,
   "id": "0aa7c043-05ad-4985-9d12-9c7ec7775667",
   "metadata": {
    "_cell_guid": "82f59e8e-6339-47f5-a0da-ebe29136b2b7",
    "_uuid": "923f820cd342acc19fe31c2aa0761891aa127322"
   },
   "outputs": [
    {
     "name": "stdout",
     "output_type": "stream",
     "text": [
      "Count of distinct responses for Gender: 49\n",
      "Distinct responses for Gender: {'cis male', 'femail', 'Enby', 'msle', 'queer', 'Female (cis)', 'fluid', 'F', 'ostensibly male, unsure what that really means', 'Cis Female', 'Agender', 'Male (CIS)', 'f', 'Androgyne', 'Mail', 'Nah', 'Male ', 'm', 'A little about you', 'non-binary', 'male', 'maile', 'Mal', 'Woman', 'cis-female/femme', 'Neuter', 'Malr', 'Cis Man', 'Cis Male', 'Guy (-ish) ^_^', 'queer/she/they', 'Male', 'woman', 'Make', 'male leaning androgynous', 'Female', 'female', 'Genderqueer', 'Female (trans)', 'Female ', 'p', 'Male-ish', 'something kinda male?', 'All', 'Trans woman', 'Man', 'Femake', 'M', 'Trans-female'}\n"
     ]
    }
   ],
   "source": [
    "print(\"Count of distinct responses for Gender:\", len(set(mh['Gender'])))      # Learn more about the variable Gender, which appears not to be standardized with 49 distinct responses.\n",
    "print(\"Distinct responses for Gender:\", set(mh['Gender']))                    "
   ]
  },
  {
   "cell_type": "code",
   "execution_count": 23,
   "id": "d3692b02-fec1-47bd-bc68-eea718d0f765",
   "metadata": {},
   "outputs": [],
   "source": [
    "# 4. data Normalization"
   ]
  },
  {
   "cell_type": "code",
   "execution_count": 24,
   "id": "2269ab18-a3fa-436d-be0b-7ea3fd885294",
   "metadata": {},
   "outputs": [],
   "source": [
    "# 4.1 Standardize all column headers to lower case"
   ]
  },
  {
   "cell_type": "code",
   "execution_count": 25,
   "id": "289822cf-57ea-4487-b938-a5a03c9e91f2",
   "metadata": {
    "_cell_guid": "0229f0d5-4eac-46a8-b1ff-647591a2484c",
    "_uuid": "984c7ecac94372f69ff32da1010f509ec6c7367a"
   },
   "outputs": [
    {
     "data": {
      "text/plain": [
       "timestamp                    object\n",
       "age                           int64\n",
       "gender                       object\n",
       "country                      object\n",
       "state                        object\n",
       "self_employed                object\n",
       "family_history               object\n",
       "treatment                    object\n",
       "work_interfere               object\n",
       "no_employees                 object\n",
       "remote_work                  object\n",
       "tech_company                 object\n",
       "benefits                     object\n",
       "care_options                 object\n",
       "wellness_program             object\n",
       "seek_help                    object\n",
       "anonymity                    object\n",
       "leave                        object\n",
       "mental_health_consequence    object\n",
       "phys_health_consequence      object\n",
       "coworkers                    object\n",
       "supervisor                   object\n",
       "mental_health_interview      object\n",
       "phys_health_interview        object\n",
       "mental_vs_physical           object\n",
       "obs_consequence              object\n",
       "comments                     object\n",
       "dtype: object"
      ]
     },
     "execution_count": 25,
     "metadata": {},
     "output_type": "execute_result"
    }
   ],
   "source": [
    "mh.columns = map(str.lower, mh.columns)                                  # map() function returns a list of results after applying the given function\n",
    "                                                                         # to each item of a given iterable.\n",
    "mh.dtypes                                                                # Confirm that all variable names are now lower case"
   ]
  },
  {
   "cell_type": "code",
   "execution_count": 26,
   "id": "4b93fd77-c980-4462-a36b-76fdf4df061d",
   "metadata": {},
   "outputs": [],
   "source": [
    "# 4.2 Convert \"timestamp\" to datetime"
   ]
  },
  {
   "cell_type": "code",
   "execution_count": 27,
   "id": "fa8157d5-b7d1-4560-9c3f-094dddf87197",
   "metadata": {
    "_cell_guid": "6d99e3db-9918-4b25-a9cf-31d0dc2b7f09",
    "_uuid": "eeae1c609a9507228ddd703f1b1dea25ac8064ff",
    "scrolled": true
   },
   "outputs": [
    {
     "data": {
      "text/plain": [
       "timestamp                    datetime64[ns]\n",
       "age                                   int64\n",
       "gender                               object\n",
       "country                              object\n",
       "state                                object\n",
       "self_employed                        object\n",
       "family_history                       object\n",
       "treatment                            object\n",
       "work_interfere                       object\n",
       "no_employees                         object\n",
       "remote_work                          object\n",
       "tech_company                         object\n",
       "benefits                             object\n",
       "care_options                         object\n",
       "wellness_program                     object\n",
       "seek_help                            object\n",
       "anonymity                            object\n",
       "leave                                object\n",
       "mental_health_consequence            object\n",
       "phys_health_consequence              object\n",
       "coworkers                            object\n",
       "supervisor                           object\n",
       "mental_health_interview              object\n",
       "phys_health_interview                object\n",
       "mental_vs_physical                   object\n",
       "obs_consequence                      object\n",
       "comments                             object\n",
       "dtype: object"
      ]
     },
     "execution_count": 27,
     "metadata": {},
     "output_type": "execute_result"
    }
   ],
   "source": [
    "mh['timestamp'] = pd.to_datetime(mh['timestamp'])                        # Convert \"timestamp\" data type from object to datetime                      \n",
    "\n",
    "mh.dtypes                                                               "
   ]
  },
  {
   "cell_type": "code",
   "execution_count": 28,
   "id": "412a51ec-7018-4d72-8ee6-4ff36aebaba2",
   "metadata": {},
   "outputs": [],
   "source": [
    "# 4.3 Missing data and its imputation"
   ]
  },
  {
   "cell_type": "code",
   "execution_count": 29,
   "id": "dfaf93c6-997a-452c-ac3e-6a60e03d4e1d",
   "metadata": {},
   "outputs": [
    {
     "name": "stdout",
     "output_type": "stream",
     "text": [
      "                           Total   Percent\n",
      "comments                    1095  0.869738\n",
      "state                        515  0.409055\n",
      "work_interfere               264  0.209690\n",
      "self_employed                 18  0.014297\n",
      "seek_help                      0  0.000000\n",
      "obs_consequence                0  0.000000\n",
      "mental_vs_physical             0  0.000000\n",
      "phys_health_interview          0  0.000000\n",
      "mental_health_interview        0  0.000000\n",
      "supervisor                     0  0.000000\n",
      "coworkers                      0  0.000000\n",
      "phys_health_consequence        0  0.000000\n",
      "mental_health_consequence      0  0.000000\n",
      "leave                          0  0.000000\n",
      "anonymity                      0  0.000000\n",
      "timestamp                      0  0.000000\n",
      "wellness_program               0  0.000000\n",
      "age                            0  0.000000\n",
      "benefits                       0  0.000000\n",
      "tech_company                   0  0.000000\n",
      "remote_work                    0  0.000000\n",
      "no_employees                   0  0.000000\n",
      "treatment                      0  0.000000\n",
      "family_history                 0  0.000000\n",
      "country                        0  0.000000\n",
      "gender                         0  0.000000\n",
      "care_options                   0  0.000000\n"
     ]
    }
   ],
   "source": [
    "# Missing data\n",
    "\n",
    "total = mh.isnull().sum().sort_values(ascending=False)\n",
    "\n",
    "percent = (mh.isnull().sum()/mh.isnull().count()).sort_values(ascending=False)\n",
    "\n",
    "missing_data = pd.concat([total, percent], axis=1, keys=['Total', 'Percent'])\n",
    "\n",
    "missing_data.head(20)\n",
    "\n",
    "print(missing_data)"
   ]
  },
  {
   "cell_type": "code",
   "execution_count": 30,
   "id": "5ea4247c-6313-49d4-beac-8f9d0b7ea9fd",
   "metadata": {},
   "outputs": [
    {
     "data": {
      "text/html": [
       "<div>\n",
       "<style scoped>\n",
       "    .dataframe tbody tr th:only-of-type {\n",
       "        vertical-align: middle;\n",
       "    }\n",
       "\n",
       "    .dataframe tbody tr th {\n",
       "        vertical-align: top;\n",
       "    }\n",
       "\n",
       "    .dataframe thead th {\n",
       "        text-align: right;\n",
       "    }\n",
       "</style>\n",
       "<table border=\"1\" class=\"dataframe\">\n",
       "  <thead>\n",
       "    <tr style=\"text-align: right;\">\n",
       "      <th></th>\n",
       "      <th>age</th>\n",
       "      <th>gender</th>\n",
       "      <th>country</th>\n",
       "      <th>state</th>\n",
       "      <th>self_employed</th>\n",
       "      <th>family_history</th>\n",
       "      <th>treatment</th>\n",
       "      <th>work_interfere</th>\n",
       "      <th>no_employees</th>\n",
       "      <th>remote_work</th>\n",
       "      <th>tech_company</th>\n",
       "      <th>benefits</th>\n",
       "      <th>care_options</th>\n",
       "      <th>wellness_program</th>\n",
       "      <th>seek_help</th>\n",
       "      <th>anonymity</th>\n",
       "      <th>leave</th>\n",
       "      <th>mental_health_consequence</th>\n",
       "      <th>phys_health_consequence</th>\n",
       "      <th>coworkers</th>\n",
       "      <th>supervisor</th>\n",
       "      <th>mental_health_interview</th>\n",
       "      <th>phys_health_interview</th>\n",
       "      <th>mental_vs_physical</th>\n",
       "      <th>obs_consequence</th>\n",
       "    </tr>\n",
       "  </thead>\n",
       "  <tbody>\n",
       "    <tr>\n",
       "      <th>0</th>\n",
       "      <td>37</td>\n",
       "      <td>Female</td>\n",
       "      <td>United States</td>\n",
       "      <td>IL</td>\n",
       "      <td>NaN</td>\n",
       "      <td>No</td>\n",
       "      <td>Yes</td>\n",
       "      <td>Often</td>\n",
       "      <td>6-25</td>\n",
       "      <td>No</td>\n",
       "      <td>Yes</td>\n",
       "      <td>Yes</td>\n",
       "      <td>Not sure</td>\n",
       "      <td>No</td>\n",
       "      <td>Yes</td>\n",
       "      <td>Yes</td>\n",
       "      <td>Somewhat easy</td>\n",
       "      <td>No</td>\n",
       "      <td>No</td>\n",
       "      <td>Some of them</td>\n",
       "      <td>Yes</td>\n",
       "      <td>No</td>\n",
       "      <td>Maybe</td>\n",
       "      <td>Yes</td>\n",
       "      <td>No</td>\n",
       "    </tr>\n",
       "    <tr>\n",
       "      <th>1</th>\n",
       "      <td>44</td>\n",
       "      <td>M</td>\n",
       "      <td>United States</td>\n",
       "      <td>IN</td>\n",
       "      <td>NaN</td>\n",
       "      <td>No</td>\n",
       "      <td>No</td>\n",
       "      <td>Rarely</td>\n",
       "      <td>More than 1000</td>\n",
       "      <td>No</td>\n",
       "      <td>No</td>\n",
       "      <td>Don't know</td>\n",
       "      <td>No</td>\n",
       "      <td>Don't know</td>\n",
       "      <td>Don't know</td>\n",
       "      <td>Don't know</td>\n",
       "      <td>Don't know</td>\n",
       "      <td>Maybe</td>\n",
       "      <td>No</td>\n",
       "      <td>No</td>\n",
       "      <td>No</td>\n",
       "      <td>No</td>\n",
       "      <td>No</td>\n",
       "      <td>Don't know</td>\n",
       "      <td>No</td>\n",
       "    </tr>\n",
       "    <tr>\n",
       "      <th>2</th>\n",
       "      <td>32</td>\n",
       "      <td>Male</td>\n",
       "      <td>Canada</td>\n",
       "      <td>NaN</td>\n",
       "      <td>NaN</td>\n",
       "      <td>No</td>\n",
       "      <td>No</td>\n",
       "      <td>Rarely</td>\n",
       "      <td>6-25</td>\n",
       "      <td>No</td>\n",
       "      <td>Yes</td>\n",
       "      <td>No</td>\n",
       "      <td>No</td>\n",
       "      <td>No</td>\n",
       "      <td>No</td>\n",
       "      <td>Don't know</td>\n",
       "      <td>Somewhat difficult</td>\n",
       "      <td>No</td>\n",
       "      <td>No</td>\n",
       "      <td>Yes</td>\n",
       "      <td>Yes</td>\n",
       "      <td>Yes</td>\n",
       "      <td>Yes</td>\n",
       "      <td>No</td>\n",
       "      <td>No</td>\n",
       "    </tr>\n",
       "    <tr>\n",
       "      <th>3</th>\n",
       "      <td>31</td>\n",
       "      <td>Male</td>\n",
       "      <td>United Kingdom</td>\n",
       "      <td>NaN</td>\n",
       "      <td>NaN</td>\n",
       "      <td>Yes</td>\n",
       "      <td>Yes</td>\n",
       "      <td>Often</td>\n",
       "      <td>26-100</td>\n",
       "      <td>No</td>\n",
       "      <td>Yes</td>\n",
       "      <td>No</td>\n",
       "      <td>Yes</td>\n",
       "      <td>No</td>\n",
       "      <td>No</td>\n",
       "      <td>No</td>\n",
       "      <td>Somewhat difficult</td>\n",
       "      <td>Yes</td>\n",
       "      <td>Yes</td>\n",
       "      <td>Some of them</td>\n",
       "      <td>No</td>\n",
       "      <td>Maybe</td>\n",
       "      <td>Maybe</td>\n",
       "      <td>No</td>\n",
       "      <td>Yes</td>\n",
       "    </tr>\n",
       "    <tr>\n",
       "      <th>4</th>\n",
       "      <td>31</td>\n",
       "      <td>Male</td>\n",
       "      <td>United States</td>\n",
       "      <td>TX</td>\n",
       "      <td>NaN</td>\n",
       "      <td>No</td>\n",
       "      <td>No</td>\n",
       "      <td>Never</td>\n",
       "      <td>100-500</td>\n",
       "      <td>Yes</td>\n",
       "      <td>Yes</td>\n",
       "      <td>Yes</td>\n",
       "      <td>No</td>\n",
       "      <td>Don't know</td>\n",
       "      <td>Don't know</td>\n",
       "      <td>Don't know</td>\n",
       "      <td>Don't know</td>\n",
       "      <td>No</td>\n",
       "      <td>No</td>\n",
       "      <td>Some of them</td>\n",
       "      <td>Yes</td>\n",
       "      <td>Yes</td>\n",
       "      <td>Yes</td>\n",
       "      <td>Don't know</td>\n",
       "      <td>No</td>\n",
       "    </tr>\n",
       "  </tbody>\n",
       "</table>\n",
       "</div>"
      ],
      "text/plain": [
       "   age  gender         country state self_employed family_history treatment  \\\n",
       "0   37  Female   United States    IL           NaN             No       Yes   \n",
       "1   44       M   United States    IN           NaN             No        No   \n",
       "2   32    Male          Canada   NaN           NaN             No        No   \n",
       "3   31    Male  United Kingdom   NaN           NaN            Yes       Yes   \n",
       "4   31    Male   United States    TX           NaN             No        No   \n",
       "\n",
       "  work_interfere    no_employees remote_work tech_company    benefits  \\\n",
       "0          Often            6-25          No          Yes         Yes   \n",
       "1         Rarely  More than 1000          No           No  Don't know   \n",
       "2         Rarely            6-25          No          Yes          No   \n",
       "3          Often          26-100          No          Yes          No   \n",
       "4          Never         100-500         Yes          Yes         Yes   \n",
       "\n",
       "  care_options wellness_program   seek_help   anonymity               leave  \\\n",
       "0     Not sure               No         Yes         Yes       Somewhat easy   \n",
       "1           No       Don't know  Don't know  Don't know          Don't know   \n",
       "2           No               No          No  Don't know  Somewhat difficult   \n",
       "3          Yes               No          No          No  Somewhat difficult   \n",
       "4           No       Don't know  Don't know  Don't know          Don't know   \n",
       "\n",
       "  mental_health_consequence phys_health_consequence     coworkers supervisor  \\\n",
       "0                        No                      No  Some of them        Yes   \n",
       "1                     Maybe                      No            No         No   \n",
       "2                        No                      No           Yes        Yes   \n",
       "3                       Yes                     Yes  Some of them         No   \n",
       "4                        No                      No  Some of them        Yes   \n",
       "\n",
       "  mental_health_interview phys_health_interview mental_vs_physical  \\\n",
       "0                      No                 Maybe                Yes   \n",
       "1                      No                    No         Don't know   \n",
       "2                     Yes                   Yes                 No   \n",
       "3                   Maybe                 Maybe                 No   \n",
       "4                     Yes                   Yes         Don't know   \n",
       "\n",
       "  obs_consequence  \n",
       "0              No  \n",
       "1              No  \n",
       "2              No  \n",
       "3             Yes  \n",
       "4              No  "
      ]
     },
     "execution_count": 30,
     "metadata": {},
     "output_type": "execute_result"
    }
   ],
   "source": [
    "# dealing with missing data\n",
    "# Let’s get rid of the variables \"Timestamp\",“comments”, just to make our lives easier.\n",
    "\n",
    "mh = mh.drop(['comments'], axis= 1)\n",
    "\n",
    "mh = mh.drop(['timestamp'], axis= 1)\n",
    "\n",
    "mh.head(5)"
   ]
  },
  {
   "cell_type": "code",
   "execution_count": 31,
   "id": "8389117f-ade8-4bb2-bd29-f8f4042e83bc",
   "metadata": {},
   "outputs": [],
   "source": [
    "# 4.4 outliers Treatment"
   ]
  },
  {
   "cell_type": "code",
   "execution_count": null,
   "id": "c624b524-2b0d-44b6-9309-47eb49f714b6",
   "metadata": {},
   "outputs": [],
   "source": [
    "# For the purpose of this analysis replace any out_of_range age value with \"NaN\" rather than deleting the rows from the data set."
   ]
  },
  {
   "cell_type": "code",
   "execution_count": 32,
   "id": "c407e70c-f209-4b7b-93c8-3d6db7a5d8dd",
   "metadata": {},
   "outputs": [
    {
     "name": "stdout",
     "output_type": "stream",
     "text": [
      "'Age'\n",
      "Minimum value:  5.0\n",
      "Maximum value:  72.0\n",
      "How many values are NaN?:  5\n",
      "Frequency table for age_clean:\n"
     ]
    },
    {
     "data": {
      "text/plain": [
       "5.0      1\n",
       "8.0      1\n",
       "11.0     1\n",
       "18.0     7\n",
       "19.0     9\n",
       "20.0     6\n",
       "21.0    16\n",
       "22.0    21\n",
       "23.0    51\n",
       "24.0    46\n",
       "25.0    61\n",
       "26.0    75\n",
       "27.0    71\n",
       "28.0    68\n",
       "29.0    85\n",
       "30.0    63\n",
       "31.0    67\n",
       "32.0    82\n",
       "33.0    70\n",
       "34.0    65\n",
       "35.0    55\n",
       "36.0    37\n",
       "37.0    43\n",
       "38.0    39\n",
       "39.0    33\n",
       "40.0    33\n",
       "41.0    21\n",
       "42.0    20\n",
       "43.0    28\n",
       "44.0    11\n",
       "45.0    12\n",
       "46.0    12\n",
       "47.0     2\n",
       "48.0     6\n",
       "49.0     4\n",
       "50.0     6\n",
       "51.0     5\n",
       "53.0     1\n",
       "54.0     3\n",
       "55.0     3\n",
       "56.0     4\n",
       "57.0     3\n",
       "58.0     1\n",
       "60.0     2\n",
       "61.0     1\n",
       "62.0     1\n",
       "65.0     1\n",
       "72.0     1\n",
       "Name: age_clean, dtype: int64"
      ]
     },
     "execution_count": 32,
     "metadata": {},
     "output_type": "execute_result"
    }
   ],
   "source": [
    "def clean_age(age):                                                     # Create a new column \"age_clean\" that replaces out-of-range ages with \"NaN\"\n",
    "    if age>=0 and age<=123:                                             # The oldest living person on record lived to be 122 years, 164 days (Jeanne Calment, 1875-1997)\n",
    "        return age\n",
    "    else:\n",
    "        return np.nan\n",
    "mh['age_clean'] = mh['age'].apply(clean_age)\n",
    "\n",
    "print(\"'Age'\")                                                          # Check out the new column and make sure it looks right\n",
    "\n",
    "print(\"Minimum value: \", mh[\"age_clean\"].min())\n",
    "\n",
    "print(\"Maximum value: \", mh[\"age_clean\"].max())\n",
    "\n",
    "print(\"How many values are NaN?: \", pd.isnull(mh['age_clean']).sum())\n",
    "\n",
    "print(\"Frequency table for age_clean:\")\n",
    "\n",
    "mh[\"age_clean\"].value_counts().sort_index(0)"
   ]
  },
  {
   "cell_type": "code",
   "execution_count": 33,
   "id": "a74d9609-7d71-4248-8ef5-97701872aa7f",
   "metadata": {},
   "outputs": [],
   "source": [
    "mh['age_Group'] = pd.cut(mh['age_clean'].dropna(),\n",
    "                         [0,18,25,35,45,99],\n",
    "                         labels=['<18','18-24','25-34','35-44','45+'], include_lowest=True)"
   ]
  },
  {
   "cell_type": "code",
   "execution_count": null,
   "id": "925ea7c0-15b9-4f44-955a-54a582108856",
   "metadata": {},
   "outputs": [],
   "source": [
    "# Que - How does age relate to various beahviors and/or their awareness toward mental heath (Hint- based on age group)"
   ]
  },
  {
   "cell_type": "code",
   "execution_count": 34,
   "id": "dbb16c62-5259-41c1-a950-521ed58e4848",
   "metadata": {},
   "outputs": [
    {
     "data": {
      "text/plain": [
       "Text(0.5, 1.0, 'Age Group vs Treatment')"
      ]
     },
     "execution_count": 34,
     "metadata": {},
     "output_type": "execute_result"
    },
    {
     "data": {
      "image/png": "[encoded data removed]",
      "text/plain": [
       "<Figure size 576x432 with 1 Axes>"
      ]
     },
     "metadata": {
      "needs_background": "light"
     },
     "output_type": "display_data"
    }
   ],
   "source": [
    "fig,ax =plt.subplots(figsize=(8,6))\n",
    "\n",
    "sns.countplot(data = mh,x = 'age_Group', hue='treatment')\n",
    "\n",
    "plt.title('Age Group vs Treatment')"
   ]
  },
  {
   "cell_type": "code",
   "execution_count": 35,
   "id": "6b40fa20-45b1-4ea8-96e7-935176d2463d",
   "metadata": {
    "_cell_guid": "00f89c92-45a4-481f-81f5-e9b495d70f09",
    "_uuid": "29a04e6dc5b8628d1c722f4d945e9acd064f20d8"
   },
   "outputs": [
    {
     "data": {
      "image/png": "[encoded data removed]",
      "text/plain": [
       "<Figure size 432x288 with 1 Axes>"
      ]
     },
     "metadata": {},
     "output_type": "display_data"
    }
   ],
   "source": [
    "sns.set(color_codes=True)                                                # Plot a histogram of the respondents' ages (remove any NaN values)\n",
    "\n",
    "sns.set_palette(sns.color_palette(\"muted\"))\n",
    "\n",
    "sns.distplot(mh[\"age_clean\"].dropna());"
   ]
  },
  {
   "cell_type": "code",
   "execution_count": 36,
   "id": "7b9c35ae-6745-4362-9f8b-be96c839e651",
   "metadata": {},
   "outputs": [],
   "source": [
    "# 4.5 Handling NaN data in the categorical columns"
   ]
  },
  {
   "cell_type": "code",
   "execution_count": null,
   "id": "ad945259-699a-4d6b-9e41-7135c91418e1",
   "metadata": {},
   "outputs": [],
   "source": [
    "# three variables with many missing values.\n",
    "     # state\n",
    "     # work_intefere\n",
    "     # self_employes"
   ]
  },
  {
   "cell_type": "code",
   "execution_count": 37,
   "id": "5a6aae4d-df4d-44cc-aa66-aeb62ee46002",
   "metadata": {},
   "outputs": [
    {
     "name": "stdout",
     "output_type": "stream",
     "text": [
      "['No' 'Yes']\n"
     ]
    }
   ],
   "source": [
    "# There are only 0.014% of self employed so let's replace NaN with mode()\n",
    "\n",
    "# Replace \"NaN\" string from defaultString\n",
    "\n",
    "mh['self_employed'] = mh['self_employed'].fillna(mh['self_employed'].mode()[0])\n",
    "\n",
    "print(mh['self_employed'].unique())"
   ]
  },
  {
   "cell_type": "code",
   "execution_count": 38,
   "id": "1b94f01d-c247-4c7e-aaea-bb572231ac01",
   "metadata": {},
   "outputs": [
    {
     "name": "stdout",
     "output_type": "stream",
     "text": [
      "['Often' 'Rarely' 'Never' 'Sometimes']\n"
     ]
    }
   ],
   "source": [
    "# There are only 0.20% of self work_interfere so let's replace NaN with mode()\n",
    "\n",
    "# Replace \"NaN\" string from defaultString\n",
    "\n",
    "mh['work_interfere'] = mh['work_interfere'].fillna(mh['work_interfere'].mode()[0])\n",
    "\n",
    "print(mh['work_interfere'].unique())"
   ]
  },
  {
   "cell_type": "code",
   "execution_count": 39,
   "id": "a65cfc7e-b684-40f1-b4d2-cffe48d5b7e2",
   "metadata": {},
   "outputs": [],
   "source": [
    "# 4.6 Grouping"
   ]
  },
  {
   "cell_type": "code",
   "execution_count": null,
   "id": "b170b5db-64fd-4e1d-9f65-c5b3da12bc40",
   "metadata": {},
   "outputs": [],
   "source": [
    "# Consolide the gender variables into the categories, the nature and quantities of the open-ended responses\n",
    "     # Male\n",
    "     # Female\n",
    "     # Trans"
   ]
  },
  {
   "cell_type": "code",
   "execution_count": 40,
   "id": "29a0367a-b0a0-4ae3-bc38-02c27e717789",
   "metadata": {},
   "outputs": [
    {
     "name": "stdout",
     "output_type": "stream",
     "text": [
      "['female' 'male' 'trans']\n"
     ]
    }
   ],
   "source": [
    "# clean 'Gender'\n",
    "# Slower case all columm's elements\n",
    "\n",
    "gender = mh['gender'].str.lower()\n",
    "\n",
    "# print(gender)\n",
    "\n",
    "# Select unique elements\n",
    "\n",
    "gender = mh['gender'].unique()\n",
    "\n",
    "# Made gender groups\n",
    "\n",
    "male_str = [\"male\", \"m\", \"male-ish\", \"maile\", \"mal\", \"male (cis)\", \"make\", \"male \", \"man\",\"msle\", \"mail\", \"malr\",\"cis man\", \"Cis Male\", \"cis male\"]\n",
    "\n",
    "trans_str = [\"trans-female\", \"something kinda male?\", \"queer/she/they\", \"non-binary\",\"nah\", \"all\", \"enby\", \"fluid\", \"genderqueer\", \"androgyne\", \"agender\", \"male leaning androgynous\", \"guy (-ish) ^_^\", \"trans woman\", \"neuter\", \"female (trans)\", \"queer\", \"ostensibly male, unsure what that really means\"]           \n",
    "\n",
    "female_str = [\"cis female\", \"f\", \"female\", \"woman\",  \"femake\", \"female \",\"cis-female/femme\", \"female (cis)\", \"femail\"]\n",
    "\n",
    "for (row, col) in mh.iterrows():\n",
    "\n",
    "    if str.lower(col.gender) in male_str:\n",
    "        mh['gender'].replace(to_replace=col.gender, value='male', inplace=True)\n",
    "\n",
    "    if str.lower(col.gender) in female_str:\n",
    "        mh['gender'].replace(to_replace=col.gender, value='female', inplace=True)\n",
    "\n",
    "    if str.lower(col.gender) in trans_str:\n",
    "        mh['gender'].replace(to_replace=col.gender, value='trans', inplace=True)\n",
    "\n",
    "# Get rid of bullshit\n",
    "\n",
    "stk_list = ['A little about you', 'p']\n",
    "\n",
    "mh = mh[~mh['gender'].isin(stk_list)]\n",
    "\n",
    "print(mh['gender'].unique())"
   ]
  },
  {
   "cell_type": "code",
   "execution_count": null,
   "id": "03f5765a-fc13-4af1-8e4e-615b645870ec",
   "metadata": {},
   "outputs": [],
   "source": [
    "# Gender distribution of the sample"
   ]
  },
  {
   "cell_type": "code",
   "execution_count": 41,
   "id": "ed11315e-8439-44fd-a7da-31ec836553f3",
   "metadata": {},
   "outputs": [
    {
     "data": {
      "image/png": "[encoded data removed]",
      "text/plain": [
       "<Figure size 720x360 with 1 Axes>"
      ]
     },
     "metadata": {},
     "output_type": "display_data"
    }
   ],
   "source": [
    "plt.figure(figsize=(10,5))\n",
    "\n",
    "sns.countplot('gender',data = mh, order = mh['gender'].value_counts().index,palette=\"PuBuGn_d\")\n",
    "\n",
    "plt.title(\"Gender Counts\",fontsize=18,fontweight=\"bold\")\n",
    "\n",
    "plt.xlabel('Gender')\n",
    "\n",
    "plt.ylabel('Frequency')\n",
    "\n",
    "plt.show()"
   ]
  },
  {
   "cell_type": "code",
   "execution_count": null,
   "id": "c21408b4-e720-4ae7-9435-7696a1e4ae6a",
   "metadata": {},
   "outputs": [],
   "source": [
    "# Que - How does gender relate to various behaviors and/or their awareness of their employess atitude toward mental health."
   ]
  },
  {
   "cell_type": "code",
   "execution_count": 42,
   "id": "21921be7-ebb2-4572-9f71-549e1420df56",
   "metadata": {},
   "outputs": [
    {
     "data": {
      "text/plain": [
       "Text(0.5, 1.0, 'treatment (trans)')"
      ]
     },
     "execution_count": 42,
     "metadata": {},
     "output_type": "execute_result"
    },
    {
     "data": {
      "image/png": "[encoded data removed]",
      "text/plain": [
       "<Figure size 1584x432 with 3 Axes>"
      ]
     },
     "metadata": {},
     "output_type": "display_data"
    }
   ],
   "source": [
    "f,ax = plt.subplots(1,3,figsize=(22,6))\n",
    "\n",
    "mh['treatment'][mh['gender'] == 'male'].value_counts().plot.pie(explode=[0,0.2],autopct='%1.1f%%',ax=ax[0],shadow=True)\n",
    "\n",
    "mh['treatment'][mh['gender'] == 'female'].value_counts().plot.pie(explode=[0,0.2],autopct='%1.1f%%',ax=ax[1],shadow=True)\n",
    "\n",
    "mh['treatment'][mh['gender'] == 'trans'].value_counts().plot.pie(explode=[0,0.2],autopct='%1.1f%%',ax=ax[2],shadow=True)\n",
    "\n",
    "ax[0].set_title('treatment (male)')\n",
    "\n",
    "ax[1].set_title('treatment (female)')\n",
    "\n",
    "ax[2].set_title('treatment (trans)')"
   ]
  },
  {
   "cell_type": "code",
   "execution_count": null,
   "id": "b274cbee-56eb-47e1-87fa-ebf9f8e2d398",
   "metadata": {},
   "outputs": [],
   "source": [
    "# create copy of \"mh\" dataframe for label encoding"
   ]
  },
  {
   "cell_type": "code",
   "execution_count": 44,
   "id": "eec83d00-78a8-4f4f-9e0a-f39338677839",
   "metadata": {},
   "outputs": [],
   "source": [
    "mh_new = mh.copy(deep=True)                                                       # creating new dataframe to make any datatype changes over it and keep the original dataframe as it is.."
   ]
  },
  {
   "cell_type": "code",
   "execution_count": null,
   "id": "b5000cc0-c5c5-4597-ae6c-8e4407fe2847",
   "metadata": {},
   "outputs": [],
   "source": [
    "# Correlation of features"
   ]
  },
  {
   "cell_type": "code",
   "execution_count": 48,
   "id": "c5bfac66-95d5-4a28-87a8-a97617131e89",
   "metadata": {},
   "outputs": [
    {
     "data": {
      "image/png": "[encoded data removed]",
      "text/plain": [
       "<Figure size 576x576 with 2 Axes>"
      ]
     },
     "metadata": {},
     "output_type": "display_data"
    }
   ],
   "source": [
    "features_correlation = mh_new.corr()\n",
    "plt.figure(figsize=(8,8))\n",
    "sns.heatmap(features_correlation,vmax=1,square=True,annot=False,cmap='Blues')\n",
    "plt.show()"
   ]
  },
  {
   "cell_type": "code",
   "execution_count": 49,
   "id": "6ea1f8eb-989c-4a5a-95a8-c2163d6eba22",
   "metadata": {},
   "outputs": [],
   "source": [
    "# 5 Identify patterns in the data"
   ]
  },
  {
   "cell_type": "code",
   "execution_count": 50,
   "id": "d969f9e5-6100-4222-8a89-ad88f8fbff4d",
   "metadata": {},
   "outputs": [],
   "source": [
    "# 5.1 Treatment v. work_interface"
   ]
  },
  {
   "cell_type": "code",
   "execution_count": 51,
   "id": "7b3dde72-dc67-46f5-b914-7dceaa984dbb",
   "metadata": {},
   "outputs": [
    {
     "data": {
      "text/plain": [
       "Text(0.5, 1.0, 'work_interfere (Sometimes)')"
      ]
     },
     "execution_count": 51,
     "metadata": {},
     "output_type": "execute_result"
    },
    {
     "data": {
      "image/png": "[encoded data removed]",
      "text/plain": [
       "<Figure size 1584x504 with 4 Axes>"
      ]
     },
     "metadata": {},
     "output_type": "display_data"
    }
   ],
   "source": [
    "f,ax = plt.subplots(1,4,figsize=(22,7))\n",
    "\n",
    "mh['treatment'][mh['work_interfere'] == 'Often'].value_counts().plot.pie(explode=[0,0.2],autopct='%1.1f%%',ax=ax[0],shadow=True)\n",
    "\n",
    "mh['treatment'][mh['work_interfere'] == 'Rarely'].value_counts().plot.pie(explode=[0,0.2],autopct='%1.1f%%',ax=ax[1],shadow=True)\n",
    "\n",
    "mh['treatment'][mh['work_interfere'] == 'Never'].value_counts().plot.pie(explode=[0,0.2],autopct='%1.1f%%',ax=ax[2],shadow=True)\n",
    "\n",
    "mh['treatment'][mh['work_interfere'] == 'Sometimes'].value_counts().plot.pie(explode=[0,0.2],autopct='%1.1f%%',ax=ax[3],shadow=True)\n",
    "\n",
    "ax[0].set_title('work_interfere (Often)')\n",
    "\n",
    "ax[1].set_title('work_interfere (Rarely)')\n",
    "\n",
    "ax[2].set_title('work_interfere (Never)')\n",
    "\n",
    "ax[3].set_title('work_interfere (Sometimes)')"
   ]
  },
  {
   "cell_type": "code",
   "execution_count": 52,
   "id": "51819337-5c4c-4f63-98e3-93e33c33f3fe",
   "metadata": {
    "_cell_guid": "18b869e6-9c95-46b5-bca1-30e6af9d0b9b",
    "_uuid": "3e541cc26d15d5f3a76d631d2ff7f2323d2506c1"
   },
   "outputs": [
    {
     "name": "stdout",
     "output_type": "stream",
     "text": [
      "Pearson:                 treatment  work_interfere\n",
      "treatment        1.000000        0.136273\n",
      "work_interfere   0.136273        1.000000\n",
      "\n"
     ]
    }
   ],
   "source": [
    "df = pd.DataFrame({'treatment': mh['treatment'], 'work_interfere': mh['work_interfere']}, dtype='category')         # Create a new dataframe with the two columns and assign numbers in place of their categories\n",
    "\n",
    "df_num = df.apply(lambda x: x.cat.codes)\n",
    "\n",
    "print(\"Pearson:\", df_num.corr())                                                                                    # Run a correlation calculation \n",
    "\n",
    "print(\"\")"
   ]
  },
  {
   "cell_type": "code",
   "execution_count": 53,
   "id": "390b56a1-bccf-47e8-a1fb-6f2f57540355",
   "metadata": {},
   "outputs": [
    {
     "data": {
      "image/png": "[encoded data removed]",
      "text/plain": [
       "<Figure size 288x288 with 2 Axes>"
      ]
     },
     "metadata": {},
     "output_type": "display_data"
    }
   ],
   "source": [
    "features = df_num.corr()\n",
    "\n",
    "plt.figure(figsize=(4,4))\n",
    "\n",
    "sns.heatmap(features,vmax=1,square=True,annot=False,cmap='Blues')\n",
    "\n",
    "plt.show()"
   ]
  },
  {
   "cell_type": "code",
   "execution_count": 54,
   "id": "87a1d2e2-d9cc-424e-bbd5-36822a6f38e2",
   "metadata": {},
   "outputs": [],
   "source": [
    "# 5.2 age category V. seeking treatment"
   ]
  },
  {
   "cell_type": "code",
   "execution_count": null,
   "id": "64cf5338-56c3-436f-8f7d-e63aa1820bed",
   "metadata": {},
   "outputs": [],
   "source": [
    "# wheather an employess is seeking treatment for a mental health condition appears to be correlated with their knowledge of their health benefits."
   ]
  },
  {
   "cell_type": "code",
   "execution_count": 55,
   "id": "59735326-f5b6-4ade-a5ab-f907098ad1a4",
   "metadata": {},
   "outputs": [
    {
     "data": {
      "text/plain": [
       "Text(0.5, 1.0, 'Age Category Vs. Seeking Treatment')"
      ]
     },
     "execution_count": 55,
     "metadata": {},
     "output_type": "execute_result"
    },
    {
     "data": {
      "image/png": "[encoded data removed]",
      "text/plain": [
       "<Figure size 432x288 with 1 Axes>"
      ]
     },
     "metadata": {},
     "output_type": "display_data"
    }
   ],
   "source": [
    "ax = sns.violinplot(x=\"self_employed\", y=\"age_clean\", palette=\"gnuplot\", data=mh)\n",
    "\n",
    "plt.xlabel(\"If they go for treatment or not?\")\n",
    "\n",
    "plt.ylabel(\"AgeGroup\")\n",
    "\n",
    "plt.title(\"Age Category Vs. Seeking Treatment\", fontsize=18, fontweight = \"bold\")"
   ]
  },
  {
   "cell_type": "code",
   "execution_count": 56,
   "id": "c082f4d9-5410-4334-a853-135a11a7f4e2",
   "metadata": {},
   "outputs": [],
   "source": [
    "# 5.3 Family history v seeking treatment"
   ]
  },
  {
   "cell_type": "code",
   "execution_count": null,
   "id": "30a128bc-7e52-4e6f-96be-675086afbe5f",
   "metadata": {},
   "outputs": [],
   "source": [
    "# there appears to be a pretty clear correlation between these two variables, too."
   ]
  },
  {
   "cell_type": "code",
   "execution_count": 57,
   "id": "2321ee5f-d5ec-4e43-ae06-49383d9686f7",
   "metadata": {},
   "outputs": [
    {
     "data": {
      "image/png": "[encoded data removed]",
      "text/plain": [
       "<Figure size 720x360 with 1 Axes>"
      ]
     },
     "metadata": {},
     "output_type": "display_data"
    }
   ],
   "source": [
    "plt.figure(figsize=(10,5))\n",
    "\n",
    "sns.countplot(y=\"family_history\", hue=\"treatment\", data=mh)\n",
    "\n",
    "plt.title(\"Does family history effects mental health ? \",fontsize=18,fontweight=\"bold\")\n",
    "\n",
    "plt.ylabel(\"Do they go mental health treatment?\")\n",
    "\n",
    "plt.xlabel(\"Family History\")\n",
    "\n",
    "plt.show()"
   ]
  },
  {
   "cell_type": "code",
   "execution_count": 58,
   "id": "b17baeeb-af87-421b-a173-7ab338c0cf7d",
   "metadata": {},
   "outputs": [],
   "source": [
    "# 5.4 Employee count of comapnies"
   ]
  },
  {
   "cell_type": "code",
   "execution_count": 59,
   "id": "721a9596-0b03-4081-85a6-99961ce09091",
   "metadata": {},
   "outputs": [
    {
     "data": {
      "image/png": "[encoded data removed]",
      "text/plain": [
       "<Figure size 720x360 with 1 Axes>"
      ]
     },
     "metadata": {},
     "output_type": "display_data"
    }
   ],
   "source": [
    "plt.figure(figsize=(10,5))\n",
    "\n",
    "sns.countplot('no_employees',data = mh, order = mh['no_employees'].value_counts().index,palette=\"gnuplot\")\n",
    "\n",
    "plt.title(\"Employee Count of Companies\",fontsize=20,fontweight=\"bold\")\n",
    "\n",
    "plt.ylabel(\"Frequency\")\n",
    "\n",
    "plt.xlabel(\"Company Size\")\n",
    "\n",
    "plt.show()"
   ]
  },
  {
   "cell_type": "code",
   "execution_count": 60,
   "id": "98de8640-cfe8-41dd-995d-4efe25b84fac",
   "metadata": {},
   "outputs": [
    {
     "data": {
      "text/plain": [
       "Text(0, 0.5, 'Count')"
      ]
     },
     "execution_count": 60,
     "metadata": {},
     "output_type": "execute_result"
    },
    {
     "data": {
      "image/png": "[encoded data removed]",
      "text/plain": [
       "<Figure size 576x432 with 1 Axes>"
      ]
     },
     "metadata": {},
     "output_type": "display_data"
    }
   ],
   "source": [
    "fig,ax  =plt.subplots(figsize=(8,6))\n",
    "\n",
    "sns.countplot(mh['work_interfere'].dropna(),ax=ax)\n",
    "\n",
    "plt.title('Work interfere Distribution')\n",
    "\n",
    "plt.ylabel('Count')"
   ]
  },
  {
   "cell_type": "code",
   "execution_count": 61,
   "id": "2d9d0a11-0542-4608-b764-7dcdd246376b",
   "metadata": {},
   "outputs": [],
   "source": [
    "# 5.5 Employee count Vs treatment"
   ]
  },
  {
   "cell_type": "code",
   "execution_count": 62,
   "id": "703fd4ef-3193-4da0-a32a-494a30aec41a",
   "metadata": {},
   "outputs": [
    {
     "data": {
      "image/png": "[encoded data removed]",
      "text/plain": [
       "<Figure size 720x360 with 1 Axes>"
      ]
     },
     "metadata": {},
     "output_type": "display_data"
    }
   ],
   "source": [
    "plt.figure(figsize=(10,5))\n",
    "\n",
    "sns.countplot(\"no_employees\", hue=\"treatment\", data=mh)\n",
    "\n",
    "plt.title(\"Employee count vs Treatment\",fontsize=18,fontweight=\"bold\")\n",
    "\n",
    "plt.ylabel(\"Number of people going for Treatment\")\n",
    "\n",
    "plt.xlabel(\"Company Size\")\n",
    "\n",
    "plt.show()"
   ]
  },
  {
   "cell_type": "code",
   "execution_count": 63,
   "id": "8af8b725-bfc6-4f2c-9c15-b4909214bdb6",
   "metadata": {},
   "outputs": [],
   "source": [
    "# 5.6 Using donut pie chart to see the relationship between gender and treatment."
   ]
  },
  {
   "cell_type": "code",
   "execution_count": 64,
   "id": "237c67d6-58e4-4020-a2ff-eaa16c734226",
   "metadata": {},
   "outputs": [
    {
     "data": {
      "image/png": "[encoded data removed]",
      "text/plain": [
       "<Figure size 432x288 with 1 Axes>"
      ]
     },
     "metadata": {},
     "output_type": "display_data"
    }
   ],
   "source": [
    "group_names=['Treatment', 'No Treatment']\n",
    "\n",
    "group_size=[637,622]\n",
    "\n",
    "subgroup_names=['Treatment.Male','Treatment.Female','Treatment.trans','No Treatment.Male','No Treatment.Female','No Treatment.trans']\n",
    "\n",
    "subgroup_size=[450,170,15,541,77,4]\n",
    " \n",
    "# Create colors\n",
    "\n",
    "a, b, c=[plt.cm.Blues, plt.cm.Reds, plt.cm.Greens]\n",
    " \n",
    "# First Ring (outside)\n",
    "\n",
    "fig, ax = plt.subplots()\n",
    "\n",
    "ax.axis('equal')\n",
    "\n",
    "mypie, _ = ax.pie(group_size, radius=1.3, labels=group_names, colors = ['yellowgreen', 'gold'])\n",
    "\n",
    "plt.setp( mypie, width=0.3, edgecolor='white')\n",
    "\n",
    "# wedges, texts, autotexts = ax.pie(group_size, autopct=lambda pct: func(pct, data),\n",
    "                                  #textprops=dict(color=\"w\"))\n",
    " \n",
    "# Second Ring (Inside)\n",
    "\n",
    "mypie2, _ = ax.pie(subgroup_size, radius=1.3-0.3, labels=subgroup_names, labeldistance=0.7, colors=[a(0.5), b(0.4), c(0.5), a(0.5), b(0.4), c(0.5)])\n",
    "\n",
    "plt.setp( mypie2, width=0.4, edgecolor='white')\n",
    "\n",
    "plt.margins(0,0)\n",
    "\n",
    "plt.title('Donut plot')\n",
    "\n",
    "# show it\n",
    "\n",
    "plt.show()"
   ]
  },
  {
   "cell_type": "code",
   "execution_count": 65,
   "id": "63a8a3a7-5f07-4adf-85e7-97c18e33130d",
   "metadata": {},
   "outputs": [],
   "source": [
    "# 5.7 Using seaborn swarm plot"
   ]
  },
  {
   "cell_type": "code",
   "execution_count": 66,
   "id": "5c7fdadb-56d0-4b62-ab1e-ac609272771e",
   "metadata": {},
   "outputs": [
    {
     "data": {
      "text/plain": [
       "<AxesSubplot:xlabel='work_interfere', ylabel='age_clean'>"
      ]
     },
     "execution_count": 66,
     "metadata": {},
     "output_type": "execute_result"
    },
    {
     "data": {
      "image/png": "[encoded data removed]",
      "text/plain": [
       "<Figure size 432x288 with 1 Axes>"
      ]
     },
     "metadata": {},
     "output_type": "display_data"
    }
   ],
   "source": [
    "sns.set(style=\"whitegrid\", palette=\"muted\")\n",
    "\n",
    "\n",
    "# \"Melt\" the dataset to \"long-form\" or \"tidy\" representation\n",
    "\n",
    "pd.melt(mh, \"work_interfere\")\n",
    "\n",
    "# Draw a categorical scatterplot to show each observation\n",
    "\n",
    "sns.swarmplot(x=\"work_interfere\", y=\"age_clean\", \n",
    "              \n",
    "              palette='gnuplot', data=mh)"
   ]
  },
  {
   "cell_type": "code",
   "execution_count": 67,
   "id": "b1bb3621-04e4-4c5b-8282-83b335696f3f",
   "metadata": {},
   "outputs": [],
   "source": [
    "# 6 Analysis through questions"
   ]
  },
  {
   "cell_type": "code",
   "execution_count": 68,
   "id": "d4ef2c11-77b7-45ba-ba72-602bd65d91ce",
   "metadata": {},
   "outputs": [],
   "source": [
    "# 6.1 How does the frequency of mental health illness vary by geographic location?"
   ]
  },
  {
   "cell_type": "code",
   "execution_count": null,
   "id": "0da107ef-04c5-44e0-aed2-f7e99c571906",
   "metadata": {},
   "outputs": [],
   "source": [
    "# Explore the state data its relationship frequency of mental health illness."
   ]
  },
  {
   "cell_type": "code",
   "execution_count": 69,
   "id": "a387e010-d4a8-4833-861d-9a79e74b5dd6",
   "metadata": {},
   "outputs": [],
   "source": [
    "# 6.1.1 Which countries contributes the most?"
   ]
  },
  {
   "cell_type": "code",
   "execution_count": 70,
   "id": "72cef2ec-a94e-4ffb-a950-452656e3cf83",
   "metadata": {},
   "outputs": [
    {
     "data": {
      "image/png": "[encoded data removed]",
      "text/plain": [
       "<Figure size 576x432 with 1 Axes>"
      ]
     },
     "metadata": {},
     "output_type": "display_data"
    }
   ],
   "source": [
    "from collections import Counter\n",
    "\n",
    "country_count = Counter(mh['country'].dropna().tolist()).most_common(10)\n",
    "\n",
    "country_idx = [country[0] for country in country_count]\n",
    "\n",
    "country_val = [country[1] for country in country_count]\n",
    "\n",
    "fig,ax = plt.subplots(figsize=(8,6))\n",
    "\n",
    "sns.barplot(x = country_idx,y=country_val ,ax =ax)\n",
    "\n",
    "plt.title('Top ten country')\n",
    "\n",
    "plt.xlabel('Country')\n",
    "\n",
    "plt.ylabel('Count')\n",
    "\n",
    "ticks = plt.setp(ax.get_xticklabels(),rotation=90)"
   ]
  },
  {
   "cell_type": "code",
   "execution_count": 71,
   "id": "a0dfb883-5c69-4e2d-8c27-9889da02afc3",
   "metadata": {},
   "outputs": [],
   "source": [
    "# 6.1.2 Which state contributes the most?"
   ]
  },
  {
   "cell_type": "code",
   "execution_count": 72,
   "id": "8762953c-20b8-492f-acce-dddb4e752862",
   "metadata": {},
   "outputs": [
    {
     "data": {
      "image/png": "[encoded data removed]",
      "text/plain": [
       "<Figure size 720x360 with 1 Axes>"
      ]
     },
     "metadata": {},
     "output_type": "display_data"
    }
   ],
   "source": [
    "usa = mh.loc[mh['country'] == 'United States']\n",
    "\n",
    "top_10_statesUS = usa['state'].value_counts()[:10].to_frame()\n",
    "\n",
    "plt.figure(figsize=(10,5))\n",
    "\n",
    "sns.barplot(top_10_statesUS['state'],top_10_statesUS.index,palette=\"PuBuGn_d\")\n",
    "\n",
    "plt.title('Top 10 US states in terms of contribution',fontsize=18,fontweight=\"bold\")\n",
    "\n",
    "plt.xlabel('')\n",
    "\n",
    "plt.show()"
   ]
  },
  {
   "cell_type": "code",
   "execution_count": 73,
   "id": "a5493b1c-4a14-42a7-9b61-0c0984c6f0a3",
   "metadata": {},
   "outputs": [],
   "source": [
    "# 6.1.3 What is the contribution of top 3 countries among all?"
   ]
  },
  {
   "cell_type": "code",
   "execution_count": 74,
   "id": "c4d97631-0cfb-4b1c-a81a-f853e47322c3",
   "metadata": {},
   "outputs": [
    {
     "name": "stdout",
     "output_type": "stream",
     "text": [
      "There consists 1007 people from the top 3 countries out of the 1257 people surveyed\n"
     ]
    }
   ],
   "source": [
    "#can = data.loc[data['Country']=='Canada']\n",
    "\n",
    "#us = data.loc[data['Country']=='United States']\n",
    "\n",
    "#uk = data.loc[data['Country']=='United Kingdom']\n",
    "\n",
    "countries = pd.concat([mh.loc[mh['country']=='Canada'], mh.loc[mh['country']=='United States'], mh.loc[mh['country']=='United Kingdom']]).reset_index(drop=True)\n",
    "\n",
    "print('There consists {} people from the top 3 countries out of the {} people surveyed'.format(countries.shape[0], mh.shape[0]))"
   ]
  },
  {
   "cell_type": "code",
   "execution_count": 75,
   "id": "6daad07e-36db-4e07-a130-648c245a506c",
   "metadata": {},
   "outputs": [],
   "source": [
    "# 6.1.4 What is the count and percentage of work interfere in work of the employees for the top 3 countries?"
   ]
  },
  {
   "cell_type": "code",
   "execution_count": 76,
   "id": "2abf13f1-e186-4044-8744-f5bce1e291d5",
   "metadata": {},
   "outputs": [
    {
     "data": {
      "image/png": "[encoded data removed]",
      "text/plain": [
       "<Figure size 432x288 with 1 Axes>"
      ]
     },
     "metadata": {},
     "output_type": "display_data"
    }
   ],
   "source": [
    "sns.countplot(x=countries['work_interfere'], order=['Never', 'Rarely', 'Sometimes', 'Often']);\n",
    "\n",
    "plt.xlabel('If you have a mental health condition, do you feel that it interferes with your work?');"
   ]
  },
  {
   "cell_type": "code",
   "execution_count": 77,
   "id": "9195130c-caea-439a-bd3e-2c34fc2775eb",
   "metadata": {},
   "outputs": [
    {
     "name": "stdout",
     "output_type": "stream",
     "text": [
      "834 people, or 82.8%, believe that their mental health condition interferes with their work either sometimes or more\n",
      "With 109 (10.8%) people saying it intereferes often\n"
     ]
    }
   ],
   "source": [
    "work_sum = countries['work_interfere'].value_counts().reset_index()\n",
    "\n",
    "more_than_never = work_sum['work_interfere'][0] + work_sum['work_interfere'][2] + work_sum['work_interfere'][3]\n",
    "\n",
    "print('{} people, or {:.1%}, believe that their mental health condition interferes with their work either sometimes or more'.format(more_than_never, more_than_never/countries.shape[0]))\n",
    "\n",
    "print('With {} ({:.1%}) people saying it intereferes often'.format(work_sum['work_interfere'][3], work_sum['work_interfere'][3]/countries.shape[0]))"
   ]
  },
  {
   "cell_type": "code",
   "execution_count": 78,
   "id": "245c809b-28aa-4c69-a881-31da5c08f60c",
   "metadata": {},
   "outputs": [],
   "source": [
    "# 6.1.5 What is the total number of empolyees going for treatment from the top 3 countries?"
   ]
  },
  {
   "cell_type": "code",
   "execution_count": 79,
   "id": "1e53d4f1-7dee-47fb-9719-afebffe60894",
   "metadata": {},
   "outputs": [
    {
     "data": {
      "image/png": "[encoded data removed]",
      "text/plain": [
       "<Figure size 432x288 with 1 Axes>"
      ]
     },
     "metadata": {},
     "output_type": "display_data"
    }
   ],
   "source": [
    "#rcParams['figure.figsize'] = 8, 6\n",
    "\n",
    "sns.countplot(countries['treatment']);\n",
    "\n",
    "plt.xlabel('Have you sought treatment for a mental health condition?');"
   ]
  },
  {
   "cell_type": "code",
   "execution_count": 80,
   "id": "330d48cc-ab7c-4c9f-a3c3-13c5acd01004",
   "metadata": {},
   "outputs": [
    {
     "name": "stdout",
     "output_type": "stream",
     "text": [
      "Luckily 539 (53.5%) have sought treatment for their mental health issues\n"
     ]
    }
   ],
   "source": [
    "treatment_count = countries['treatment'].value_counts().reset_index()\n",
    "\n",
    "print('Luckily {} ({:.1%}) have sought treatment for their mental health issues'.format(treatment_count['treatment'][0], treatment_count['treatment'][0]/countries.shape[0]))"
   ]
  },
  {
   "cell_type": "code",
   "execution_count": 81,
   "id": "d479127a-afcb-446a-a59c-4a943f6481c4",
   "metadata": {},
   "outputs": [],
   "source": [
    "# 6.1.6 How many people did go for treatment on the basic of gender for the top 3 countries?"
   ]
  },
  {
   "cell_type": "code",
   "execution_count": 82,
   "id": "dc576ec6-5b98-4536-9977-6f47a7a82334",
   "metadata": {},
   "outputs": [
    {
     "name": "stdout",
     "output_type": "stream",
     "text": [
      "Out of 772 males surveyed, 371 (48.1%) sought treatment\n",
      "Out of 220 females surveyed, 156 (70.9%) sought treatment\n",
      "Out of 15 people who identify as anything other than male or female surveyed, 12 (80.0%) sought treatment\n"
     ]
    }
   ],
   "source": [
    "male = countries.loc[countries['gender']=='male']\n",
    "\n",
    "male_treatment = male.loc[male['treatment']=='Yes'].reset_index(drop=True)\n",
    "\n",
    "female = countries.loc[countries['gender']=='female']\n",
    "\n",
    "female_treatment = female.loc[female['treatment']=='Yes'].reset_index(drop=True)\n",
    "\n",
    "trans = countries.loc[countries['gender']=='trans']\n",
    "\n",
    "trans_treatment = trans.loc[trans['treatment']=='Yes'].reset_index(drop=True)\n",
    "\n",
    "print('Out of {} males surveyed, {} ({:.1%}) sought treatment'.format(male.shape[0], male_treatment.shape[0], male_treatment.shape[0]/male.shape[0]))\n",
    "\n",
    "print('Out of {} females surveyed, {} ({:.1%}) sought treatment'.format(female.shape[0], female_treatment.shape[0], female_treatment.shape[0]/female.shape[0]))\n",
    "\n",
    "print('Out of {} people who identify as anything other than male or female surveyed, {} ({:.1%}) sought treatment'.format(trans.shape[0], trans_treatment.shape[0], trans_treatment.shape[0]/trans.shape[0] ))"
   ]
  },
  {
   "cell_type": "code",
   "execution_count": 83,
   "id": "b20b12a9-e8de-43c9-bf88-033ae773fbb3",
   "metadata": {},
   "outputs": [],
   "source": [
    "# 6.2 Relationship between mental health and attitude"
   ]
  },
  {
   "cell_type": "code",
   "execution_count": null,
   "id": "e9547425-ed29-45ce-9aef-2b7a4ae577e3",
   "metadata": {},
   "outputs": [],
   "source": [
    "# Explore the mental_health_consequences data \"No\" response to mental_health_consequence will be inferred to present positibe attitudes."
   ]
  },
  {
   "cell_type": "code",
   "execution_count": 84,
   "id": "2cf38b80-5445-4e66-8898-dc6b32286e26",
   "metadata": {
    "_cell_guid": "9cc9a99c-76a4-417b-afa0-837f6ad6db5d",
    "_uuid": "198cd3b06fe4d41f9ee13452cbf1f9b1027c286f"
   },
   "outputs": [
    {
     "name": "stdout",
     "output_type": "stream",
     "text": [
      "col_0      count\n",
      "attitudes       \n",
      "Moderate     477\n",
      "Negative     290\n",
      "Positive     490\n",
      "If we didn't miss anything, this will equal 1257: 1257\n",
      "AxesSubplot(0.125,0.125;0.775x0.755)\n"
     ]
    },
    {
     "data": {
      "image/png": "[encoded data removed]",
      "text/plain": [
       "<Figure size 1440x504 with 1 Axes>"
      ]
     },
     "metadata": {},
     "output_type": "display_data"
    }
   ],
   "source": [
    "# Convert the mental_health_consequence responses into a new variable, \n",
    "\n",
    "mh['attitudes'] = mh['mental_health_consequence']                                                        # Make a copy of the column to preserve the original data. Work with the new column going forward.\n",
    "\n",
    "positive = [\"No\"]                                                                                        # Assign each type of response to one of two categories\n",
    "\n",
    "negative = [\"Yes\"]\n",
    "\n",
    "moderate = ['Maybe']\n",
    "\n",
    "mh['attitudes'] = mh['attitudes'].apply(lambda x:\"Positive\" if x in positive else x)\n",
    "\n",
    "mh['attitudes'] = mh['attitudes'].apply(lambda x:\"Negative\" if x in negative else x)\n",
    "\n",
    "mh['attitudes'] = mh['attitudes'].apply(lambda x:\"Moderate\" if x in moderate else x)\n",
    "\n",
    "\n",
    "attitudes_tab = pd.crosstab(index=mh[\"attitudes\"], columns=\"count\")                                      # Make a crosstab to view the count for each of the new categories\n",
    "\n",
    "print(attitudes_tab)\n",
    "\n",
    "print(\"If we didn't miss anything, this will equal 1257:\", len(mh['attitudes']))                         # Confirm that we didn't miss any entries\n",
    "\n",
    "print(attitudes_tab.plot(kind=\"barh\", \n",
    "                 figsize=(20,7),\n",
    "                 stacked=True))"
   ]
  },
  {
   "cell_type": "code",
   "execution_count": 85,
   "id": "40e71225-15dd-47d8-9929-6e462f167daa",
   "metadata": {},
   "outputs": [],
   "source": []
  }
 ],
 "metadata": {
  "kernelspec": {
   "display_name": "Python 3",
   "language": "python",
   "name": "python3"
  },
  "language_info": {
   "codemirror_mode": {
    "name": "ipython",
    "version": 3
   },
   "file_extension": ".py",
   "mimetype": "text/x-python",
   "name": "python",
   "nbconvert_exporter": "python",
   "pygments_lexer": "ipython3",
   "version": "3.8.8"
  }
 },
 "nbformat": 4,
 "nbformat_minor": 5
}
